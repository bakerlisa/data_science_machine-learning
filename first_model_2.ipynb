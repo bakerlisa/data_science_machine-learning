{
  "nbformat": 4,
  "nbformat_minor": 0,
  "metadata": {
    "colab": {
      "name": "first_model.ipynb",
      "provenance": [],
      "collapsed_sections": [],
      "mount_file_id": "1_AC8vLos6CZToF-ccYbhpx9P6l_HMaI6",
      "authorship_tag": "ABX9TyMe5/wbEg87dFwTBCYh7Coz",
      "include_colab_link": true
    },
    "kernelspec": {
      "name": "python3",
      "display_name": "Python 3"
    },
    "language_info": {
      "name": "python"
    }
  },
  "cells": [
    {
      "cell_type": "markdown",
      "metadata": {
        "id": "view-in-github",
        "colab_type": "text"
      },
      "source": [
        "<a href=\"https://colab.research.google.com/github/lisabroadhead/data_science_machine-learning/blob/main/first_model_2.ipynb\" target=\"_parent\"><img src=\"https://colab.research.google.com/assets/colab-badge.svg\" alt=\"Open In Colab\"/></a>"
      ]
    },
    {
      "cell_type": "markdown",
      "source": [
        "# First Model (Practice)\n",
        "- Lisa Broadhead\n",
        "- June 27, 2022\n",
        "\n",
        "* Didn't have a data set to use so I used Raw_Medical_Data_for_day1.csv (we got it from another code along or assigment)"
      ],
      "metadata": {
        "id": "EhYsXo9UnDWa"
      }
    },
    {
      "cell_type": "code",
      "source": [
        "import pandas as pd\n",
        "import numpy as np\n",
        "from sklearn.preprocessing import StandardScaler, OneHotEncoder\n",
        "from sklearn.impute import SimpleImputer\n",
        "from sklearn.compose import make_column_transformer, make_column_selector\n",
        "from sklearn.pipeline import make_pipeline\n",
        "from sklearn.model_selection import train_test_split\n",
        "from sklearn.linear_model import LinearRegression\n",
        "from sklearn.metrics import mean_absolute_error, mean_squared_error, r2_score\n",
        "from sklearn import set_config\n",
        "set_config(display='diagram')"
      ],
      "metadata": {
        "id": "fvMkQsoJnJYM"
      },
      "execution_count": 1,
      "outputs": []
    },
    {
      "cell_type": "code",
      "source": [
        "file = '/content/drive/MyDrive/Colab Notebooks/coding_dojo/Machine Learning/files/insurance - insurance.csv'\n",
        "df = pd.read_csv(file)\n",
        "df.head()\n",
        "\n"
      ],
      "metadata": {
        "id": "lpi1F6XQnTnU",
        "colab": {
          "base_uri": "https://localhost:8080/",
          "height": 206
        },
        "outputId": "fe0bec25-bbe9-4452-e2d8-0be81dcd1839"
      },
      "execution_count": 2,
      "outputs": [
        {
          "output_type": "execute_result",
          "data": {
            "text/plain": [
              "   age     sex     bmi  children smoker     region      charges\n",
              "0   19  female  27.900         0    yes  southwest  16884.92400\n",
              "1   18    male  33.770         1     no  southeast   1725.55230\n",
              "2   28    male  33.000         3     no  southeast   4449.46200\n",
              "3   33    male  22.705         0     no  northwest  21984.47061\n",
              "4   32    male  28.880         0     no  northwest   3866.85520"
            ],
            "text/html": [
              "\n",
              "  <div id=\"df-10ffea53-fd76-40a2-bf2f-7ae1861ad0b3\">\n",
              "    <div class=\"colab-df-container\">\n",
              "      <div>\n",
              "<style scoped>\n",
              "    .dataframe tbody tr th:only-of-type {\n",
              "        vertical-align: middle;\n",
              "    }\n",
              "\n",
              "    .dataframe tbody tr th {\n",
              "        vertical-align: top;\n",
              "    }\n",
              "\n",
              "    .dataframe thead th {\n",
              "        text-align: right;\n",
              "    }\n",
              "</style>\n",
              "<table border=\"1\" class=\"dataframe\">\n",
              "  <thead>\n",
              "    <tr style=\"text-align: right;\">\n",
              "      <th></th>\n",
              "      <th>age</th>\n",
              "      <th>sex</th>\n",
              "      <th>bmi</th>\n",
              "      <th>children</th>\n",
              "      <th>smoker</th>\n",
              "      <th>region</th>\n",
              "      <th>charges</th>\n",
              "    </tr>\n",
              "  </thead>\n",
              "  <tbody>\n",
              "    <tr>\n",
              "      <th>0</th>\n",
              "      <td>19</td>\n",
              "      <td>female</td>\n",
              "      <td>27.900</td>\n",
              "      <td>0</td>\n",
              "      <td>yes</td>\n",
              "      <td>southwest</td>\n",
              "      <td>16884.92400</td>\n",
              "    </tr>\n",
              "    <tr>\n",
              "      <th>1</th>\n",
              "      <td>18</td>\n",
              "      <td>male</td>\n",
              "      <td>33.770</td>\n",
              "      <td>1</td>\n",
              "      <td>no</td>\n",
              "      <td>southeast</td>\n",
              "      <td>1725.55230</td>\n",
              "    </tr>\n",
              "    <tr>\n",
              "      <th>2</th>\n",
              "      <td>28</td>\n",
              "      <td>male</td>\n",
              "      <td>33.000</td>\n",
              "      <td>3</td>\n",
              "      <td>no</td>\n",
              "      <td>southeast</td>\n",
              "      <td>4449.46200</td>\n",
              "    </tr>\n",
              "    <tr>\n",
              "      <th>3</th>\n",
              "      <td>33</td>\n",
              "      <td>male</td>\n",
              "      <td>22.705</td>\n",
              "      <td>0</td>\n",
              "      <td>no</td>\n",
              "      <td>northwest</td>\n",
              "      <td>21984.47061</td>\n",
              "    </tr>\n",
              "    <tr>\n",
              "      <th>4</th>\n",
              "      <td>32</td>\n",
              "      <td>male</td>\n",
              "      <td>28.880</td>\n",
              "      <td>0</td>\n",
              "      <td>no</td>\n",
              "      <td>northwest</td>\n",
              "      <td>3866.85520</td>\n",
              "    </tr>\n",
              "  </tbody>\n",
              "</table>\n",
              "</div>\n",
              "      <button class=\"colab-df-convert\" onclick=\"convertToInteractive('df-10ffea53-fd76-40a2-bf2f-7ae1861ad0b3')\"\n",
              "              title=\"Convert this dataframe to an interactive table.\"\n",
              "              style=\"display:none;\">\n",
              "        \n",
              "  <svg xmlns=\"http://www.w3.org/2000/svg\" height=\"24px\"viewBox=\"0 0 24 24\"\n",
              "       width=\"24px\">\n",
              "    <path d=\"M0 0h24v24H0V0z\" fill=\"none\"/>\n",
              "    <path d=\"M18.56 5.44l.94 2.06.94-2.06 2.06-.94-2.06-.94-.94-2.06-.94 2.06-2.06.94zm-11 1L8.5 8.5l.94-2.06 2.06-.94-2.06-.94L8.5 2.5l-.94 2.06-2.06.94zm10 10l.94 2.06.94-2.06 2.06-.94-2.06-.94-.94-2.06-.94 2.06-2.06.94z\"/><path d=\"M17.41 7.96l-1.37-1.37c-.4-.4-.92-.59-1.43-.59-.52 0-1.04.2-1.43.59L10.3 9.45l-7.72 7.72c-.78.78-.78 2.05 0 2.83L4 21.41c.39.39.9.59 1.41.59.51 0 1.02-.2 1.41-.59l7.78-7.78 2.81-2.81c.8-.78.8-2.07 0-2.86zM5.41 20L4 18.59l7.72-7.72 1.47 1.35L5.41 20z\"/>\n",
              "  </svg>\n",
              "      </button>\n",
              "      \n",
              "  <style>\n",
              "    .colab-df-container {\n",
              "      display:flex;\n",
              "      flex-wrap:wrap;\n",
              "      gap: 12px;\n",
              "    }\n",
              "\n",
              "    .colab-df-convert {\n",
              "      background-color: #E8F0FE;\n",
              "      border: none;\n",
              "      border-radius: 50%;\n",
              "      cursor: pointer;\n",
              "      display: none;\n",
              "      fill: #1967D2;\n",
              "      height: 32px;\n",
              "      padding: 0 0 0 0;\n",
              "      width: 32px;\n",
              "    }\n",
              "\n",
              "    .colab-df-convert:hover {\n",
              "      background-color: #E2EBFA;\n",
              "      box-shadow: 0px 1px 2px rgba(60, 64, 67, 0.3), 0px 1px 3px 1px rgba(60, 64, 67, 0.15);\n",
              "      fill: #174EA6;\n",
              "    }\n",
              "\n",
              "    [theme=dark] .colab-df-convert {\n",
              "      background-color: #3B4455;\n",
              "      fill: #D2E3FC;\n",
              "    }\n",
              "\n",
              "    [theme=dark] .colab-df-convert:hover {\n",
              "      background-color: #434B5C;\n",
              "      box-shadow: 0px 1px 3px 1px rgba(0, 0, 0, 0.15);\n",
              "      filter: drop-shadow(0px 1px 2px rgba(0, 0, 0, 0.3));\n",
              "      fill: #FFFFFF;\n",
              "    }\n",
              "  </style>\n",
              "\n",
              "      <script>\n",
              "        const buttonEl =\n",
              "          document.querySelector('#df-10ffea53-fd76-40a2-bf2f-7ae1861ad0b3 button.colab-df-convert');\n",
              "        buttonEl.style.display =\n",
              "          google.colab.kernel.accessAllowed ? 'block' : 'none';\n",
              "\n",
              "        async function convertToInteractive(key) {\n",
              "          const element = document.querySelector('#df-10ffea53-fd76-40a2-bf2f-7ae1861ad0b3');\n",
              "          const dataTable =\n",
              "            await google.colab.kernel.invokeFunction('convertToInteractive',\n",
              "                                                     [key], {});\n",
              "          if (!dataTable) return;\n",
              "\n",
              "          const docLinkHtml = 'Like what you see? Visit the ' +\n",
              "            '<a target=\"_blank\" href=https://colab.research.google.com/notebooks/data_table.ipynb>data table notebook</a>'\n",
              "            + ' to learn more about interactive tables.';\n",
              "          element.innerHTML = '';\n",
              "          dataTable['output_type'] = 'display_data';\n",
              "          await google.colab.output.renderOutput(dataTable, element);\n",
              "          const docLink = document.createElement('div');\n",
              "          docLink.innerHTML = docLinkHtml;\n",
              "          element.appendChild(docLink);\n",
              "        }\n",
              "      </script>\n",
              "    </div>\n",
              "  </div>\n",
              "  "
            ]
          },
          "metadata": {},
          "execution_count": 2
        }
      ]
    },
    {
      "cell_type": "code",
      "source": [
        "df.info()"
      ],
      "metadata": {
        "colab": {
          "base_uri": "https://localhost:8080/"
        },
        "id": "hu22o5OHnmEf",
        "outputId": "5f40fda7-49d9-4d52-cad8-a8d88eaa7eff"
      },
      "execution_count": 3,
      "outputs": [
        {
          "output_type": "stream",
          "name": "stdout",
          "text": [
            "<class 'pandas.core.frame.DataFrame'>\n",
            "RangeIndex: 1338 entries, 0 to 1337\n",
            "Data columns (total 7 columns):\n",
            " #   Column    Non-Null Count  Dtype  \n",
            "---  ------    --------------  -----  \n",
            " 0   age       1338 non-null   int64  \n",
            " 1   sex       1338 non-null   object \n",
            " 2   bmi       1338 non-null   float64\n",
            " 3   children  1338 non-null   int64  \n",
            " 4   smoker    1338 non-null   object \n",
            " 5   region    1338 non-null   object \n",
            " 6   charges   1338 non-null   float64\n",
            "dtypes: float64(2), int64(2), object(3)\n",
            "memory usage: 73.3+ KB\n"
          ]
        }
      ]
    },
    {
      "cell_type": "code",
      "source": [
        "df.duplicated().sum()"
      ],
      "metadata": {
        "colab": {
          "base_uri": "https://localhost:8080/"
        },
        "id": "pifG8MhYnz3L",
        "outputId": "3a2796d7-681f-47d9-83a5-be0f8aef5e86"
      },
      "execution_count": 4,
      "outputs": [
        {
          "output_type": "execute_result",
          "data": {
            "text/plain": [
              "1"
            ]
          },
          "metadata": {},
          "execution_count": 4
        }
      ]
    },
    {
      "cell_type": "code",
      "source": [
        "df.isna().sum()"
      ],
      "metadata": {
        "colab": {
          "base_uri": "https://localhost:8080/"
        },
        "id": "Ig04uYp0n3jG",
        "outputId": "7ab8ad45-140e-46bc-a911-d413fd47b513"
      },
      "execution_count": 5,
      "outputs": [
        {
          "output_type": "execute_result",
          "data": {
            "text/plain": [
              "age         0\n",
              "sex         0\n",
              "bmi         0\n",
              "children    0\n",
              "smoker      0\n",
              "region      0\n",
              "charges     0\n",
              "dtype: int64"
            ]
          },
          "metadata": {},
          "execution_count": 5
        }
      ]
    },
    {
      "cell_type": "code",
      "source": [
        "X = df.drop(columns='charges')\n",
        "y = df['charges']\n",
        "\n",
        "X_train, X_test, y_train, y_test = train_test_split(X, y, random_state=42)"
      ],
      "metadata": {
        "id": "_uB_ATdJpl2j"
      },
      "execution_count": 7,
      "outputs": []
    },
    {
      "cell_type": "code",
      "source": [
        "cat_selector = make_column_selector(dtype_include='object')\n",
        "num_selector = make_column_selector(dtype_include='number')"
      ],
      "metadata": {
        "id": "-aYaYYxAzF8x"
      },
      "execution_count": 8,
      "outputs": []
    },
    {
      "cell_type": "code",
      "source": [
        "cat_selector(X_train)\n",
        "num_selector(X_train)"
      ],
      "metadata": {
        "colab": {
          "base_uri": "https://localhost:8080/"
        },
        "id": "OWUI8VlGyNeP",
        "outputId": "fdc342a4-ec30-4771-8256-3918e9dc1ea3"
      },
      "execution_count": 22,
      "outputs": [
        {
          "output_type": "execute_result",
          "data": {
            "text/plain": [
              "['age', 'bmi', 'children']"
            ]
          },
          "metadata": {},
          "execution_count": 22
        }
      ]
    },
    {
      "cell_type": "code",
      "source": [
        "freq_imputer = SimpleImputer(strategy='most_frequent')\n",
        "mean_imputer = SimpleImputer(strategy='mean')\n",
        "\n",
        "scaler = StandardScaler()\n",
        "\n",
        "ohe = OneHotEncoder(handle_unknown='ignore', sparse=False)"
      ],
      "metadata": {
        "id": "9KxxvXiL0BBf"
      },
      "execution_count": 11,
      "outputs": []
    },
    {
      "cell_type": "code",
      "source": [
        "# Numeric pipeline\n",
        "numeric_pipe = make_pipeline(mean_imputer, scaler)\n",
        "numeric_pipe"
      ],
      "metadata": {
        "colab": {
          "base_uri": "https://localhost:8080/",
          "height": 126
        },
        "id": "OCtvoi940ocm",
        "outputId": "811d2251-d422-444b-b4a7-34cd35ab2631"
      },
      "execution_count": 12,
      "outputs": [
        {
          "output_type": "execute_result",
          "data": {
            "text/plain": [
              "Pipeline(steps=[('simpleimputer', SimpleImputer()),\n",
              "                ('standardscaler', StandardScaler())])"
            ],
            "text/html": [
              "<style>#sk-e9b9f630-6f97-4f5d-b8a7-d22ead01fd55 {color: black;background-color: white;}#sk-e9b9f630-6f97-4f5d-b8a7-d22ead01fd55 pre{padding: 0;}#sk-e9b9f630-6f97-4f5d-b8a7-d22ead01fd55 div.sk-toggleable {background-color: white;}#sk-e9b9f630-6f97-4f5d-b8a7-d22ead01fd55 label.sk-toggleable__label {cursor: pointer;display: block;width: 100%;margin-bottom: 0;padding: 0.3em;box-sizing: border-box;text-align: center;}#sk-e9b9f630-6f97-4f5d-b8a7-d22ead01fd55 label.sk-toggleable__label-arrow:before {content: \"▸\";float: left;margin-right: 0.25em;color: #696969;}#sk-e9b9f630-6f97-4f5d-b8a7-d22ead01fd55 label.sk-toggleable__label-arrow:hover:before {color: black;}#sk-e9b9f630-6f97-4f5d-b8a7-d22ead01fd55 div.sk-estimator:hover label.sk-toggleable__label-arrow:before {color: black;}#sk-e9b9f630-6f97-4f5d-b8a7-d22ead01fd55 div.sk-toggleable__content {max-height: 0;max-width: 0;overflow: hidden;text-align: left;background-color: #f0f8ff;}#sk-e9b9f630-6f97-4f5d-b8a7-d22ead01fd55 div.sk-toggleable__content pre {margin: 0.2em;color: black;border-radius: 0.25em;background-color: #f0f8ff;}#sk-e9b9f630-6f97-4f5d-b8a7-d22ead01fd55 input.sk-toggleable__control:checked~div.sk-toggleable__content {max-height: 200px;max-width: 100%;overflow: auto;}#sk-e9b9f630-6f97-4f5d-b8a7-d22ead01fd55 input.sk-toggleable__control:checked~label.sk-toggleable__label-arrow:before {content: \"▾\";}#sk-e9b9f630-6f97-4f5d-b8a7-d22ead01fd55 div.sk-estimator input.sk-toggleable__control:checked~label.sk-toggleable__label {background-color: #d4ebff;}#sk-e9b9f630-6f97-4f5d-b8a7-d22ead01fd55 div.sk-label input.sk-toggleable__control:checked~label.sk-toggleable__label {background-color: #d4ebff;}#sk-e9b9f630-6f97-4f5d-b8a7-d22ead01fd55 input.sk-hidden--visually {border: 0;clip: rect(1px 1px 1px 1px);clip: rect(1px, 1px, 1px, 1px);height: 1px;margin: -1px;overflow: hidden;padding: 0;position: absolute;width: 1px;}#sk-e9b9f630-6f97-4f5d-b8a7-d22ead01fd55 div.sk-estimator {font-family: monospace;background-color: #f0f8ff;border: 1px dotted black;border-radius: 0.25em;box-sizing: border-box;margin-bottom: 0.5em;}#sk-e9b9f630-6f97-4f5d-b8a7-d22ead01fd55 div.sk-estimator:hover {background-color: #d4ebff;}#sk-e9b9f630-6f97-4f5d-b8a7-d22ead01fd55 div.sk-parallel-item::after {content: \"\";width: 100%;border-bottom: 1px solid gray;flex-grow: 1;}#sk-e9b9f630-6f97-4f5d-b8a7-d22ead01fd55 div.sk-label:hover label.sk-toggleable__label {background-color: #d4ebff;}#sk-e9b9f630-6f97-4f5d-b8a7-d22ead01fd55 div.sk-serial::before {content: \"\";position: absolute;border-left: 1px solid gray;box-sizing: border-box;top: 2em;bottom: 0;left: 50%;}#sk-e9b9f630-6f97-4f5d-b8a7-d22ead01fd55 div.sk-serial {display: flex;flex-direction: column;align-items: center;background-color: white;padding-right: 0.2em;padding-left: 0.2em;}#sk-e9b9f630-6f97-4f5d-b8a7-d22ead01fd55 div.sk-item {z-index: 1;}#sk-e9b9f630-6f97-4f5d-b8a7-d22ead01fd55 div.sk-parallel {display: flex;align-items: stretch;justify-content: center;background-color: white;}#sk-e9b9f630-6f97-4f5d-b8a7-d22ead01fd55 div.sk-parallel::before {content: \"\";position: absolute;border-left: 1px solid gray;box-sizing: border-box;top: 2em;bottom: 0;left: 50%;}#sk-e9b9f630-6f97-4f5d-b8a7-d22ead01fd55 div.sk-parallel-item {display: flex;flex-direction: column;position: relative;background-color: white;}#sk-e9b9f630-6f97-4f5d-b8a7-d22ead01fd55 div.sk-parallel-item:first-child::after {align-self: flex-end;width: 50%;}#sk-e9b9f630-6f97-4f5d-b8a7-d22ead01fd55 div.sk-parallel-item:last-child::after {align-self: flex-start;width: 50%;}#sk-e9b9f630-6f97-4f5d-b8a7-d22ead01fd55 div.sk-parallel-item:only-child::after {width: 0;}#sk-e9b9f630-6f97-4f5d-b8a7-d22ead01fd55 div.sk-dashed-wrapped {border: 1px dashed gray;margin: 0 0.4em 0.5em 0.4em;box-sizing: border-box;padding-bottom: 0.4em;background-color: white;position: relative;}#sk-e9b9f630-6f97-4f5d-b8a7-d22ead01fd55 div.sk-label label {font-family: monospace;font-weight: bold;background-color: white;display: inline-block;line-height: 1.2em;}#sk-e9b9f630-6f97-4f5d-b8a7-d22ead01fd55 div.sk-label-container {position: relative;z-index: 2;text-align: center;}#sk-e9b9f630-6f97-4f5d-b8a7-d22ead01fd55 div.sk-container {/* jupyter's `normalize.less` sets `[hidden] { display: none; }` but bootstrap.min.css set `[hidden] { display: none !important; }` so we also need the `!important` here to be able to override the default hidden behavior on the sphinx rendered scikit-learn.org. See: https://github.com/scikit-learn/scikit-learn/issues/21755 */display: inline-block !important;position: relative;}#sk-e9b9f630-6f97-4f5d-b8a7-d22ead01fd55 div.sk-text-repr-fallback {display: none;}</style><div id=\"sk-e9b9f630-6f97-4f5d-b8a7-d22ead01fd55\" class=\"sk-top-container\"><div class=\"sk-text-repr-fallback\"><pre>Pipeline(steps=[(&#x27;simpleimputer&#x27;, SimpleImputer()),\n",
              "                (&#x27;standardscaler&#x27;, StandardScaler())])</pre><b>Please rerun this cell to show the HTML repr or trust the notebook.</b></div><div class=\"sk-container\" hidden><div class=\"sk-item sk-dashed-wrapped\"><div class=\"sk-label-container\"><div class=\"sk-label sk-toggleable\"><input class=\"sk-toggleable__control sk-hidden--visually\" id=\"66e98e54-20d4-46dc-a05c-94e853125218\" type=\"checkbox\" ><label for=\"66e98e54-20d4-46dc-a05c-94e853125218\" class=\"sk-toggleable__label sk-toggleable__label-arrow\">Pipeline</label><div class=\"sk-toggleable__content\"><pre>Pipeline(steps=[(&#x27;simpleimputer&#x27;, SimpleImputer()),\n",
              "                (&#x27;standardscaler&#x27;, StandardScaler())])</pre></div></div></div><div class=\"sk-serial\"><div class=\"sk-item\"><div class=\"sk-estimator sk-toggleable\"><input class=\"sk-toggleable__control sk-hidden--visually\" id=\"e857b56d-da4c-4083-a4c8-a2a6360000c2\" type=\"checkbox\" ><label for=\"e857b56d-da4c-4083-a4c8-a2a6360000c2\" class=\"sk-toggleable__label sk-toggleable__label-arrow\">SimpleImputer</label><div class=\"sk-toggleable__content\"><pre>SimpleImputer()</pre></div></div></div><div class=\"sk-item\"><div class=\"sk-estimator sk-toggleable\"><input class=\"sk-toggleable__control sk-hidden--visually\" id=\"73026d97-9c66-4d26-8cb8-7e0f7ff1048e\" type=\"checkbox\" ><label for=\"73026d97-9c66-4d26-8cb8-7e0f7ff1048e\" class=\"sk-toggleable__label sk-toggleable__label-arrow\">StandardScaler</label><div class=\"sk-toggleable__content\"><pre>StandardScaler()</pre></div></div></div></div></div></div></div>"
            ]
          },
          "metadata": {},
          "execution_count": 12
        }
      ]
    },
    {
      "cell_type": "code",
      "source": [
        "# Categorical pipeline\n",
        "categorical_pipe = make_pipeline(freq_imputer, ohe)\n",
        "categorical_pipe"
      ],
      "metadata": {
        "colab": {
          "base_uri": "https://localhost:8080/",
          "height": 126
        },
        "id": "Y3F15VmH0plr",
        "outputId": "a79fdf20-5c86-4e4f-ee5c-f63337d928a6"
      },
      "execution_count": 13,
      "outputs": [
        {
          "output_type": "execute_result",
          "data": {
            "text/plain": [
              "Pipeline(steps=[('simpleimputer', SimpleImputer(strategy='most_frequent')),\n",
              "                ('onehotencoder',\n",
              "                 OneHotEncoder(handle_unknown='ignore', sparse=False))])"
            ],
            "text/html": [
              "<style>#sk-1aabb51d-3d74-48be-85eb-a77a2b495dac {color: black;background-color: white;}#sk-1aabb51d-3d74-48be-85eb-a77a2b495dac pre{padding: 0;}#sk-1aabb51d-3d74-48be-85eb-a77a2b495dac div.sk-toggleable {background-color: white;}#sk-1aabb51d-3d74-48be-85eb-a77a2b495dac label.sk-toggleable__label {cursor: pointer;display: block;width: 100%;margin-bottom: 0;padding: 0.3em;box-sizing: border-box;text-align: center;}#sk-1aabb51d-3d74-48be-85eb-a77a2b495dac label.sk-toggleable__label-arrow:before {content: \"▸\";float: left;margin-right: 0.25em;color: #696969;}#sk-1aabb51d-3d74-48be-85eb-a77a2b495dac label.sk-toggleable__label-arrow:hover:before {color: black;}#sk-1aabb51d-3d74-48be-85eb-a77a2b495dac div.sk-estimator:hover label.sk-toggleable__label-arrow:before {color: black;}#sk-1aabb51d-3d74-48be-85eb-a77a2b495dac div.sk-toggleable__content {max-height: 0;max-width: 0;overflow: hidden;text-align: left;background-color: #f0f8ff;}#sk-1aabb51d-3d74-48be-85eb-a77a2b495dac div.sk-toggleable__content pre {margin: 0.2em;color: black;border-radius: 0.25em;background-color: #f0f8ff;}#sk-1aabb51d-3d74-48be-85eb-a77a2b495dac input.sk-toggleable__control:checked~div.sk-toggleable__content {max-height: 200px;max-width: 100%;overflow: auto;}#sk-1aabb51d-3d74-48be-85eb-a77a2b495dac input.sk-toggleable__control:checked~label.sk-toggleable__label-arrow:before {content: \"▾\";}#sk-1aabb51d-3d74-48be-85eb-a77a2b495dac div.sk-estimator input.sk-toggleable__control:checked~label.sk-toggleable__label {background-color: #d4ebff;}#sk-1aabb51d-3d74-48be-85eb-a77a2b495dac div.sk-label input.sk-toggleable__control:checked~label.sk-toggleable__label {background-color: #d4ebff;}#sk-1aabb51d-3d74-48be-85eb-a77a2b495dac input.sk-hidden--visually {border: 0;clip: rect(1px 1px 1px 1px);clip: rect(1px, 1px, 1px, 1px);height: 1px;margin: -1px;overflow: hidden;padding: 0;position: absolute;width: 1px;}#sk-1aabb51d-3d74-48be-85eb-a77a2b495dac div.sk-estimator {font-family: monospace;background-color: #f0f8ff;border: 1px dotted black;border-radius: 0.25em;box-sizing: border-box;margin-bottom: 0.5em;}#sk-1aabb51d-3d74-48be-85eb-a77a2b495dac div.sk-estimator:hover {background-color: #d4ebff;}#sk-1aabb51d-3d74-48be-85eb-a77a2b495dac div.sk-parallel-item::after {content: \"\";width: 100%;border-bottom: 1px solid gray;flex-grow: 1;}#sk-1aabb51d-3d74-48be-85eb-a77a2b495dac div.sk-label:hover label.sk-toggleable__label {background-color: #d4ebff;}#sk-1aabb51d-3d74-48be-85eb-a77a2b495dac div.sk-serial::before {content: \"\";position: absolute;border-left: 1px solid gray;box-sizing: border-box;top: 2em;bottom: 0;left: 50%;}#sk-1aabb51d-3d74-48be-85eb-a77a2b495dac div.sk-serial {display: flex;flex-direction: column;align-items: center;background-color: white;padding-right: 0.2em;padding-left: 0.2em;}#sk-1aabb51d-3d74-48be-85eb-a77a2b495dac div.sk-item {z-index: 1;}#sk-1aabb51d-3d74-48be-85eb-a77a2b495dac div.sk-parallel {display: flex;align-items: stretch;justify-content: center;background-color: white;}#sk-1aabb51d-3d74-48be-85eb-a77a2b495dac div.sk-parallel::before {content: \"\";position: absolute;border-left: 1px solid gray;box-sizing: border-box;top: 2em;bottom: 0;left: 50%;}#sk-1aabb51d-3d74-48be-85eb-a77a2b495dac div.sk-parallel-item {display: flex;flex-direction: column;position: relative;background-color: white;}#sk-1aabb51d-3d74-48be-85eb-a77a2b495dac div.sk-parallel-item:first-child::after {align-self: flex-end;width: 50%;}#sk-1aabb51d-3d74-48be-85eb-a77a2b495dac div.sk-parallel-item:last-child::after {align-self: flex-start;width: 50%;}#sk-1aabb51d-3d74-48be-85eb-a77a2b495dac div.sk-parallel-item:only-child::after {width: 0;}#sk-1aabb51d-3d74-48be-85eb-a77a2b495dac div.sk-dashed-wrapped {border: 1px dashed gray;margin: 0 0.4em 0.5em 0.4em;box-sizing: border-box;padding-bottom: 0.4em;background-color: white;position: relative;}#sk-1aabb51d-3d74-48be-85eb-a77a2b495dac div.sk-label label {font-family: monospace;font-weight: bold;background-color: white;display: inline-block;line-height: 1.2em;}#sk-1aabb51d-3d74-48be-85eb-a77a2b495dac div.sk-label-container {position: relative;z-index: 2;text-align: center;}#sk-1aabb51d-3d74-48be-85eb-a77a2b495dac div.sk-container {/* jupyter's `normalize.less` sets `[hidden] { display: none; }` but bootstrap.min.css set `[hidden] { display: none !important; }` so we also need the `!important` here to be able to override the default hidden behavior on the sphinx rendered scikit-learn.org. See: https://github.com/scikit-learn/scikit-learn/issues/21755 */display: inline-block !important;position: relative;}#sk-1aabb51d-3d74-48be-85eb-a77a2b495dac div.sk-text-repr-fallback {display: none;}</style><div id=\"sk-1aabb51d-3d74-48be-85eb-a77a2b495dac\" class=\"sk-top-container\"><div class=\"sk-text-repr-fallback\"><pre>Pipeline(steps=[(&#x27;simpleimputer&#x27;, SimpleImputer(strategy=&#x27;most_frequent&#x27;)),\n",
              "                (&#x27;onehotencoder&#x27;,\n",
              "                 OneHotEncoder(handle_unknown=&#x27;ignore&#x27;, sparse=False))])</pre><b>Please rerun this cell to show the HTML repr or trust the notebook.</b></div><div class=\"sk-container\" hidden><div class=\"sk-item sk-dashed-wrapped\"><div class=\"sk-label-container\"><div class=\"sk-label sk-toggleable\"><input class=\"sk-toggleable__control sk-hidden--visually\" id=\"14f02145-518c-402a-894b-ecbaf1ad292c\" type=\"checkbox\" ><label for=\"14f02145-518c-402a-894b-ecbaf1ad292c\" class=\"sk-toggleable__label sk-toggleable__label-arrow\">Pipeline</label><div class=\"sk-toggleable__content\"><pre>Pipeline(steps=[(&#x27;simpleimputer&#x27;, SimpleImputer(strategy=&#x27;most_frequent&#x27;)),\n",
              "                (&#x27;onehotencoder&#x27;,\n",
              "                 OneHotEncoder(handle_unknown=&#x27;ignore&#x27;, sparse=False))])</pre></div></div></div><div class=\"sk-serial\"><div class=\"sk-item\"><div class=\"sk-estimator sk-toggleable\"><input class=\"sk-toggleable__control sk-hidden--visually\" id=\"d3650cf1-f25f-4921-ad3b-0941bdb2a5ff\" type=\"checkbox\" ><label for=\"d3650cf1-f25f-4921-ad3b-0941bdb2a5ff\" class=\"sk-toggleable__label sk-toggleable__label-arrow\">SimpleImputer</label><div class=\"sk-toggleable__content\"><pre>SimpleImputer(strategy=&#x27;most_frequent&#x27;)</pre></div></div></div><div class=\"sk-item\"><div class=\"sk-estimator sk-toggleable\"><input class=\"sk-toggleable__control sk-hidden--visually\" id=\"c2b3658e-8abe-4e42-9024-a9e35fa33fea\" type=\"checkbox\" ><label for=\"c2b3658e-8abe-4e42-9024-a9e35fa33fea\" class=\"sk-toggleable__label sk-toggleable__label-arrow\">OneHotEncoder</label><div class=\"sk-toggleable__content\"><pre>OneHotEncoder(handle_unknown=&#x27;ignore&#x27;, sparse=False)</pre></div></div></div></div></div></div></div>"
            ]
          },
          "metadata": {},
          "execution_count": 13
        }
      ]
    },
    {
      "cell_type": "code",
      "source": [
        "# Tuples for Column Transformer\n",
        "number_tuple = (numeric_pipe, num_selector)\n",
        "category_tuple = (categorical_pipe, cat_selector)\n",
        "\n",
        "# ColumnTransformer\n",
        "preprocessor = make_column_transformer(number_tuple, category_tuple)\n",
        "\n",
        "# fit on train\n",
        "preprocessor.fit(X_train)"
      ],
      "metadata": {
        "colab": {
          "base_uri": "https://localhost:8080/",
          "height": 152
        },
        "id": "LF2jG6Gt0rC1",
        "outputId": "daa3eebd-7d64-4856-fbca-6cacd23b58c0"
      },
      "execution_count": 21,
      "outputs": [
        {
          "output_type": "execute_result",
          "data": {
            "text/plain": [
              "ColumnTransformer(transformers=[('pipeline-1',\n",
              "                                 Pipeline(steps=[('simpleimputer',\n",
              "                                                  SimpleImputer()),\n",
              "                                                 ('standardscaler',\n",
              "                                                  StandardScaler())]),\n",
              "                                 <sklearn.compose._column_transformer.make_column_selector object at 0x7f39731c53d0>),\n",
              "                                ('pipeline-2',\n",
              "                                 Pipeline(steps=[('simpleimputer',\n",
              "                                                  SimpleImputer(strategy='most_frequent')),\n",
              "                                                 ('onehotencoder',\n",
              "                                                  OneHotEncoder(handle_unknown='ignore',\n",
              "                                                                sparse=False))]),\n",
              "                                 <sklearn.compose._column_transformer.make_column_selector object at 0x7f39731c5310>)])"
            ],
            "text/html": [
              "<style>#sk-fb2eb513-5bf6-4b03-99d4-849416d066b7 {color: black;background-color: white;}#sk-fb2eb513-5bf6-4b03-99d4-849416d066b7 pre{padding: 0;}#sk-fb2eb513-5bf6-4b03-99d4-849416d066b7 div.sk-toggleable {background-color: white;}#sk-fb2eb513-5bf6-4b03-99d4-849416d066b7 label.sk-toggleable__label {cursor: pointer;display: block;width: 100%;margin-bottom: 0;padding: 0.3em;box-sizing: border-box;text-align: center;}#sk-fb2eb513-5bf6-4b03-99d4-849416d066b7 label.sk-toggleable__label-arrow:before {content: \"▸\";float: left;margin-right: 0.25em;color: #696969;}#sk-fb2eb513-5bf6-4b03-99d4-849416d066b7 label.sk-toggleable__label-arrow:hover:before {color: black;}#sk-fb2eb513-5bf6-4b03-99d4-849416d066b7 div.sk-estimator:hover label.sk-toggleable__label-arrow:before {color: black;}#sk-fb2eb513-5bf6-4b03-99d4-849416d066b7 div.sk-toggleable__content {max-height: 0;max-width: 0;overflow: hidden;text-align: left;background-color: #f0f8ff;}#sk-fb2eb513-5bf6-4b03-99d4-849416d066b7 div.sk-toggleable__content pre {margin: 0.2em;color: black;border-radius: 0.25em;background-color: #f0f8ff;}#sk-fb2eb513-5bf6-4b03-99d4-849416d066b7 input.sk-toggleable__control:checked~div.sk-toggleable__content {max-height: 200px;max-width: 100%;overflow: auto;}#sk-fb2eb513-5bf6-4b03-99d4-849416d066b7 input.sk-toggleable__control:checked~label.sk-toggleable__label-arrow:before {content: \"▾\";}#sk-fb2eb513-5bf6-4b03-99d4-849416d066b7 div.sk-estimator input.sk-toggleable__control:checked~label.sk-toggleable__label {background-color: #d4ebff;}#sk-fb2eb513-5bf6-4b03-99d4-849416d066b7 div.sk-label input.sk-toggleable__control:checked~label.sk-toggleable__label {background-color: #d4ebff;}#sk-fb2eb513-5bf6-4b03-99d4-849416d066b7 input.sk-hidden--visually {border: 0;clip: rect(1px 1px 1px 1px);clip: rect(1px, 1px, 1px, 1px);height: 1px;margin: -1px;overflow: hidden;padding: 0;position: absolute;width: 1px;}#sk-fb2eb513-5bf6-4b03-99d4-849416d066b7 div.sk-estimator {font-family: monospace;background-color: #f0f8ff;border: 1px dotted black;border-radius: 0.25em;box-sizing: border-box;margin-bottom: 0.5em;}#sk-fb2eb513-5bf6-4b03-99d4-849416d066b7 div.sk-estimator:hover {background-color: #d4ebff;}#sk-fb2eb513-5bf6-4b03-99d4-849416d066b7 div.sk-parallel-item::after {content: \"\";width: 100%;border-bottom: 1px solid gray;flex-grow: 1;}#sk-fb2eb513-5bf6-4b03-99d4-849416d066b7 div.sk-label:hover label.sk-toggleable__label {background-color: #d4ebff;}#sk-fb2eb513-5bf6-4b03-99d4-849416d066b7 div.sk-serial::before {content: \"\";position: absolute;border-left: 1px solid gray;box-sizing: border-box;top: 2em;bottom: 0;left: 50%;}#sk-fb2eb513-5bf6-4b03-99d4-849416d066b7 div.sk-serial {display: flex;flex-direction: column;align-items: center;background-color: white;padding-right: 0.2em;padding-left: 0.2em;}#sk-fb2eb513-5bf6-4b03-99d4-849416d066b7 div.sk-item {z-index: 1;}#sk-fb2eb513-5bf6-4b03-99d4-849416d066b7 div.sk-parallel {display: flex;align-items: stretch;justify-content: center;background-color: white;}#sk-fb2eb513-5bf6-4b03-99d4-849416d066b7 div.sk-parallel::before {content: \"\";position: absolute;border-left: 1px solid gray;box-sizing: border-box;top: 2em;bottom: 0;left: 50%;}#sk-fb2eb513-5bf6-4b03-99d4-849416d066b7 div.sk-parallel-item {display: flex;flex-direction: column;position: relative;background-color: white;}#sk-fb2eb513-5bf6-4b03-99d4-849416d066b7 div.sk-parallel-item:first-child::after {align-self: flex-end;width: 50%;}#sk-fb2eb513-5bf6-4b03-99d4-849416d066b7 div.sk-parallel-item:last-child::after {align-self: flex-start;width: 50%;}#sk-fb2eb513-5bf6-4b03-99d4-849416d066b7 div.sk-parallel-item:only-child::after {width: 0;}#sk-fb2eb513-5bf6-4b03-99d4-849416d066b7 div.sk-dashed-wrapped {border: 1px dashed gray;margin: 0 0.4em 0.5em 0.4em;box-sizing: border-box;padding-bottom: 0.4em;background-color: white;position: relative;}#sk-fb2eb513-5bf6-4b03-99d4-849416d066b7 div.sk-label label {font-family: monospace;font-weight: bold;background-color: white;display: inline-block;line-height: 1.2em;}#sk-fb2eb513-5bf6-4b03-99d4-849416d066b7 div.sk-label-container {position: relative;z-index: 2;text-align: center;}#sk-fb2eb513-5bf6-4b03-99d4-849416d066b7 div.sk-container {/* jupyter's `normalize.less` sets `[hidden] { display: none; }` but bootstrap.min.css set `[hidden] { display: none !important; }` so we also need the `!important` here to be able to override the default hidden behavior on the sphinx rendered scikit-learn.org. See: https://github.com/scikit-learn/scikit-learn/issues/21755 */display: inline-block !important;position: relative;}#sk-fb2eb513-5bf6-4b03-99d4-849416d066b7 div.sk-text-repr-fallback {display: none;}</style><div id=\"sk-fb2eb513-5bf6-4b03-99d4-849416d066b7\" class=\"sk-top-container\"><div class=\"sk-text-repr-fallback\"><pre>ColumnTransformer(transformers=[(&#x27;pipeline-1&#x27;,\n",
              "                                 Pipeline(steps=[(&#x27;simpleimputer&#x27;,\n",
              "                                                  SimpleImputer()),\n",
              "                                                 (&#x27;standardscaler&#x27;,\n",
              "                                                  StandardScaler())]),\n",
              "                                 &lt;sklearn.compose._column_transformer.make_column_selector object at 0x7f39731c53d0&gt;),\n",
              "                                (&#x27;pipeline-2&#x27;,\n",
              "                                 Pipeline(steps=[(&#x27;simpleimputer&#x27;,\n",
              "                                                  SimpleImputer(strategy=&#x27;most_frequent&#x27;)),\n",
              "                                                 (&#x27;onehotencoder&#x27;,\n",
              "                                                  OneHotEncoder(handle_unknown=&#x27;ignore&#x27;,\n",
              "                                                                sparse=False))]),\n",
              "                                 &lt;sklearn.compose._column_transformer.make_column_selector object at 0x7f39731c5310&gt;)])</pre><b>Please rerun this cell to show the HTML repr or trust the notebook.</b></div><div class=\"sk-container\" hidden><div class=\"sk-item sk-dashed-wrapped\"><div class=\"sk-label-container\"><div class=\"sk-label sk-toggleable\"><input class=\"sk-toggleable__control sk-hidden--visually\" id=\"cc5f45f7-18c0-42d3-9172-106b48bd93c2\" type=\"checkbox\" ><label for=\"cc5f45f7-18c0-42d3-9172-106b48bd93c2\" class=\"sk-toggleable__label sk-toggleable__label-arrow\">ColumnTransformer</label><div class=\"sk-toggleable__content\"><pre>ColumnTransformer(transformers=[(&#x27;pipeline-1&#x27;,\n",
              "                                 Pipeline(steps=[(&#x27;simpleimputer&#x27;,\n",
              "                                                  SimpleImputer()),\n",
              "                                                 (&#x27;standardscaler&#x27;,\n",
              "                                                  StandardScaler())]),\n",
              "                                 &lt;sklearn.compose._column_transformer.make_column_selector object at 0x7f39731c53d0&gt;),\n",
              "                                (&#x27;pipeline-2&#x27;,\n",
              "                                 Pipeline(steps=[(&#x27;simpleimputer&#x27;,\n",
              "                                                  SimpleImputer(strategy=&#x27;most_frequent&#x27;)),\n",
              "                                                 (&#x27;onehotencoder&#x27;,\n",
              "                                                  OneHotEncoder(handle_unknown=&#x27;ignore&#x27;,\n",
              "                                                                sparse=False))]),\n",
              "                                 &lt;sklearn.compose._column_transformer.make_column_selector object at 0x7f39731c5310&gt;)])</pre></div></div></div><div class=\"sk-parallel\"><div class=\"sk-parallel-item\"><div class=\"sk-item\"><div class=\"sk-label-container\"><div class=\"sk-label sk-toggleable\"><input class=\"sk-toggleable__control sk-hidden--visually\" id=\"6714fc5e-8bc4-42d3-a5d4-3bc5a8b465fb\" type=\"checkbox\" ><label for=\"6714fc5e-8bc4-42d3-a5d4-3bc5a8b465fb\" class=\"sk-toggleable__label sk-toggleable__label-arrow\">pipeline-1</label><div class=\"sk-toggleable__content\"><pre>&lt;sklearn.compose._column_transformer.make_column_selector object at 0x7f39731c53d0&gt;</pre></div></div></div><div class=\"sk-serial\"><div class=\"sk-item\"><div class=\"sk-serial\"><div class=\"sk-item\"><div class=\"sk-estimator sk-toggleable\"><input class=\"sk-toggleable__control sk-hidden--visually\" id=\"e832af62-8125-41fc-8d7e-ab3511ce818a\" type=\"checkbox\" ><label for=\"e832af62-8125-41fc-8d7e-ab3511ce818a\" class=\"sk-toggleable__label sk-toggleable__label-arrow\">SimpleImputer</label><div class=\"sk-toggleable__content\"><pre>SimpleImputer()</pre></div></div></div><div class=\"sk-item\"><div class=\"sk-estimator sk-toggleable\"><input class=\"sk-toggleable__control sk-hidden--visually\" id=\"f3d38bb5-bd16-446d-8fbb-fe08c780674c\" type=\"checkbox\" ><label for=\"f3d38bb5-bd16-446d-8fbb-fe08c780674c\" class=\"sk-toggleable__label sk-toggleable__label-arrow\">StandardScaler</label><div class=\"sk-toggleable__content\"><pre>StandardScaler()</pre></div></div></div></div></div></div></div></div><div class=\"sk-parallel-item\"><div class=\"sk-item\"><div class=\"sk-label-container\"><div class=\"sk-label sk-toggleable\"><input class=\"sk-toggleable__control sk-hidden--visually\" id=\"9c90b9a9-2cf4-4518-a4bc-87ada4e2a1aa\" type=\"checkbox\" ><label for=\"9c90b9a9-2cf4-4518-a4bc-87ada4e2a1aa\" class=\"sk-toggleable__label sk-toggleable__label-arrow\">pipeline-2</label><div class=\"sk-toggleable__content\"><pre>&lt;sklearn.compose._column_transformer.make_column_selector object at 0x7f39731c5310&gt;</pre></div></div></div><div class=\"sk-serial\"><div class=\"sk-item\"><div class=\"sk-serial\"><div class=\"sk-item\"><div class=\"sk-estimator sk-toggleable\"><input class=\"sk-toggleable__control sk-hidden--visually\" id=\"e96d70ca-02ea-44f3-a039-bb927d8272bf\" type=\"checkbox\" ><label for=\"e96d70ca-02ea-44f3-a039-bb927d8272bf\" class=\"sk-toggleable__label sk-toggleable__label-arrow\">SimpleImputer</label><div class=\"sk-toggleable__content\"><pre>SimpleImputer(strategy=&#x27;most_frequent&#x27;)</pre></div></div></div><div class=\"sk-item\"><div class=\"sk-estimator sk-toggleable\"><input class=\"sk-toggleable__control sk-hidden--visually\" id=\"eaa84414-2ce2-4be6-8253-641eb52a876b\" type=\"checkbox\" ><label for=\"eaa84414-2ce2-4be6-8253-641eb52a876b\" class=\"sk-toggleable__label sk-toggleable__label-arrow\">OneHotEncoder</label><div class=\"sk-toggleable__content\"><pre>OneHotEncoder(handle_unknown=&#x27;ignore&#x27;, sparse=False)</pre></div></div></div></div></div></div></div></div></div></div></div></div>"
            ]
          },
          "metadata": {},
          "execution_count": 21
        }
      ]
    },
    {
      "cell_type": "code",
      "source": [
        "# transform train and test\n",
        "X_train_processed = preprocessor.transform(X_train)\n",
        "X_test_processed = preprocessor.transform(X_test)"
      ],
      "metadata": {
        "id": "rYAsfBGu0vWx"
      },
      "execution_count": 16,
      "outputs": []
    },
    {
      "cell_type": "code",
      "source": [
        "lin_reg = LinearRegression()\n",
        "\n",
        "lin_reg_pipe = make_pipeline(scaler, lin_reg)\n",
        "\n",
        "# ?? done right ??\n",
        "lin_reg_pipe.fit(X_train_processed, y_train)"
      ],
      "metadata": {
        "colab": {
          "base_uri": "https://localhost:8080/",
          "height": 126
        },
        "id": "PNXlzYlr0xiH",
        "outputId": "d5b43127-32e2-46eb-8578-bde0b2ce78fa"
      },
      "execution_count": 29,
      "outputs": [
        {
          "output_type": "execute_result",
          "data": {
            "text/plain": [
              "Pipeline(steps=[('standardscaler', StandardScaler()),\n",
              "                ('linearregression', LinearRegression())])"
            ],
            "text/html": [
              "<style>#sk-734f01e9-576b-4ebe-98e1-dbd517b6523d {color: black;background-color: white;}#sk-734f01e9-576b-4ebe-98e1-dbd517b6523d pre{padding: 0;}#sk-734f01e9-576b-4ebe-98e1-dbd517b6523d div.sk-toggleable {background-color: white;}#sk-734f01e9-576b-4ebe-98e1-dbd517b6523d label.sk-toggleable__label {cursor: pointer;display: block;width: 100%;margin-bottom: 0;padding: 0.3em;box-sizing: border-box;text-align: center;}#sk-734f01e9-576b-4ebe-98e1-dbd517b6523d label.sk-toggleable__label-arrow:before {content: \"▸\";float: left;margin-right: 0.25em;color: #696969;}#sk-734f01e9-576b-4ebe-98e1-dbd517b6523d label.sk-toggleable__label-arrow:hover:before {color: black;}#sk-734f01e9-576b-4ebe-98e1-dbd517b6523d div.sk-estimator:hover label.sk-toggleable__label-arrow:before {color: black;}#sk-734f01e9-576b-4ebe-98e1-dbd517b6523d div.sk-toggleable__content {max-height: 0;max-width: 0;overflow: hidden;text-align: left;background-color: #f0f8ff;}#sk-734f01e9-576b-4ebe-98e1-dbd517b6523d div.sk-toggleable__content pre {margin: 0.2em;color: black;border-radius: 0.25em;background-color: #f0f8ff;}#sk-734f01e9-576b-4ebe-98e1-dbd517b6523d input.sk-toggleable__control:checked~div.sk-toggleable__content {max-height: 200px;max-width: 100%;overflow: auto;}#sk-734f01e9-576b-4ebe-98e1-dbd517b6523d input.sk-toggleable__control:checked~label.sk-toggleable__label-arrow:before {content: \"▾\";}#sk-734f01e9-576b-4ebe-98e1-dbd517b6523d div.sk-estimator input.sk-toggleable__control:checked~label.sk-toggleable__label {background-color: #d4ebff;}#sk-734f01e9-576b-4ebe-98e1-dbd517b6523d div.sk-label input.sk-toggleable__control:checked~label.sk-toggleable__label {background-color: #d4ebff;}#sk-734f01e9-576b-4ebe-98e1-dbd517b6523d input.sk-hidden--visually {border: 0;clip: rect(1px 1px 1px 1px);clip: rect(1px, 1px, 1px, 1px);height: 1px;margin: -1px;overflow: hidden;padding: 0;position: absolute;width: 1px;}#sk-734f01e9-576b-4ebe-98e1-dbd517b6523d div.sk-estimator {font-family: monospace;background-color: #f0f8ff;border: 1px dotted black;border-radius: 0.25em;box-sizing: border-box;margin-bottom: 0.5em;}#sk-734f01e9-576b-4ebe-98e1-dbd517b6523d div.sk-estimator:hover {background-color: #d4ebff;}#sk-734f01e9-576b-4ebe-98e1-dbd517b6523d div.sk-parallel-item::after {content: \"\";width: 100%;border-bottom: 1px solid gray;flex-grow: 1;}#sk-734f01e9-576b-4ebe-98e1-dbd517b6523d div.sk-label:hover label.sk-toggleable__label {background-color: #d4ebff;}#sk-734f01e9-576b-4ebe-98e1-dbd517b6523d div.sk-serial::before {content: \"\";position: absolute;border-left: 1px solid gray;box-sizing: border-box;top: 2em;bottom: 0;left: 50%;}#sk-734f01e9-576b-4ebe-98e1-dbd517b6523d div.sk-serial {display: flex;flex-direction: column;align-items: center;background-color: white;padding-right: 0.2em;padding-left: 0.2em;}#sk-734f01e9-576b-4ebe-98e1-dbd517b6523d div.sk-item {z-index: 1;}#sk-734f01e9-576b-4ebe-98e1-dbd517b6523d div.sk-parallel {display: flex;align-items: stretch;justify-content: center;background-color: white;}#sk-734f01e9-576b-4ebe-98e1-dbd517b6523d div.sk-parallel::before {content: \"\";position: absolute;border-left: 1px solid gray;box-sizing: border-box;top: 2em;bottom: 0;left: 50%;}#sk-734f01e9-576b-4ebe-98e1-dbd517b6523d div.sk-parallel-item {display: flex;flex-direction: column;position: relative;background-color: white;}#sk-734f01e9-576b-4ebe-98e1-dbd517b6523d div.sk-parallel-item:first-child::after {align-self: flex-end;width: 50%;}#sk-734f01e9-576b-4ebe-98e1-dbd517b6523d div.sk-parallel-item:last-child::after {align-self: flex-start;width: 50%;}#sk-734f01e9-576b-4ebe-98e1-dbd517b6523d div.sk-parallel-item:only-child::after {width: 0;}#sk-734f01e9-576b-4ebe-98e1-dbd517b6523d div.sk-dashed-wrapped {border: 1px dashed gray;margin: 0 0.4em 0.5em 0.4em;box-sizing: border-box;padding-bottom: 0.4em;background-color: white;position: relative;}#sk-734f01e9-576b-4ebe-98e1-dbd517b6523d div.sk-label label {font-family: monospace;font-weight: bold;background-color: white;display: inline-block;line-height: 1.2em;}#sk-734f01e9-576b-4ebe-98e1-dbd517b6523d div.sk-label-container {position: relative;z-index: 2;text-align: center;}#sk-734f01e9-576b-4ebe-98e1-dbd517b6523d div.sk-container {/* jupyter's `normalize.less` sets `[hidden] { display: none; }` but bootstrap.min.css set `[hidden] { display: none !important; }` so we also need the `!important` here to be able to override the default hidden behavior on the sphinx rendered scikit-learn.org. See: https://github.com/scikit-learn/scikit-learn/issues/21755 */display: inline-block !important;position: relative;}#sk-734f01e9-576b-4ebe-98e1-dbd517b6523d div.sk-text-repr-fallback {display: none;}</style><div id=\"sk-734f01e9-576b-4ebe-98e1-dbd517b6523d\" class=\"sk-top-container\"><div class=\"sk-text-repr-fallback\"><pre>Pipeline(steps=[(&#x27;standardscaler&#x27;, StandardScaler()),\n",
              "                (&#x27;linearregression&#x27;, LinearRegression())])</pre><b>Please rerun this cell to show the HTML repr or trust the notebook.</b></div><div class=\"sk-container\" hidden><div class=\"sk-item sk-dashed-wrapped\"><div class=\"sk-label-container\"><div class=\"sk-label sk-toggleable\"><input class=\"sk-toggleable__control sk-hidden--visually\" id=\"6d3e2b40-593b-4be2-855f-a4481ce231f4\" type=\"checkbox\" ><label for=\"6d3e2b40-593b-4be2-855f-a4481ce231f4\" class=\"sk-toggleable__label sk-toggleable__label-arrow\">Pipeline</label><div class=\"sk-toggleable__content\"><pre>Pipeline(steps=[(&#x27;standardscaler&#x27;, StandardScaler()),\n",
              "                (&#x27;linearregression&#x27;, LinearRegression())])</pre></div></div></div><div class=\"sk-serial\"><div class=\"sk-item\"><div class=\"sk-estimator sk-toggleable\"><input class=\"sk-toggleable__control sk-hidden--visually\" id=\"2e3376ca-3cc9-4e8d-b371-b0b01248da8f\" type=\"checkbox\" ><label for=\"2e3376ca-3cc9-4e8d-b371-b0b01248da8f\" class=\"sk-toggleable__label sk-toggleable__label-arrow\">StandardScaler</label><div class=\"sk-toggleable__content\"><pre>StandardScaler()</pre></div></div></div><div class=\"sk-item\"><div class=\"sk-estimator sk-toggleable\"><input class=\"sk-toggleable__control sk-hidden--visually\" id=\"f3ea40b9-bd02-4123-ae5b-d77aa8564876\" type=\"checkbox\" ><label for=\"f3ea40b9-bd02-4123-ae5b-d77aa8564876\" class=\"sk-toggleable__label sk-toggleable__label-arrow\">LinearRegression</label><div class=\"sk-toggleable__content\"><pre>LinearRegression()</pre></div></div></div></div></div></div></div>"
            ]
          },
          "metadata": {},
          "execution_count": 29
        }
      ]
    },
    {
      "cell_type": "code",
      "source": [
        "train_pred = lin_reg_pipe.predict(X_train_processed)\n",
        "test_pred = lin_reg_pipe.predict(X_test_processed)"
      ],
      "metadata": {
        "id": "3Q0Qhls209PF"
      },
      "execution_count": 30,
      "outputs": []
    },
    {
      "cell_type": "code",
      "source": [
        "train_rsme = np.sqrt(np.mean(np.abs(train_pred - y_train) **2))\n",
        "test_rsme = np.sqrt(np.mean(np.abs(test_pred - y_test) **2))\n",
        "\n",
        "\n",
        "print(train_rsme)\n",
        "print(test_rsme)"
      ],
      "metadata": {
        "colab": {
          "base_uri": "https://localhost:8080/"
        },
        "id": "OoZwda8D2waZ",
        "outputId": "4166eb98-6da5-4dde-e114-207a8d082b69"
      },
      "execution_count": 31,
      "outputs": [
        {
          "output_type": "stream",
          "name": "stdout",
          "text": [
            "6083.121219954769\n",
            "5926.525984149782\n"
          ]
        }
      ]
    }
  ]
}