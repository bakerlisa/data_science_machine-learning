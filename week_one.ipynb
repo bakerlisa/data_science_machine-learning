{
  "nbformat": 4,
  "nbformat_minor": 0,
  "metadata": {
    "colab": {
      "name": "week_one.ipynb",
      "provenance": [],
      "authorship_tag": "ABX9TyMEgUuNwS902vCnyp2wHlda",
      "include_colab_link": true
    },
    "kernelspec": {
      "name": "python3",
      "display_name": "Python 3"
    },
    "language_info": {
      "name": "python"
    }
  },
  "cells": [
    {
      "cell_type": "markdown",
      "metadata": {
        "id": "view-in-github",
        "colab_type": "text"
      },
      "source": [
        "<a href=\"https://colab.research.google.com/github/lisabroadhead/machine-learning/blob/main/week_one.ipynb\" target=\"_parent\"><img src=\"https://colab.research.google.com/assets/colab-badge.svg\" alt=\"Open In Colab\"/></a>"
      ]
    },
    {
      "cell_type": "markdown",
      "source": [
        "# Mortgage Payments"
      ],
      "metadata": {
        "id": "WXdjiC3dcxtm"
      }
    },
    {
      "cell_type": "code",
      "source": [
        "# 1.\n",
        "r = 0.03 / 12\n",
        "n = 30 * 12\n",
        "p = 400000\n",
        "\n",
        "top = r * (1 + r)**n\n",
        "bottom = (1+r)**n - 1\n",
        "\n",
        "mortgage = p * (top / bottom)\n",
        "\n",
        "mortgage"
      ],
      "metadata": {
        "colab": {
          "base_uri": "https://localhost:8080/"
        },
        "id": "Hctlg6TtdI38",
        "outputId": "77e19d55-1e1b-4c83-c7c4-13b466c37bc2"
      },
      "execution_count": 16,
      "outputs": [
        {
          "output_type": "execute_result",
          "data": {
            "text/plain": [
              "1686.4161349178237"
            ]
          },
          "metadata": {},
          "execution_count": 16
        }
      ]
    },
    {
      "cell_type": "code",
      "source": [
        "# 2.\n",
        "r = 0.06 / 12\n",
        "n = 30 * 12\n",
        "p = 400000\n",
        "\n",
        "top =  r * (1 + r)**n\n",
        "bottom = (1+r)**n - 1\n",
        "\n",
        "mortgage_2 = p * (top / bottom)\n",
        "\n",
        "mortgage_2"
      ],
      "metadata": {
        "colab": {
          "base_uri": "https://localhost:8080/"
        },
        "id": "lDZdrYUxei5m",
        "outputId": "70295bb6-ca06-48a2-9cc0-476023cf941b"
      },
      "execution_count": 18,
      "outputs": [
        {
          "output_type": "execute_result",
          "data": {
            "text/plain": [
              "2398.2021006110276"
            ]
          },
          "metadata": {},
          "execution_count": 18
        }
      ]
    }
  ]
}