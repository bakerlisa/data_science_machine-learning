{
  "nbformat": 4,
  "nbformat_minor": 0,
  "metadata": {
    "colab": {
      "name": "week_one.ipynb",
      "provenance": [],
      "collapsed_sections": [],
      "authorship_tag": "ABX9TyPR1o5K8S2aeyWUZe8SEs6H",
      "include_colab_link": true
    },
    "kernelspec": {
      "name": "python3",
      "display_name": "Python 3"
    },
    "language_info": {
      "name": "python"
    }
  },
  "cells": [
    {
      "cell_type": "markdown",
      "metadata": {
        "id": "view-in-github",
        "colab_type": "text"
      },
      "source": [
        "<a href=\"https://colab.research.google.com/github/lisabroadhead/machine-learning/blob/main/week_one.ipynb\" target=\"_parent\"><img src=\"https://colab.research.google.com/assets/colab-badge.svg\" alt=\"Open In Colab\"/></a>"
      ]
    },
    {
      "cell_type": "markdown",
      "source": [
        "# Mortgage Payments"
      ],
      "metadata": {
        "id": "WXdjiC3dcxtm"
      }
    },
    {
      "cell_type": "code",
      "source": [
        "# 1.\n",
        "r = 0.03 / 12\n",
        "n = 30 * 12\n",
        "p = 400000\n",
        "\n",
        "top = r * (1 + r)**n\n",
        "bottom = (1+r)**n - 1\n",
        "\n",
        "mortgage = p * (top / bottom)\n",
        "\n",
        "mortgage"
      ],
      "metadata": {
        "colab": {
          "base_uri": "https://localhost:8080/"
        },
        "id": "Hctlg6TtdI38",
        "outputId": "77e19d55-1e1b-4c83-c7c4-13b466c37bc2"
      },
      "execution_count": 16,
      "outputs": [
        {
          "output_type": "execute_result",
          "data": {
            "text/plain": [
              "1686.4161349178237"
            ]
          },
          "metadata": {},
          "execution_count": 16
        }
      ]
    },
    {
      "cell_type": "code",
      "source": [
        "# 2.\n",
        "r = 0.06 / 12\n",
        "n = 30 * 12\n",
        "p = 400000\n",
        "\n",
        "top =  r * (1 + r)**n\n",
        "bottom = (1+r)**n - 1\n",
        "\n",
        "mortgage_2 = p * (top / bottom)\n",
        "\n",
        "mortgage_2"
      ],
      "metadata": {
        "colab": {
          "base_uri": "https://localhost:8080/"
        },
        "id": "lDZdrYUxei5m",
        "outputId": "70295bb6-ca06-48a2-9cc0-476023cf941b"
      },
      "execution_count": 18,
      "outputs": [
        {
          "output_type": "execute_result",
          "data": {
            "text/plain": [
              "2398.2021006110276"
            ]
          },
          "metadata": {},
          "execution_count": 18
        }
      ]
    },
    {
      "cell_type": "markdown",
      "source": [
        "# FizzBuzz"
      ],
      "metadata": {
        "id": "3zcNmRuMfDVl"
      }
    },
    {
      "cell_type": "code",
      "source": [
        "def fizzBuzz():\n",
        "  for x in range(1,21):\n",
        "    if x % 3 == 0 and x % 5 == 0:\n",
        "      print(\"FizzBuzz\")\n",
        "    elif x % 3 == 0:\n",
        "      print(\"Fizz\")\n",
        "    elif x % 5 == 0:\n",
        "      print(\"Buzz\")\n",
        "    else:\n",
        "      print(x)\n",
        "fizzBuzz()"
      ],
      "metadata": {
        "colab": {
          "base_uri": "https://localhost:8080/"
        },
        "id": "IsVjXsBHfFUz",
        "outputId": "17376b13-0667-4f81-ee06-a4ce202884ab"
      },
      "execution_count": 23,
      "outputs": [
        {
          "output_type": "stream",
          "name": "stdout",
          "text": [
            "1\n",
            "2\n",
            "Fizz\n",
            "4\n",
            "Buzz\n",
            "Fizz\n",
            "7\n",
            "8\n",
            "Fizz\n",
            "Buzz\n",
            "11\n",
            "Fizz\n",
            "13\n",
            "14\n",
            "FizzBuzz\n",
            "16\n",
            "17\n",
            "Fizz\n",
            "19\n",
            "Buzz\n"
          ]
        }
      ]
    },
    {
      "cell_type": "markdown",
      "source": [
        "# Lesson Notes"
      ],
      "metadata": {
        "id": "7gcFkPefgCzh"
      }
    },
    {
      "cell_type": "code",
      "source": [
        "# Lists\n",
        "z =[3,7,4,2]\n",
        "z[:]"
      ],
      "metadata": {
        "colab": {
          "base_uri": "https://localhost:8080/"
        },
        "id": "mH92YuXMgF57",
        "outputId": "e4e29531-f8d1-4cdf-af6a-3001851a5f72"
      },
      "execution_count": 38,
      "outputs": [
        {
          "output_type": "execute_result",
          "data": {
            "text/plain": [
              "[3, 7, 4, 2]"
            ]
          },
          "metadata": {},
          "execution_count": 38
        }
      ]
    },
    {
      "cell_type": "code",
      "source": [
        "z[1] = 'fish'\n",
        "z"
      ],
      "metadata": {
        "colab": {
          "base_uri": "https://localhost:8080/"
        },
        "id": "m5-kc58Jg0fu",
        "outputId": "d96534c5-b70f-4d5a-e6d4-917ab62bc439"
      },
      "execution_count": 41,
      "outputs": [
        {
          "output_type": "execute_result",
          "data": {
            "text/plain": [
              "[3, 'fish', 4, 2]"
            ]
          },
          "metadata": {},
          "execution_count": 41
        }
      ]
    },
    {
      "cell_type": "code",
      "source": [
        "# Comes back with the index of where the item you're searching for is found. I keep thinking is gonna sho me the \n",
        "z.index('fish')"
      ],
      "metadata": {
        "colab": {
          "base_uri": "https://localhost:8080/"
        },
        "id": "TkzKhwD1hA39",
        "outputId": "5641b384-e8f8-4667-87d2-6e028bfd198e"
      },
      "execution_count": 53,
      "outputs": [
        {
          "output_type": "execute_result",
          "data": {
            "text/plain": [
              "1"
            ]
          },
          "metadata": {},
          "execution_count": 53
        }
      ]
    },
    {
      "cell_type": "markdown",
      "source": [
        "# Bakery Numpy (core)"
      ],
      "metadata": {
        "id": "60Fgvqn8fmw4"
      }
    },
    {
      "cell_type": "code",
      "source": [
        "import pandas as pd\n",
        "import numpy as np"
      ],
      "metadata": {
        "id": "8CDbj3I5frtq"
      },
      "execution_count": 24,
      "outputs": []
    },
    {
      "cell_type": "code",
      "source": [
        ""
      ],
      "metadata": {
        "id": "sbO_i7BGfvAL"
      },
      "execution_count": null,
      "outputs": []
    }
  ]
}