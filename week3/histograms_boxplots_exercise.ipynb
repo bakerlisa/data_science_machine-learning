{
  "nbformat": 4,
  "nbformat_minor": 0,
  "metadata": {
    "colab": {
      "name": "histograms_boxplots_exercise.ipynb",
      "provenance": [],
      "authorship_tag": "ABX9TyPJ3eBidADO9uRsj/bKmMi6",
      "include_colab_link": true
    },
    "kernelspec": {
      "name": "python3",
      "display_name": "Python 3"
    },
    "language_info": {
      "name": "python"
    }
  },
  "cells": [
    {
      "cell_type": "markdown",
      "metadata": {
        "id": "view-in-github",
        "colab_type": "text"
      },
      "source": [
        "<a href=\"https://colab.research.google.com/github/lisabroadhead/data_science_machine-learning/blob/main/histograms_boxplots_exercise.ipynb\" target=\"_parent\"><img src=\"https://colab.research.google.com/assets/colab-badge.svg\" alt=\"Open In Colab\"/></a>"
      ]
    },
    {
      "cell_type": "markdown",
      "source": [
        "# Histograms & Boxplots Exercise  (Core)\n",
        "- Lisa Broadhead\n",
        "- June 6, 2022"
      ],
      "metadata": {
        "id": "dFzRMcX57M_J"
      }
    },
    {
      "cell_type": "code",
      "source": [
        "import pandas as pd\n",
        "import numpy as np\n",
        "import matplotlib.pyplot as plt\n",
        "import seaborn as sns"
      ],
      "metadata": {
        "id": "Qqyo_S1X7YPL"
      },
      "execution_count": 1,
      "outputs": []
    }
  ]
}
