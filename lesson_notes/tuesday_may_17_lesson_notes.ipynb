{
  "nbformat": 4,
  "nbformat_minor": 0,
  "metadata": {
    "colab": {
      "name": "tuesday-may-17-lesson-notes.ipynb",
      "provenance": [],
      "authorship_tag": "ABX9TyNA6dbHNoXkbuYS4a7xUFU4",
      "include_colab_link": true
    },
    "kernelspec": {
      "name": "python3",
      "display_name": "Python 3"
    },
    "language_info": {
      "name": "python"
    }
  },
  "cells": [
    {
      "cell_type": "markdown",
      "metadata": {
        "id": "view-in-github",
        "colab_type": "text"
      },
      "source": [
        "<a href=\"https://colab.research.google.com/github/lisabroadhead/machine-learning/blob/main/tuesday_may_17_lesson_notes.ipynb\" target=\"_parent\"><img src=\"https://colab.research.google.com/assets/colab-badge.svg\" alt=\"Open In Colab\"/></a>"
      ]
    },
    {
      "cell_type": "code",
      "execution_count": 2,
      "metadata": {
        "colab": {
          "base_uri": "https://localhost:8080/"
        },
        "id": "oEvVq1H9rwuh",
        "outputId": "eeed786c-1b84-4e41-9069-164024acd612"
      },
      "outputs": [
        {
          "output_type": "stream",
          "name": "stdout",
          "text": [
            "2.35\n"
          ]
        }
      ],
      "source": [
        "# this is a comment\n",
        "str_var = \"this is a sterlin string\"\n",
        "bool_var = True\n",
        "int_var = 5932\n",
        "float_var = 2.35\n",
        "\n",
        "print(float_var)"
      ]
    },
    {
      "cell_type": "code",
      "source": [
        "# functions\n",
        "type(str_var), type(bool_var), type(float_var)"
      ],
      "metadata": {
        "colab": {
          "base_uri": "https://localhost:8080/"
        },
        "id": "ZUKQvqPSr_NS",
        "outputId": "dec4a02c-9247-4b35-e720-0d338ddb729e"
      },
      "execution_count": 5,
      "outputs": [
        {
          "output_type": "execute_result",
          "data": {
            "text/plain": [
              "(str, bool, float)"
            ]
          },
          "metadata": {},
          "execution_count": 5
        }
      ]
    },
    {
      "cell_type": "code",
      "source": [
        "# I make a function\n",
        "def some_random_function():\n",
        "  print(\"hello world!\")\n",
        "some_random_function()"
      ],
      "metadata": {
        "colab": {
          "base_uri": "https://localhost:8080/"
        },
        "id": "Rh1gEuCOsLFf",
        "outputId": "5a53dbbf-86de-4c4a-a666-385858bce45f"
      },
      "execution_count": 8,
      "outputs": [
        {
          "output_type": "stream",
          "name": "stdout",
          "text": [
            "hello world!\n"
          ]
        }
      ]
    },
    {
      "cell_type": "code",
      "source": [
        "# list\n",
        "list_var = [1,\"four\", \"cheese\",2,4]\n",
        "type(list_var)"
      ],
      "metadata": {
        "colab": {
          "base_uri": "https://localhost:8080/"
        },
        "id": "2bkUJIAysaAv",
        "outputId": "47acd6be-5f3d-4bde-9275-6fa82569b1b5"
      },
      "execution_count": 9,
      "outputs": [
        {
          "output_type": "execute_result",
          "data": {
            "text/plain": [
              "list"
            ]
          },
          "metadata": {},
          "execution_count": 9
        }
      ]
    },
    {
      "cell_type": "code",
      "source": [
        "list_var[0]\n",
        "list_var[3] = 21"
      ],
      "metadata": {
        "id": "o75sBIuxsiul"
      },
      "execution_count": 12,
      "outputs": []
    },
    {
      "cell_type": "code",
      "source": [
        "print(list_var)"
      ],
      "metadata": {
        "colab": {
          "base_uri": "https://localhost:8080/"
        },
        "id": "Q6_JTyYDs-Z0",
        "outputId": "680afa62-5774-4412-cee0-c842661a1717"
      },
      "execution_count": 13,
      "outputs": [
        {
          "output_type": "stream",
          "name": "stdout",
          "text": [
            "[1, 'four', 'cheese', 21, 4]\n"
          ]
        }
      ]
    },
    {
      "cell_type": "code",
      "source": [
        "tuple_var = (1,2,4)\n",
        "type(tuple_var)\n",
        "print(tuple_var[2])"
      ],
      "metadata": {
        "colab": {
          "base_uri": "https://localhost:8080/"
        },
        "id": "QyOYufs1tIMU",
        "outputId": "919d3def-31a2-495c-e065-c78449c99e3d"
      },
      "execution_count": 20,
      "outputs": [
        {
          "output_type": "stream",
          "name": "stdout",
          "text": [
            "4\n"
          ]
        }
      ]
    },
    {
      "cell_type": "code",
      "source": [
        "dic_var = {'name': \"lisa\",\"occupation\": \"software engineer\", \"height\": 65, \"location\": \"TX\"}\n",
        "type(dic_var)\n",
        "print(dic_var['location'])"
      ],
      "metadata": {
        "colab": {
          "base_uri": "https://localhost:8080/"
        },
        "id": "5SfCSS08tcNm",
        "outputId": "b1937ac4-298d-42e0-a2fd-df61fdec6fb2"
      },
      "execution_count": 23,
      "outputs": [
        {
          "output_type": "stream",
          "name": "stdout",
          "text": [
            "TX\n"
          ]
        }
      ]
    }
  ]
}
