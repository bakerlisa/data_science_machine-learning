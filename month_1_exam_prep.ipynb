{
  "nbformat": 4,
  "nbformat_minor": 0,
  "metadata": {
    "colab": {
      "name": "month_1_exam_prep.ipynb",
      "provenance": [],
      "collapsed_sections": [
        "azSVQXEJqG4w",
        "DebX4L2Mq40I",
        "B4QLLXZKsZBB",
        "7FY-O0s46zJl",
        "lBECgygvr-2f",
        "t0M_aiNitn8a",
        "V_3L1casOHX8",
        "_QDeCUSeTluZ",
        "mof79W49TX19"
      ],
      "mount_file_id": "1NtXcElsDWSAGaKMLk4I6Q-AQVfRjAIOc",
      "authorship_tag": "ABX9TyNz/5pHHqSPKR6626Xa5y3i",
      "include_colab_link": true
    },
    "kernelspec": {
      "name": "python3",
      "display_name": "Python 3"
    },
    "language_info": {
      "name": "python"
    }
  },
  "cells": [
    {
      "cell_type": "markdown",
      "metadata": {
        "id": "view-in-github",
        "colab_type": "text"
      },
      "source": [
        "<a href=\"https://colab.research.google.com/github/lisabroadhead/data_science_machine-learning/blob/main/month_1_exam_prep.ipynb\" target=\"_parent\"><img src=\"https://colab.research.google.com/assets/colab-badge.svg\" alt=\"Open In Colab\"/></a>"
      ]
    },
    {
      "cell_type": "markdown",
      "source": [
        "# Exam Prep\n",
        "\n",
        "- Lisa Broadhead\n",
        "- June 8, 2022"
      ],
      "metadata": {
        "id": "sIGJCrLCpRbe"
      }
    },
    {
      "cell_type": "markdown",
      "source": [
        "## Objectives\n",
        "1. Clean\n",
        "2. Explore\n",
        "\n",
        "#### In order to:\n",
        "1. Understand where they should focus their next project\n",
        "2. Strategies to use to have the biggest impact in increasing youth literacy rates "
      ],
      "metadata": {
        "id": "u0gbVo9QrTK6"
      }
    },
    {
      "cell_type": "code",
      "source": [
        "import pandas as pd\n",
        "import numpy as np\n",
        "import matplotlib.pyplot as plt\n",
        "import seaborn as sns"
      ],
      "metadata": {
        "id": "i0yn1fEdqc1p"
      },
      "execution_count": 484,
      "outputs": []
    },
    {
      "cell_type": "code",
      "source": [
        "file = \"/content/drive/MyDrive/Colab Notebooks/coding_dojo/files/literacy_rates.csv\"\n",
        "df = pd.read_csv(file)\n",
        "df.head()"
      ],
      "metadata": {
        "colab": {
          "base_uri": "https://localhost:8080/",
          "height": 206
        },
        "id": "aUK5HLv0qeX2",
        "outputId": "a24e53cc-18c5-40c4-a611-365b254c64e6"
      },
      "execution_count": 485,
      "outputs": [
        {
          "output_type": "execute_result",
          "data": {
            "text/plain": [
              "                      Region      Country  Year    Age  Gender Literacy rate\n",
              "0  Central and Southern Asia  Afghanistan  2011    15+  female     0.1761206\n",
              "1  Central and Southern Asia  Afghanistan  2011    15+    male      0.454171\n",
              "2  Central and Southern Asia  Afghanistan  2011    15+   total     0.3174112\n",
              "3                        NaN  Afghanistan  2011  15-24  female     0.3211322\n",
              "4                        NaN  Afghanistan  2011  15-24    male     0.6187907"
            ],
            "text/html": [
              "\n",
              "  <div id=\"df-4fd5c37d-fde4-4491-ae48-b3160d3fc93d\">\n",
              "    <div class=\"colab-df-container\">\n",
              "      <div>\n",
              "<style scoped>\n",
              "    .dataframe tbody tr th:only-of-type {\n",
              "        vertical-align: middle;\n",
              "    }\n",
              "\n",
              "    .dataframe tbody tr th {\n",
              "        vertical-align: top;\n",
              "    }\n",
              "\n",
              "    .dataframe thead th {\n",
              "        text-align: right;\n",
              "    }\n",
              "</style>\n",
              "<table border=\"1\" class=\"dataframe\">\n",
              "  <thead>\n",
              "    <tr style=\"text-align: right;\">\n",
              "      <th></th>\n",
              "      <th>Region</th>\n",
              "      <th>Country</th>\n",
              "      <th>Year</th>\n",
              "      <th>Age</th>\n",
              "      <th>Gender</th>\n",
              "      <th>Literacy rate</th>\n",
              "    </tr>\n",
              "  </thead>\n",
              "  <tbody>\n",
              "    <tr>\n",
              "      <th>0</th>\n",
              "      <td>Central and Southern Asia</td>\n",
              "      <td>Afghanistan</td>\n",
              "      <td>2011</td>\n",
              "      <td>15+</td>\n",
              "      <td>female</td>\n",
              "      <td>0.1761206</td>\n",
              "    </tr>\n",
              "    <tr>\n",
              "      <th>1</th>\n",
              "      <td>Central and Southern Asia</td>\n",
              "      <td>Afghanistan</td>\n",
              "      <td>2011</td>\n",
              "      <td>15+</td>\n",
              "      <td>male</td>\n",
              "      <td>0.454171</td>\n",
              "    </tr>\n",
              "    <tr>\n",
              "      <th>2</th>\n",
              "      <td>Central and Southern Asia</td>\n",
              "      <td>Afghanistan</td>\n",
              "      <td>2011</td>\n",
              "      <td>15+</td>\n",
              "      <td>total</td>\n",
              "      <td>0.3174112</td>\n",
              "    </tr>\n",
              "    <tr>\n",
              "      <th>3</th>\n",
              "      <td>NaN</td>\n",
              "      <td>Afghanistan</td>\n",
              "      <td>2011</td>\n",
              "      <td>15-24</td>\n",
              "      <td>female</td>\n",
              "      <td>0.3211322</td>\n",
              "    </tr>\n",
              "    <tr>\n",
              "      <th>4</th>\n",
              "      <td>NaN</td>\n",
              "      <td>Afghanistan</td>\n",
              "      <td>2011</td>\n",
              "      <td>15-24</td>\n",
              "      <td>male</td>\n",
              "      <td>0.6187907</td>\n",
              "    </tr>\n",
              "  </tbody>\n",
              "</table>\n",
              "</div>\n",
              "      <button class=\"colab-df-convert\" onclick=\"convertToInteractive('df-4fd5c37d-fde4-4491-ae48-b3160d3fc93d')\"\n",
              "              title=\"Convert this dataframe to an interactive table.\"\n",
              "              style=\"display:none;\">\n",
              "        \n",
              "  <svg xmlns=\"http://www.w3.org/2000/svg\" height=\"24px\"viewBox=\"0 0 24 24\"\n",
              "       width=\"24px\">\n",
              "    <path d=\"M0 0h24v24H0V0z\" fill=\"none\"/>\n",
              "    <path d=\"M18.56 5.44l.94 2.06.94-2.06 2.06-.94-2.06-.94-.94-2.06-.94 2.06-2.06.94zm-11 1L8.5 8.5l.94-2.06 2.06-.94-2.06-.94L8.5 2.5l-.94 2.06-2.06.94zm10 10l.94 2.06.94-2.06 2.06-.94-2.06-.94-.94-2.06-.94 2.06-2.06.94z\"/><path d=\"M17.41 7.96l-1.37-1.37c-.4-.4-.92-.59-1.43-.59-.52 0-1.04.2-1.43.59L10.3 9.45l-7.72 7.72c-.78.78-.78 2.05 0 2.83L4 21.41c.39.39.9.59 1.41.59.51 0 1.02-.2 1.41-.59l7.78-7.78 2.81-2.81c.8-.78.8-2.07 0-2.86zM5.41 20L4 18.59l7.72-7.72 1.47 1.35L5.41 20z\"/>\n",
              "  </svg>\n",
              "      </button>\n",
              "      \n",
              "  <style>\n",
              "    .colab-df-container {\n",
              "      display:flex;\n",
              "      flex-wrap:wrap;\n",
              "      gap: 12px;\n",
              "    }\n",
              "\n",
              "    .colab-df-convert {\n",
              "      background-color: #E8F0FE;\n",
              "      border: none;\n",
              "      border-radius: 50%;\n",
              "      cursor: pointer;\n",
              "      display: none;\n",
              "      fill: #1967D2;\n",
              "      height: 32px;\n",
              "      padding: 0 0 0 0;\n",
              "      width: 32px;\n",
              "    }\n",
              "\n",
              "    .colab-df-convert:hover {\n",
              "      background-color: #E2EBFA;\n",
              "      box-shadow: 0px 1px 2px rgba(60, 64, 67, 0.3), 0px 1px 3px 1px rgba(60, 64, 67, 0.15);\n",
              "      fill: #174EA6;\n",
              "    }\n",
              "\n",
              "    [theme=dark] .colab-df-convert {\n",
              "      background-color: #3B4455;\n",
              "      fill: #D2E3FC;\n",
              "    }\n",
              "\n",
              "    [theme=dark] .colab-df-convert:hover {\n",
              "      background-color: #434B5C;\n",
              "      box-shadow: 0px 1px 3px 1px rgba(0, 0, 0, 0.15);\n",
              "      filter: drop-shadow(0px 1px 2px rgba(0, 0, 0, 0.3));\n",
              "      fill: #FFFFFF;\n",
              "    }\n",
              "  </style>\n",
              "\n",
              "      <script>\n",
              "        const buttonEl =\n",
              "          document.querySelector('#df-4fd5c37d-fde4-4491-ae48-b3160d3fc93d button.colab-df-convert');\n",
              "        buttonEl.style.display =\n",
              "          google.colab.kernel.accessAllowed ? 'block' : 'none';\n",
              "\n",
              "        async function convertToInteractive(key) {\n",
              "          const element = document.querySelector('#df-4fd5c37d-fde4-4491-ae48-b3160d3fc93d');\n",
              "          const dataTable =\n",
              "            await google.colab.kernel.invokeFunction('convertToInteractive',\n",
              "                                                     [key], {});\n",
              "          if (!dataTable) return;\n",
              "\n",
              "          const docLinkHtml = 'Like what you see? Visit the ' +\n",
              "            '<a target=\"_blank\" href=https://colab.research.google.com/notebooks/data_table.ipynb>data table notebook</a>'\n",
              "            + ' to learn more about interactive tables.';\n",
              "          element.innerHTML = '';\n",
              "          dataTable['output_type'] = 'display_data';\n",
              "          await google.colab.output.renderOutput(dataTable, element);\n",
              "          const docLink = document.createElement('div');\n",
              "          docLink.innerHTML = docLinkHtml;\n",
              "          element.appendChild(docLink);\n",
              "        }\n",
              "      </script>\n",
              "    </div>\n",
              "  </div>\n",
              "  "
            ]
          },
          "metadata": {},
          "execution_count": 485
        }
      ]
    },
    {
      "cell_type": "markdown",
      "source": [
        "## 1. The first step in this process is to use Python to clean the data to get it ready for analysis. You must:\n",
        "\n",
        "**a.** Identify and address any duplicate values<br/>\n",
        "**b.** Identify and address any missing values in this dataset. Deal with these appropriately. Include a brief description of the method you used to deal with missing values along with a justification for that method.<br/>\n",
        "**c.** Ensure all columns match the data types listed in the data dictionary.<br/>\n",
        "**d.** Identify and address any inconsistencies in categorical values (example: cat, Cat, cats)<br/>\n",
        "**e.** Identify and address any inappropriate or unusual data points (example: age cannot be 325)<br/>"
      ],
      "metadata": {
        "id": "azSVQXEJqG4w"
      }
    },
    {
      "cell_type": "code",
      "source": [
        "df.head()"
      ],
      "metadata": {
        "colab": {
          "base_uri": "https://localhost:8080/",
          "height": 206
        },
        "id": "wO1QEIuSr4zc",
        "outputId": "ae7a5480-1e95-4d38-8c82-52ad5629d9f7"
      },
      "execution_count": 486,
      "outputs": [
        {
          "output_type": "execute_result",
          "data": {
            "text/plain": [
              "                      Region      Country  Year    Age  Gender Literacy rate\n",
              "0  Central and Southern Asia  Afghanistan  2011    15+  female     0.1761206\n",
              "1  Central and Southern Asia  Afghanistan  2011    15+    male      0.454171\n",
              "2  Central and Southern Asia  Afghanistan  2011    15+   total     0.3174112\n",
              "3                        NaN  Afghanistan  2011  15-24  female     0.3211322\n",
              "4                        NaN  Afghanistan  2011  15-24    male     0.6187907"
            ],
            "text/html": [
              "\n",
              "  <div id=\"df-0177fcdc-133d-444b-b35a-1ce39cd64d10\">\n",
              "    <div class=\"colab-df-container\">\n",
              "      <div>\n",
              "<style scoped>\n",
              "    .dataframe tbody tr th:only-of-type {\n",
              "        vertical-align: middle;\n",
              "    }\n",
              "\n",
              "    .dataframe tbody tr th {\n",
              "        vertical-align: top;\n",
              "    }\n",
              "\n",
              "    .dataframe thead th {\n",
              "        text-align: right;\n",
              "    }\n",
              "</style>\n",
              "<table border=\"1\" class=\"dataframe\">\n",
              "  <thead>\n",
              "    <tr style=\"text-align: right;\">\n",
              "      <th></th>\n",
              "      <th>Region</th>\n",
              "      <th>Country</th>\n",
              "      <th>Year</th>\n",
              "      <th>Age</th>\n",
              "      <th>Gender</th>\n",
              "      <th>Literacy rate</th>\n",
              "    </tr>\n",
              "  </thead>\n",
              "  <tbody>\n",
              "    <tr>\n",
              "      <th>0</th>\n",
              "      <td>Central and Southern Asia</td>\n",
              "      <td>Afghanistan</td>\n",
              "      <td>2011</td>\n",
              "      <td>15+</td>\n",
              "      <td>female</td>\n",
              "      <td>0.1761206</td>\n",
              "    </tr>\n",
              "    <tr>\n",
              "      <th>1</th>\n",
              "      <td>Central and Southern Asia</td>\n",
              "      <td>Afghanistan</td>\n",
              "      <td>2011</td>\n",
              "      <td>15+</td>\n",
              "      <td>male</td>\n",
              "      <td>0.454171</td>\n",
              "    </tr>\n",
              "    <tr>\n",
              "      <th>2</th>\n",
              "      <td>Central and Southern Asia</td>\n",
              "      <td>Afghanistan</td>\n",
              "      <td>2011</td>\n",
              "      <td>15+</td>\n",
              "      <td>total</td>\n",
              "      <td>0.3174112</td>\n",
              "    </tr>\n",
              "    <tr>\n",
              "      <th>3</th>\n",
              "      <td>NaN</td>\n",
              "      <td>Afghanistan</td>\n",
              "      <td>2011</td>\n",
              "      <td>15-24</td>\n",
              "      <td>female</td>\n",
              "      <td>0.3211322</td>\n",
              "    </tr>\n",
              "    <tr>\n",
              "      <th>4</th>\n",
              "      <td>NaN</td>\n",
              "      <td>Afghanistan</td>\n",
              "      <td>2011</td>\n",
              "      <td>15-24</td>\n",
              "      <td>male</td>\n",
              "      <td>0.6187907</td>\n",
              "    </tr>\n",
              "  </tbody>\n",
              "</table>\n",
              "</div>\n",
              "      <button class=\"colab-df-convert\" onclick=\"convertToInteractive('df-0177fcdc-133d-444b-b35a-1ce39cd64d10')\"\n",
              "              title=\"Convert this dataframe to an interactive table.\"\n",
              "              style=\"display:none;\">\n",
              "        \n",
              "  <svg xmlns=\"http://www.w3.org/2000/svg\" height=\"24px\"viewBox=\"0 0 24 24\"\n",
              "       width=\"24px\">\n",
              "    <path d=\"M0 0h24v24H0V0z\" fill=\"none\"/>\n",
              "    <path d=\"M18.56 5.44l.94 2.06.94-2.06 2.06-.94-2.06-.94-.94-2.06-.94 2.06-2.06.94zm-11 1L8.5 8.5l.94-2.06 2.06-.94-2.06-.94L8.5 2.5l-.94 2.06-2.06.94zm10 10l.94 2.06.94-2.06 2.06-.94-2.06-.94-.94-2.06-.94 2.06-2.06.94z\"/><path d=\"M17.41 7.96l-1.37-1.37c-.4-.4-.92-.59-1.43-.59-.52 0-1.04.2-1.43.59L10.3 9.45l-7.72 7.72c-.78.78-.78 2.05 0 2.83L4 21.41c.39.39.9.59 1.41.59.51 0 1.02-.2 1.41-.59l7.78-7.78 2.81-2.81c.8-.78.8-2.07 0-2.86zM5.41 20L4 18.59l7.72-7.72 1.47 1.35L5.41 20z\"/>\n",
              "  </svg>\n",
              "      </button>\n",
              "      \n",
              "  <style>\n",
              "    .colab-df-container {\n",
              "      display:flex;\n",
              "      flex-wrap:wrap;\n",
              "      gap: 12px;\n",
              "    }\n",
              "\n",
              "    .colab-df-convert {\n",
              "      background-color: #E8F0FE;\n",
              "      border: none;\n",
              "      border-radius: 50%;\n",
              "      cursor: pointer;\n",
              "      display: none;\n",
              "      fill: #1967D2;\n",
              "      height: 32px;\n",
              "      padding: 0 0 0 0;\n",
              "      width: 32px;\n",
              "    }\n",
              "\n",
              "    .colab-df-convert:hover {\n",
              "      background-color: #E2EBFA;\n",
              "      box-shadow: 0px 1px 2px rgba(60, 64, 67, 0.3), 0px 1px 3px 1px rgba(60, 64, 67, 0.15);\n",
              "      fill: #174EA6;\n",
              "    }\n",
              "\n",
              "    [theme=dark] .colab-df-convert {\n",
              "      background-color: #3B4455;\n",
              "      fill: #D2E3FC;\n",
              "    }\n",
              "\n",
              "    [theme=dark] .colab-df-convert:hover {\n",
              "      background-color: #434B5C;\n",
              "      box-shadow: 0px 1px 3px 1px rgba(0, 0, 0, 0.15);\n",
              "      filter: drop-shadow(0px 1px 2px rgba(0, 0, 0, 0.3));\n",
              "      fill: #FFFFFF;\n",
              "    }\n",
              "  </style>\n",
              "\n",
              "      <script>\n",
              "        const buttonEl =\n",
              "          document.querySelector('#df-0177fcdc-133d-444b-b35a-1ce39cd64d10 button.colab-df-convert');\n",
              "        buttonEl.style.display =\n",
              "          google.colab.kernel.accessAllowed ? 'block' : 'none';\n",
              "\n",
              "        async function convertToInteractive(key) {\n",
              "          const element = document.querySelector('#df-0177fcdc-133d-444b-b35a-1ce39cd64d10');\n",
              "          const dataTable =\n",
              "            await google.colab.kernel.invokeFunction('convertToInteractive',\n",
              "                                                     [key], {});\n",
              "          if (!dataTable) return;\n",
              "\n",
              "          const docLinkHtml = 'Like what you see? Visit the ' +\n",
              "            '<a target=\"_blank\" href=https://colab.research.google.com/notebooks/data_table.ipynb>data table notebook</a>'\n",
              "            + ' to learn more about interactive tables.';\n",
              "          element.innerHTML = '';\n",
              "          dataTable['output_type'] = 'display_data';\n",
              "          await google.colab.output.renderOutput(dataTable, element);\n",
              "          const docLink = document.createElement('div');\n",
              "          docLink.innerHTML = docLinkHtml;\n",
              "          element.appendChild(docLink);\n",
              "        }\n",
              "      </script>\n",
              "    </div>\n",
              "  </div>\n",
              "  "
            ]
          },
          "metadata": {},
          "execution_count": 486
        }
      ]
    },
    {
      "cell_type": "markdown",
      "source": [
        "#### Scoping out data"
      ],
      "metadata": {
        "id": "b60DcDJO07cO"
      }
    },
    {
      "cell_type": "code",
      "source": [
        "df.info()"
      ],
      "metadata": {
        "colab": {
          "base_uri": "https://localhost:8080/"
        },
        "id": "TSRWFVDWsGVW",
        "outputId": "973a837d-0485-4393-c47c-ba51ba5e22e6"
      },
      "execution_count": 487,
      "outputs": [
        {
          "output_type": "stream",
          "name": "stdout",
          "text": [
            "<class 'pandas.core.frame.DataFrame'>\n",
            "RangeIndex: 4955 entries, 0 to 4954\n",
            "Data columns (total 6 columns):\n",
            " #   Column         Non-Null Count  Dtype \n",
            "---  ------         --------------  ----- \n",
            " 0   Region         4950 non-null   object\n",
            " 1   Country        4955 non-null   object\n",
            " 2   Year           4955 non-null   int64 \n",
            " 3   Age            4955 non-null   object\n",
            " 4   Gender         4955 non-null   object\n",
            " 5   Literacy rate  4955 non-null   object\n",
            "dtypes: int64(1), object(5)\n",
            "memory usage: 232.4+ KB\n"
          ]
        }
      ]
    },
    {
      "cell_type": "code",
      "source": [
        "df.dtypes"
      ],
      "metadata": {
        "colab": {
          "base_uri": "https://localhost:8080/"
        },
        "id": "Z665kq-JylkJ",
        "outputId": "ef1b7ef5-c7cd-431b-f437-269faef28c7d"
      },
      "execution_count": 488,
      "outputs": [
        {
          "output_type": "execute_result",
          "data": {
            "text/plain": [
              "Region           object\n",
              "Country          object\n",
              "Year              int64\n",
              "Age              object\n",
              "Gender           object\n",
              "Literacy rate    object\n",
              "dtype: object"
            ]
          },
          "metadata": {},
          "execution_count": 488
        }
      ]
    },
    {
      "cell_type": "code",
      "source": [
        "df.nunique()"
      ],
      "metadata": {
        "colab": {
          "base_uri": "https://localhost:8080/"
        },
        "id": "8uGQavWTyuf-",
        "outputId": "3cfea364-c5f5-49c3-f811-5900493626ee"
      },
      "execution_count": 489,
      "outputs": [
        {
          "output_type": "execute_result",
          "data": {
            "text/plain": [
              "Region              7\n",
              "Country           155\n",
              "Year                9\n",
              "Age                 4\n",
              "Gender              3\n",
              "Literacy rate    4835\n",
              "dtype: int64"
            ]
          },
          "metadata": {},
          "execution_count": 489
        }
      ]
    },
    {
      "cell_type": "code",
      "source": [
        "for col in df:\n",
        "    print(col)\n",
        "    print(df[col].unique())\n",
        "    print('\\n')"
      ],
      "metadata": {
        "colab": {
          "base_uri": "https://localhost:8080/"
        },
        "id": "ZGIE1b3lzE-A",
        "outputId": "de896fd0-8eaa-4971-a8d9-e00037c50f55"
      },
      "execution_count": 490,
      "outputs": [
        {
          "output_type": "stream",
          "name": "stdout",
          "text": [
            "Region\n",
            "['Central and Southern Asia' nan 'Eastern and South-Eastern Asia'\n",
            " 'Europe and Northern America' 'Latin America and the Caribbean'\n",
            " 'Northern Africa and Western Asia' 'Oceania' 'Sub-Saharan Africa']\n",
            "\n",
            "\n",
            "Country\n",
            "['Afghanistan' 'Bangladesh' 'Bhutan' 'India' 'Iran (Islamic Republic of)'\n",
            " 'Kazakhstan' 'Kyrgyzstan' 'Maldives' 'Nepal' 'Pakistan' 'Sri Lanka'\n",
            " 'Tajikistan' 'Turkmenistan' 'Uzbekistan' 'Brunei Darussalam' 'Cambodia'\n",
            " 'China' 'China, Macao Special Administrative Region' 'Indonesia'\n",
            " \"Lao People's Democratic Republic\" 'Malaysia' 'Mongolia' 'Myanmar'\n",
            " 'Philippines' 'Singapore' 'Thailand' 'Timor-Leste' 'Viet Nam' 'Albania'\n",
            " 'Belarus' 'Bosnia and Herzegovina' 'Bulgaria' 'Croatia' 'Estonia'\n",
            " 'Greece' 'Hungary' 'Italy' 'Latvia' 'Lithuania' 'Malta' 'Montenegro'\n",
            " 'Portugal' 'Republic of Moldova' 'Romania' 'Russian Federation'\n",
            " 'San Marino' 'Serbia' 'Slovenia' 'Spain'\n",
            " 'The former Yugoslav Republic of Macedonia' 'Ukraine'\n",
            " 'Antigua and Barbuda' 'Argentina' 'Aruba' 'Barbados'\n",
            " 'Bolivia (Plurinational State of)' 'Brazil' 'Chile' 'Colombia'\n",
            " 'Costa Rica' 'Cuba' 'Dominican Republic' 'Ecuador' 'El Salvador'\n",
            " 'Grenada' 'Guadeloupe' 'Guatemala' 'Guyana' 'Haiti' 'Honduras' 'Jamaica'\n",
            " 'Martinique' 'Mexico' 'Nicaragua' 'Panama' 'Paraguay' 'Peru'\n",
            " 'Puerto Rico' 'Suriname' 'Trinidad and Tobago' 'Uruguay'\n",
            " 'Venezuela (Bolivarian Republic of)' 'Algeria' 'Armenia' 'Azerbaijan'\n",
            " 'Bahrain' 'Cyprus' 'Egypt' 'Georgia' 'Iraq' 'Jordan' 'Kuwait' 'Lebanon'\n",
            " 'Morocco' 'Oman' 'Palestine' 'Qatar' 'Saudi Arabia' 'Sudan' 'Tunisia'\n",
            " 'Turkey' 'Fiji' 'Marshall Islands' 'New Caledonia\\xa0' 'Palau'\n",
            " 'Papua New Guinea' 'Samoa' 'Tonga' 'Vanuatu' 'Angola' 'Benin' 'Botswana'\n",
            " 'Burkina Faso' 'Burundi' 'Cabo Verde' 'Cameroon'\n",
            " 'Central African Republic' 'Chad' 'Comoros' 'Congo' \"Côte d'Ivoire\"\n",
            " 'Democratic Republic of the Congo' 'Equatorial Guinea' 'Eritrea'\n",
            " 'Ethiopia' 'Gabon' 'Gambia' 'Ghana' 'Guinea' 'Guinea-Bissau' 'Kenya'\n",
            " 'Lesotho' 'Liberia' 'Madagascar' 'Malawi' 'Mali' 'Mauritania' 'Mauritius'\n",
            " 'Mozambique' 'Namibia' 'Niger' 'Nigeria' 'Rwanda' 'Sao Tome and Principe'\n",
            " 'Senegal' 'Seychelles' 'Sierra Leone' 'South Africa' 'South Sudan'\n",
            " 'Swaziland' 'Togo' 'Uganda' 'United Republic of Tanzania' 'Zambia'\n",
            " 'Zimbabwe']\n",
            "\n",
            "\n",
            "Year\n",
            "[2011 2018 2012 2013 2014 2015 2016 2017 2010]\n",
            "\n",
            "\n",
            "Age\n",
            "['15+' '15-24' '25-64' '65+']\n",
            "\n",
            "\n",
            "Gender\n",
            "['female' 'male' 'total']\n",
            "\n",
            "\n",
            "Literacy rate\n",
            "['0.1761206' '0.454171' '0.3174112' ... '0.7342576' '0.9272311000000001'\n",
            " '0.811269']\n",
            "\n",
            "\n"
          ]
        }
      ]
    },
    {
      "cell_type": "markdown",
      "source": [
        "### **A.** Identify and address any duplicate values"
      ],
      "metadata": {
        "id": "DebX4L2Mq40I"
      }
    },
    {
      "cell_type": "code",
      "source": [
        "df.duplicated().sum()\n",
        "# currently no values that are duplicates in every column"
      ],
      "metadata": {
        "colab": {
          "base_uri": "https://localhost:8080/"
        },
        "id": "Q4Hloz3zrE50",
        "outputId": "3d86b74b-8f4a-476c-d1c5-3b638f1891a6"
      },
      "execution_count": 491,
      "outputs": [
        {
          "output_type": "execute_result",
          "data": {
            "text/plain": [
              "0"
            ]
          },
          "metadata": {},
          "execution_count": 491
        }
      ]
    },
    {
      "cell_type": "markdown",
      "source": [
        "#### Observations:\n",
        "Ran an inital check to see the types of data and how many values each one has:<br/>\n",
        "\n",
        "**Oddities**: \n",
        "1. Age is an object, it should be an int\n",
        "2. literacy rate is also an object, but looking at the data its also an int\n",
        "3. Region has nan values\n",
        "  - all other columns are full\n",
        "4. gender has 3 values \n",
        "5. No ID column - rename the blank ID column"
      ],
      "metadata": {
        "id": "B4QLLXZKsZBB"
      }
    },
    {
      "cell_type": "markdown",
      "source": [
        "##### ID / Index"
      ],
      "metadata": {
        "id": "7FY-O0s46zJl"
      }
    },
    {
      "cell_type": "code",
      "source": [
        "# no ID column - create an ID column\n",
        "list(df.columns)"
      ],
      "metadata": {
        "colab": {
          "base_uri": "https://localhost:8080/"
        },
        "id": "zAgMr37Z_EmN",
        "outputId": "f000d268-44f7-4e49-a31e-fa58e80e3178"
      },
      "execution_count": 492,
      "outputs": [
        {
          "output_type": "execute_result",
          "data": {
            "text/plain": [
              "['Region', 'Country', 'Year', 'Age', 'Gender', 'Literacy rate']"
            ]
          },
          "metadata": {},
          "execution_count": 492
        }
      ]
    },
    {
      "cell_type": "code",
      "source": [
        "df = df.reset_index()\n",
        "df.set_index(\"index\", inplace=True)"
      ],
      "metadata": {
        "id": "fMDvU48Z9Erh"
      },
      "execution_count": 493,
      "outputs": []
    },
    {
      "cell_type": "code",
      "source": [
        "df.head()"
      ],
      "metadata": {
        "colab": {
          "base_uri": "https://localhost:8080/",
          "height": 0
        },
        "id": "06As6wlE9az2",
        "outputId": "36dcd681-321e-4b6c-95d4-292b8e6feac6"
      },
      "execution_count": 494,
      "outputs": [
        {
          "output_type": "execute_result",
          "data": {
            "text/plain": [
              "                          Region      Country  Year    Age  Gender  \\\n",
              "index                                                                \n",
              "0      Central and Southern Asia  Afghanistan  2011    15+  female   \n",
              "1      Central and Southern Asia  Afghanistan  2011    15+    male   \n",
              "2      Central and Southern Asia  Afghanistan  2011    15+   total   \n",
              "3                            NaN  Afghanistan  2011  15-24  female   \n",
              "4                            NaN  Afghanistan  2011  15-24    male   \n",
              "\n",
              "      Literacy rate  \n",
              "index                \n",
              "0         0.1761206  \n",
              "1          0.454171  \n",
              "2         0.3174112  \n",
              "3         0.3211322  \n",
              "4         0.6187907  "
            ],
            "text/html": [
              "\n",
              "  <div id=\"df-95cc8b46-0083-42a3-9156-750c73bee23e\">\n",
              "    <div class=\"colab-df-container\">\n",
              "      <div>\n",
              "<style scoped>\n",
              "    .dataframe tbody tr th:only-of-type {\n",
              "        vertical-align: middle;\n",
              "    }\n",
              "\n",
              "    .dataframe tbody tr th {\n",
              "        vertical-align: top;\n",
              "    }\n",
              "\n",
              "    .dataframe thead th {\n",
              "        text-align: right;\n",
              "    }\n",
              "</style>\n",
              "<table border=\"1\" class=\"dataframe\">\n",
              "  <thead>\n",
              "    <tr style=\"text-align: right;\">\n",
              "      <th></th>\n",
              "      <th>Region</th>\n",
              "      <th>Country</th>\n",
              "      <th>Year</th>\n",
              "      <th>Age</th>\n",
              "      <th>Gender</th>\n",
              "      <th>Literacy rate</th>\n",
              "    </tr>\n",
              "    <tr>\n",
              "      <th>index</th>\n",
              "      <th></th>\n",
              "      <th></th>\n",
              "      <th></th>\n",
              "      <th></th>\n",
              "      <th></th>\n",
              "      <th></th>\n",
              "    </tr>\n",
              "  </thead>\n",
              "  <tbody>\n",
              "    <tr>\n",
              "      <th>0</th>\n",
              "      <td>Central and Southern Asia</td>\n",
              "      <td>Afghanistan</td>\n",
              "      <td>2011</td>\n",
              "      <td>15+</td>\n",
              "      <td>female</td>\n",
              "      <td>0.1761206</td>\n",
              "    </tr>\n",
              "    <tr>\n",
              "      <th>1</th>\n",
              "      <td>Central and Southern Asia</td>\n",
              "      <td>Afghanistan</td>\n",
              "      <td>2011</td>\n",
              "      <td>15+</td>\n",
              "      <td>male</td>\n",
              "      <td>0.454171</td>\n",
              "    </tr>\n",
              "    <tr>\n",
              "      <th>2</th>\n",
              "      <td>Central and Southern Asia</td>\n",
              "      <td>Afghanistan</td>\n",
              "      <td>2011</td>\n",
              "      <td>15+</td>\n",
              "      <td>total</td>\n",
              "      <td>0.3174112</td>\n",
              "    </tr>\n",
              "    <tr>\n",
              "      <th>3</th>\n",
              "      <td>NaN</td>\n",
              "      <td>Afghanistan</td>\n",
              "      <td>2011</td>\n",
              "      <td>15-24</td>\n",
              "      <td>female</td>\n",
              "      <td>0.3211322</td>\n",
              "    </tr>\n",
              "    <tr>\n",
              "      <th>4</th>\n",
              "      <td>NaN</td>\n",
              "      <td>Afghanistan</td>\n",
              "      <td>2011</td>\n",
              "      <td>15-24</td>\n",
              "      <td>male</td>\n",
              "      <td>0.6187907</td>\n",
              "    </tr>\n",
              "  </tbody>\n",
              "</table>\n",
              "</div>\n",
              "      <button class=\"colab-df-convert\" onclick=\"convertToInteractive('df-95cc8b46-0083-42a3-9156-750c73bee23e')\"\n",
              "              title=\"Convert this dataframe to an interactive table.\"\n",
              "              style=\"display:none;\">\n",
              "        \n",
              "  <svg xmlns=\"http://www.w3.org/2000/svg\" height=\"24px\"viewBox=\"0 0 24 24\"\n",
              "       width=\"24px\">\n",
              "    <path d=\"M0 0h24v24H0V0z\" fill=\"none\"/>\n",
              "    <path d=\"M18.56 5.44l.94 2.06.94-2.06 2.06-.94-2.06-.94-.94-2.06-.94 2.06-2.06.94zm-11 1L8.5 8.5l.94-2.06 2.06-.94-2.06-.94L8.5 2.5l-.94 2.06-2.06.94zm10 10l.94 2.06.94-2.06 2.06-.94-2.06-.94-.94-2.06-.94 2.06-2.06.94z\"/><path d=\"M17.41 7.96l-1.37-1.37c-.4-.4-.92-.59-1.43-.59-.52 0-1.04.2-1.43.59L10.3 9.45l-7.72 7.72c-.78.78-.78 2.05 0 2.83L4 21.41c.39.39.9.59 1.41.59.51 0 1.02-.2 1.41-.59l7.78-7.78 2.81-2.81c.8-.78.8-2.07 0-2.86zM5.41 20L4 18.59l7.72-7.72 1.47 1.35L5.41 20z\"/>\n",
              "  </svg>\n",
              "      </button>\n",
              "      \n",
              "  <style>\n",
              "    .colab-df-container {\n",
              "      display:flex;\n",
              "      flex-wrap:wrap;\n",
              "      gap: 12px;\n",
              "    }\n",
              "\n",
              "    .colab-df-convert {\n",
              "      background-color: #E8F0FE;\n",
              "      border: none;\n",
              "      border-radius: 50%;\n",
              "      cursor: pointer;\n",
              "      display: none;\n",
              "      fill: #1967D2;\n",
              "      height: 32px;\n",
              "      padding: 0 0 0 0;\n",
              "      width: 32px;\n",
              "    }\n",
              "\n",
              "    .colab-df-convert:hover {\n",
              "      background-color: #E2EBFA;\n",
              "      box-shadow: 0px 1px 2px rgba(60, 64, 67, 0.3), 0px 1px 3px 1px rgba(60, 64, 67, 0.15);\n",
              "      fill: #174EA6;\n",
              "    }\n",
              "\n",
              "    [theme=dark] .colab-df-convert {\n",
              "      background-color: #3B4455;\n",
              "      fill: #D2E3FC;\n",
              "    }\n",
              "\n",
              "    [theme=dark] .colab-df-convert:hover {\n",
              "      background-color: #434B5C;\n",
              "      box-shadow: 0px 1px 3px 1px rgba(0, 0, 0, 0.15);\n",
              "      filter: drop-shadow(0px 1px 2px rgba(0, 0, 0, 0.3));\n",
              "      fill: #FFFFFF;\n",
              "    }\n",
              "  </style>\n",
              "\n",
              "      <script>\n",
              "        const buttonEl =\n",
              "          document.querySelector('#df-95cc8b46-0083-42a3-9156-750c73bee23e button.colab-df-convert');\n",
              "        buttonEl.style.display =\n",
              "          google.colab.kernel.accessAllowed ? 'block' : 'none';\n",
              "\n",
              "        async function convertToInteractive(key) {\n",
              "          const element = document.querySelector('#df-95cc8b46-0083-42a3-9156-750c73bee23e');\n",
              "          const dataTable =\n",
              "            await google.colab.kernel.invokeFunction('convertToInteractive',\n",
              "                                                     [key], {});\n",
              "          if (!dataTable) return;\n",
              "\n",
              "          const docLinkHtml = 'Like what you see? Visit the ' +\n",
              "            '<a target=\"_blank\" href=https://colab.research.google.com/notebooks/data_table.ipynb>data table notebook</a>'\n",
              "            + ' to learn more about interactive tables.';\n",
              "          element.innerHTML = '';\n",
              "          dataTable['output_type'] = 'display_data';\n",
              "          await google.colab.output.renderOutput(dataTable, element);\n",
              "          const docLink = document.createElement('div');\n",
              "          docLink.innerHTML = docLinkHtml;\n",
              "          element.appendChild(docLink);\n",
              "        }\n",
              "      </script>\n",
              "    </div>\n",
              "  </div>\n",
              "  "
            ]
          },
          "metadata": {},
          "execution_count": 494
        }
      ]
    },
    {
      "cell_type": "code",
      "source": [
        "#### ID\n",
        "# no ID column - create an ID column\n",
        "list(df.columns)"
      ],
      "metadata": {
        "colab": {
          "base_uri": "https://localhost:8080/"
        },
        "id": "hW6qaDIP9vxf",
        "outputId": "2a135872-6f19-4f8c-f0d2-1c546ff493a3"
      },
      "execution_count": 495,
      "outputs": [
        {
          "output_type": "execute_result",
          "data": {
            "text/plain": [
              "['Region', 'Country', 'Year', 'Age', 'Gender', 'Literacy rate']"
            ]
          },
          "metadata": {},
          "execution_count": 495
        }
      ]
    },
    {
      "cell_type": "code",
      "source": [
        "## "
      ],
      "metadata": {
        "id": "__0SVDfQLNNr"
      },
      "execution_count": 496,
      "outputs": []
    },
    {
      "cell_type": "markdown",
      "source": [
        "### **B.** Identify and address any missing values in this dataset. Deal with these appropriately. Include a brief description of the method you used to deal with missing values along with a justification for that method.<br/>"
      ],
      "metadata": {
        "id": "lBECgygvr-2f"
      }
    },
    {
      "cell_type": "markdown",
      "source": [
        "#### Region"
      ],
      "metadata": {
        "id": "t0M_aiNitn8a"
      }
    },
    {
      "cell_type": "code",
      "source": [
        "# 5 missing values\n",
        "df['Region'].isna().sum()"
      ],
      "metadata": {
        "colab": {
          "base_uri": "https://localhost:8080/"
        },
        "id": "3xKiwWJvNHzH",
        "outputId": "e6ce8a3c-7d22-4e0d-941d-3dc3fbda97fd"
      },
      "execution_count": 497,
      "outputs": [
        {
          "output_type": "execute_result",
          "data": {
            "text/plain": [
              "5"
            ]
          },
          "metadata": {},
          "execution_count": 497
        }
      ]
    },
    {
      "cell_type": "code",
      "source": [
        "# Since we don't know what region the missing people were in replaced the nan value with missing. It was only 5 and that other columns have good data in them so I dind't want to drop the row. We can easilty filter out missing if needs be\n",
        "df = df.fillna({'Region': 'missing'})"
      ],
      "metadata": {
        "id": "nn8HmZAXNFml"
      },
      "execution_count": 498,
      "outputs": []
    },
    {
      "cell_type": "code",
      "source": [
        "df['Region'].isna().sum()"
      ],
      "metadata": {
        "colab": {
          "base_uri": "https://localhost:8080/"
        },
        "id": "D_INYNNbNEFU",
        "outputId": "e795cda3-67a9-4ed7-c310-8ef44fc71e4d"
      },
      "execution_count": 499,
      "outputs": [
        {
          "output_type": "execute_result",
          "data": {
            "text/plain": [
              "0"
            ]
          },
          "metadata": {},
          "execution_count": 499
        }
      ]
    },
    {
      "cell_type": "markdown",
      "source": [
        "### **C.**  Ensure all columns match the data types listed in the data dictionary."
      ],
      "metadata": {
        "id": "UaJ7kqAKNS_d"
      }
    },
    {
      "cell_type": "markdown",
      "source": [
        "#### Gender\n"
      ],
      "metadata": {
        "id": "nFFA8su_y7QQ"
      }
    },
    {
      "cell_type": "code",
      "source": [
        "gender = df['Gender'] == 'total'\n",
        "df[gender]"
      ],
      "metadata": {
        "colab": {
          "base_uri": "https://localhost:8080/",
          "height": 455
        },
        "id": "EvoXe39rzA9_",
        "outputId": "056c9afa-5b21-4123-8315-6152bd01bd54"
      },
      "execution_count": 500,
      "outputs": [
        {
          "output_type": "execute_result",
          "data": {
            "text/plain": [
              "                          Region      Country  Year    Age Gender  \\\n",
              "index                                                               \n",
              "2      Central and Southern Asia  Afghanistan  2011    15+  total   \n",
              "5      Central and Southern Asia  Afghanistan  2011  15-24  total   \n",
              "8      Central and Southern Asia  Afghanistan  2011  25-64  total   \n",
              "10     Central and Southern Asia  Afghanistan  2011    65+  total   \n",
              "13     Central and Southern Asia  Afghanistan  2018    15+  total   \n",
              "...                          ...          ...   ...    ...    ...   \n",
              "4942          Sub-Saharan Africa     Zimbabwe  2011    65+  total   \n",
              "4945          Sub-Saharan Africa     Zimbabwe  2014    15+  total   \n",
              "4948          Sub-Saharan Africa     Zimbabwe  2014  15-24  total   \n",
              "4951          Sub-Saharan Africa     Zimbabwe  2014  25-64  total   \n",
              "4954          Sub-Saharan Africa     Zimbabwe  2014    65+  total   \n",
              "\n",
              "             Literacy rate  \n",
              "index                       \n",
              "2                0.3174112  \n",
              "5      0.46990049999999994  \n",
              "8                0.2315362  \n",
              "10     0.20321850000000002  \n",
              "13               0.4301972  \n",
              "...                    ...  \n",
              "4942             0.5900661  \n",
              "4945             0.8869342  \n",
              "4948    0.9042812000000001  \n",
              "4951             0.8878737  \n",
              "4954              0.811269  \n",
              "\n",
              "[1652 rows x 6 columns]"
            ],
            "text/html": [
              "\n",
              "  <div id=\"df-60d2c26a-5d70-4149-b32a-9160e5ffe91b\">\n",
              "    <div class=\"colab-df-container\">\n",
              "      <div>\n",
              "<style scoped>\n",
              "    .dataframe tbody tr th:only-of-type {\n",
              "        vertical-align: middle;\n",
              "    }\n",
              "\n",
              "    .dataframe tbody tr th {\n",
              "        vertical-align: top;\n",
              "    }\n",
              "\n",
              "    .dataframe thead th {\n",
              "        text-align: right;\n",
              "    }\n",
              "</style>\n",
              "<table border=\"1\" class=\"dataframe\">\n",
              "  <thead>\n",
              "    <tr style=\"text-align: right;\">\n",
              "      <th></th>\n",
              "      <th>Region</th>\n",
              "      <th>Country</th>\n",
              "      <th>Year</th>\n",
              "      <th>Age</th>\n",
              "      <th>Gender</th>\n",
              "      <th>Literacy rate</th>\n",
              "    </tr>\n",
              "    <tr>\n",
              "      <th>index</th>\n",
              "      <th></th>\n",
              "      <th></th>\n",
              "      <th></th>\n",
              "      <th></th>\n",
              "      <th></th>\n",
              "      <th></th>\n",
              "    </tr>\n",
              "  </thead>\n",
              "  <tbody>\n",
              "    <tr>\n",
              "      <th>2</th>\n",
              "      <td>Central and Southern Asia</td>\n",
              "      <td>Afghanistan</td>\n",
              "      <td>2011</td>\n",
              "      <td>15+</td>\n",
              "      <td>total</td>\n",
              "      <td>0.3174112</td>\n",
              "    </tr>\n",
              "    <tr>\n",
              "      <th>5</th>\n",
              "      <td>Central and Southern Asia</td>\n",
              "      <td>Afghanistan</td>\n",
              "      <td>2011</td>\n",
              "      <td>15-24</td>\n",
              "      <td>total</td>\n",
              "      <td>0.46990049999999994</td>\n",
              "    </tr>\n",
              "    <tr>\n",
              "      <th>8</th>\n",
              "      <td>Central and Southern Asia</td>\n",
              "      <td>Afghanistan</td>\n",
              "      <td>2011</td>\n",
              "      <td>25-64</td>\n",
              "      <td>total</td>\n",
              "      <td>0.2315362</td>\n",
              "    </tr>\n",
              "    <tr>\n",
              "      <th>10</th>\n",
              "      <td>Central and Southern Asia</td>\n",
              "      <td>Afghanistan</td>\n",
              "      <td>2011</td>\n",
              "      <td>65+</td>\n",
              "      <td>total</td>\n",
              "      <td>0.20321850000000002</td>\n",
              "    </tr>\n",
              "    <tr>\n",
              "      <th>13</th>\n",
              "      <td>Central and Southern Asia</td>\n",
              "      <td>Afghanistan</td>\n",
              "      <td>2018</td>\n",
              "      <td>15+</td>\n",
              "      <td>total</td>\n",
              "      <td>0.4301972</td>\n",
              "    </tr>\n",
              "    <tr>\n",
              "      <th>...</th>\n",
              "      <td>...</td>\n",
              "      <td>...</td>\n",
              "      <td>...</td>\n",
              "      <td>...</td>\n",
              "      <td>...</td>\n",
              "      <td>...</td>\n",
              "    </tr>\n",
              "    <tr>\n",
              "      <th>4942</th>\n",
              "      <td>Sub-Saharan Africa</td>\n",
              "      <td>Zimbabwe</td>\n",
              "      <td>2011</td>\n",
              "      <td>65+</td>\n",
              "      <td>total</td>\n",
              "      <td>0.5900661</td>\n",
              "    </tr>\n",
              "    <tr>\n",
              "      <th>4945</th>\n",
              "      <td>Sub-Saharan Africa</td>\n",
              "      <td>Zimbabwe</td>\n",
              "      <td>2014</td>\n",
              "      <td>15+</td>\n",
              "      <td>total</td>\n",
              "      <td>0.8869342</td>\n",
              "    </tr>\n",
              "    <tr>\n",
              "      <th>4948</th>\n",
              "      <td>Sub-Saharan Africa</td>\n",
              "      <td>Zimbabwe</td>\n",
              "      <td>2014</td>\n",
              "      <td>15-24</td>\n",
              "      <td>total</td>\n",
              "      <td>0.9042812000000001</td>\n",
              "    </tr>\n",
              "    <tr>\n",
              "      <th>4951</th>\n",
              "      <td>Sub-Saharan Africa</td>\n",
              "      <td>Zimbabwe</td>\n",
              "      <td>2014</td>\n",
              "      <td>25-64</td>\n",
              "      <td>total</td>\n",
              "      <td>0.8878737</td>\n",
              "    </tr>\n",
              "    <tr>\n",
              "      <th>4954</th>\n",
              "      <td>Sub-Saharan Africa</td>\n",
              "      <td>Zimbabwe</td>\n",
              "      <td>2014</td>\n",
              "      <td>65+</td>\n",
              "      <td>total</td>\n",
              "      <td>0.811269</td>\n",
              "    </tr>\n",
              "  </tbody>\n",
              "</table>\n",
              "<p>1652 rows × 6 columns</p>\n",
              "</div>\n",
              "      <button class=\"colab-df-convert\" onclick=\"convertToInteractive('df-60d2c26a-5d70-4149-b32a-9160e5ffe91b')\"\n",
              "              title=\"Convert this dataframe to an interactive table.\"\n",
              "              style=\"display:none;\">\n",
              "        \n",
              "  <svg xmlns=\"http://www.w3.org/2000/svg\" height=\"24px\"viewBox=\"0 0 24 24\"\n",
              "       width=\"24px\">\n",
              "    <path d=\"M0 0h24v24H0V0z\" fill=\"none\"/>\n",
              "    <path d=\"M18.56 5.44l.94 2.06.94-2.06 2.06-.94-2.06-.94-.94-2.06-.94 2.06-2.06.94zm-11 1L8.5 8.5l.94-2.06 2.06-.94-2.06-.94L8.5 2.5l-.94 2.06-2.06.94zm10 10l.94 2.06.94-2.06 2.06-.94-2.06-.94-.94-2.06-.94 2.06-2.06.94z\"/><path d=\"M17.41 7.96l-1.37-1.37c-.4-.4-.92-.59-1.43-.59-.52 0-1.04.2-1.43.59L10.3 9.45l-7.72 7.72c-.78.78-.78 2.05 0 2.83L4 21.41c.39.39.9.59 1.41.59.51 0 1.02-.2 1.41-.59l7.78-7.78 2.81-2.81c.8-.78.8-2.07 0-2.86zM5.41 20L4 18.59l7.72-7.72 1.47 1.35L5.41 20z\"/>\n",
              "  </svg>\n",
              "      </button>\n",
              "      \n",
              "  <style>\n",
              "    .colab-df-container {\n",
              "      display:flex;\n",
              "      flex-wrap:wrap;\n",
              "      gap: 12px;\n",
              "    }\n",
              "\n",
              "    .colab-df-convert {\n",
              "      background-color: #E8F0FE;\n",
              "      border: none;\n",
              "      border-radius: 50%;\n",
              "      cursor: pointer;\n",
              "      display: none;\n",
              "      fill: #1967D2;\n",
              "      height: 32px;\n",
              "      padding: 0 0 0 0;\n",
              "      width: 32px;\n",
              "    }\n",
              "\n",
              "    .colab-df-convert:hover {\n",
              "      background-color: #E2EBFA;\n",
              "      box-shadow: 0px 1px 2px rgba(60, 64, 67, 0.3), 0px 1px 3px 1px rgba(60, 64, 67, 0.15);\n",
              "      fill: #174EA6;\n",
              "    }\n",
              "\n",
              "    [theme=dark] .colab-df-convert {\n",
              "      background-color: #3B4455;\n",
              "      fill: #D2E3FC;\n",
              "    }\n",
              "\n",
              "    [theme=dark] .colab-df-convert:hover {\n",
              "      background-color: #434B5C;\n",
              "      box-shadow: 0px 1px 3px 1px rgba(0, 0, 0, 0.15);\n",
              "      filter: drop-shadow(0px 1px 2px rgba(0, 0, 0, 0.3));\n",
              "      fill: #FFFFFF;\n",
              "    }\n",
              "  </style>\n",
              "\n",
              "      <script>\n",
              "        const buttonEl =\n",
              "          document.querySelector('#df-60d2c26a-5d70-4149-b32a-9160e5ffe91b button.colab-df-convert');\n",
              "        buttonEl.style.display =\n",
              "          google.colab.kernel.accessAllowed ? 'block' : 'none';\n",
              "\n",
              "        async function convertToInteractive(key) {\n",
              "          const element = document.querySelector('#df-60d2c26a-5d70-4149-b32a-9160e5ffe91b');\n",
              "          const dataTable =\n",
              "            await google.colab.kernel.invokeFunction('convertToInteractive',\n",
              "                                                     [key], {});\n",
              "          if (!dataTable) return;\n",
              "\n",
              "          const docLinkHtml = 'Like what you see? Visit the ' +\n",
              "            '<a target=\"_blank\" href=https://colab.research.google.com/notebooks/data_table.ipynb>data table notebook</a>'\n",
              "            + ' to learn more about interactive tables.';\n",
              "          element.innerHTML = '';\n",
              "          dataTable['output_type'] = 'display_data';\n",
              "          await google.colab.output.renderOutput(dataTable, element);\n",
              "          const docLink = document.createElement('div');\n",
              "          docLink.innerHTML = docLinkHtml;\n",
              "          element.appendChild(docLink);\n",
              "        }\n",
              "      </script>\n",
              "    </div>\n",
              "  </div>\n",
              "  "
            ]
          },
          "metadata": {},
          "execution_count": 500
        }
      ]
    },
    {
      "cell_type": "code",
      "source": [
        "# Yikes there are A LOT of 'total' valued gender enteries. \n",
        "# Just so I kepp it all straight, sinc total doesn;t mena anything and could be confusing later down the road\n",
        "# I changed  total to missing \n",
        "gender.sum()"
      ],
      "metadata": {
        "colab": {
          "base_uri": "https://localhost:8080/"
        },
        "id": "poPLItA5zQun",
        "outputId": "d25331e2-9de7-4cb4-c05f-dfb85d5aabdc"
      },
      "execution_count": 501,
      "outputs": [
        {
          "output_type": "execute_result",
          "data": {
            "text/plain": [
              "1652"
            ]
          },
          "metadata": {},
          "execution_count": 501
        }
      ]
    },
    {
      "cell_type": "code",
      "source": [
        "df['Gender'] = df['Gender'].replace({\"total\": \"missing\"})"
      ],
      "metadata": {
        "id": "ZcORg2bCzjEJ"
      },
      "execution_count": 502,
      "outputs": []
    },
    {
      "cell_type": "code",
      "source": [
        "df['Gender'].unique()"
      ],
      "metadata": {
        "colab": {
          "base_uri": "https://localhost:8080/"
        },
        "id": "YWjYrA1N0E5r",
        "outputId": "25352d78-8af1-4d90-af57-e02bbd05e2bb"
      },
      "execution_count": 503,
      "outputs": [
        {
          "output_type": "execute_result",
          "data": {
            "text/plain": [
              "array(['female', 'male', 'missing'], dtype=object)"
            ]
          },
          "metadata": {},
          "execution_count": 503
        }
      ]
    },
    {
      "cell_type": "code",
      "source": [
        ""
      ],
      "metadata": {
        "id": "B6GTW6PENte4"
      },
      "execution_count": 503,
      "outputs": []
    },
    {
      "cell_type": "markdown",
      "source": [
        "#### Literacy Rate"
      ],
      "metadata": {
        "id": "TaaD6BQAxaA0"
      }
    },
    {
      "cell_type": "code",
      "source": [
        "# Soit looks like it should be float values\n",
        "df['Literacy rate'].unique()"
      ],
      "metadata": {
        "colab": {
          "base_uri": "https://localhost:8080/"
        },
        "id": "8WQFDjDpxeBZ",
        "outputId": "0923776e-16aa-4b1d-c30b-eafb7901bff8"
      },
      "execution_count": 512,
      "outputs": [
        {
          "output_type": "execute_result",
          "data": {
            "text/plain": [
              "array(['0.1761206', '0.454171', '0.3174112', ..., '0.7342576',\n",
              "       '0.9272311000000001', '0.811269'], dtype=object)"
            ]
          },
          "metadata": {},
          "execution_count": 512
        }
      ]
    },
    {
      "cell_type": "code",
      "source": [
        "# ok this tells us there are A LOT of different values for literacy rate. Almost unique for every entry\n",
        "df['Literacy rate'].describe()"
      ],
      "metadata": {
        "colab": {
          "base_uri": "https://localhost:8080/"
        },
        "id": "wolDP0-SxvSb",
        "outputId": "b318c86b-97f5-41a7-d3f5-f845ee3d6020"
      },
      "execution_count": 513,
      "outputs": [
        {
          "output_type": "execute_result",
          "data": {
            "text/plain": [
              "count     4955\n",
              "unique    4835\n",
              "top        1.0\n",
              "freq        28\n",
              "Name: Literacy rate, dtype: object"
            ]
          },
          "metadata": {},
          "execution_count": 513
        }
      ]
    },
    {
      "cell_type": "code",
      "source": [
        "df['Literacy rate'].astype('object').sum()"
      ],
      "metadata": {
        "colab": {
          "base_uri": "https://localhost:8080/",
          "height": 178
        },
        "id": "4yZ37i9z1Ywv",
        "outputId": "02b904d4-19c0-4e6b-f7bc-5539e576f97e"
      },
      "execution_count": 514,
      "outputs": [
        {
          "output_type": "execute_result",
          "data": {
            "text/plain": [
              "'0.17612060.4541710.31741120.32113220.61879070.469900499999999940.084127600000000010.37794810.23153620.196704900000000020.203218500000000020.29805210.55475450.43019720.56254750.74084800000000010.65420550000000010.143313945.384%0.304578500000000030.03474290.24745010.13331840.55119440.62483060.58769180.79544490.76403400000000010.77984990.48065270.58541890000000010.53238820.18430550.41505170.30191190.54236040000000010.61542870.57860750.79369200000000010.76276309999999990.77832910.47220510.57410080.52251350000000010.140803100000000010.394733799999999970.27181050.577890.64213769999999990.61015540.86925790.84094499999999990.85527150000000010.489249300000000050.58568120.53739649999999990.15304140.40087970.29326880.57860930.64365089999999990.6109330.86480670.84628680.85554730.49887950.58747590.54251260.2285390.40450490.32146840.62252990.68055360.65137330.89535060.86187950.87888769999999990.55185699999999990.63633170.59363390.19279930.428291899999999950.32099230.69897210.75618849999999990.72758720.93535320.90905350.92242649999999990.64150690.72013420.68073240.2502290.52444150.40046480.70085700000000010.75702360.72892970.94377760.91541290000000010.92950760.65014619999999990.72070329999999990.68520860.27167050.51089210.39467180.71181940.76669260.7391220.94912590.91803720.93296440.66821630.72831930.69752390000000010.26764390.5307410.401204499999999960.480165599999999970.66003060.5703360.84487740.90395810.87318360.35612170.61493880.487070900000000030.03867810.242807700000000020.14937960.57083620.75019850000000010.66561150.92891120.93270160.93090630000000010.48424570.72195460.61069319999999990.09405890.359682499999999960.22858340.59277320.78877230.69302560.81849810.90044830000000010.86144880.53996070000000010.76473950.65432870.26696280.57176370.416035699999999950.65790809999999990.82366710.74372990.90169409999999990.92992970.91664040.61726550.80738919999999990.71576690.30286360.61670229999999990.45378990.78416270.88879820.83625990000000010.97661789999999990.98333920000000010.98014399999999990.78347030000000010.90165769999999990.84124219999999990.206446499999999980.44891450.32618850.79755840000000010.89542480.8462680.97437979999999990.98109020.9777730.80416809999999990.91254070.8579420.224623300000000030.46609380.34250270.79839350.89635420.84705240.97678170.98191540.97937870.80843870.91408450.86078340.224450.469735900000000040.34289040.80787440.90352410.85544250000000010.97925129999999990.98267970.98101350.82598010.92260069999999990.87384870.248820799999999980.499436899999999960.36770530.99738990.99829680.99781630000000010.99850910.99940140.99897360.99747270.99832870.99787740.99521260.99449119999999990.99496319999999990.99499719999999990.99677010.995860.99810.99690.99750.99783919999999990.99746269999999990.99765520.96162949999999990.98710300000000010.97133790000000010.98691670.98520340000000010.98610119999999990.99439550.99081329999999990.99268379999999990.99013420.98905610.98962750.9213630.93317560.92757230.98114710.97298930.97734950.99088630.98391149999999990.98753649999999990.98577460000000010.97637570.98152380.89092560000000010.9120630.90231110.48837590.71708380.59627250.80206830.89884020000000010.84757149999999990.38496670.67644940000000010.52167700000000010.06025540.356350399999999960.20784090.59724430.78591340.67908430.90883470.94034279999999990.92393810.5134550.74444880.60713250000000010.08652490.41503090.23629160.41015530.68900610.55375190000000010.62298370.79504140000000010.71259620.30989420.66105070.486841099999999970.23755330.35775180.248519599999999980.419753899999999960.66991140.54738020.63136810.78042420000000010.70769330.31911610.64111150.48027510.09883720.33725250.239758600000000020.43071890.69858220.56764340.64474100000000010.80288259999999990.72583420.326676300000000030.67069640000000010.499534200000000040.094867100000000010.36804660.25502460.419749399999999940.68629339999999990.55594990.634380.79403810.71636220.317022200000000030.65785420000000010.487948000000000050.0913180.35314570.24507980.44283420.69066810.56977150.65547790000000010.79765980.7279540.33772210.66245769999999990.50176970.099625800000000010.35705210.25293230.46467670.711160.59132050.67537130.81263520.74526380.35735920.68386820.52339250.106768300000000010.38143940.27064830.89958680.92578469999999990.91181360.98588970.97686539999999990.98157929999999990.90761370.92132290.91400770.69794880.85197630.76695859999999990.91486110.93455890.92386899999999990.98944890.98411230.98688990.92731219999999990.93351040.93012710.76310180.86830140.80969950.90970740.92980550.91895750000000010.99147769999999990.98545050.98856460.92139810.9267040.92382490000000010.75444470.86446200000000010.80321310.9970.99820.9980.99900000000000010.99860.99900000000000010.9980.99849999999999990.9980.9710.9920.9810.9960.99750.9970.99900000000000010.99769999999999990.9980.9980.99810.9980.9680.98870.9760.99995870.99993830000000010.99994860000000011.01.01.01.01.01.00.99934669999999990.99877189999999990.9990950.99975989999999990.99985190.99980549999999991.01.01.01.01.01.00.99621510.99706739999999990.99658879999999990.99975770.99992040.99983831.01.01.01.01.01.00.9962610.99845950.99722669999999990.99978410.99994870.99986571.01.01.01.01.01.00.99669749999999990.99901760.99771879999999990.94652479999999990.97428160000000010.96085560.99546059999999990.99199890.99366770.9658370.97839450.97234139999999990.437552299999999950.80818640.61645510.96301260.98053620.97214110000000010.99789660.99635160.99708940.9806210.98223339999999990.98146470.66770240.90304299999999990.78219010.71781800000000010.84814150.78055090.90372259999999990.89924610.90141870.68165190.83042480.75190580.28413790.7305490.465680899999999950.75033869999999990.86532440.80526490.92573280.91864120.92212360.71915060.84651190.77908340.36858770.76890280.5307840.92711230.97479460000000010.95124480.99593040.99689620.99642290.95609499999999990.98498970.97079860.62643220.86060950.73907460.95159330.98466539999999990.96840890.99783380.99783789999999990.99783600000000010.97692090.99143990.98433710000000010.77969139999999990.92828990.84954400000000010.93731910.97751290.95640040.99690079999999990.99654970000000010.9967290.96219390.98219710.97167060.59732180.88474410.72630370.95032570.98185919999999990.96538490.99866170.99726890.99798740.97281820.98820160.98015140.72062399999999990.91326730.81200010000000010.9006870.95591089999999990.92811910.9875180.98803840.98778000000000010.91343580.95973879999999990.93654730.52108390.79267750.64328469999999990.9345090.96791010.95116220.99678830000000010.99681560.99680220000000010.94322010.97612090.95968599999999990.67799590.76808620.71810340.93335710.97106520000000010.95217930.99637020000000010.99701760.99670070.95265340.97684540.96476240.58859180.81745570.69172150.93586920000000010.97174440000000010.95376970.99653510.99683450.99668810.95571619999999990.97821299999999990.96696410.60201630000000010.81947249999999990.70055080.93992180.97331340.95658559999999990.99696250000000010.99717479999999990.99707080.95656320.97871110000000010.96763450000000010.65590530.84606730.74342530.497230800000000030.67358580.58287939999999990.67053780000000010.77272670000000010.72056230.46117250.65480570.55555219999999990.18411080.45029120.30554030.79391040.89961280.84661040.90501070.94404380.92462640.77698740.89194610.83447530.446643199999999960.74649270.58571339999999990.90747680.95433750000000010.93117890.98458260.98381040.98418710000000010.9282140.96185340.94526840000000010.439898099999999960.74843980.58473560.91068360.962970.9373470.97857610.97390670.97614470.95404190.97191699999999990.96329620.478390.84160330.63121690.98336630.9817470.982570.98908740.98021810.98460250.98615930000000010.98300330.98460819999999990.92681230.97356409999999990.94644370.98648889999999990.98186010.98423120.99080.98190.98630.98719309999999990.981730.98452180.96575580.98363510000000010.97319360.71846990000000010.80011590.7555120.84413790000000010.85119670.84751160.71680720.79644270000000010.75273190.49204250.7057710.5819540.96787360000000010.96008340.963980.98815430.97425430.98108350.9670580.95849710.96275190.89868730.90514440.90146420.98241749999999990.98123250.98182550.99266729999999990.98904150.9908260.98314980000000010.98092879999999990.98202890.94116020000000010.94599270.94318700000000010.93774810.98037139999999990.95857330000000010.99766670.99737890.99751819999999990.97522620.98597870.98049220.63706770.9099110.75723690000000010.9406840.98392840.96186080000000010.99880590.99893649999999990.99887200000000010.98710390.98710390.97356920.94359589999999990.98469460.96369790.99892960.99896870.99894940000000010.96255309999999990.98777920.97482920.94641990000000010.98542540.96548080.99901010.99896280.99898610000000010.96444660.98848760.97613080.94911320.98608950.96716660000000010.99903890000000010.99897160.99900470.96639320.98915710.97743510.95190650000000010.98559570.96825490.99838120000000010.99735150000000010.9978490.98526169999999990.99015310.98763980000000010.75522040.94625720.84047110.95447890.98734530000000010.97049590.99940510.99913190.99926580.97018169999999990.99043670000000010.97997310.95689530.98796920.97202250.99940140.99921160.99930440000000010.95006010000000010.98594250.96737910.95919409999999990.9885090.97344860.99942369999999990.99917420000000010.99929630.95294770.98665240.96920080.96427049999999990.96435019999999990.96430909999999990.96552040000000010.96642550.96597570.97121420.9665970.96896670.92010870.94401320.93067610.92249160000000010.95251260.93702070.98654910.97977840.98313880.94187179999999990.96249390.95191790.72636300000000010.83652930.77625270.91191930.94659120.92868310.98292990.98002880.98146630.93902050.95770309999999990.94809620.73273140.85390460.78731010.529590.63591790.58308980.78568440.80489760.79528680.443584000000000030.60567100000000010.52564110.07705930.14708060.11171630.64210939999999990.71868720.68066830.84650510.82458479999999990.83539029999999990.59136610.71072850.65175960.095001700000000010.21410250.15037020.93596710.96456780.95000380000000010.98353140.98460120000000010.98408100000000010.94502640.96106280.95301220.80311859999999990.94494790.85842970.95691480.98008160.96845299999999990.98856240.98731359999999990.98791190.9852910.98696129999999990.98611580.79327450.93789689999999990.86295970.96136070000000010.98352610.97246970.99020190.99375980.99231399999999990.98819710.99015410.9891710.83887080.91990640.86912260000000010.97761120.98513620.98141150.99630.99049999999999990.99330.98845350.9921210.99031260.91816420.95018330000000010.93356390.99725179999999990.99793980.99756559999999990.99870.99830.99849999999999990.99843310000000010.99794680.99820.99296020.99749750.99443920000000010.96803710.99541330000000010.98142040.99150440000000010.99751250.99462310.97367270000000010.99546110.98449970.91743089999999990.99124629999999990.94738170.94910489999999990.99176280.96991770.99667469999999990.99657650000000010.99662430.98584010000000010.99501970.99041760.78107550.97025270000000010.86039420000000010.9798390.98747230.98352450.97651060.98066930.97865050.98532640.98920840.98727140.96746039999999990.98641289999999990.97517260.98665910.99629710.99125360.99735720.99712040.99723630.99588740.9969950.99643790.95716710.99280570.97108220.99909480000000010.99858980.99885790.99959040.99939240.9994890.99895439999999990.99832610.99865620000000010.99672880000000010.99800150.99720360.96502110.98282160000000010.97368740.98906980.98729130.98814859999999990.98888540.98702349999999990.98796080000000010.89225330.96646420000000010.92503450.9910.99159999999999990.9910.990.98690.9880.9920.9920.9920.98900000000000010.99420.9910.98579570.99141010.98848280.9986870.99851030.99859639999999990.9946080.99470520.99465590.9600240.97716780.96729780000000010.98971920.99353450.99155760.99950.99920.99930000000000010.99580790.99564510.99572730000000010.97326989999999990.98491190000000010.97831909999999990.99907920000000010.9988110.99895899999999990.99870110.99802189999999990.99835430.99913160.9988930.99901830.99915720.99935760000000010.9992220.99833240.99794190.9981560.99866620.99845470.99855800000000010.99835350.99771680000000010.99805170.99808800000000010.99825999999999990.99814629999999990.94790040000000010.91792650.93307360000000010.99386570000000010.98403980.98881940.9674980.91703160.94190119999999990.85723950.85801140000000010.85757650.95988720.93009970.94503190.99560880.99056950.99300709999999990.97916340.93944599999999990.95882940.89672590.86447560.88209530.97500510000000010.99431209999999990.98442210000000010.99052610.99360790.99211820000000010.99051310.99577840.99312090.90335440.98802910.93928430000000010.98271350.99450469999999990.98847179999999990.98970.99230000000000010.99110.99139410.99542320000000010.99340070.95043320.99304830.96853030000000010.92860770.96285579999999990.94477050000000010.99479640.99391800000000010.99435120.98353810.98296930.98326320.75477330.87410309999999990.80477890000000010.95072519999999990.97353620000000010.96137590000000010.99701560.99626570.99663920000000010.98734179999999990.98530060000000010.98636430000000010.85074940.9274670.88295310.98924250.99373589999999990.99138310000000010.99585780.99337750.99456159999999990.99695470.99536660.99619190.94394210.98264150000000010.95843940.99140420000000010.99602010000000010.99359890.99815530.9980670.99811010.99671720.99658520.99665310000000010.96141959999999990.98834570.97145650000000010.98205210.99034290.98604290.98976219999999990.99014090.98995689999999990.98934810.99153170.99043330.95607820.98547230.9679070.98599770000000010.99108009999999990.9884450.99439680.99419380.99429190.98891460.99062350.98977170.97476670.99051810000000010.98107709999999990.99647780.99728310.99684270.99758020.99662780.9970960.99819010000000010.99770169999999990.99796030.98967240.99565680.99154440.99734110.99725160.99730060.99749090.99649970.99698449999999990.99799820.99732780000000010.99768020.99524170.99757630000000010.99600870.99901910.99932080.99916431.01.01.00.99978490.99976979999999990.99977760.99651570000000010.99756349999999990.99699220.96749110.99264640.97962410000000010.99269910.99345440.99308690.99078430.99459110.9926670.88697120.98455790.92810860000000010.98228280.9949970.98841510.99724680000000010.99715230000000010.99719820.99393940.99512649999999990.99452789999999990.94523960000000010.99308279999999990.96557609999999990.97548160.99076269999999990.9828920.98180000000000010.98410.9830.99128169999999990.99260760.99193979999999990.93089440.98977370.95625530.9960.99690.9970.99900000000000010.99790.9980.9970.99730000000000010.9970.9920.99400000000000010.9930.97004499999999990.98525710.9774890.99686360.99506770.99594630.98814459999999990.99073570.98944890.902530.95633210.92559050.97065569999999990.98536190.97783750.99745970.99654650.99699399999999990.98786860000000010.99085390000000010.9893680.907120.95628380.9282240.97218040000000010.98606530.97894540000000010.99705720.99641050000000010.99672780.98915450.99093320000000010.99004560.91171730.96084690.93284060.97440540.98748750.98079130.99642890.99694630000000010.99669259999999990.99039180.99212240.99125940.91828980.96415460.93818010.97487350000000010.98731269999999990.98093720000000010.99686809999999990.99757310.99722760.99048310000000010.99198360.99123400000000010.92129840.96416650.93993660.97547129999999990.98770889999999990.98143260.99694190.99618750.99655680.99095140.99225630.99160380.92338150.96651870000000010.94217370.97695360.98835970000000010.98250510.99606060.99637570.99622159999999990.9913820.99277680.99207830.92962590.96839089999999990.94655790.97973780000000010.98925389999999990.98436499999999990.9974390.9968850.99715550.99287670000000010.99329490000000010.99308509999999990.93732609999999990.97131560.95222939999999990.96700000000000010.98810.9780.9850.98760.9860.9810.9910.9860.890.9730.92599999999999990.99958200000000010.99993939999999990.99974350.99982720.99957070.99969760.99964630.99999870.99980960.9992681.00.99952770.99420.98400000000000010.98950.99420.98400000000000010.98950.98928070.98985320.98954970.99588669999999990.99012200000000010.99298640.99153880.99163360.99158360.97148790000000010.97980720000000010.97482870000000010.98999840000000010.99228310.99108330.99711450.99545250.99628240.99301230000000010.99274670.99288430.96861760000000010.98344790.97457370.99099950.99111130.99105230000000010.99614279999999990.99144530000000010.99375870000000010.99207430000000010.99162780.99186160.98007819999999990.98760530.98304750.99091210000000010.99156030000000010.99121950.99598119999999990.99510340.99551320.99387530.99203069999999990.99300610000000010.97320630.98152739999999990.97648950.98932820000000010.99061250.98993890.9940240.99195870.99296710.99217590.99196310.99207450.97118450.98057699999999990.97503910.99208770.99148250.99179959999999990.99643500000000010.9948340.99559700000000010.99338189999999990.99221639999999990.99282860.9814550.98086950000000010.98121640.99143100000000010.99104990.99125010.99628929999999990.99384480.99502709999999990.99431420.9914930.99296820.97618880000000010.98418580000000010.97944760.99062040.98937740000000010.99003870.99757650.99241830.99505520.99410230.99024640000000010.99227250.97177710000000010.98147009999999990.97583530.96719780.96940529999999990.96822640.9932310.98965730.99138409999999990.97974450.97546660000000010.9777630.87802470.90324780.88862380.97812680.97800130.97807419999999990.99390.9960.9950.98508840000000010.97986720.98264630.93802809999999990.94722870.94196510.9960.9960.9960.99900000000000010.99920.99900000000000010.9970.9970.9970.9850.9860.9850.88080200000000010.96601050.92226150000000010.98772019999999990.99246629999999990.99007520.88213489999999990.97303950000000010.92617949999999990.53690370.82235339999999990.67086609999999990.91873270000000010.97107050000000010.94460570.98828610.99162450.98995880.93333680.97719220000000010.95510440000000010.61425890.85153260000000010.72303740.88582860.96522750.92455080.99404210.99394019999999990.99399170.89573089999999990.9737920.93375760.54012160.82578199999999990.67473429999999990.90681700000000010.90056180.90379180.98318740.96716170.97514120.91473490.89934280.90728070.69392880.72267010.70641009999999990.91633150.91168980.91411240.99073150.97909989999999990.98486920.92958470.91360570.92196420.70647610.73690119999999990.71962340.9162490.91025670.91337850.99020820.98227429999999990.98619660.92899649999999990.91164779999999990.92070580.72033960.73865240.72829420.91764960000000010.91177960.91484240.99229720.98252040.98736680000000010.93236109999999990.91571340.92441890.7148670.73406920.72324700000000010.92060520.91366770.91729429999999990.99250310.98446969999999990.98845690000000010.93618210.91743070.92724050.72815299999999990.74513120.73550550.92343790.91725160000000010.92047899999999990.9934670.98595860.98963750000000010.94094060.9232960.93253370.73655790.75041070000000010.74260230.93021199999999990.92575160.92808440.99455330000000010.98779359999999990.99110960.9465180.93115610.93920070.76002320.77331900000000010.76571280.93243709999999990.92891530.93075820.99481340000000010.98841280.99155410.94802960.93370810.94121539999999990.77013940.78778059999999990.77771970.93425070000000010.93009040.93227500000000010.99431529999999990.98983580.99204170.95102760000000010.93621690.944010.77938130.79337330.78543170000000010.96530710.96898780000000010.96703010000000010.99605369999999990.99214390.99408190000000010.97506910.97365620000000010.97441190000000010.88268900000000010.90133690.89055990.96161750.96388009999999990.96267060.99086940.99009780.99048280000000010.97216870.96929270.97083519999999990.88472520.89456509999999990.88887620.96743960000000010.97024690.96874129999999990.99440560.99267540.99353940.97977580000000010.97595440.97801030.8911320.91051430.89931140.96334020.96480630.96402280000000010.99011560.99005820.99008660.97355030.97103719999999990.97238260.9022310.90617949999999990.90391099999999990.93486790.93250190.93372330.9851720.97682720.98098420000000010.94400800000000010.93636150.94033019999999990.75351569999999990.77440490.76300980.93667130.93488260.93580530.98724340.97760470.98239380.94376530.93797770.94098220.77245540.79186570.78131910.94484660000000010.9386740.94186250.98972849999999990.98106710000000010.98540949999999990.95383940.94291890.94856780.79604580.80176209999999990.79863290000000010.94415820.94063170.94245050000000010.98915340.98155180.98534729999999990.9532620.94545870.94949090.79898590.80738690.80279439999999990.94890220.94402280.94653850000000010.99025270000000010.98312040.98668310.95863760.94997440.95444430.8143840.81411070.81426040.95318920000000010.94851830.95092510000000010.99069599999999990.98633830.98851650.96296640.9532480.95824870000000010.83213770.83442350000000010.83316540000000010.97500410.97306330000000010.97406580000000010.99258120.99007680.9913370.97910920.97635390.97778369999999990.90488490.90243730.90374769999999990.97924430.97802350.97863790.99530.99340000000000010.99430000000000010.98369620.98066950000000010.98218739999999990.93178659999999990.93424630.93292940.99799880.99706060.99752530.99895200000000010.99855270000000010.99874650.99766950.99736459999999990.99751750000000010.99173040.99153910.99163980.8969730.89377040.89538730.97883490.9577530.96805750.89796430.89023089999999990.89417920.67374620.72691560.69951930000000010.90225570.89985010.90106380.98053750.96091870.97042050.90363820000000010.89396199999999990.89890320.69595480.75464950.72391739999999990.90224170.90084820.90155180.97769230.96321870000000010.97023889999999990.90298910000000010.89782290.90046310000000010.71578469999999990.74613940.7303570.91250510000000010.90458129999999990.90858149999999990.98252520.96762699999999990.97472430.9133080.89654269999999990.90515919999999990.74788650.7764580.76146930.92147790.9137160.91763760.98044809999999990.97353560000000010.97688530.92565970.90705850.91653650.77614420.80141070.78803899999999990.92321060.91650710.91991209999999990.98030959999999990.97225390.97614059999999990.9298190.91266260.92149150.77158160.79791700000000010.78394230.93764129999999990.9379360.93778460.98867370.98812590.98839410.94699200000000010.93682620.94211550.78007189999999990.81883489999999990.79821590.90470110.93316870.91854039999999990.9885410.98468870.98652710.92445360.9440460.93373290.66630799999999990.77003970.71507310.90220820.93052520.9158690.98805320.9858650.98694840.9259670.94703650.93597070.64930720.75027260.69728160000000010.90951680.93254240.92064730.98894540000000010.98773160.98831630.93332060.94762580.94007900000000010.69578260.77259310.73196670.92218080.94425730.93294630.98632480.98579410.98604640.94045270.95361190.94668809999999990.6971740.79677780.74497569999999990.93253860.95257170.94222640.99186930000000010.99010740.99097770.94737040.96020120000000010.95345710.72234370.82197440.77033180.93256620.95726220.94455660.98912290.99337170.9912620.94772470.96389140.95546040000000010.72562770.83592119999999990.77891320.93314530000000010.95445020.94350230.99136920000000010.9897920.99057109999999990.94796250.96226150.95480070.7264720.82985280000000010.77657640000000010.92086690.93779060.92829790.99402420.99109820.99255050.94049650.94726850.9433240.69682110.77300799999999990.72991590000000010.82308020.8709970.84492720000000010.96385740.95669039999999990.96034460.81504290.86819550000000010.83855220000000010.52397650.62878550.56980330.83015640.88391650.85493990.96945890.96150560.96545090.8267240.88092370.85084950.50928950.64639380.56821959999999990.84670349999999990.89235010.86767580.97500190000000010.96946990.97224189999999990.84192859999999990.89170850.86398380000000010.56192930.66203030.60629450.8621710.90009940.87969849999999990.98433740.97461970.97949330.86094120000000010.89983070.87837199999999990.60452210000000010.70245320000000010.64816180.86326420.90299270000000010.88141770.98278720000000010.97723200000000010.98008590.86278280.90062370.87974760000000010.6110560.71829970.65733390.86673640000000010.90631380.88482710.98149640.9779970.97980450000000010.87121290000000010.90635999999999990.88707059999999990.61231920000000010.72322770.65968419999999990.9860.98580.9860.9950.98950.9920.9860.98650.9860.960.96580.96200000000000010.96400000000000010.95530.960.99900000000000010.99820.9980.9830.97140.9780.84200000000000010.81140.82900000000000010.72428039999999990.84848730.78264860.91942370.95466410.93653469999999990.67996580.83342840.75061179999999990.30870950.53627780.417243100000000030.72127590.82720680.77038670.89770370.94182280000000010.91851920000000010.67018830.79862420.72948610.38750250.53729630.45394270.76370660.86756159999999990.8128590.93269250.95481860.94354250.72482339999999990.85644850000000010.78552160.40661310.60903640.50710979999999990.85034610.86314380.85639730.97037009999999990.96331860.96689670.855540.85830259999999990.85683730.46821160.53849110.49891310.58300520.65277650.61691350.82634829999999990.83353499999999990.82994249999999990.52928280.61006670.56839650.102377900000000010.20463160.1476360.84725030.84789010000000010.84755359999999990.95877499999999990.94448009999999990.95150689999999990.84231110.83564860.83929060000000010.49690880.53676710.51572850.84930270.85341280.8512330.96926010000000010.94931540.95924999999999990.84449240.84565030.84501610.46453350.49972580.48051570.85051480.8569620.85355549999999990.95987210.94002830.94980950000000010.84830840.84678360.84761530.53884710.60164120.56696170.85284730.85668369999999990.85464420000000010.96298560.93850740.95066490.84885750.85194590.85024450000000010.54645340.59891070.57093550.87025990.87395950.87197530.96292260.95047370.95677070.86892050.86604140.8676290.56939920.62047460.5924140.8789370.87922079999999990.87906830.96999610.94993250000000010.96007510.87956660.87219940.87629090000000010.56220510.64778560.60186540.88934860.89048940.88987480000000010.97245610.94945190.96126540.88875630.88694880.88794380000000010.63436580.69790980.66283260.87265560.87137640.87205240000000010.9818510.94891990.96515840.87538090.86673260.87142330.58203969999999990.65210359999999990.61358280.9270.83440.88099999999999990.9880.93860.9630.94400000000000010.83170.8890.720.60439999999999990.66599999999999990.9610.97959999999999990.96900000000000010.9970.99879999999999990.9980.9810.98950.9850.8560.91440.88099999999999990.91853420.94383940.93068940.98492130.98375570.98434520.92666680.95033810000000010.93795920.67178259999999990.76572430.71521890.92338280.94782769999999990.93519980.98506660.98416560000000010.98461770.93256080.95517880000000010.94345670.68555959999999990.76605580000000010.72195070000000010.93179240.95391630.94228399999999990.99029570000000010.98720370.98875420.94384010000000010.96240459999999990.95253040.7182450.80176140000000010.75589780000000010.92903940000000010.95112110.93962850.98601910.98526840.9856450.93702270.95721870.94661670.72740840000000010.80375460.76249950.93591340.95620470.94555880.99079460.98922210000000010.99000040.9482930.96436400000000010.95580510000000010.74164469999999990.81626130000000010.77555370.9348550.95549330.94472280.99014950.98873520.98944710.94578880.96250470000000010.95370650.73141220000000010.81578680.77031460.93968520.95844820.94859620000000010.99207229999999990.99025920.99116200000000010.95289320.96625720.95914860.75362449999999990.83094420.78885110.94165760000000010.95872370000000010.94972780.99168370.99081299999999990.99124690.95610180.96650910.96095830.76206270.8332380.79391360000000010.94608050000000010.9623290.95379909999999990.99388470.99248640.99318450.95987390000000010.97034880.96478409999999990.77439520000000010.84486690.80665420.82779350.82438550000000010.82614550.93601940.89642830000000010.91571780.81670950000000010.81371480000000010.81528320.54345770.58488080.5613690.93485259999999990.94707409999999990.94094120.97336870000000010.97934470000000010.97638530.94158580.95624590.94889250.80854429999999990.8088430.80868809999999990.94881720.95968930.95411810000000010.98874290.99312200000000010.99099090.95741440.96990690.96343590.84885510.8502310.84950080.92925740.94813149999999990.93870920.98728820.98500340.98610450.9358830.95002530.94294920.74084770000000010.81355559999999990.77410910.93587850000000010.94817250.94197469999999990.98103770.98251230000000010.98177920.93854339999999990.9498240.94411270.75426250.80394380.77841489999999990.94466260.95666190.95059040.9920460.98595870000000010.98899130.94816470.96062970.95429689999999990.75789510.8184570.78708410.9421480.95874120000000010.95034809999999990.98463410.9896370.98713800000000010.94701680.96032190.95360030.76898709999999990.83121850.79808490000000010.94874420.9625430.95554840.9896890.98353830.9865360.95492670.96731250.96094140.77017410.84909130.80807040.93835050.95476060000000010.94650240.98703810.98207680.9845060.94545919999999990.96011039999999990.95269760.74219920000000010.81826939999999990.77812560000000010.93531710.94511480.94020799999999990.98867840.97732420000000010.98281520.94999730.9565370.95322909999999990.68404630.75886860.72014360.90668830.96950130.93841730.98675750.98719340.98698160.91358590000000010.97157790000000010.94291870.63257040000000010.89392920000000010.75602740.90449180.96948980000000010.93707950.98789660.99157060.98977530.91250890.97155680.9422090.62940640.88114320.74527340.91246530.97106380.94162340.98772900000000010.99239670.99009540.92163920.97207769999999990.94683120.66006040.89704580000000010.76858270000000010.91188530.97188460000000010.94173670.9867220.99088870.98883490.92019909999999990.97391470.94702990.67378120.89931630.77701430.91270129999999990.97039740.94149610.98853080.99255980.99057480.92128930.97181990.94664980.67724509999999990.8952630.77708910.91703110.97121370.94408270.98966970.9907920.99023759999999990.92618770.97263499999999990.94953250.69163340000000010.90606700000000010.79012150.92530150000000010.91330780.91965230000000010.98854190.98814580000000010.98834180.93516160.90541759999999990.92114890.8369740.85607879999999990.84530750.92390020000000010.92389960.92390.92389700000000010.92389950.92389830000000010.92390110.92390050.92390080.92390010.92389720.92389890.94003540.95364790.94675749999999990.98802150.97972730.98376639999999990.95025260.96379790.95688730000000010.74357290000000010.79479740000000010.76747740.90997910.94869870.92868660.97259659999999990.98085720.97667900000000010.91768600000000010.95432920.93544529999999990.71530770.81490070.75958510.92712060.96074039999999990.94383270.98399960.98875439999999990.98645560.93310310.96233689999999990.94774870000000010.77252939999999990.86181299999999990.81013260.9830.99140000000000010.9870.9960.99549999999999990.9960.9920.99240.9920.91099999999999990.97380.9380.98490950.97610170.98072710.99225409999999990.98359430.98784189999999990.98976270.98104330000000010.98552250.96348519999999990.94339620.95556040.98619079999999990.98023110.9833590.99120980.9861340.98862219999999990.99009130.98373140.98699550.96977779999999990.95606190.96437430.98660550.98103970000000010.98395939999999990.99297780.98626120.98955250000000010.98994680.98306640.98659440.97061620.96431240000000010.96813560.98636430000000010.98063419999999990.98363870000000010.99310150.98564380.98929760.99001820.98447380.98731410.96912440.95619740.96404090.98809050.98025070.98435929999999990.99390620.98309050.98838890.99169030.98412450000000010.98799629999999990.97193140.95891030.96681190000000010.98867460.98145920000000010.98523870.99228680.98638450000000010.98927599999999990.99160350.98459860000000010.98817960.97663230.96043170.97025980.98850319999999990.98244530.98561470.9944130.98873099999999990.99152469999999990.99098670.98459000000000010.98786210.97566420.96445540.97116969999999990.98963910.98234190.98615720.99316990.98561409999999990.98932599999999990.99132810.98537630.98841850.98139070000000010.96475620000000010.97471040.99007740.98371360.98703860000000010.99165989999999990.98604750.98880269999999990.9924070.98550399999999990.98902970.98165450000000010.97287550.97812209999999990.95028880.94502320.94770219999999990.98236370.96889859999999990.97559160.96078020.94905140.95501099999999990.77971750.82344920.79932230.96560070.96651079999999990.96605220.99317390.98711990.99007630.97639890.96925960.9728510.82723740.88119540.85141680.97213710000000010.97039110.97127089999999990.99092580.98441940.98759510000000010.98146370.97419150.97784809999999990.86713909999999990.89811530000000010.88100309999999990.75322970.87422960.81407840.97252160.97594059999999990.97426519999999990.76397970.89384120.82925050.197452499999999980.47889230.335048299999999970.99690349999999990.99806080.99744410000000010.99876190.99818420000000010.9984740.99879999999999990.99854440.99867990000000010.98573690.99492920.98943439999999990.99677160.99805499999999990.99736070.99874160.99821280.99847020.99872929999999990.99851690.99863150.9866340.99522240.99002380.99692629999999990.99854440.99771140.99933330.99967450.99950599999999990.99864590000000010.99917110.99890050.97619820.98731880.98085310.99704960.99856660000000010.99778630.99931759999999990.99956030.9994410.99860330000000010.99940590.99899220.97800780.98559210.98117820.99702860.99852850.99775770.99917670.99954999999999990.99936750000000010.99844470.99942160.99891830.97959180.9848620.98179120.99716820.99865920000000010.99789360.9992670.99976870000000010.99952470.99852130000000010.99947670.99898470000000010.98076920.98573280.98284270000000010.99719660000000010.99862010.99788990.99936380.99976240.99956990.99848110.99948870.99896980.98160430000000010.98536180000000010.98317860.99717140.99862630.99788060.99920110.99963669999999990.99942780.99851270.99957319999999990.99902720.98207570.98557339999999990.98354860.99719550.99864050.99790059999999990.99916480000000010.99962380.99940480.99854090.99958209999999990.99904670.98269120.98615130.98415330.99721990.99863750.99791230.99913110.99960650000000010.99938050.99856470.99955659999999990.99904730.98340469999999990.98688999999999990.98488119999999990.89010440.92145439999999990.90977400000000010.95124179999999990.95684290.95454470.90040690.92176839999999990.91417339999999990.50507570.62433169999999990.55299870.94281520.98551919999999990.97066680.98850290.99955730.99480310.95674280.98848750.97813999999999990.49423770.81211870000000010.66071330000000010.94707370.98767330.97403890.99083930.9998960.99598219999999990.95961560.99001330.98051890.53591780.84599810000000010.70051109999999990.94948880.98763170.97464190000000010.99301339999999990.99976140.99687200000000010.96247490.99026010.98141840.5569030.85134649999999990.71541700000000010.98116230.99286150000000010.98678430000000010.99838310000000010.99804540000000010.99820990.99561769999999990.99541070000000010.99551910000000010.90546650.97564409999999990.93791860.63515810000000010.80268650.72047850.84306929999999990.90557630.87509640.55771740.77242459999999990.66647370.2540370.52313740.39440670.65756660.81679220.73865589999999990.86051590.92355760000000010.89281920.5820310.79596190000000010.69038510.28495680.411291500000000030.35084990.67179860.82633340.75060730000000010.9032540.93649280.92023420.61091570.80407929999999990.70939260.28801720.5718750.432160799999999960.65505690.76495220000000010.71168250.86810550000000010.89483380.88192560.60479470.7410490.67469280.21177720.432054899999999960.329085400000000030.99514580.99668210.99586190.99729140.99677719999999990.99702610.99684129999999990.99703370.99693310.98821100000000010.99488720.99073520.99294750.99437520.99364260.99493650.99768249999999990.99640810.99568220.99418140.99492390.98523589999999990.99247519999999990.98814830.37955250.53007280.43683280.48638650.57006470.52318890000000010.3822950.55023890.442323700000000040.1424680.3104720.2038430.440140000000000030.56243990.50140520.52708130.59804150.56339090.42231060.55943940.49084580.16318940.35733260.2504870.89207740.95767240.92551040.98766350.98758730.98762350.90076960.96268310.93172640000000010.29547340.75220910000000010.53517510.93933460.97748360.95904450.99253220.99050830.99148680.97808790.9838960.98088899999999990.33499960.76000390.55012370.97372010.98444559999999990.97890320.99202730000000010.99002039999999990.99105720000000010.97808790.9838960.98088899999999990.80099959999999990.95500410.87698470.97832080000000010.98614210.98227110.99493910.99196120.99343739999999990.98262750.98531960.98399670000000010.85609870.96460130000000010.90705500000000010.92680940000000010.95545310.94469010.98718210.99062820000000010.98899109999999990.92928380.95317750.9447790.402918299999999950.78883290000000010.60686190000000010.94965250.95839720.95513170.98835310000000010.98736380.98782259999999990.95818180.95752070.95775320.485663800000000030.79223550.64582260.94301160.96354190000000010.95585820.99040670000000010.99252290.99153750000000010.94923870.96142340.95712040.491525000000000050.85719669999999990.68177060.94470050.96392250.95685450.99400850000000010.99150679999999990.99259090.95296050.96190410.95875830.50642660.86939250.69547230.94825770000000010.96697140.96035950.99499220.99056839999999990.99243580.95721419999999990.96547020000000010.96268980.54209140.88441570.72014520.94905160.96666460.96056470.99503550000000010.98776790.99080130.95826499999999990.96544990.96308549999999990.55050840.88804180.72653710.93305010.96854659999999990.95069440.99838980000000010.99662739999999990.99751819999999990.96006290.97419709999999990.96717440.60433980.84876490.71665819999999990.57639990.76073580000000010.67084159999999990.74034290.88829420.81510070.492939500000000030.70628309999999990.60474560.16861650.389003299999999940.30027790.59130640.80383359999999990.69425390.8778340.94627189999999990.91220960000000010.54744870.79105240.66422770.176610000000000020.49730270.32753750.64591380.83301350.73750010.97400000000000010.98040.97730000000000010.6096940.82508660000000010.71435109999999990.19024670.5141650.341109999999999970.81803230.90243030.86938999999999990.98165070.97405650.97743730.78347179999999990.89999640.85765860.10437320.35275340.232946300000000020.88926699999999990.94990740000000010.9198120.99056620.9913060.99094319999999990.85171049999999990.94376690.89775040000000010.17033470.45718110.31645760.86037210.96632869999999990.93038610000000010.98753320.99434050.99153730.85114280.97317480.93513430.175170299999999970.50796690.35047260.90944160.96630830.94899990.9898040.98514790000000010.98703560.91082800000000010.97461190.95708870.40199270.43471810.41860820.9222560.97023870.95575999999999990.98956380.98464389999999990.98662440000000010.91659580000000010.97396260.95823530.53387720.58549259999999990.5599330.92693990.96989419999999990.95651530.98979429999999990.98356630.98617830.92300680.9739580.95952050.54872619999999990.58966380.56917740000000010.9217280.97629020.94932010.99274040.99211350.99242040.91072410.97660799999999990.94412999999999990.33585870.70998370.49072230.92616180.97856999999999990.95267240.993670.99259860.99312320.91834969999999990.98040640.94987030000000010.340611999999999970.69837170.48496060.93565380000000010.9819180.95906220000000010.99227080.99345160000000010.99287330.93051890.98412220000000010.95772090000000010.38683010.72767030000000010.52806690.94126090000000010.98391090.9628490.9927490.99418830.99348330000000010.93637560.98559030.96134570.42567330.76143109999999990.56721890.94407290.98402310.96428390.99319440.99405789999999990.99363510000000010.93972330.98586760.96309530.445630900000000050.76613350.58326749999999990.94853769999999990.9848090.96690730.99267860.99410470000000010.99340610.94591430.98587540000000010.96619159999999990.46776420.79805840000000010.6098970.95207910.98607839999999990.96930230.99313069999999990.99451530000000010.99383709999999990.94969330.98676159999999990.96850340.498402299999999960.82374889999999990.63933630.95741950.98657759999999990.97218609999999990.99382390.99292230.99336250.96045010000000010.98902980.97467520.57206330.91491200000000010.77488060.91729630.90343430.90632990.95798810.90306640.91793580000000010.91563400000000010.904450.90664379999999990.438702400000000050.80058009999999990.68311499999999990.9245240.91046520.91327220.96348519999999990.92683660.93644520.92326400000000010.90945820.91203490.461511799999999970.71443230.63077190.94207040000000010.92881560.93145300000000010.97264770.94806380.95463650.94436070.9272650.93043510.52126540.80265380.71345269999999990.94711510.93144460.93463970000000010.96114660.94069900000000010.94644109999999990.95220850.93123220000000010.93518709999999990.54310989999999990.79472179999999990.7045160.91369249999999990.96531430.94426340.99136990.99300720.99221770000000010.91934299999999990.97230909999999990.95219870.36598120.6495890.51386260.9270720.97103710000000010.95328630.99280440.99321520000000010.99301880.93833479999999990.97590910.96160039999999990.46311940.76926050.62448810.56063230.65435150.60697180000000010.73490.72510000000000010.730.50595750000000010.63395010.56880970.162498299999999980.431597700000000030.28761760.71088210000000010.87375730000000010.79130580.96093560.98210849999999990.97171720.70521580.90152230.80093220.092193699999999990.376402500000000030.23330640.7172960.87760760.79653909999999990.96317590.98236329999999990.97304440.71707179999999990.90119730000000010.80702530.09651860.39996150.24315240.72160650.88475780.80218750.95717580.97970620.96864999999999990.72025070.91423919999999990.81487700000000010.10984650.41165410.25966410.72223770.86060120.79036429999999990.95801190.96611840.9620910.73812780.88274760.80889110.24381210.55793720.397714700000000030.88073170.97299810.9266060.97197329999999990.99214160000000010.98224590000000010.90952860.98362520000000010.94663880000000010.50406670.83426010000000010.65000969999999990.9031010.97934990.94106090.9793630.99446700000000010.98709350.92987780.98768730.95886630.57985230.87131940.7080080.91604519999999990.9826290.94919749999999990.98412650.9959050.99016019999999990.94032050.98948680.96498900000000010.63180740.89293120.74632320000000010.92138080.98401370.95256659999999990.98742060.99689140.99227429999999990.94512360000000010.99019010.96774880.65086879999999990.90215459999999990.76076190.92401820.98496790.95439630.98950920.99746980.99358480.94880930000000010.99086659999999990.96997980.66232600000000010.91016030.77080060000000010.92645810.98575620.95601420.99167080.9980610.99494390.95175870000000010.99125670.97165440.67425990.91762379999999990.78085920.93563010.98775830.96167330000000010.99371550.99859790.99621359999999990.95517230.99213770.97379909999999990.81247710.95844179999999990.88126850.93498270.98819960.96150530.99586429999999990.99907910.99750870.95926540.99286040.97619550.7042640.9319120.80439670000000010.99085830.99078440.99082110.99810830.99679910.99744340.99383420.99196270.99288860.94423230.95914199999999990.95126240.98202980.98325090.98265079999999990.9875670.98169719999999990.98458780.98808140.98881130.98844880.84662580000000010.92786890.89406510.9750.98140.9780.9930.99180.9920.9870.98780.9880.8840.92930.90599999999999990.99527940.99467210.99503130.99829499999999990.99769590.99838380.99711050.9950860.99601630.98212289999999990.98489009999999990.98336410.96340149999999990.96812749999999990.96593740.99170509999999990.98245609999999990.98664440.98112399999999990.97153899999999990.97585470.81349209999999990.89563570.84723299999999990.5790.65290.6160.71400000000000010.64569999999999990.6790.540.67090.6060.2680.412599999999999970.330.99069530000000010.98881919999999990.98973260.99458039999999990.99029620.99235659999999990.99261470000000010.99076620.99165670000000010.9631680.96303140.96310699999999990.99245040000000010.98956090000000010.99095770.99435750.98841510.99123480.99334990.99138909999999990.99232670.98016340.97705080.97878960.99434220.9933510.99385530.99510429999999990.99366570.99437029999999990.99495099999999990.99384130.99441090.98840400000000010.98887289999999990.98861950.99475030000000010.99350980000000010.99414370000000010.99539779999999990.99348710.99441119999999990.99479339999999990.99387839999999990.99435380.99257920.99106549999999990.99188689999999990.83200000000000010.86180000000000010.8470.9560.95090000000000010.9530.82400000000000010.85510000000000010.83900000000000010.3580.52689999999999990.4420.86706090.88306350.87506310.96596609999999990.95976569999999990.96282120.86067310000000010.87641940000000010.86846910.43218720.57936380.50892750.53407209999999990.79974150.66030110.70585130000000010.84862380.77431129999999990.47127310.79372380000000010.6247020.11437920.47483070.270253300000000030.22093880.449602599999999960.329488199999999950.40938380.63940920.52492470.16270250.3990530.270219999999999960.01356460.11947670.070253500000000010.31071650.53977030.4236240.51943620.69761180.60948079999999990.224468600000000020.477054899999999950.34882010.0227464000000000030.163115300000000020.082208400000000010.87451210.86122140.86823179999999990.99139539999999990.95754750.97456290.87173419999999990.84579470.85961970.36907770.43534210.39616290.8870.86740.8770.99400000000000010.95940.9770.8850.85480.870.3790.44450.407000000000000030.26220250.44379450.3459940.43985830.56994890.5009630.189799599999999980.40797360.28831650.02084370.14553580.083942099999999990.32687620.50074590.412244499999999960.54670.61790.58290.222138099999999980.44387810.330231599999999960.0414135999999999950.19375230.10126730.54663030.69692510.61569730.74958910.85290080.79559610.46445420.64189990.54736950.14089680.3752310.24933630.61223690.76296049999999990.68375330.85618550.91034149999999990.88221770000000010.51986179999999990.70674250.60799810.169854899999999980.4649590.30786710.80496220.9047450.85327789999999990.98398180.97871890.98128969999999990.81640289999999990.90881839999999990.86098540.20622460.52264890.33198530.82042220.91691440.86790290.98730180.97585009999999990.98111310000000010.84180670.9238310.88137470.22689270.5773320.36819370.6479950.78327690.71290510.76420930.85397480.80574439999999990.6305220.77744190.70268980.11962370.42442670.26124440.71586270.82628040.77071040.82409999999999990.87720.85080.6949740.8131250.75378470.252815800000000030.59710610.4059610.24355490.50712710.367526099999999970.26971330.488571000000000030.36356270.231834999999999990.51312880.37026680.1726060.55548789999999990.35719630.25756380.495145899999999970.37395820.28706660.47804930.38268650.24530040.50356740.37206730.18488710.54515170.32801030.139334100000000020.3891820.26002990.25993620.5183630.387724199999999960.08638210.34275140.20646560.00545590000000000050.14148470.08314090.13955230.31328790.22311550.223871499999999970.40692890.307916099999999970.09549220.2844920.18739190.03189160.10036960.07028060.42637290.5647980.49196140.69595220.73810770.71581270000000010.33342250.52712960.42427170.0313650.21855160.12767710.52956390.6464420.58817020.78302359999999990.78239410000000010.78270390.44135670.60190010.52190090.05684580.2787330.157931799999999980.72877060.86434309999999990.79311170000000010.76946080.85683610.80913950.7175760.86655030.79022790.61384250000000010.88149559999999990.73083530.74618760.86076510.80298760.78742310.85341650.82054790.73425240.86343690.798540.64073710000000010.87809299999999990.74192790.30461720.51592670.40981630.38750080.58332630.483099599999999960.27867890.49879370.38893230.13565760.36243920.25254460.36784250.5070190.43908420.470397499999999970.59124350.53020690.332431100000000030.48373010.411245400000000040.104001699999999990.25457380.179926500000000020.40499370.53656940.471653499999999950.5302510.63844920.58420150.35031430.49651620.424825299999999960.12978840.30835780.22407070.62918640.87908389999999990.75017190.76658500000000010.91047560.83597550.59081840.87270550.72737350000000010.20818630.75616840.47835420.66499979999999990.88524690000000010.77042680000000010.79714840.90960970000000010.84989509999999990.62718740.88208140.75070170.233200900000000020.75962160.47970390.90676080.97183999999999990.94370540.98298170.97690760.97967039999999990.91554410000000010.97582810.9507370.37722060.86901529999999990.61656360.9240.97290000000000010.950.9870.97720.9820.930.97580.95400000000000010.4230.90489999999999990.6720.68946190.84373239999999990.76570520.92714029999999990.93818680.93272390.64305910.84039720000000010.74075110.17391780.43890230.29112120.44423380.59241460.51771180.71972510.73520720.72754820.31147430.5327270.42059160.07743380.238735299999999980.15216360.79878969999999990.8487330.8228380.89429249999999990.87389590.88504140000000010.78730289999999990.84315950000000010.81550320.49577920.78205110.60558440.83423969999999990.85852350.84667160.91449380.88141960.89783660.82639010.85383560.84070090.56744210000000010.79687510000000010.66854910.33575350.51418040.41950050.56120980.65975759999999990.60777900000000010.23811580.468318299999999970.34455350.01595390.18748570.10381290.41577020.61767250.50777970000000010.64446830000000010.70743480.67161379999999990.29948390.59025320.43467920.08639870.393999999999999960.2450.65294690.78348910.71497070.83234530000000010.88310749999999990.85716150.61704350.76017260.68487409999999990.23424420.50308760.34890610.74474390.83524580.79039640000000010.92208550.92760999999999990.92490970000000010.68914730.80258260.74638790.39014990.64966669999999990.50932980.12191950.367897900000000060.25307740.21796730.37567150.31406420.095039099999999990.39047390.24263050.02324450.15460780.08552360.21962250.43640090.320038399999999950.372101800000000040.56970510.462950500000000040.14793070.38610460.257450800000000040.0432833000000000040.215780600000000020.13111470.30768510.62157970.45581160.497563200000000040.71250330000000010.60402349999999990.23005790.58893190.39425770.02871050.3768260.194602600000000010.74006320.83778030.78733040.86136520.86938690.86525630000000010.71887140.83046180.77312929999999990.36917530.74622020000000010.54041680.78188930.84988829999999990.81534970000000010.88080.87590.87830.7527910.83982010000000010.79558920.43695330.76417249999999990.57423640.84934890.67747470000000010.76635199999999990.93969880000000010.79608040.86632199999999990.85461990.65064859999999990.75533210.6024270.36595630.51443080.34092260.62696560.483013600000000040.456387100000000050.64957130000000010.5539870.30066610.61918040.45885180.12326990.56849290000000010.322170.6828330.75028870.71572620.75303849999999990.78412480000000010.76829160.67580220.74680560.71026750.38001870.60849060.493664899999999960.72384090.77275140.74804320.80678030000000010.81719840000000010.81198370.69722240.75434860.72551360.49239030.67664990.57676240.51251970.72097650.61309720.69981740.74269250.72139560.46232290.71408480.58299050.1272220.66054270.346289500000000030.55130990.75979259999999990.65145370.73332420.78784660000000010.76081910.50983289999999990.75159460.62472189999999990.15861490.68201480.37536580.55204110.69753970.62143540.7338580.72491720.72935610.50516470.68845030.59097570.15609830.62164610.35142440.202879299999999980.43400630.31099750.339457099999999960.56371270000000010.44301710.14525120.394802899999999960.26090320.01560740.18855640.10782450.24636790.43273920.33560940.390085600000000030.56315019999999990.47136980.17492450.38147160.27417790.059417799999999990.20323920.13328610.221958100000000020.45065920.33068890.39207760.60525489999999990.49366530.15292660.40158290.26794770.02655080.212325699999999980.13601440.25735160.46184140.354737700000000040.43398110.57833260.5013470.178901299999999990.42739180.29494720.069450900000000010.267446400000000030.190820000000000020.433543900000000040.63748550.53497590000000010.56760720.70936330.63947809999999990.391838600000000040.61378060.502550.16312360.44044420.27971540.86658070.91951719999999990.89249840.98575920.97689150.98130350000000010.88697070.91943210.90309970000000010.54754540.78408060.64552110.88979350.94652410.91766010.89050940.94036890.91490030.90283320.94765379999999990.92474760.90654020.94861170000000010.9270760.90980549999999990.95435860000000010.93157839999999990.89366380000000010.93357350.91325390.99353420.98737979999999990.99042029999999990.92521820000000010.93398520000000010.92959310000000010.64400289999999990.93357350.73172580.43062460.70758390.560390.62666990.79067060.7052510.35548490.68253760.50702860.08798860.46310960.26008230.50295140.72599450000000010.60655430.65489769999999990.77260170000000010.70912450.44179370.71962920.57198770.15761470.49967990.311197699999999970.87951060.88631230.88274630.95346320000000010.93458519999999990.94419440.89008840000000010.89711730.89341960.55341450.58566870.56719850.91436430.91627420.91527270.96198440000000010.94109370.95164900000000010.91871410.91516480.91702750.91436430.75148080.69703750.225512900000000020.390586899999999960.305603900000000040.316439100000000030.48557180.397877300000000040.18291250.351909300000000040.26529360.07968710.19830310.13731430.52656480.71255709999999990.62016010.68262630.81580640.75028750.469941699999999960.67778870.57446120.176338800000000020.401089800000000050.28287810.61548609999999990.71130540.65852270.77972460.76658580.77344629999999990.56850940.69012570.62197099999999990.20353840.52971890.32427870.64664490.72445180.68331030.83487390000000010.81120050000000010.82330750.59551690.69539929999999990.642320.132008100000000020.416665399999999960.24298050.66137440.76149730.70804130.86262250.83814099999999990.85066239999999990.61283680.73927660000000010.67109579999999990.10504220.461423300000000040.24331240.69394540.7755880.73215590000000010.88501820.84325930.86492770.65459430.76033429999999990.70411050000000010.14926160.50676180.289849099999999970.8544170.94956170.90143100000000010.96350880.97120769999999990.9673840.85964310.95700920.90781150.303416500000000030.74017920.49575110.89515730.96162679999999990.92816640000000010.97854180.97712459999999990.97782550.89662850.96312940.9297030.4033620.82167820.58389640.40424920.66341540.52051960.58999020.73966510.66032740.34099880.64741020.473504799999999950.08225910.436654899999999960.25088470.335966000000000040.52804470.428175000000000030.50968930.61113760.55895940.26794520.49737470.37731470.07020910.36958360.21464850.39798560.64812280.51900419999999990.63502710.75576409999999990.69478410.29331130.60295389999999990.439633200000000060.0729470.46212110.276667999999999970.94448980.93463920.93954229999999990.99383080.98586719999999990.98971340.96693280.94727410.95682870.73941930.67791410.71537769999999990.9635020.95411760.95867710000000010.9960.98560.99069999999999990.9809030.96787810.97405750.80962040.76365790.78996790000000010.24856680.413321699999999960.32426170.50857090.6453050.57022129999999990.147512299999999990.34785170.23953160.0040250.07134780.0372468000000000040.34852030.51646880000000010.432063300000000040.62699220.70576110.6664860.22274230.438534999999999950.330826800000000030.00717829999999999940.09714170.0457680.91713990.94143850.92877320.98901370.98388720000000010.98644130000000010.9234390.93796870.93042760.63329099999999990.73918590.67151960.92047890.94245090000000010.93102140000000010.99152140.98430639999999990.98789660.92834430.94018790.93406740.64255619999999990.73812439999999990.67680430.92586250.94963720.93729470.99270710.98496549999999990.98882040.93514080000000010.94976850.94223860.65562630.75572739999999990.69146259999999990.93073060.95286850.9413990.99084370000000010.98681720.98882279999999990.94342730000000010.95337560.94828119999999990.67288460.773760.7088350.93408030.95396530.94367919999999990.99229040.98684590.98955780.94689640.95479470000000010.9507610.68667580000000010.78265559999999990.72103990.86458630.87677750.87046670.96875890.93756090.95323819999999990.87513520.87855760.87680570.51188430.59949550000000010.54524030.28864260.402648099999999950.345227599999999970.4736920.48425140.47900960.205647100000000030.37509060.289611699999999970.063883799999999990.17338810.114400099999999990.82447550.83900150.83098290000000010.94748490000000010.92187420.9350230.81722359999999990.81996759999999990.81840260.400739900000000040.52867860.45178860.88542689999999990.88287580000000010.88419380.96695250.94297690.95469370.88998310.86694900000000010.87907360.52285890.62384220.55915550.47977390.74056820.60409940.72708120.86916680.79885909999999990.39758790.71043760000000010.54271920000000010.091709300000000010.29487960.18339780.51241780.77259430.63745620.78370850.89672470.84290110.452871700000000040.74718120.58995270.06293110.39342710.204072099999999980.64591450.82631389999999990.73211880.85471459999999990.89635190.87408829999999990.54427960.80610830000000010.67213629999999990.160826199999999970.55666790.34457530.61970430.79123040.70198220000000010.8165420.85759780000000010.83658879999999990.52834180000000010.76340580.64027130.178807499999999980.57956870.360822100000000030.70838060.82656009999999990.7652750.89950640.8882690.89396310.61448059999999990.79203840.69947580.26308840.65906880.42039780.60752620.7546780.6780070.727710.76491140.74560520.5803460.75233509999999990.66221390.322333799999999950.73134219999999990.52372190000000010.73347179999999990.83377690.78100589999999990.84848020.8717450.85939999999999990.71864920.8408310.77689800000000010.29814390.58998170.43579460.73093829999999990.83204850.77887230000000010.84640799999999990.8701310.85755140.71610789999999990.83918960.7747980.29714440.58860740.43462190.77746640.88684030.83007670.86509450.91195629999999990.88714560000000010.75709390.88411710.81920250.34236520.72872720.52344410000000010.83083440.90601180.86747960.91628190.92559640.92091570.80482970.8981730.85031110.4686450.80933890000000010.60200060.80065659999999990.87764809999999990.83582710.92124560.89590580.9093070.79003649999999990.87389730.82777519999999990.39866460.82594480.59006610.88283830.89185370000000010.88693420.93188350.87591860.90428120000000010.88048480.89725539999999990.88787370.73425760.92723110000000010.811269'"
            ],
            "application/vnd.google.colaboratory.intrinsic+json": {
              "type": "string"
            }
          },
          "metadata": {},
          "execution_count": 514
        }
      ]
    },
    {
      "cell_type": "code",
      "source": [
        "# looks like all the entried are objects, so I'll change them into floats\n",
        "df['Literacy rate'].dtypes"
      ],
      "metadata": {
        "colab": {
          "base_uri": "https://localhost:8080/"
        },
        "id": "fXtKqA1s2RA7",
        "outputId": "97ad0c2a-b942-4317-c748-0db87d85df75"
      },
      "execution_count": 515,
      "outputs": [
        {
          "output_type": "execute_result",
          "data": {
            "text/plain": [
              "dtype('O')"
            ]
          },
          "metadata": {},
          "execution_count": 515
        }
      ]
    },
    {
      "cell_type": "code",
      "source": [
        "# ok so we found that some of the numbers are in percents\n",
        "# now we'll convery the % to decimal \n",
        "# then convert to a float if we have to \n",
        "\n",
        "# df['Literacy rate'] = df['Literacy rate'].astype(float, errors = 'raise')"
      ],
      "metadata": {
        "id": "xw05VbM23Ao-"
      },
      "execution_count": 532,
      "outputs": []
    },
    {
      "cell_type": "code",
      "source": [
        "# only one string as a percent\n",
        "df['Literacy rate'].str.contains('%').sum()"
      ],
      "metadata": {
        "colab": {
          "base_uri": "https://localhost:8080/"
        },
        "id": "LM4rFcmO3WjV",
        "outputId": "5b076f7d-4fa7-4844-93e8-18e4b09c6db3"
      },
      "execution_count": 533,
      "outputs": [
        {
          "output_type": "execute_result",
          "data": {
            "text/plain": [
              "1"
            ]
          },
          "metadata": {},
          "execution_count": 533
        }
      ]
    },
    {
      "cell_type": "code",
      "source": [
        "# wanted to see the data\n",
        "df[df['Literacy rate'].str.contains('%')]"
      ],
      "metadata": {
        "colab": {
          "base_uri": "https://localhost:8080/",
          "height": 112
        },
        "id": "qLbmM_Z34fUf",
        "outputId": "46a035f9-d187-4cf9-9f12-f2d87c8fca2e"
      },
      "execution_count": 534,
      "outputs": [
        {
          "output_type": "execute_result",
          "data": {
            "text/plain": [
              "                          Region      Country  Year    Age Gender  \\\n",
              "index                                                               \n",
              "18     Central and Southern Asia  Afghanistan  2018  25-64   male   \n",
              "\n",
              "      Literacy rate  \n",
              "index                \n",
              "18          45.384%  "
            ],
            "text/html": [
              "\n",
              "  <div id=\"df-c5fc4bed-ba02-4b6a-880c-65b6724d8fa3\">\n",
              "    <div class=\"colab-df-container\">\n",
              "      <div>\n",
              "<style scoped>\n",
              "    .dataframe tbody tr th:only-of-type {\n",
              "        vertical-align: middle;\n",
              "    }\n",
              "\n",
              "    .dataframe tbody tr th {\n",
              "        vertical-align: top;\n",
              "    }\n",
              "\n",
              "    .dataframe thead th {\n",
              "        text-align: right;\n",
              "    }\n",
              "</style>\n",
              "<table border=\"1\" class=\"dataframe\">\n",
              "  <thead>\n",
              "    <tr style=\"text-align: right;\">\n",
              "      <th></th>\n",
              "      <th>Region</th>\n",
              "      <th>Country</th>\n",
              "      <th>Year</th>\n",
              "      <th>Age</th>\n",
              "      <th>Gender</th>\n",
              "      <th>Literacy rate</th>\n",
              "    </tr>\n",
              "    <tr>\n",
              "      <th>index</th>\n",
              "      <th></th>\n",
              "      <th></th>\n",
              "      <th></th>\n",
              "      <th></th>\n",
              "      <th></th>\n",
              "      <th></th>\n",
              "    </tr>\n",
              "  </thead>\n",
              "  <tbody>\n",
              "    <tr>\n",
              "      <th>18</th>\n",
              "      <td>Central and Southern Asia</td>\n",
              "      <td>Afghanistan</td>\n",
              "      <td>2018</td>\n",
              "      <td>25-64</td>\n",
              "      <td>male</td>\n",
              "      <td>45.384%</td>\n",
              "    </tr>\n",
              "  </tbody>\n",
              "</table>\n",
              "</div>\n",
              "      <button class=\"colab-df-convert\" onclick=\"convertToInteractive('df-c5fc4bed-ba02-4b6a-880c-65b6724d8fa3')\"\n",
              "              title=\"Convert this dataframe to an interactive table.\"\n",
              "              style=\"display:none;\">\n",
              "        \n",
              "  <svg xmlns=\"http://www.w3.org/2000/svg\" height=\"24px\"viewBox=\"0 0 24 24\"\n",
              "       width=\"24px\">\n",
              "    <path d=\"M0 0h24v24H0V0z\" fill=\"none\"/>\n",
              "    <path d=\"M18.56 5.44l.94 2.06.94-2.06 2.06-.94-2.06-.94-.94-2.06-.94 2.06-2.06.94zm-11 1L8.5 8.5l.94-2.06 2.06-.94-2.06-.94L8.5 2.5l-.94 2.06-2.06.94zm10 10l.94 2.06.94-2.06 2.06-.94-2.06-.94-.94-2.06-.94 2.06-2.06.94z\"/><path d=\"M17.41 7.96l-1.37-1.37c-.4-.4-.92-.59-1.43-.59-.52 0-1.04.2-1.43.59L10.3 9.45l-7.72 7.72c-.78.78-.78 2.05 0 2.83L4 21.41c.39.39.9.59 1.41.59.51 0 1.02-.2 1.41-.59l7.78-7.78 2.81-2.81c.8-.78.8-2.07 0-2.86zM5.41 20L4 18.59l7.72-7.72 1.47 1.35L5.41 20z\"/>\n",
              "  </svg>\n",
              "      </button>\n",
              "      \n",
              "  <style>\n",
              "    .colab-df-container {\n",
              "      display:flex;\n",
              "      flex-wrap:wrap;\n",
              "      gap: 12px;\n",
              "    }\n",
              "\n",
              "    .colab-df-convert {\n",
              "      background-color: #E8F0FE;\n",
              "      border: none;\n",
              "      border-radius: 50%;\n",
              "      cursor: pointer;\n",
              "      display: none;\n",
              "      fill: #1967D2;\n",
              "      height: 32px;\n",
              "      padding: 0 0 0 0;\n",
              "      width: 32px;\n",
              "    }\n",
              "\n",
              "    .colab-df-convert:hover {\n",
              "      background-color: #E2EBFA;\n",
              "      box-shadow: 0px 1px 2px rgba(60, 64, 67, 0.3), 0px 1px 3px 1px rgba(60, 64, 67, 0.15);\n",
              "      fill: #174EA6;\n",
              "    }\n",
              "\n",
              "    [theme=dark] .colab-df-convert {\n",
              "      background-color: #3B4455;\n",
              "      fill: #D2E3FC;\n",
              "    }\n",
              "\n",
              "    [theme=dark] .colab-df-convert:hover {\n",
              "      background-color: #434B5C;\n",
              "      box-shadow: 0px 1px 3px 1px rgba(0, 0, 0, 0.15);\n",
              "      filter: drop-shadow(0px 1px 2px rgba(0, 0, 0, 0.3));\n",
              "      fill: #FFFFFF;\n",
              "    }\n",
              "  </style>\n",
              "\n",
              "      <script>\n",
              "        const buttonEl =\n",
              "          document.querySelector('#df-c5fc4bed-ba02-4b6a-880c-65b6724d8fa3 button.colab-df-convert');\n",
              "        buttonEl.style.display =\n",
              "          google.colab.kernel.accessAllowed ? 'block' : 'none';\n",
              "\n",
              "        async function convertToInteractive(key) {\n",
              "          const element = document.querySelector('#df-c5fc4bed-ba02-4b6a-880c-65b6724d8fa3');\n",
              "          const dataTable =\n",
              "            await google.colab.kernel.invokeFunction('convertToInteractive',\n",
              "                                                     [key], {});\n",
              "          if (!dataTable) return;\n",
              "\n",
              "          const docLinkHtml = 'Like what you see? Visit the ' +\n",
              "            '<a target=\"_blank\" href=https://colab.research.google.com/notebooks/data_table.ipynb>data table notebook</a>'\n",
              "            + ' to learn more about interactive tables.';\n",
              "          element.innerHTML = '';\n",
              "          dataTable['output_type'] = 'display_data';\n",
              "          await google.colab.output.renderOutput(dataTable, element);\n",
              "          const docLink = document.createElement('div');\n",
              "          docLink.innerHTML = docLinkHtml;\n",
              "          element.appendChild(docLink);\n",
              "        }\n",
              "      </script>\n",
              "    </div>\n",
              "  </div>\n",
              "  "
            ]
          },
          "metadata": {},
          "execution_count": 534
        }
      ]
    },
    {
      "cell_type": "code",
      "source": [
        "# we don't need a loop here, but it was practice for me to write loops and functions!\n",
        "percent = len(df[df['Literacy rate'].str.contains('%')].values)\n",
        "percent_df = df['Literacy rate'].str.contains('%')\n",
        "\n",
        "for i in range(0, percent):\n",
        "  val = df[percent_df].values[i][-1]\n",
        "  clean = float(val.replace('%', '')) / 100\n",
        "  df[percent_df] = df[percent_df].replace(val, clean)"
      ],
      "metadata": {
        "id": "tWKkq9DD4sJw"
      },
      "execution_count": 535,
      "outputs": []
    },
    {
      "cell_type": "code",
      "source": [
        "df['Literacy rate'].str.contains('%').sum()\n",
        "# df.head()"
      ],
      "metadata": {
        "colab": {
          "base_uri": "https://localhost:8080/"
        },
        "id": "r5WEhwyD6LgP",
        "outputId": "3e13852e-3b47-4214-c4de-ee6e0dcd874c"
      },
      "execution_count": 536,
      "outputs": [
        {
          "output_type": "execute_result",
          "data": {
            "text/plain": [
              "0"
            ]
          },
          "metadata": {},
          "execution_count": 536
        }
      ]
    },
    {
      "cell_type": "code",
      "source": [
        "# changed literacy rate to a float\n",
        "df['Literacy rate'] = df['Literacy rate'].astype(float, errors = 'raise')"
      ],
      "metadata": {
        "id": "_Nesh5heN_-S"
      },
      "execution_count": 537,
      "outputs": []
    },
    {
      "cell_type": "code",
      "source": [
        "df.dtypes"
      ],
      "metadata": {
        "colab": {
          "base_uri": "https://localhost:8080/"
        },
        "id": "RK-l92ZUPHT4",
        "outputId": "19ad37a1-9cdd-4399-bded-9f2f8870d792"
      },
      "execution_count": 539,
      "outputs": [
        {
          "output_type": "execute_result",
          "data": {
            "text/plain": [
              "Region            object\n",
              "Country           object\n",
              "Year               int64\n",
              "Age               object\n",
              "Gender            object\n",
              "Literacy rate    float64\n",
              "dtype: object"
            ]
          },
          "metadata": {},
          "execution_count": 539
        }
      ]
    },
    {
      "cell_type": "markdown",
      "source": [
        "### **D.** Identify and address any inconsistencies in categorical values (example: cat, Cat, cats)"
      ],
      "metadata": {
        "id": "V_3L1casOHX8"
      }
    },
    {
      "cell_type": "code",
      "source": [
        "# ?? otherways to fund duplicates\n",
        "for col in df:\n",
        "    print(col)\n",
        "    print(df[col].unique())\n",
        "    print('\\n')"
      ],
      "metadata": {
        "colab": {
          "base_uri": "https://localhost:8080/"
        },
        "id": "xCdFNMZROKkA",
        "outputId": "5580172e-deab-49ec-9dda-61ef58f15fe4"
      },
      "execution_count": 547,
      "outputs": [
        {
          "output_type": "stream",
          "name": "stdout",
          "text": [
            "Region\n",
            "['Central and Southern Asia' 'missing' 'Eastern and South-Eastern Asia'\n",
            " 'Europe and Northern America' 'Latin America and the Caribbean'\n",
            " 'Northern Africa and Western Asia' 'Oceania' 'Sub-Saharan Africa']\n",
            "\n",
            "\n",
            "Country\n",
            "['Afghanistan' 'Bangladesh' 'Bhutan' 'India' 'Iran (Islamic Republic of)'\n",
            " 'Kazakhstan' 'Kyrgyzstan' 'Maldives' 'Nepal' 'Pakistan' 'Sri Lanka'\n",
            " 'Tajikistan' 'Turkmenistan' 'Uzbekistan' 'Brunei Darussalam' 'Cambodia'\n",
            " 'China' 'China, Macao Special Administrative Region' 'Indonesia'\n",
            " \"Lao People's Democratic Republic\" 'Malaysia' 'Mongolia' 'Myanmar'\n",
            " 'Philippines' 'Singapore' 'Thailand' 'Timor-Leste' 'Viet Nam' 'Albania'\n",
            " 'Belarus' 'Bosnia and Herzegovina' 'Bulgaria' 'Croatia' 'Estonia'\n",
            " 'Greece' 'Hungary' 'Italy' 'Latvia' 'Lithuania' 'Malta' 'Montenegro'\n",
            " 'Portugal' 'Republic of Moldova' 'Romania' 'Russian Federation'\n",
            " 'San Marino' 'Serbia' 'Slovenia' 'Spain'\n",
            " 'The former Yugoslav Republic of Macedonia' 'Ukraine'\n",
            " 'Antigua and Barbuda' 'Argentina' 'Aruba' 'Barbados'\n",
            " 'Bolivia (Plurinational State of)' 'Brazil' 'Chile' 'Colombia'\n",
            " 'Costa Rica' 'Cuba' 'Dominican Republic' 'Ecuador' 'El Salvador'\n",
            " 'Grenada' 'Guadeloupe' 'Guatemala' 'Guyana' 'Haiti' 'Honduras' 'Jamaica'\n",
            " 'Martinique' 'Mexico' 'Nicaragua' 'Panama' 'Paraguay' 'Peru'\n",
            " 'Puerto Rico' 'Suriname' 'Trinidad and Tobago' 'Uruguay'\n",
            " 'Venezuela (Bolivarian Republic of)' 'Algeria' 'Armenia' 'Azerbaijan'\n",
            " 'Bahrain' 'Cyprus' 'Egypt' 'Georgia' 'Iraq' 'Jordan' 'Kuwait' 'Lebanon'\n",
            " 'Morocco' 'Oman' 'Palestine' 'Qatar' 'Saudi Arabia' 'Sudan' 'Tunisia'\n",
            " 'Turkey' 'Fiji' 'Marshall Islands' 'New Caledonia\\xa0' 'Palau'\n",
            " 'Papua New Guinea' 'Samoa' 'Tonga' 'Vanuatu' 'Angola' 'Benin' 'Botswana'\n",
            " 'Burkina Faso' 'Burundi' 'Cabo Verde' 'Cameroon'\n",
            " 'Central African Republic' 'Chad' 'Comoros' 'Congo' \"Côte d'Ivoire\"\n",
            " 'Democratic Republic of the Congo' 'Equatorial Guinea' 'Eritrea'\n",
            " 'Ethiopia' 'Gabon' 'Gambia' 'Ghana' 'Guinea' 'Guinea-Bissau' 'Kenya'\n",
            " 'Lesotho' 'Liberia' 'Madagascar' 'Malawi' 'Mali' 'Mauritania' 'Mauritius'\n",
            " 'Mozambique' 'Namibia' 'Niger' 'Nigeria' 'Rwanda' 'Sao Tome and Principe'\n",
            " 'Senegal' 'Seychelles' 'Sierra Leone' 'South Africa' 'South Sudan'\n",
            " 'Swaziland' 'Togo' 'Uganda' 'United Republic of Tanzania' 'Zambia'\n",
            " 'Zimbabwe']\n",
            "\n",
            "\n",
            "Year\n",
            "[2011 2018 2012 2013 2014 2015 2016 2017 2010]\n",
            "\n",
            "\n",
            "Age\n",
            "['15+' '15-24' '25-64' '65+']\n",
            "\n",
            "\n",
            "Gender\n",
            "['female' 'male' 'missing']\n",
            "\n",
            "\n",
            "Literacy rate\n",
            "[0.1761206 0.454171  0.3174112 ... 0.7342576 0.9272311 0.811269 ]\n",
            "\n",
            "\n"
          ]
        }
      ]
    },
    {
      "cell_type": "code",
      "source": [
        "# we've not looked at Country, so lets look at that\n",
        "# lets sort the data first, It'll be eaiser to find flaws that way\n",
        "country = df['Country'].unique()\n",
        "# df.sort_values(by=['Country'])\n",
        "country.sort()\n",
        "print(country)\n"
      ],
      "metadata": {
        "colab": {
          "base_uri": "https://localhost:8080/"
        },
        "id": "_CSZywvfOpju",
        "outputId": "1772e840-2367-46de-ff9f-86053e6d4d06"
      },
      "execution_count": 568,
      "outputs": [
        {
          "output_type": "stream",
          "name": "stdout",
          "text": [
            "['Afghanistan' 'Albania' 'Algeria' 'Angola' 'Antigua and Barbuda'\n",
            " 'Argentina' 'Armenia' 'Aruba' 'Azerbaijan' 'Bahrain' 'Bangladesh'\n",
            " 'Barbados' 'Belarus' 'Benin' 'Bhutan' 'Bolivia (Plurinational State of)'\n",
            " 'Bosnia and Herzegovina' 'Botswana' 'Brazil' 'Brunei Darussalam'\n",
            " 'Bulgaria' 'Burkina Faso' 'Burundi' 'Cabo Verde' 'Cambodia' 'Cameroon'\n",
            " 'Central African Republic' 'Chad' 'Chile' 'China'\n",
            " 'China, Macao Special Administrative Region' 'Colombia' 'Comoros' 'Congo'\n",
            " 'Costa Rica' 'Croatia' 'Cuba' 'Cyprus' \"Côte d'Ivoire\"\n",
            " 'Democratic Republic of the Congo' 'Dominican Republic' 'Ecuador' 'Egypt'\n",
            " 'El Salvador' 'Equatorial Guinea' 'Eritrea' 'Estonia' 'Ethiopia' 'Fiji'\n",
            " 'Gabon' 'Gambia' 'Georgia' 'Ghana' 'Greece' 'Grenada' 'Guadeloupe'\n",
            " 'Guatemala' 'Guinea' 'Guinea-Bissau' 'Guyana' 'Haiti' 'Honduras'\n",
            " 'Hungary' 'India' 'Indonesia' 'Iran (Islamic Republic of)' 'Iraq' 'Italy'\n",
            " 'Jamaica' 'Jordan' 'Kazakhstan' 'Kenya' 'Kuwait' 'Kyrgyzstan'\n",
            " \"Lao People's Democratic Republic\" 'Latvia' 'Lebanon' 'Lesotho' 'Liberia'\n",
            " 'Lithuania' 'Madagascar' 'Malawi' 'Malaysia' 'Maldives' 'Mali' 'Malta'\n",
            " 'Marshall Islands' 'Martinique' 'Mauritania' 'Mauritius' 'Mexico'\n",
            " 'Mongolia' 'Montenegro' 'Morocco' 'Mozambique' 'Myanmar' 'Namibia'\n",
            " 'Nepal' 'New Caledonia\\xa0' 'Nicaragua' 'Niger' 'Nigeria' 'Oman'\n",
            " 'Pakistan' 'Palau' 'Palestine' 'Panama' 'Papua New Guinea' 'Paraguay'\n",
            " 'Peru' 'Philippines' 'Portugal' 'Puerto Rico' 'Qatar'\n",
            " 'Republic of Moldova' 'Romania' 'Russian Federation' 'Rwanda' 'Samoa'\n",
            " 'San Marino' 'Sao Tome and Principe' 'Saudi Arabia' 'Senegal' 'Serbia'\n",
            " 'Seychelles' 'Sierra Leone' 'Singapore' 'Slovenia' 'South Africa'\n",
            " 'South Sudan' 'Spain' 'Sri Lanka' 'Sudan' 'Suriname' 'Swaziland'\n",
            " 'Tajikistan' 'Thailand' 'The former Yugoslav Republic of Macedonia'\n",
            " 'Timor-Leste' 'Togo' 'Tonga' 'Trinidad and Tobago' 'Tunisia' 'Turkey'\n",
            " 'Turkmenistan' 'Uganda' 'Ukraine' 'United Republic of Tanzania' 'Uruguay'\n",
            " 'Uzbekistan' 'Vanuatu' 'Venezuela (Bolivarian Republic of)' 'Viet Nam'\n",
            " 'Zambia' 'Zimbabwe']\n"
          ]
        }
      ]
    },
    {
      "cell_type": "markdown",
      "source": [
        "I'll need to look these up, see if there's a readon to keep them different\n",
        "\n",
        "1. China' same as 'China, Macao Special Administrative Region'\n",
        "  - different countries\n",
        "2. Congo and Democratic Republic of the Congo\n",
        "  - same, seems like there's a division in the city itslef, but they're still all 'Democratic Republic of the Congo'\n",
        "3. Guinea' 'Guinea-Bissau' or 'Papua New Guinea'\n",
        "  - all different\n",
        "4. Lao People's Democratic Republic\n",
        "  - good here\n",
        "5. Viet Nam - ?spelled wrong\n",
        "  -fixed the spelling"
      ],
      "metadata": {
        "id": "dasHg-UzQ571"
      }
    },
    {
      "cell_type": "markdown",
      "source": [
        "#### Congo"
      ],
      "metadata": {
        "id": "_QDeCUSeTluZ"
      }
    },
    {
      "cell_type": "code",
      "source": [
        "df['Country'] = df['Country'].replace({\"Democratic Republic of the Congo\": \"Congo\"})"
      ],
      "metadata": {
        "id": "aPqMMLS0S_kH"
      },
      "execution_count": 571,
      "outputs": []
    },
    {
      "cell_type": "markdown",
      "source": [
        "#### Viet Nam"
      ],
      "metadata": {
        "id": "mof79W49TX19"
      }
    },
    {
      "cell_type": "code",
      "source": [
        "df['Country'] = df['Country'].replace({\"Viet Nam\": \"Vietnam\"})"
      ],
      "metadata": {
        "id": "YP0sgO6TULkg"
      },
      "execution_count": 574,
      "outputs": []
    },
    {
      "cell_type": "code",
      "source": [
        "# we've not looked at Country, so lets look at that\n",
        "# lets sort the data first, It'll be eaiser to find flaws that way\n",
        "country = df['Country'].unique()\n",
        "# df.sort_values(by=['Country'])\n",
        "country.sort()\n",
        "print(country)"
      ],
      "metadata": {
        "colab": {
          "base_uri": "https://localhost:8080/"
        },
        "id": "xvOnX1q3UIWd",
        "outputId": "da3d1e20-219c-414e-c1ab-58b221c3db3e"
      },
      "execution_count": 575,
      "outputs": [
        {
          "output_type": "stream",
          "name": "stdout",
          "text": [
            "['Afghanistan' 'Albania' 'Algeria' 'Angola' 'Antigua and Barbuda'\n",
            " 'Argentina' 'Armenia' 'Aruba' 'Azerbaijan' 'Bahrain' 'Bangladesh'\n",
            " 'Barbados' 'Belarus' 'Benin' 'Bhutan' 'Bolivia (Plurinational State of)'\n",
            " 'Bosnia and Herzegovina' 'Botswana' 'Brazil' 'Brunei Darussalam'\n",
            " 'Bulgaria' 'Burkina Faso' 'Burundi' 'Cabo Verde' 'Cambodia' 'Cameroon'\n",
            " 'Central African Republic' 'Chad' 'Chile' 'China'\n",
            " 'China, Macao Special Administrative Region' 'Colombia' 'Comoros' 'Congo'\n",
            " 'Costa Rica' 'Croatia' 'Cuba' 'Cyprus' \"Côte d'Ivoire\"\n",
            " 'Dominican Republic' 'Ecuador' 'Egypt' 'El Salvador' 'Equatorial Guinea'\n",
            " 'Eritrea' 'Estonia' 'Ethiopia' 'Fiji' 'Gabon' 'Gambia' 'Georgia' 'Ghana'\n",
            " 'Greece' 'Grenada' 'Guadeloupe' 'Guatemala' 'Guinea' 'Guinea-Bissau'\n",
            " 'Guyana' 'Haiti' 'Honduras' 'Hungary' 'India' 'Indonesia'\n",
            " 'Iran (Islamic Republic of)' 'Iraq' 'Italy' 'Jamaica' 'Jordan'\n",
            " 'Kazakhstan' 'Kenya' 'Kuwait' 'Kyrgyzstan'\n",
            " \"Lao People's Democratic Republic\" 'Latvia' 'Lebanon' 'Lesotho' 'Liberia'\n",
            " 'Lithuania' 'Madagascar' 'Malawi' 'Malaysia' 'Maldives' 'Mali' 'Malta'\n",
            " 'Marshall Islands' 'Martinique' 'Mauritania' 'Mauritius' 'Mexico'\n",
            " 'Mongolia' 'Montenegro' 'Morocco' 'Mozambique' 'Myanmar' 'Namibia'\n",
            " 'Nepal' 'New Caledonia\\xa0' 'Nicaragua' 'Niger' 'Nigeria' 'Oman'\n",
            " 'Pakistan' 'Palau' 'Palestine' 'Panama' 'Papua New Guinea' 'Paraguay'\n",
            " 'Peru' 'Philippines' 'Portugal' 'Puerto Rico' 'Qatar'\n",
            " 'Republic of Moldova' 'Romania' 'Russian Federation' 'Rwanda' 'Samoa'\n",
            " 'San Marino' 'Sao Tome and Principe' 'Saudi Arabia' 'Senegal' 'Serbia'\n",
            " 'Seychelles' 'Sierra Leone' 'Singapore' 'Slovenia' 'South Africa'\n",
            " 'South Sudan' 'Spain' 'Sri Lanka' 'Sudan' 'Suriname' 'Swaziland'\n",
            " 'Tajikistan' 'Thailand' 'The former Yugoslav Republic of Macedonia'\n",
            " 'Timor-Leste' 'Togo' 'Tonga' 'Trinidad and Tobago' 'Tunisia' 'Turkey'\n",
            " 'Turkmenistan' 'Uganda' 'Ukraine' 'United Republic of Tanzania' 'Uruguay'\n",
            " 'Uzbekistan' 'Vanuatu' 'Venezuela (Bolivarian Republic of)' 'Vietnam'\n",
            " 'Zambia' 'Zimbabwe']\n"
          ]
        }
      ]
    },
    {
      "cell_type": "markdown",
      "source": [
        "### **E.**  Identify and address any inappropriate or unusual data points (example: age cannot be 325)"
      ],
      "metadata": {
        "id": "FyMZ4h7-UlOW"
      }
    },
    {
      "cell_type": "markdown",
      "source": [
        "#### Age"
      ],
      "metadata": {
        "id": "VD9SwNWZtq44"
      }
    },
    {
      "cell_type": "code",
      "source": [
        "# Getting a sense of the data dn the values present\n",
        "df['Age'].values"
      ],
      "metadata": {
        "colab": {
          "base_uri": "https://localhost:8080/"
        },
        "id": "0UM5jP_ftsSv",
        "outputId": "62543649-8e5b-4ff7-a400-caf780fcdda7"
      },
      "execution_count": null,
      "outputs": [
        {
          "output_type": "execute_result",
          "data": {
            "text/plain": [
              "array(['15+', '15+', '15+', ..., '65+', '65+', '65+'], dtype=object)"
            ]
          },
          "metadata": {},
          "execution_count": 518
        }
      ]
    },
    {
      "cell_type": "code",
      "source": [
        "df['Age'].describe()"
      ],
      "metadata": {
        "colab": {
          "base_uri": "https://localhost:8080/"
        },
        "id": "rg-NJFb4t-RG",
        "outputId": "535d6f1d-95c5-4a1f-ab31-ce48b70d8d78"
      },
      "execution_count": null,
      "outputs": [
        {
          "output_type": "execute_result",
          "data": {
            "text/plain": [
              "count     4955\n",
              "unique       4\n",
              "top        15+\n",
              "freq      1260\n",
              "Name: Age, dtype: object"
            ]
          },
          "metadata": {},
          "execution_count": 519
        }
      ]
    },
    {
      "cell_type": "code",
      "source": [
        "# Ok we're not going to do anything with this. Some sets of data have + others - to signifiy range. since there are describing the data we're going to leave as is\n",
        "df['Age'].unique()"
      ],
      "metadata": {
        "colab": {
          "base_uri": "https://localhost:8080/"
        },
        "id": "ijkVKzz_uSrx",
        "outputId": "3e0d1e90-d05d-4201-8084-647b92f9d6e4"
      },
      "execution_count": null,
      "outputs": [
        {
          "output_type": "execute_result",
          "data": {
            "text/plain": [
              "array(['15+', '15-24', '25-64', '65+'], dtype=object)"
            ]
          },
          "metadata": {},
          "execution_count": 520
        }
      ]
    },
    {
      "cell_type": "code",
      "source": [
        "# Other than that all looks good"
      ],
      "metadata": {
        "id": "1krV-rGOU1gD"
      },
      "execution_count": null,
      "outputs": []
    },
    {
      "cell_type": "markdown",
      "source": [
        "## 2. The next step is to complete an exploration of the data using Python. This should include:\n",
        "\n",
        "**a.** Two different types of univariate exploratory visualizations. Each visualization must include a brief interpretation within the code file.<br/>\n",
        "**b.** Two different types of multivariate exploratory visualizations.  Each visualization must include a brief interpretation within the code file."
      ],
      "metadata": {
        "id": "a8ATLWfUU3zp"
      }
    },
    {
      "cell_type": "code",
      "source": [
        ""
      ],
      "metadata": {
        "id": "AumXKgV2VHIG"
      },
      "execution_count": null,
      "outputs": []
    },
    {
      "cell_type": "markdown",
      "source": [
        "##  Answer to the questions\n",
        "1. Understand where they should focus their next project\n",
        "2. Strategies to use to have the biggest impact in increasing youth literacy rates "
      ],
      "metadata": {
        "id": "8bXZbElyVXWX"
      }
    },
    {
      "cell_type": "markdown",
      "source": [
        "## References \n",
        "\n",
        "1. Project - https://colab.research.google.com/drive/16OrCBoBAbPQf-kOIRx0damRVO57X3hCW#scrollTo=pIbHN95jNFaH\n",
        "  - referenced: replace\n",
        "  - referenced: col function\n",
        "2. Stack Overflow: astype - https://stackoverflow.com/questions/66295318/finding-sum-when-values-are-in-dtype-object\n",
        "  - Meaning of dtype('O') -  https://stackoverflow.com/questions/37561991/what-is-dtypeo-in-pandas\n",
        "  - Changing the dtype of a column - https://www.delftstack.com/howto/python-pandas/pandas-convert-object-to-float/\n",
        "3. References builtin functions from lesson - https://colab.research.google.com/drive/1ge769cDr54uMHm6EQvYrCJ4h1YyylO9D\n",
        "4. Print all Column names - https://www.geeksforgeeks.org/how-to-get-column-names-in-pandas-dataframe/\n",
        "  - set a column to inde column - https://www.delftstack.com/howto/python-pandas/pandas-convert-object-to-float/\n",
        "  - creataing and setting an index column -https://stackoverflow.com/questions/12168648/pandas-python-how-to-add-column-to-dataframe-for-index\n",
        "  - set a certain column index to the index column - https://colab.research.google.com/drive/1ge769cDr54uMHm6EQvYrCJ4h1YyylO9D#scrollTo=k53j2nsyopVr\n",
        "5. Removinga character form a string - https://note.nkmk.me/en/python-str-num-conversion/#:~:text=the%20following%20article.-,Convert%20a%20string%20to%20an%20integer%3A%20int(),numbers%20to%20an%20integer%20int%20.&text=A%20string%20containing%20.%20or%20%2C%20causes%20an%20error.&text=A%20comma%2Dseparated%20string%20can,with%20the%20empty%20string%20''%20)."
      ],
      "metadata": {
        "id": "PGThh5o_0W7f"
      }
    }
  ]
}