{
  "nbformat": 4,
  "nbformat_minor": 0,
  "metadata": {
    "colab": {
      "name": "bake_two.ipynb",
      "provenance": [],
      "authorship_tag": "ABX9TyNB9csjJ5QrNHOMyvd7gIpK",
      "include_colab_link": true
    },
    "kernelspec": {
      "name": "python3",
      "display_name": "Python 3"
    },
    "language_info": {
      "name": "python"
    }
  },
  "cells": [
    {
      "cell_type": "markdown",
      "metadata": {
        "id": "view-in-github",
        "colab_type": "text"
      },
      "source": [
        "<a href=\"https://colab.research.google.com/github/lisabroadhead/machine-learning/blob/main/bake_two.ipynb\" target=\"_parent\"><img src=\"https://colab.research.google.com/assets/colab-badge.svg\" alt=\"Open In Colab\"/></a>"
      ]
    },
    {
      "cell_type": "markdown",
      "source": [
        "# Bakery Numpy Exercise (Core) \n",
        "\n",
        "Note: One challenge of this exercise is staying organized, so we recommend you keep track of what is going on with paper and pencil as you work through the exercise."
      ],
      "metadata": {
        "id": "c-7UVcOE2FTD"
      }
    },
    {
      "cell_type": "code",
      "metadata": {
        "colab": {
          "base_uri": "https://localhost:8080/"
        },
        "id": "ev4sAErNUgAi",
        "outputId": "8ab552f9-4ce2-4ced-a48f-36196a6287a4"
      },
      "source": [
        "price = [2, 1, 10]\n",
        "type(price)"
      ],
      "execution_count": null,
      "outputs": [
        {
          "output_type": "execute_result",
          "data": {
            "text/plain": [
              "list"
            ]
          },
          "metadata": {},
          "execution_count": 1
        }
      ]
    },
    {
      "cell_type": "code",
      "metadata": {
        "colab": {
          "base_uri": "https://localhost:8080/"
        },
        "id": "TkA8x3t5UzQX",
        "outputId": "70d4456d-7646-475a-eb77-e8ade2a2b510"
      },
      "source": [
        "quantity = [17, 40, 1]\n",
        "type(quantity)"
      ],
      "execution_count": null,
      "outputs": [
        {
          "output_type": "execute_result",
          "data": {
            "text/plain": [
              "list"
            ]
          },
          "metadata": {},
          "execution_count": 2
        }
      ]
    },
    {
      "cell_type": "code",
      "metadata": {
        "id": "tGWEfasRU4J4"
      },
      "source": [
        "# price * quantity"
      ],
      "execution_count": null,
      "outputs": []
    },
    {
      "cell_type": "code",
      "metadata": {
        "id": "7Pdo44osU7Qr"
      },
      "source": [
        "import numpy as np"
      ],
      "execution_count": null,
      "outputs": []
    },
    {
      "cell_type": "code",
      "metadata": {
        "colab": {
          "base_uri": "https://localhost:8080/"
        },
        "id": "Y_FoXPDuU9X7",
        "outputId": "a1f740e9-2f5f-484b-a4e9-ced0a43b3605"
      },
      "source": [
        "price_array = np.array(price)\n",
        "quantity_array = np.array(quantity)\n",
        "type(price_array)"
      ],
      "execution_count": null,
      "outputs": [
        {
          "output_type": "execute_result",
          "data": {
            "text/plain": [
              "numpy.ndarray"
            ]
          },
          "metadata": {},
          "execution_count": 5
        }
      ]
    },
    {
      "cell_type": "code",
      "metadata": {
        "colab": {
          "base_uri": "https://localhost:8080/"
        },
        "id": "RHeZ10KPVElu",
        "outputId": "07daa0dd-a065-45e5-cb9b-a2fb8371c234"
      },
      "source": [
        "price_array * quantity_array"
      ],
      "execution_count": null,
      "outputs": [
        {
          "output_type": "execute_result",
          "data": {
            "text/plain": [
              "array([34, 40, 10])"
            ]
          },
          "metadata": {},
          "execution_count": 6
        }
      ]
    },
    {
      "cell_type": "code",
      "metadata": {
        "id": "2VCgaG5kVIsi"
      },
      "source": [
        "cost_array = np.array([0.25, 0.50, 5.00])"
      ],
      "execution_count": null,
      "outputs": []
    },
    {
      "cell_type": "code",
      "metadata": {
        "colab": {
          "base_uri": "https://localhost:8080/"
        },
        "id": "Kqz1QjPmVNjc",
        "outputId": "22dc50aa-0536-4286-dead-037cbc193eec"
      },
      "source": [
        "profit_array = price_array - cost_array\n",
        "print(profit_array)\n"
      ],
      "execution_count": null,
      "outputs": [
        {
          "output_type": "stream",
          "name": "stdout",
          "text": [
            "[1.75 0.5  5.  ]\n"
          ]
        }
      ]
    },
    {
      "cell_type": "code",
      "metadata": {
        "colab": {
          "base_uri": "https://localhost:8080/"
        },
        "id": "ypULDNmRVRAY",
        "outputId": "2019ee53-8cea-41e6-a192-0011374220d7"
      },
      "source": [
        "profit_array > 2.00\n"
      ],
      "execution_count": null,
      "outputs": [
        {
          "output_type": "execute_result",
          "data": {
            "text/plain": [
              "array([False, False,  True])"
            ]
          },
          "metadata": {},
          "execution_count": 9
        }
      ]
    },
    {
      "cell_type": "code",
      "metadata": {
        "colab": {
          "base_uri": "https://localhost:8080/"
        },
        "id": "_vm50VzDVTed",
        "outputId": "d1cbcf1b-6943-41d4-ddd1-6c060ac16d62"
      },
      "source": [
        "price_array = price_array + [7]\n",
        "print(price_array)\n"
      ],
      "execution_count": null,
      "outputs": [
        {
          "output_type": "stream",
          "name": "stdout",
          "text": [
            "[ 9  8 17]\n"
          ]
        }
      ]
    },
    {
      "cell_type": "code",
      "metadata": {
        "colab": {
          "base_uri": "https://localhost:8080/"
        },
        "id": "q-YAOQgWVXGw",
        "outputId": "93dcf86a-402e-4075-9e71-48591fa505df"
      },
      "source": [
        "# Just fixing the mistake\n",
        "price_array = price_array - [7]\n",
        "# The proper way to append an element to an array\n",
        "price_array = np.append(price_array, 7)\n",
        "print(price_array)\n"
      ],
      "execution_count": null,
      "outputs": [
        {
          "output_type": "stream",
          "name": "stdout",
          "text": [
            "[ 2  1 10  7]\n"
          ]
        }
      ]
    },
    {
      "cell_type": "code",
      "metadata": {
        "colab": {
          "base_uri": "https://localhost:8080/"
        },
        "id": "SO786-UWVZMi",
        "outputId": "0da726ad-075c-4fb5-98b6-aa79b4457a18"
      },
      "source": [
        "price_array = np.append(price_array, [4.50, 3, 4, 9])\n",
        "print(price_array)\n",
        "\n"
      ],
      "execution_count": null,
      "outputs": [
        {
          "output_type": "stream",
          "name": "stdout",
          "text": [
            "[ 2.   1.  10.   7.   4.5  3.   4.   9. ]\n"
          ]
        }
      ]
    },
    {
      "cell_type": "code",
      "metadata": {
        "colab": {
          "base_uri": "https://localhost:8080/"
        },
        "id": "-4vXAPEcVdcU",
        "outputId": "bf43b86c-19de-4ece-e67c-c5f5e23fc2a7"
      },
      "source": [
        "print(price_array.dtype)\n"
      ],
      "execution_count": null,
      "outputs": [
        {
          "output_type": "stream",
          "name": "stdout",
          "text": [
            "float64\n"
          ]
        }
      ]
    },
    {
      "cell_type": "code",
      "metadata": {
        "colab": {
          "base_uri": "https://localhost:8080/"
        },
        "id": "y8-tYZcHVgon",
        "outputId": "9a781e4b-8631-4960-abd0-5c077dbf9807"
      },
      "source": [
        "price_array = np.delete(price_array, -1)\n",
        "print(price_array)\n"
      ],
      "execution_count": null,
      "outputs": [
        {
          "output_type": "stream",
          "name": "stdout",
          "text": [
            "[ 2.   1.  10.   7.   4.5  3.   4. ]\n"
          ]
        }
      ]
    },
    {
      "cell_type": "code",
      "metadata": {
        "colab": {
          "base_uri": "https://localhost:8080/"
        },
        "id": "LR2xG2_FVjLr",
        "outputId": "7911a297-16ff-4e53-d174-1c83e604b77e"
      },
      "source": [
        "price_array[2] = 12\n",
        "print(price_array)\n"
      ],
      "execution_count": null,
      "outputs": [
        {
          "output_type": "stream",
          "name": "stdout",
          "text": [
            "[ 2.   1.  12.   7.   4.5  3.   4. ]\n"
          ]
        }
      ]
    },
    {
      "cell_type": "markdown",
      "source": [
        "1) OPEN THE NOTEBOOK YOU CREATED DURING THE PREVIOUS LESSON: INTRO TO NUMPY ARRAYS!\n",
        "\n",
        "If you did not start this notebook, please go back to the INTRO TO NUMPY ARRAYS lesson and follow along with the code before starting this task!\n",
        "\n",
        "You will start this task where the demonstration code left off.  "
      ],
      "metadata": {
        "id": "l8IAB9J92gND"
      }
    },
    {
      "cell_type": "markdown",
      "source": [
        "# The Assignment Starts Here"
      ],
      "metadata": {
        "id": "uIUAfF9c2jJ1"
      }
    },
    {
      "cell_type": "markdown",
      "metadata": {
        "id": "1xunhHPaWCi-"
      },
      "source": [
        "2) Update the  quantity_sold_array to include the sale of 2 pies,  3 trays of fudge, 16 cupcakes, and 5 loaves of banana bread.  You also realize that one of the cookies you thought was sold had actually fallen on the ground, so edit the quantity_sold_array from 40 to 39."
      ]
    },
    {
      "cell_type": "code",
      "metadata": {
        "id": "k8a4SXVKVpDa"
      },
      "source": [
        ""
      ],
      "execution_count": null,
      "outputs": []
    },
    {
      "cell_type": "code",
      "metadata": {
        "id": "O_enU-46V0YT"
      },
      "source": [
        ""
      ],
      "execution_count": null,
      "outputs": []
    },
    {
      "cell_type": "markdown",
      "metadata": {
        "id": "vfIgDaikWFdw"
      },
      "source": [
        "3) Determine the amount of money collected from the sale of each item at the bake sale.  "
      ]
    },
    {
      "cell_type": "code",
      "metadata": {
        "id": "ikN8urc4WH86"
      },
      "source": [
        ""
      ],
      "execution_count": null,
      "outputs": []
    },
    {
      "cell_type": "markdown",
      "metadata": {
        "id": "v8xG8a77WyTV"
      },
      "source": [
        "4) Create a NumPy array \"quantity_leftover\" that includes the quantity of each item remaining at the end of the sale: 2 cakes, 1 pie, 6 trays of fudge, 2 loaves of banana bread.  Hint: Make sure to include \"0\" for any item that was sold out. Why is this important when creating the array?"
      ]
    },
    {
      "cell_type": "code",
      "metadata": {
        "id": "_OSmjj-mWNE2"
      },
      "source": [
        ""
      ],
      "execution_count": null,
      "outputs": []
    },
    {
      "cell_type": "markdown",
      "metadata": {
        "id": "Pny1zRYZW1AF"
      },
      "source": [
        "5) The club decides to sell the leftover items at half price and everything quickly sells out!  Determine how much money was collected from the clearance sale. "
      ]
    },
    {
      "cell_type": "code",
      "metadata": {
        "id": "VPymUS0wW39q"
      },
      "source": [
        ""
      ],
      "execution_count": null,
      "outputs": []
    },
    {
      "cell_type": "markdown",
      "metadata": {
        "id": "dDqAKj9jXLz4"
      },
      "source": [
        "6) How much total money was collected from the bake sale (including the sale of full price and clearance items)?\n",
        "\n",
        "Hint: Your final answer should be $213.50, but you must make sure you get this answer with your NumPy coding skills!!"
      ]
    },
    {
      "cell_type": "code",
      "metadata": {
        "id": "CmqGXhMHXOFD"
      },
      "source": [
        ""
      ],
      "execution_count": null,
      "outputs": []
    }
  ]
}