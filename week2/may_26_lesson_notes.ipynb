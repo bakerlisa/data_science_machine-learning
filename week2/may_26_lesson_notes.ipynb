{
  "nbformat": 4,
  "nbformat_minor": 0,
  "metadata": {
    "colab": {
      "name": "may_26_lesson_notes.ipynb",
      "provenance": [],
      "authorship_tag": "ABX9TyO3f9vqUxaEZk0hC5/U7kHk",
      "include_colab_link": true
    },
    "kernelspec": {
      "name": "python3",
      "display_name": "Python 3"
    },
    "language_info": {
      "name": "python"
    }
  },
  "cells": [
    {
      "cell_type": "markdown",
      "metadata": {
        "id": "view-in-github",
        "colab_type": "text"
      },
      "source": [
        "<a href=\"https://colab.research.google.com/github/lisabroadhead/machine-learning/blob/main/may_26_lesson_notes.ipynb\" target=\"_parent\"><img src=\"https://colab.research.google.com/assets/colab-badge.svg\" alt=\"Open In Colab\"/></a>"
      ]
    },
    {
      "cell_type": "markdown",
      "source": [
        "# May 26, 2022 Lesson Notes\n",
        "1. go in and rename the projec x to whar you actually do\n",
        "2. "
      ],
      "metadata": {
        "id": "R5KO450uz1mH"
      }
    },
    {
      "cell_type": "markdown",
      "source": [
        "from typing import ValuesView\n",
        "80% of data scientist spend most of their time cleaning DeprecationWarning\n",
        "1. duplicate data\n",
        "2. irrelavant\n",
        "  - if every value is unique then you could use it as your IndexError\n",
        "  - columns that aren't necessary for your task\n",
        "3. incorrect data types\n",
        "4. inconsistent ValuesView\n",
        "5. syntax/spelling errors"
      ],
      "metadata": {
        "id": "Jgtty5-S17fV"
      }
    },
    {
      "cell_type": "markdown",
      "source": [
        "## Data Types:\n",
        "from collections import OrderedDict\n",
        "\n",
        "\n",
        "Numerical \n",
        "1. Discrete - height, weight, (infintie number for fields)\n",
        "2. Continuous - number of children, (certain number for the items)\n",
        "\n",
        "Categorical\n",
        "1. nominal - no real order\n",
        "2. ordinal - order, 1st, 2ndm 3rd place, like or dislike, yes or no, "
      ],
      "metadata": {
        "id": "AkjGxJ-W25p8"
      }
    },
    {
      "cell_type": "markdown",
      "source": [
        "numerical - usually ints or floats\n",
        "But numbers can represent categories\n",
        "\n",
        "Even if one column has a string it will come in as a string"
      ],
      "metadata": {
        "id": "ruZvs0nm3gSI"
      }
    },
    {
      "cell_type": "code",
      "source": [
        "df.loc[2,'Age'] = 40"
      ],
      "metadata": {
        "id": "A_9gaB5O4Xk6"
      },
      "execution_count": null,
      "outputs": []
    },
    {
      "cell_type": "markdown",
      "source": [
        "## Unit inconsistency\n",
        "- different units are used\n",
        "  - height in inches but a few columns are enterd in as ft\n",
        "  - mph and kmp\n",
        "\n",
        "Note: You will sometimes have to make a judgement call if there isn't an expert on the data"
      ],
      "metadata": {
        "id": "Gkfd4h2l4cHr"
      }
    },
    {
      "cell_type": "markdown",
      "source": [
        "## Formmating and syntax\n",
        "- spelling\n",
        "- Syntax\n",
        "- whitespace\n",
        "- upper / lower case inconsistancy\n",
        "\n",
        ".value_count - tell you all the different categories and the number of occurances"
      ],
      "metadata": {
        "id": "rbvXpVwO4x5g"
      }
    },
    {
      "cell_type": "markdown",
      "source": [
        "## Outliers \n",
        "too big, too small, or somehow don't fit\n",
        "\n",
        "- check with an expert\n",
        "- don't remove the outliners\n",
        "- find them by visualizations - df.describe\n",
        "\n",
        "\n",
        "Note: In belt exam take them out"
      ],
      "metadata": {
        "id": "C-w1H1Hs5Py2"
      }
    },
    {
      "cell_type": "markdown",
      "source": [
        "## Missing data\n",
        "\n",
        "Always fix your missing data\n",
        "\n",
        "1. NaN, null, \n",
        "  - why is the value missing\n",
        "  - patternsin the missing data\n",
        "\n",
        "Handle missing data\n",
        "1. drop rows\n",
        "2. drop columns\n",
        "3. impute values - add something as a placeholder\n",
        "\n",
        "drop row if row/col is below 5%\n",
        "\n",
        "simple mean, median, mode, or constant"
      ],
      "metadata": {
        "id": "pIMnl3vK5vFG"
      }
    },
    {
      "cell_type": "code",
      "source": [
        "### Imputation Missing Data\n",
        "- ffill, bfill,linear,"
      ],
      "metadata": {
        "id": "WFqHCbLB6jtB"
      },
      "execution_count": null,
      "outputs": []
    },
    {
      "cell_type": "code",
      "source": [
        ""
      ],
      "metadata": {
        "id": "6PYhceZh6Tnf"
      },
      "execution_count": null,
      "outputs": []
    },
    {
      "cell_type": "code",
      "source": [
        ""
      ],
      "metadata": {
        "id": "tSUrKj_S6SLO"
      },
      "execution_count": null,
      "outputs": []
    },
    {
      "cell_type": "code",
      "source": [
        "import pandas as pd"
      ],
      "metadata": {
        "id": "YiFUPS-J0CnV"
      },
      "execution_count": 1,
      "outputs": []
    }
  ]
}
