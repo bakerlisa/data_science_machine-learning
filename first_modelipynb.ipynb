{
  "nbformat": 4,
  "nbformat_minor": 0,
  "metadata": {
    "colab": {
      "name": "first_modelipynb",
      "provenance": [],
      "collapsed_sections": [],
      "mount_file_id": "1_AC8vLos6CZToF-ccYbhpx9P6l_HMaI6",
      "authorship_tag": "ABX9TyMNt1dOqy7fT9eTGRLoyx+K",
      "include_colab_link": true
    },
    "kernelspec": {
      "name": "python3",
      "display_name": "Python 3"
    },
    "language_info": {
      "name": "python"
    }
  },
  "cells": [
    {
      "cell_type": "markdown",
      "metadata": {
        "id": "view-in-github",
        "colab_type": "text"
      },
      "source": [
        "<a href=\"https://colab.research.google.com/github/lisabroadhead/data_science_machine-learning/blob/main/first_modelipynb.ipynb\" target=\"_parent\"><img src=\"https://colab.research.google.com/assets/colab-badge.svg\" alt=\"Open In Colab\"/></a>"
      ]
    },
    {
      "cell_type": "markdown",
      "source": [
        "# First Model (Practice)\n",
        "- Lisa Broadhead\n",
        "- June 27, 2022\n",
        "\n",
        "* Didn't have a data set to use so I used Raw_Medical_Data_for_day1.csv (we got it from another code along or assigment)"
      ],
      "metadata": {
        "id": "EhYsXo9UnDWa"
      }
    },
    {
      "cell_type": "code",
      "source": [
        "import pandas as pd\n",
        "import numpy as np\n",
        "from sklearn.preprocessing import StandardScaler, OneHotEncoder\n",
        "from sklearn.impute import SimpleImputer\n",
        "from sklearn.compose import make_column_transformer, make_column_selector\n",
        "from sklearn.pipeline import make_pipeline\n",
        "from sklearn.model_selection import train_test_split\n",
        "from sklearn.linear_model import LinearRegression\n",
        "from sklearn.metrics import mean_absolute_error, mean_squared_error, r2_score\n",
        "from sklearn import set_config\n",
        "set_config(display='diagram')"
      ],
      "metadata": {
        "id": "fvMkQsoJnJYM"
      },
      "execution_count": 75,
      "outputs": []
    },
    {
      "cell_type": "code",
      "source": [
        "file = '/content/drive/MyDrive/Colab Notebooks/coding_dojo/Machine Learning/files/Raw_Medical_Data_for_day1.csv'\n",
        "df = pd.read_csv(file)\n",
        "df.head()\n",
        "\n"
      ],
      "metadata": {
        "id": "lpi1F6XQnTnU",
        "colab": {
          "base_uri": "https://localhost:8080/",
          "height": 317
        },
        "outputId": "47785111-7880-4e7b-e3bb-f12faf2cfb80"
      },
      "execution_count": 76,
      "outputs": [
        {
          "output_type": "execute_result",
          "data": {
            "text/plain": [
              "   Unnamed: 0 State       Lat       Lng      Area  Children  Age    Income  \\\n",
              "0           1    AL  34.34960 -86.72508  Suburban       1.0   53  86575.93   \n",
              "1           2    FL  30.84513 -85.22907     Urban       3.0   51  46805.99   \n",
              "2           3    SD  43.54321 -96.63772  Suburban       3.0   53  14370.14   \n",
              "3           4    MN  43.89744 -93.51479  Suburban       0.0   78  39741.49   \n",
              "4           5    VA  37.59894 -76.88958     Rural       1.0   22   1209.56   \n",
              "\n",
              "    Marital  Gender  ...  Hyperlipidemia  BackPain  Anxiety  \\\n",
              "0  Divorced    Male  ...             0.0       1.0      1.0   \n",
              "1   Married  Female  ...             0.0       0.0      0.0   \n",
              "2   Widowed  Female  ...             0.0       0.0      0.0   \n",
              "3   Married    Male  ...             0.0       0.0      0.0   \n",
              "4   Widowed  Female  ...             1.0       0.0      0.0   \n",
              "\n",
              "   Allergic_rhinitis  Reflux_esophagitis  Asthma     Services  Initial_days  \\\n",
              "0                1.0                   0       1   Blood Work     10.585770   \n",
              "1                0.0                   1       0  Intravenous     15.129562   \n",
              "2                0.0                   0       0   Blood Work      4.772177   \n",
              "3                0.0                   1       1   Blood Work      1.714879   \n",
              "4                1.0                   0       0      CT Scan      1.254807   \n",
              "\n",
              "   TotalCharge Additional_charges  \n",
              "0  3726.702860       17939.403420  \n",
              "1  4193.190458       17612.998120  \n",
              "2  2434.234222       17505.192460  \n",
              "3  2127.830423       12993.437350  \n",
              "4  2113.073274        3716.525786  \n",
              "\n",
              "[5 rows x 33 columns]"
            ],
            "text/html": [
              "\n",
              "  <div id=\"df-ef4f83ea-f663-4fe3-8a93-846504678e11\">\n",
              "    <div class=\"colab-df-container\">\n",
              "      <div>\n",
              "<style scoped>\n",
              "    .dataframe tbody tr th:only-of-type {\n",
              "        vertical-align: middle;\n",
              "    }\n",
              "\n",
              "    .dataframe tbody tr th {\n",
              "        vertical-align: top;\n",
              "    }\n",
              "\n",
              "    .dataframe thead th {\n",
              "        text-align: right;\n",
              "    }\n",
              "</style>\n",
              "<table border=\"1\" class=\"dataframe\">\n",
              "  <thead>\n",
              "    <tr style=\"text-align: right;\">\n",
              "      <th></th>\n",
              "      <th>Unnamed: 0</th>\n",
              "      <th>State</th>\n",
              "      <th>Lat</th>\n",
              "      <th>Lng</th>\n",
              "      <th>Area</th>\n",
              "      <th>Children</th>\n",
              "      <th>Age</th>\n",
              "      <th>Income</th>\n",
              "      <th>Marital</th>\n",
              "      <th>Gender</th>\n",
              "      <th>...</th>\n",
              "      <th>Hyperlipidemia</th>\n",
              "      <th>BackPain</th>\n",
              "      <th>Anxiety</th>\n",
              "      <th>Allergic_rhinitis</th>\n",
              "      <th>Reflux_esophagitis</th>\n",
              "      <th>Asthma</th>\n",
              "      <th>Services</th>\n",
              "      <th>Initial_days</th>\n",
              "      <th>TotalCharge</th>\n",
              "      <th>Additional_charges</th>\n",
              "    </tr>\n",
              "  </thead>\n",
              "  <tbody>\n",
              "    <tr>\n",
              "      <th>0</th>\n",
              "      <td>1</td>\n",
              "      <td>AL</td>\n",
              "      <td>34.34960</td>\n",
              "      <td>-86.72508</td>\n",
              "      <td>Suburban</td>\n",
              "      <td>1.0</td>\n",
              "      <td>53</td>\n",
              "      <td>86575.93</td>\n",
              "      <td>Divorced</td>\n",
              "      <td>Male</td>\n",
              "      <td>...</td>\n",
              "      <td>0.0</td>\n",
              "      <td>1.0</td>\n",
              "      <td>1.0</td>\n",
              "      <td>1.0</td>\n",
              "      <td>0</td>\n",
              "      <td>1</td>\n",
              "      <td>Blood Work</td>\n",
              "      <td>10.585770</td>\n",
              "      <td>3726.702860</td>\n",
              "      <td>17939.403420</td>\n",
              "    </tr>\n",
              "    <tr>\n",
              "      <th>1</th>\n",
              "      <td>2</td>\n",
              "      <td>FL</td>\n",
              "      <td>30.84513</td>\n",
              "      <td>-85.22907</td>\n",
              "      <td>Urban</td>\n",
              "      <td>3.0</td>\n",
              "      <td>51</td>\n",
              "      <td>46805.99</td>\n",
              "      <td>Married</td>\n",
              "      <td>Female</td>\n",
              "      <td>...</td>\n",
              "      <td>0.0</td>\n",
              "      <td>0.0</td>\n",
              "      <td>0.0</td>\n",
              "      <td>0.0</td>\n",
              "      <td>1</td>\n",
              "      <td>0</td>\n",
              "      <td>Intravenous</td>\n",
              "      <td>15.129562</td>\n",
              "      <td>4193.190458</td>\n",
              "      <td>17612.998120</td>\n",
              "    </tr>\n",
              "    <tr>\n",
              "      <th>2</th>\n",
              "      <td>3</td>\n",
              "      <td>SD</td>\n",
              "      <td>43.54321</td>\n",
              "      <td>-96.63772</td>\n",
              "      <td>Suburban</td>\n",
              "      <td>3.0</td>\n",
              "      <td>53</td>\n",
              "      <td>14370.14</td>\n",
              "      <td>Widowed</td>\n",
              "      <td>Female</td>\n",
              "      <td>...</td>\n",
              "      <td>0.0</td>\n",
              "      <td>0.0</td>\n",
              "      <td>0.0</td>\n",
              "      <td>0.0</td>\n",
              "      <td>0</td>\n",
              "      <td>0</td>\n",
              "      <td>Blood Work</td>\n",
              "      <td>4.772177</td>\n",
              "      <td>2434.234222</td>\n",
              "      <td>17505.192460</td>\n",
              "    </tr>\n",
              "    <tr>\n",
              "      <th>3</th>\n",
              "      <td>4</td>\n",
              "      <td>MN</td>\n",
              "      <td>43.89744</td>\n",
              "      <td>-93.51479</td>\n",
              "      <td>Suburban</td>\n",
              "      <td>0.0</td>\n",
              "      <td>78</td>\n",
              "      <td>39741.49</td>\n",
              "      <td>Married</td>\n",
              "      <td>Male</td>\n",
              "      <td>...</td>\n",
              "      <td>0.0</td>\n",
              "      <td>0.0</td>\n",
              "      <td>0.0</td>\n",
              "      <td>0.0</td>\n",
              "      <td>1</td>\n",
              "      <td>1</td>\n",
              "      <td>Blood Work</td>\n",
              "      <td>1.714879</td>\n",
              "      <td>2127.830423</td>\n",
              "      <td>12993.437350</td>\n",
              "    </tr>\n",
              "    <tr>\n",
              "      <th>4</th>\n",
              "      <td>5</td>\n",
              "      <td>VA</td>\n",
              "      <td>37.59894</td>\n",
              "      <td>-76.88958</td>\n",
              "      <td>Rural</td>\n",
              "      <td>1.0</td>\n",
              "      <td>22</td>\n",
              "      <td>1209.56</td>\n",
              "      <td>Widowed</td>\n",
              "      <td>Female</td>\n",
              "      <td>...</td>\n",
              "      <td>1.0</td>\n",
              "      <td>0.0</td>\n",
              "      <td>0.0</td>\n",
              "      <td>1.0</td>\n",
              "      <td>0</td>\n",
              "      <td>0</td>\n",
              "      <td>CT Scan</td>\n",
              "      <td>1.254807</td>\n",
              "      <td>2113.073274</td>\n",
              "      <td>3716.525786</td>\n",
              "    </tr>\n",
              "  </tbody>\n",
              "</table>\n",
              "<p>5 rows × 33 columns</p>\n",
              "</div>\n",
              "      <button class=\"colab-df-convert\" onclick=\"convertToInteractive('df-ef4f83ea-f663-4fe3-8a93-846504678e11')\"\n",
              "              title=\"Convert this dataframe to an interactive table.\"\n",
              "              style=\"display:none;\">\n",
              "        \n",
              "  <svg xmlns=\"http://www.w3.org/2000/svg\" height=\"24px\"viewBox=\"0 0 24 24\"\n",
              "       width=\"24px\">\n",
              "    <path d=\"M0 0h24v24H0V0z\" fill=\"none\"/>\n",
              "    <path d=\"M18.56 5.44l.94 2.06.94-2.06 2.06-.94-2.06-.94-.94-2.06-.94 2.06-2.06.94zm-11 1L8.5 8.5l.94-2.06 2.06-.94-2.06-.94L8.5 2.5l-.94 2.06-2.06.94zm10 10l.94 2.06.94-2.06 2.06-.94-2.06-.94-.94-2.06-.94 2.06-2.06.94z\"/><path d=\"M17.41 7.96l-1.37-1.37c-.4-.4-.92-.59-1.43-.59-.52 0-1.04.2-1.43.59L10.3 9.45l-7.72 7.72c-.78.78-.78 2.05 0 2.83L4 21.41c.39.39.9.59 1.41.59.51 0 1.02-.2 1.41-.59l7.78-7.78 2.81-2.81c.8-.78.8-2.07 0-2.86zM5.41 20L4 18.59l7.72-7.72 1.47 1.35L5.41 20z\"/>\n",
              "  </svg>\n",
              "      </button>\n",
              "      \n",
              "  <style>\n",
              "    .colab-df-container {\n",
              "      display:flex;\n",
              "      flex-wrap:wrap;\n",
              "      gap: 12px;\n",
              "    }\n",
              "\n",
              "    .colab-df-convert {\n",
              "      background-color: #E8F0FE;\n",
              "      border: none;\n",
              "      border-radius: 50%;\n",
              "      cursor: pointer;\n",
              "      display: none;\n",
              "      fill: #1967D2;\n",
              "      height: 32px;\n",
              "      padding: 0 0 0 0;\n",
              "      width: 32px;\n",
              "    }\n",
              "\n",
              "    .colab-df-convert:hover {\n",
              "      background-color: #E2EBFA;\n",
              "      box-shadow: 0px 1px 2px rgba(60, 64, 67, 0.3), 0px 1px 3px 1px rgba(60, 64, 67, 0.15);\n",
              "      fill: #174EA6;\n",
              "    }\n",
              "\n",
              "    [theme=dark] .colab-df-convert {\n",
              "      background-color: #3B4455;\n",
              "      fill: #D2E3FC;\n",
              "    }\n",
              "\n",
              "    [theme=dark] .colab-df-convert:hover {\n",
              "      background-color: #434B5C;\n",
              "      box-shadow: 0px 1px 3px 1px rgba(0, 0, 0, 0.15);\n",
              "      filter: drop-shadow(0px 1px 2px rgba(0, 0, 0, 0.3));\n",
              "      fill: #FFFFFF;\n",
              "    }\n",
              "  </style>\n",
              "\n",
              "      <script>\n",
              "        const buttonEl =\n",
              "          document.querySelector('#df-ef4f83ea-f663-4fe3-8a93-846504678e11 button.colab-df-convert');\n",
              "        buttonEl.style.display =\n",
              "          google.colab.kernel.accessAllowed ? 'block' : 'none';\n",
              "\n",
              "        async function convertToInteractive(key) {\n",
              "          const element = document.querySelector('#df-ef4f83ea-f663-4fe3-8a93-846504678e11');\n",
              "          const dataTable =\n",
              "            await google.colab.kernel.invokeFunction('convertToInteractive',\n",
              "                                                     [key], {});\n",
              "          if (!dataTable) return;\n",
              "\n",
              "          const docLinkHtml = 'Like what you see? Visit the ' +\n",
              "            '<a target=\"_blank\" href=https://colab.research.google.com/notebooks/data_table.ipynb>data table notebook</a>'\n",
              "            + ' to learn more about interactive tables.';\n",
              "          element.innerHTML = '';\n",
              "          dataTable['output_type'] = 'display_data';\n",
              "          await google.colab.output.renderOutput(dataTable, element);\n",
              "          const docLink = document.createElement('div');\n",
              "          docLink.innerHTML = docLinkHtml;\n",
              "          element.appendChild(docLink);\n",
              "        }\n",
              "      </script>\n",
              "    </div>\n",
              "  </div>\n",
              "  "
            ]
          },
          "metadata": {},
          "execution_count": 76
        }
      ]
    },
    {
      "cell_type": "code",
      "source": [
        "df.info()"
      ],
      "metadata": {
        "colab": {
          "base_uri": "https://localhost:8080/"
        },
        "id": "hu22o5OHnmEf",
        "outputId": "0fcc1b90-cd32-4fb1-c429-3d65fa78673b"
      },
      "execution_count": 77,
      "outputs": [
        {
          "output_type": "stream",
          "name": "stdout",
          "text": [
            "<class 'pandas.core.frame.DataFrame'>\n",
            "RangeIndex: 1000 entries, 0 to 999\n",
            "Data columns (total 33 columns):\n",
            " #   Column              Non-Null Count  Dtype  \n",
            "---  ------              --------------  -----  \n",
            " 0   Unnamed: 0          1000 non-null   int64  \n",
            " 1   State               1000 non-null   object \n",
            " 2   Lat                 1000 non-null   float64\n",
            " 3   Lng                 1000 non-null   float64\n",
            " 4   Area                1000 non-null   object \n",
            " 5   Children            993 non-null    float64\n",
            " 6   Age                 1000 non-null   int64  \n",
            " 7   Income              1000 non-null   float64\n",
            " 8   Marital             1000 non-null   object \n",
            " 9   Gender              1000 non-null   object \n",
            " 10  ReAdmis             1000 non-null   int64  \n",
            " 11  VitD_levels         1000 non-null   float64\n",
            " 12  Doc_visits          1000 non-null   int64  \n",
            " 13  Full_meals_eaten    1000 non-null   int64  \n",
            " 14  vitD_supp           1000 non-null   int64  \n",
            " 15  Soft_drink          1000 non-null   int64  \n",
            " 16  Initial_admin       1000 non-null   object \n",
            " 17  HighBlood           1000 non-null   int64  \n",
            " 18  Stroke              1000 non-null   int64  \n",
            " 19  Complication_risk   1000 non-null   object \n",
            " 20  Overweight          1000 non-null   int64  \n",
            " 21  Arthritis           994 non-null    float64\n",
            " 22  Diabetes            994 non-null    float64\n",
            " 23  Hyperlipidemia      998 non-null    float64\n",
            " 24  BackPain            992 non-null    float64\n",
            " 25  Anxiety             998 non-null    float64\n",
            " 26  Allergic_rhinitis   994 non-null    float64\n",
            " 27  Reflux_esophagitis  1000 non-null   int64  \n",
            " 28  Asthma              1000 non-null   int64  \n",
            " 29  Services            1000 non-null   object \n",
            " 30  Initial_days        1000 non-null   float64\n",
            " 31  TotalCharge         1000 non-null   float64\n",
            " 32  Additional_charges  1000 non-null   float64\n",
            "dtypes: float64(14), int64(12), object(7)\n",
            "memory usage: 257.9+ KB\n"
          ]
        }
      ]
    },
    {
      "cell_type": "code",
      "source": [
        "df.duplicated().sum()"
      ],
      "metadata": {
        "colab": {
          "base_uri": "https://localhost:8080/"
        },
        "id": "pifG8MhYnz3L",
        "outputId": "9581d442-a55b-4006-98f8-c3dcffba6f8f"
      },
      "execution_count": 78,
      "outputs": [
        {
          "output_type": "execute_result",
          "data": {
            "text/plain": [
              "0"
            ]
          },
          "metadata": {},
          "execution_count": 78
        }
      ]
    },
    {
      "cell_type": "code",
      "source": [
        "df.isna().sum()"
      ],
      "metadata": {
        "colab": {
          "base_uri": "https://localhost:8080/"
        },
        "id": "Ig04uYp0n3jG",
        "outputId": "c1dd3b36-fbad-412c-e72a-367928a7ded0"
      },
      "execution_count": 79,
      "outputs": [
        {
          "output_type": "execute_result",
          "data": {
            "text/plain": [
              "Unnamed: 0            0\n",
              "State                 0\n",
              "Lat                   0\n",
              "Lng                   0\n",
              "Area                  0\n",
              "Children              7\n",
              "Age                   0\n",
              "Income                0\n",
              "Marital               0\n",
              "Gender                0\n",
              "ReAdmis               0\n",
              "VitD_levels           0\n",
              "Doc_visits            0\n",
              "Full_meals_eaten      0\n",
              "vitD_supp             0\n",
              "Soft_drink            0\n",
              "Initial_admin         0\n",
              "HighBlood             0\n",
              "Stroke                0\n",
              "Complication_risk     0\n",
              "Overweight            0\n",
              "Arthritis             6\n",
              "Diabetes              6\n",
              "Hyperlipidemia        2\n",
              "BackPain              8\n",
              "Anxiety               2\n",
              "Allergic_rhinitis     6\n",
              "Reflux_esophagitis    0\n",
              "Asthma                0\n",
              "Services              0\n",
              "Initial_days          0\n",
              "TotalCharge           0\n",
              "Additional_charges    0\n",
              "dtype: int64"
            ]
          },
          "metadata": {},
          "execution_count": 79
        }
      ]
    },
    {
      "cell_type": "code",
      "source": [
        "X = df[['Age', 'Gender', 'Children', 'Area','Overweight','HighBlood','Asthma','Full_meals_eaten','Income']]\n",
        "y = df['Additional_charges']\n",
        "\n",
        "X_train, X_test, y_train, y_test = train_test_split(X, y, random_state=42)"
      ],
      "metadata": {
        "id": "_uB_ATdJpl2j"
      },
      "execution_count": 80,
      "outputs": []
    },
    {
      "cell_type": "code",
      "source": [
        "cat_selector = make_column_selector(dtype_include='object')\n",
        "num_selector = make_column_selector(dtype_include='number')"
      ],
      "metadata": {
        "id": "-aYaYYxAzF8x"
      },
      "execution_count": 84,
      "outputs": []
    },
    {
      "cell_type": "code",
      "source": [
        "cat_selector(X_train)"
      ],
      "metadata": {
        "colab": {
          "base_uri": "https://localhost:8080/"
        },
        "id": "OWUI8VlGyNeP",
        "outputId": "4a55e6f2-379f-4d70-bc6e-a1603e05ba9c"
      },
      "execution_count": 85,
      "outputs": [
        {
          "output_type": "execute_result",
          "data": {
            "text/plain": [
              "['Gender', 'Area']"
            ]
          },
          "metadata": {},
          "execution_count": 85
        }
      ]
    },
    {
      "cell_type": "code",
      "source": [
        "num_selector(X_train)"
      ],
      "metadata": {
        "colab": {
          "base_uri": "https://localhost:8080/"
        },
        "id": "lD9lZfrlzNA4",
        "outputId": "571e6a92-f1ff-4366-a76d-a0627246be2b"
      },
      "execution_count": 86,
      "outputs": [
        {
          "output_type": "execute_result",
          "data": {
            "text/plain": [
              "['Age',\n",
              " 'Children',\n",
              " 'Overweight',\n",
              " 'HighBlood',\n",
              " 'Asthma',\n",
              " 'Full_meals_eaten',\n",
              " 'Income']"
            ]
          },
          "metadata": {},
          "execution_count": 86
        }
      ]
    },
    {
      "cell_type": "code",
      "source": [
        "freq_imputer = SimpleImputer(strategy='most_frequent')\n",
        "mean_imputer = SimpleImputer(strategy='mean')\n",
        "\n",
        "scaler = StandardScaler()\n",
        "\n",
        "ohe = OneHotEncoder(handle_unknown='ignore', sparse=False)"
      ],
      "metadata": {
        "id": "9KxxvXiL0BBf"
      },
      "execution_count": 91,
      "outputs": []
    },
    {
      "cell_type": "code",
      "source": [
        "# Numeric pipeline\n",
        "numeric_pipe = make_pipeline(mean_imputer, scaler)\n",
        "numeric_pipe"
      ],
      "metadata": {
        "colab": {
          "base_uri": "https://localhost:8080/",
          "height": 126
        },
        "id": "OCtvoi940ocm",
        "outputId": "8687b7f9-cee2-405f-f075-85f7343104a2"
      },
      "execution_count": 92,
      "outputs": [
        {
          "output_type": "execute_result",
          "data": {
            "text/plain": [
              "Pipeline(steps=[('simpleimputer', SimpleImputer()),\n",
              "                ('standardscaler', StandardScaler())])"
            ],
            "text/html": [
              "<style>#sk-ada64598-6a32-4ff0-ab77-3f1b950bc52b {color: black;background-color: white;}#sk-ada64598-6a32-4ff0-ab77-3f1b950bc52b pre{padding: 0;}#sk-ada64598-6a32-4ff0-ab77-3f1b950bc52b div.sk-toggleable {background-color: white;}#sk-ada64598-6a32-4ff0-ab77-3f1b950bc52b label.sk-toggleable__label {cursor: pointer;display: block;width: 100%;margin-bottom: 0;padding: 0.3em;box-sizing: border-box;text-align: center;}#sk-ada64598-6a32-4ff0-ab77-3f1b950bc52b label.sk-toggleable__label-arrow:before {content: \"▸\";float: left;margin-right: 0.25em;color: #696969;}#sk-ada64598-6a32-4ff0-ab77-3f1b950bc52b label.sk-toggleable__label-arrow:hover:before {color: black;}#sk-ada64598-6a32-4ff0-ab77-3f1b950bc52b div.sk-estimator:hover label.sk-toggleable__label-arrow:before {color: black;}#sk-ada64598-6a32-4ff0-ab77-3f1b950bc52b div.sk-toggleable__content {max-height: 0;max-width: 0;overflow: hidden;text-align: left;background-color: #f0f8ff;}#sk-ada64598-6a32-4ff0-ab77-3f1b950bc52b div.sk-toggleable__content pre {margin: 0.2em;color: black;border-radius: 0.25em;background-color: #f0f8ff;}#sk-ada64598-6a32-4ff0-ab77-3f1b950bc52b input.sk-toggleable__control:checked~div.sk-toggleable__content {max-height: 200px;max-width: 100%;overflow: auto;}#sk-ada64598-6a32-4ff0-ab77-3f1b950bc52b input.sk-toggleable__control:checked~label.sk-toggleable__label-arrow:before {content: \"▾\";}#sk-ada64598-6a32-4ff0-ab77-3f1b950bc52b div.sk-estimator input.sk-toggleable__control:checked~label.sk-toggleable__label {background-color: #d4ebff;}#sk-ada64598-6a32-4ff0-ab77-3f1b950bc52b div.sk-label input.sk-toggleable__control:checked~label.sk-toggleable__label {background-color: #d4ebff;}#sk-ada64598-6a32-4ff0-ab77-3f1b950bc52b input.sk-hidden--visually {border: 0;clip: rect(1px 1px 1px 1px);clip: rect(1px, 1px, 1px, 1px);height: 1px;margin: -1px;overflow: hidden;padding: 0;position: absolute;width: 1px;}#sk-ada64598-6a32-4ff0-ab77-3f1b950bc52b div.sk-estimator {font-family: monospace;background-color: #f0f8ff;border: 1px dotted black;border-radius: 0.25em;box-sizing: border-box;margin-bottom: 0.5em;}#sk-ada64598-6a32-4ff0-ab77-3f1b950bc52b div.sk-estimator:hover {background-color: #d4ebff;}#sk-ada64598-6a32-4ff0-ab77-3f1b950bc52b div.sk-parallel-item::after {content: \"\";width: 100%;border-bottom: 1px solid gray;flex-grow: 1;}#sk-ada64598-6a32-4ff0-ab77-3f1b950bc52b div.sk-label:hover label.sk-toggleable__label {background-color: #d4ebff;}#sk-ada64598-6a32-4ff0-ab77-3f1b950bc52b div.sk-serial::before {content: \"\";position: absolute;border-left: 1px solid gray;box-sizing: border-box;top: 2em;bottom: 0;left: 50%;}#sk-ada64598-6a32-4ff0-ab77-3f1b950bc52b div.sk-serial {display: flex;flex-direction: column;align-items: center;background-color: white;padding-right: 0.2em;padding-left: 0.2em;}#sk-ada64598-6a32-4ff0-ab77-3f1b950bc52b div.sk-item {z-index: 1;}#sk-ada64598-6a32-4ff0-ab77-3f1b950bc52b div.sk-parallel {display: flex;align-items: stretch;justify-content: center;background-color: white;}#sk-ada64598-6a32-4ff0-ab77-3f1b950bc52b div.sk-parallel::before {content: \"\";position: absolute;border-left: 1px solid gray;box-sizing: border-box;top: 2em;bottom: 0;left: 50%;}#sk-ada64598-6a32-4ff0-ab77-3f1b950bc52b div.sk-parallel-item {display: flex;flex-direction: column;position: relative;background-color: white;}#sk-ada64598-6a32-4ff0-ab77-3f1b950bc52b div.sk-parallel-item:first-child::after {align-self: flex-end;width: 50%;}#sk-ada64598-6a32-4ff0-ab77-3f1b950bc52b div.sk-parallel-item:last-child::after {align-self: flex-start;width: 50%;}#sk-ada64598-6a32-4ff0-ab77-3f1b950bc52b div.sk-parallel-item:only-child::after {width: 0;}#sk-ada64598-6a32-4ff0-ab77-3f1b950bc52b div.sk-dashed-wrapped {border: 1px dashed gray;margin: 0 0.4em 0.5em 0.4em;box-sizing: border-box;padding-bottom: 0.4em;background-color: white;position: relative;}#sk-ada64598-6a32-4ff0-ab77-3f1b950bc52b div.sk-label label {font-family: monospace;font-weight: bold;background-color: white;display: inline-block;line-height: 1.2em;}#sk-ada64598-6a32-4ff0-ab77-3f1b950bc52b div.sk-label-container {position: relative;z-index: 2;text-align: center;}#sk-ada64598-6a32-4ff0-ab77-3f1b950bc52b div.sk-container {/* jupyter's `normalize.less` sets `[hidden] { display: none; }` but bootstrap.min.css set `[hidden] { display: none !important; }` so we also need the `!important` here to be able to override the default hidden behavior on the sphinx rendered scikit-learn.org. See: https://github.com/scikit-learn/scikit-learn/issues/21755 */display: inline-block !important;position: relative;}#sk-ada64598-6a32-4ff0-ab77-3f1b950bc52b div.sk-text-repr-fallback {display: none;}</style><div id=\"sk-ada64598-6a32-4ff0-ab77-3f1b950bc52b\" class=\"sk-top-container\"><div class=\"sk-text-repr-fallback\"><pre>Pipeline(steps=[(&#x27;simpleimputer&#x27;, SimpleImputer()),\n",
              "                (&#x27;standardscaler&#x27;, StandardScaler())])</pre><b>Please rerun this cell to show the HTML repr or trust the notebook.</b></div><div class=\"sk-container\" hidden><div class=\"sk-item sk-dashed-wrapped\"><div class=\"sk-label-container\"><div class=\"sk-label sk-toggleable\"><input class=\"sk-toggleable__control sk-hidden--visually\" id=\"135a4efd-7a72-4f24-98e3-467ecbc220ab\" type=\"checkbox\" ><label for=\"135a4efd-7a72-4f24-98e3-467ecbc220ab\" class=\"sk-toggleable__label sk-toggleable__label-arrow\">Pipeline</label><div class=\"sk-toggleable__content\"><pre>Pipeline(steps=[(&#x27;simpleimputer&#x27;, SimpleImputer()),\n",
              "                (&#x27;standardscaler&#x27;, StandardScaler())])</pre></div></div></div><div class=\"sk-serial\"><div class=\"sk-item\"><div class=\"sk-estimator sk-toggleable\"><input class=\"sk-toggleable__control sk-hidden--visually\" id=\"c36c2241-9fbc-4dd8-bad8-4c428a2a922e\" type=\"checkbox\" ><label for=\"c36c2241-9fbc-4dd8-bad8-4c428a2a922e\" class=\"sk-toggleable__label sk-toggleable__label-arrow\">SimpleImputer</label><div class=\"sk-toggleable__content\"><pre>SimpleImputer()</pre></div></div></div><div class=\"sk-item\"><div class=\"sk-estimator sk-toggleable\"><input class=\"sk-toggleable__control sk-hidden--visually\" id=\"8345c475-85ea-451b-ad52-5ef7a505ecd9\" type=\"checkbox\" ><label for=\"8345c475-85ea-451b-ad52-5ef7a505ecd9\" class=\"sk-toggleable__label sk-toggleable__label-arrow\">StandardScaler</label><div class=\"sk-toggleable__content\"><pre>StandardScaler()</pre></div></div></div></div></div></div></div>"
            ]
          },
          "metadata": {},
          "execution_count": 92
        }
      ]
    },
    {
      "cell_type": "code",
      "source": [
        "# Categorical pipeline\n",
        "categorical_pipe = make_pipeline(freq_imputer, ohe)\n",
        "categorical_pipe"
      ],
      "metadata": {
        "colab": {
          "base_uri": "https://localhost:8080/",
          "height": 126
        },
        "id": "Y3F15VmH0plr",
        "outputId": "724519e5-0696-4161-fe45-b7029e3fcc81"
      },
      "execution_count": 93,
      "outputs": [
        {
          "output_type": "execute_result",
          "data": {
            "text/plain": [
              "Pipeline(steps=[('simpleimputer', SimpleImputer(strategy='most_frequent')),\n",
              "                ('onehotencoder',\n",
              "                 OneHotEncoder(handle_unknown='ignore', sparse=False))])"
            ],
            "text/html": [
              "<style>#sk-e090ed10-217c-48bf-b3fe-d5255b0a16c1 {color: black;background-color: white;}#sk-e090ed10-217c-48bf-b3fe-d5255b0a16c1 pre{padding: 0;}#sk-e090ed10-217c-48bf-b3fe-d5255b0a16c1 div.sk-toggleable {background-color: white;}#sk-e090ed10-217c-48bf-b3fe-d5255b0a16c1 label.sk-toggleable__label {cursor: pointer;display: block;width: 100%;margin-bottom: 0;padding: 0.3em;box-sizing: border-box;text-align: center;}#sk-e090ed10-217c-48bf-b3fe-d5255b0a16c1 label.sk-toggleable__label-arrow:before {content: \"▸\";float: left;margin-right: 0.25em;color: #696969;}#sk-e090ed10-217c-48bf-b3fe-d5255b0a16c1 label.sk-toggleable__label-arrow:hover:before {color: black;}#sk-e090ed10-217c-48bf-b3fe-d5255b0a16c1 div.sk-estimator:hover label.sk-toggleable__label-arrow:before {color: black;}#sk-e090ed10-217c-48bf-b3fe-d5255b0a16c1 div.sk-toggleable__content {max-height: 0;max-width: 0;overflow: hidden;text-align: left;background-color: #f0f8ff;}#sk-e090ed10-217c-48bf-b3fe-d5255b0a16c1 div.sk-toggleable__content pre {margin: 0.2em;color: black;border-radius: 0.25em;background-color: #f0f8ff;}#sk-e090ed10-217c-48bf-b3fe-d5255b0a16c1 input.sk-toggleable__control:checked~div.sk-toggleable__content {max-height: 200px;max-width: 100%;overflow: auto;}#sk-e090ed10-217c-48bf-b3fe-d5255b0a16c1 input.sk-toggleable__control:checked~label.sk-toggleable__label-arrow:before {content: \"▾\";}#sk-e090ed10-217c-48bf-b3fe-d5255b0a16c1 div.sk-estimator input.sk-toggleable__control:checked~label.sk-toggleable__label {background-color: #d4ebff;}#sk-e090ed10-217c-48bf-b3fe-d5255b0a16c1 div.sk-label input.sk-toggleable__control:checked~label.sk-toggleable__label {background-color: #d4ebff;}#sk-e090ed10-217c-48bf-b3fe-d5255b0a16c1 input.sk-hidden--visually {border: 0;clip: rect(1px 1px 1px 1px);clip: rect(1px, 1px, 1px, 1px);height: 1px;margin: -1px;overflow: hidden;padding: 0;position: absolute;width: 1px;}#sk-e090ed10-217c-48bf-b3fe-d5255b0a16c1 div.sk-estimator {font-family: monospace;background-color: #f0f8ff;border: 1px dotted black;border-radius: 0.25em;box-sizing: border-box;margin-bottom: 0.5em;}#sk-e090ed10-217c-48bf-b3fe-d5255b0a16c1 div.sk-estimator:hover {background-color: #d4ebff;}#sk-e090ed10-217c-48bf-b3fe-d5255b0a16c1 div.sk-parallel-item::after {content: \"\";width: 100%;border-bottom: 1px solid gray;flex-grow: 1;}#sk-e090ed10-217c-48bf-b3fe-d5255b0a16c1 div.sk-label:hover label.sk-toggleable__label {background-color: #d4ebff;}#sk-e090ed10-217c-48bf-b3fe-d5255b0a16c1 div.sk-serial::before {content: \"\";position: absolute;border-left: 1px solid gray;box-sizing: border-box;top: 2em;bottom: 0;left: 50%;}#sk-e090ed10-217c-48bf-b3fe-d5255b0a16c1 div.sk-serial {display: flex;flex-direction: column;align-items: center;background-color: white;padding-right: 0.2em;padding-left: 0.2em;}#sk-e090ed10-217c-48bf-b3fe-d5255b0a16c1 div.sk-item {z-index: 1;}#sk-e090ed10-217c-48bf-b3fe-d5255b0a16c1 div.sk-parallel {display: flex;align-items: stretch;justify-content: center;background-color: white;}#sk-e090ed10-217c-48bf-b3fe-d5255b0a16c1 div.sk-parallel::before {content: \"\";position: absolute;border-left: 1px solid gray;box-sizing: border-box;top: 2em;bottom: 0;left: 50%;}#sk-e090ed10-217c-48bf-b3fe-d5255b0a16c1 div.sk-parallel-item {display: flex;flex-direction: column;position: relative;background-color: white;}#sk-e090ed10-217c-48bf-b3fe-d5255b0a16c1 div.sk-parallel-item:first-child::after {align-self: flex-end;width: 50%;}#sk-e090ed10-217c-48bf-b3fe-d5255b0a16c1 div.sk-parallel-item:last-child::after {align-self: flex-start;width: 50%;}#sk-e090ed10-217c-48bf-b3fe-d5255b0a16c1 div.sk-parallel-item:only-child::after {width: 0;}#sk-e090ed10-217c-48bf-b3fe-d5255b0a16c1 div.sk-dashed-wrapped {border: 1px dashed gray;margin: 0 0.4em 0.5em 0.4em;box-sizing: border-box;padding-bottom: 0.4em;background-color: white;position: relative;}#sk-e090ed10-217c-48bf-b3fe-d5255b0a16c1 div.sk-label label {font-family: monospace;font-weight: bold;background-color: white;display: inline-block;line-height: 1.2em;}#sk-e090ed10-217c-48bf-b3fe-d5255b0a16c1 div.sk-label-container {position: relative;z-index: 2;text-align: center;}#sk-e090ed10-217c-48bf-b3fe-d5255b0a16c1 div.sk-container {/* jupyter's `normalize.less` sets `[hidden] { display: none; }` but bootstrap.min.css set `[hidden] { display: none !important; }` so we also need the `!important` here to be able to override the default hidden behavior on the sphinx rendered scikit-learn.org. See: https://github.com/scikit-learn/scikit-learn/issues/21755 */display: inline-block !important;position: relative;}#sk-e090ed10-217c-48bf-b3fe-d5255b0a16c1 div.sk-text-repr-fallback {display: none;}</style><div id=\"sk-e090ed10-217c-48bf-b3fe-d5255b0a16c1\" class=\"sk-top-container\"><div class=\"sk-text-repr-fallback\"><pre>Pipeline(steps=[(&#x27;simpleimputer&#x27;, SimpleImputer(strategy=&#x27;most_frequent&#x27;)),\n",
              "                (&#x27;onehotencoder&#x27;,\n",
              "                 OneHotEncoder(handle_unknown=&#x27;ignore&#x27;, sparse=False))])</pre><b>Please rerun this cell to show the HTML repr or trust the notebook.</b></div><div class=\"sk-container\" hidden><div class=\"sk-item sk-dashed-wrapped\"><div class=\"sk-label-container\"><div class=\"sk-label sk-toggleable\"><input class=\"sk-toggleable__control sk-hidden--visually\" id=\"ec2171c4-c02c-462b-a2d3-ea52b604ac74\" type=\"checkbox\" ><label for=\"ec2171c4-c02c-462b-a2d3-ea52b604ac74\" class=\"sk-toggleable__label sk-toggleable__label-arrow\">Pipeline</label><div class=\"sk-toggleable__content\"><pre>Pipeline(steps=[(&#x27;simpleimputer&#x27;, SimpleImputer(strategy=&#x27;most_frequent&#x27;)),\n",
              "                (&#x27;onehotencoder&#x27;,\n",
              "                 OneHotEncoder(handle_unknown=&#x27;ignore&#x27;, sparse=False))])</pre></div></div></div><div class=\"sk-serial\"><div class=\"sk-item\"><div class=\"sk-estimator sk-toggleable\"><input class=\"sk-toggleable__control sk-hidden--visually\" id=\"6eef37cf-cff9-4bef-85f1-4ad141e02a40\" type=\"checkbox\" ><label for=\"6eef37cf-cff9-4bef-85f1-4ad141e02a40\" class=\"sk-toggleable__label sk-toggleable__label-arrow\">SimpleImputer</label><div class=\"sk-toggleable__content\"><pre>SimpleImputer(strategy=&#x27;most_frequent&#x27;)</pre></div></div></div><div class=\"sk-item\"><div class=\"sk-estimator sk-toggleable\"><input class=\"sk-toggleable__control sk-hidden--visually\" id=\"eb9bbb38-0a7b-438c-9926-1061929cdda6\" type=\"checkbox\" ><label for=\"eb9bbb38-0a7b-438c-9926-1061929cdda6\" class=\"sk-toggleable__label sk-toggleable__label-arrow\">OneHotEncoder</label><div class=\"sk-toggleable__content\"><pre>OneHotEncoder(handle_unknown=&#x27;ignore&#x27;, sparse=False)</pre></div></div></div></div></div></div></div>"
            ]
          },
          "metadata": {},
          "execution_count": 93
        }
      ]
    },
    {
      "cell_type": "code",
      "source": [
        "# Tuples for Column Transformer\n",
        "number_tuple = (numeric_pipe, num_selector)\n",
        "category_tuple = (categorical_pipe, cat_selector)\n",
        "# ColumnTransformer\n",
        "preprocessor = make_column_transformer(number_tuple, category_tuple)\n",
        "preprocessor"
      ],
      "metadata": {
        "colab": {
          "base_uri": "https://localhost:8080/",
          "height": 152
        },
        "id": "LF2jG6Gt0rC1",
        "outputId": "2ef44615-c344-414b-d942-c6212a790d59"
      },
      "execution_count": 94,
      "outputs": [
        {
          "output_type": "execute_result",
          "data": {
            "text/plain": [
              "ColumnTransformer(transformers=[('pipeline-1',\n",
              "                                 Pipeline(steps=[('simpleimputer',\n",
              "                                                  SimpleImputer()),\n",
              "                                                 ('standardscaler',\n",
              "                                                  StandardScaler())]),\n",
              "                                 <sklearn.compose._column_transformer.make_column_selector object at 0x7fb2175b8090>),\n",
              "                                ('pipeline-2',\n",
              "                                 Pipeline(steps=[('simpleimputer',\n",
              "                                                  SimpleImputer(strategy='most_frequent')),\n",
              "                                                 ('onehotencoder',\n",
              "                                                  OneHotEncoder(handle_unknown='ignore',\n",
              "                                                                sparse=False))]),\n",
              "                                 <sklearn.compose._column_transformer.make_column_selector object at 0x7fb2175b82d0>)])"
            ],
            "text/html": [
              "<style>#sk-d869c36c-004f-4648-9621-5b4aa7c7d767 {color: black;background-color: white;}#sk-d869c36c-004f-4648-9621-5b4aa7c7d767 pre{padding: 0;}#sk-d869c36c-004f-4648-9621-5b4aa7c7d767 div.sk-toggleable {background-color: white;}#sk-d869c36c-004f-4648-9621-5b4aa7c7d767 label.sk-toggleable__label {cursor: pointer;display: block;width: 100%;margin-bottom: 0;padding: 0.3em;box-sizing: border-box;text-align: center;}#sk-d869c36c-004f-4648-9621-5b4aa7c7d767 label.sk-toggleable__label-arrow:before {content: \"▸\";float: left;margin-right: 0.25em;color: #696969;}#sk-d869c36c-004f-4648-9621-5b4aa7c7d767 label.sk-toggleable__label-arrow:hover:before {color: black;}#sk-d869c36c-004f-4648-9621-5b4aa7c7d767 div.sk-estimator:hover label.sk-toggleable__label-arrow:before {color: black;}#sk-d869c36c-004f-4648-9621-5b4aa7c7d767 div.sk-toggleable__content {max-height: 0;max-width: 0;overflow: hidden;text-align: left;background-color: #f0f8ff;}#sk-d869c36c-004f-4648-9621-5b4aa7c7d767 div.sk-toggleable__content pre {margin: 0.2em;color: black;border-radius: 0.25em;background-color: #f0f8ff;}#sk-d869c36c-004f-4648-9621-5b4aa7c7d767 input.sk-toggleable__control:checked~div.sk-toggleable__content {max-height: 200px;max-width: 100%;overflow: auto;}#sk-d869c36c-004f-4648-9621-5b4aa7c7d767 input.sk-toggleable__control:checked~label.sk-toggleable__label-arrow:before {content: \"▾\";}#sk-d869c36c-004f-4648-9621-5b4aa7c7d767 div.sk-estimator input.sk-toggleable__control:checked~label.sk-toggleable__label {background-color: #d4ebff;}#sk-d869c36c-004f-4648-9621-5b4aa7c7d767 div.sk-label input.sk-toggleable__control:checked~label.sk-toggleable__label {background-color: #d4ebff;}#sk-d869c36c-004f-4648-9621-5b4aa7c7d767 input.sk-hidden--visually {border: 0;clip: rect(1px 1px 1px 1px);clip: rect(1px, 1px, 1px, 1px);height: 1px;margin: -1px;overflow: hidden;padding: 0;position: absolute;width: 1px;}#sk-d869c36c-004f-4648-9621-5b4aa7c7d767 div.sk-estimator {font-family: monospace;background-color: #f0f8ff;border: 1px dotted black;border-radius: 0.25em;box-sizing: border-box;margin-bottom: 0.5em;}#sk-d869c36c-004f-4648-9621-5b4aa7c7d767 div.sk-estimator:hover {background-color: #d4ebff;}#sk-d869c36c-004f-4648-9621-5b4aa7c7d767 div.sk-parallel-item::after {content: \"\";width: 100%;border-bottom: 1px solid gray;flex-grow: 1;}#sk-d869c36c-004f-4648-9621-5b4aa7c7d767 div.sk-label:hover label.sk-toggleable__label {background-color: #d4ebff;}#sk-d869c36c-004f-4648-9621-5b4aa7c7d767 div.sk-serial::before {content: \"\";position: absolute;border-left: 1px solid gray;box-sizing: border-box;top: 2em;bottom: 0;left: 50%;}#sk-d869c36c-004f-4648-9621-5b4aa7c7d767 div.sk-serial {display: flex;flex-direction: column;align-items: center;background-color: white;padding-right: 0.2em;padding-left: 0.2em;}#sk-d869c36c-004f-4648-9621-5b4aa7c7d767 div.sk-item {z-index: 1;}#sk-d869c36c-004f-4648-9621-5b4aa7c7d767 div.sk-parallel {display: flex;align-items: stretch;justify-content: center;background-color: white;}#sk-d869c36c-004f-4648-9621-5b4aa7c7d767 div.sk-parallel::before {content: \"\";position: absolute;border-left: 1px solid gray;box-sizing: border-box;top: 2em;bottom: 0;left: 50%;}#sk-d869c36c-004f-4648-9621-5b4aa7c7d767 div.sk-parallel-item {display: flex;flex-direction: column;position: relative;background-color: white;}#sk-d869c36c-004f-4648-9621-5b4aa7c7d767 div.sk-parallel-item:first-child::after {align-self: flex-end;width: 50%;}#sk-d869c36c-004f-4648-9621-5b4aa7c7d767 div.sk-parallel-item:last-child::after {align-self: flex-start;width: 50%;}#sk-d869c36c-004f-4648-9621-5b4aa7c7d767 div.sk-parallel-item:only-child::after {width: 0;}#sk-d869c36c-004f-4648-9621-5b4aa7c7d767 div.sk-dashed-wrapped {border: 1px dashed gray;margin: 0 0.4em 0.5em 0.4em;box-sizing: border-box;padding-bottom: 0.4em;background-color: white;position: relative;}#sk-d869c36c-004f-4648-9621-5b4aa7c7d767 div.sk-label label {font-family: monospace;font-weight: bold;background-color: white;display: inline-block;line-height: 1.2em;}#sk-d869c36c-004f-4648-9621-5b4aa7c7d767 div.sk-label-container {position: relative;z-index: 2;text-align: center;}#sk-d869c36c-004f-4648-9621-5b4aa7c7d767 div.sk-container {/* jupyter's `normalize.less` sets `[hidden] { display: none; }` but bootstrap.min.css set `[hidden] { display: none !important; }` so we also need the `!important` here to be able to override the default hidden behavior on the sphinx rendered scikit-learn.org. See: https://github.com/scikit-learn/scikit-learn/issues/21755 */display: inline-block !important;position: relative;}#sk-d869c36c-004f-4648-9621-5b4aa7c7d767 div.sk-text-repr-fallback {display: none;}</style><div id=\"sk-d869c36c-004f-4648-9621-5b4aa7c7d767\" class=\"sk-top-container\"><div class=\"sk-text-repr-fallback\"><pre>ColumnTransformer(transformers=[(&#x27;pipeline-1&#x27;,\n",
              "                                 Pipeline(steps=[(&#x27;simpleimputer&#x27;,\n",
              "                                                  SimpleImputer()),\n",
              "                                                 (&#x27;standardscaler&#x27;,\n",
              "                                                  StandardScaler())]),\n",
              "                                 &lt;sklearn.compose._column_transformer.make_column_selector object at 0x7fb2175b8090&gt;),\n",
              "                                (&#x27;pipeline-2&#x27;,\n",
              "                                 Pipeline(steps=[(&#x27;simpleimputer&#x27;,\n",
              "                                                  SimpleImputer(strategy=&#x27;most_frequent&#x27;)),\n",
              "                                                 (&#x27;onehotencoder&#x27;,\n",
              "                                                  OneHotEncoder(handle_unknown=&#x27;ignore&#x27;,\n",
              "                                                                sparse=False))]),\n",
              "                                 &lt;sklearn.compose._column_transformer.make_column_selector object at 0x7fb2175b82d0&gt;)])</pre><b>Please rerun this cell to show the HTML repr or trust the notebook.</b></div><div class=\"sk-container\" hidden><div class=\"sk-item sk-dashed-wrapped\"><div class=\"sk-label-container\"><div class=\"sk-label sk-toggleable\"><input class=\"sk-toggleable__control sk-hidden--visually\" id=\"870f3f0b-23e4-47aa-b894-701eaad61387\" type=\"checkbox\" ><label for=\"870f3f0b-23e4-47aa-b894-701eaad61387\" class=\"sk-toggleable__label sk-toggleable__label-arrow\">ColumnTransformer</label><div class=\"sk-toggleable__content\"><pre>ColumnTransformer(transformers=[(&#x27;pipeline-1&#x27;,\n",
              "                                 Pipeline(steps=[(&#x27;simpleimputer&#x27;,\n",
              "                                                  SimpleImputer()),\n",
              "                                                 (&#x27;standardscaler&#x27;,\n",
              "                                                  StandardScaler())]),\n",
              "                                 &lt;sklearn.compose._column_transformer.make_column_selector object at 0x7fb2175b8090&gt;),\n",
              "                                (&#x27;pipeline-2&#x27;,\n",
              "                                 Pipeline(steps=[(&#x27;simpleimputer&#x27;,\n",
              "                                                  SimpleImputer(strategy=&#x27;most_frequent&#x27;)),\n",
              "                                                 (&#x27;onehotencoder&#x27;,\n",
              "                                                  OneHotEncoder(handle_unknown=&#x27;ignore&#x27;,\n",
              "                                                                sparse=False))]),\n",
              "                                 &lt;sklearn.compose._column_transformer.make_column_selector object at 0x7fb2175b82d0&gt;)])</pre></div></div></div><div class=\"sk-parallel\"><div class=\"sk-parallel-item\"><div class=\"sk-item\"><div class=\"sk-label-container\"><div class=\"sk-label sk-toggleable\"><input class=\"sk-toggleable__control sk-hidden--visually\" id=\"412b03ac-a511-4649-a3c2-1e933aa2cb99\" type=\"checkbox\" ><label for=\"412b03ac-a511-4649-a3c2-1e933aa2cb99\" class=\"sk-toggleable__label sk-toggleable__label-arrow\">pipeline-1</label><div class=\"sk-toggleable__content\"><pre>&lt;sklearn.compose._column_transformer.make_column_selector object at 0x7fb2175b8090&gt;</pre></div></div></div><div class=\"sk-serial\"><div class=\"sk-item\"><div class=\"sk-serial\"><div class=\"sk-item\"><div class=\"sk-estimator sk-toggleable\"><input class=\"sk-toggleable__control sk-hidden--visually\" id=\"a17a047a-b4df-4b83-bf00-f5f69fefc480\" type=\"checkbox\" ><label for=\"a17a047a-b4df-4b83-bf00-f5f69fefc480\" class=\"sk-toggleable__label sk-toggleable__label-arrow\">SimpleImputer</label><div class=\"sk-toggleable__content\"><pre>SimpleImputer()</pre></div></div></div><div class=\"sk-item\"><div class=\"sk-estimator sk-toggleable\"><input class=\"sk-toggleable__control sk-hidden--visually\" id=\"e771237d-0291-492e-be4b-c4ecc8a6c430\" type=\"checkbox\" ><label for=\"e771237d-0291-492e-be4b-c4ecc8a6c430\" class=\"sk-toggleable__label sk-toggleable__label-arrow\">StandardScaler</label><div class=\"sk-toggleable__content\"><pre>StandardScaler()</pre></div></div></div></div></div></div></div></div><div class=\"sk-parallel-item\"><div class=\"sk-item\"><div class=\"sk-label-container\"><div class=\"sk-label sk-toggleable\"><input class=\"sk-toggleable__control sk-hidden--visually\" id=\"148025c6-ab69-46c1-9225-5be34ba13af7\" type=\"checkbox\" ><label for=\"148025c6-ab69-46c1-9225-5be34ba13af7\" class=\"sk-toggleable__label sk-toggleable__label-arrow\">pipeline-2</label><div class=\"sk-toggleable__content\"><pre>&lt;sklearn.compose._column_transformer.make_column_selector object at 0x7fb2175b82d0&gt;</pre></div></div></div><div class=\"sk-serial\"><div class=\"sk-item\"><div class=\"sk-serial\"><div class=\"sk-item\"><div class=\"sk-estimator sk-toggleable\"><input class=\"sk-toggleable__control sk-hidden--visually\" id=\"13833dd5-4da8-4e41-bc4f-274902f61f66\" type=\"checkbox\" ><label for=\"13833dd5-4da8-4e41-bc4f-274902f61f66\" class=\"sk-toggleable__label sk-toggleable__label-arrow\">SimpleImputer</label><div class=\"sk-toggleable__content\"><pre>SimpleImputer(strategy=&#x27;most_frequent&#x27;)</pre></div></div></div><div class=\"sk-item\"><div class=\"sk-estimator sk-toggleable\"><input class=\"sk-toggleable__control sk-hidden--visually\" id=\"3a9aa76e-922d-4a9b-bd3b-8c1a1ce161bb\" type=\"checkbox\" ><label for=\"3a9aa76e-922d-4a9b-bd3b-8c1a1ce161bb\" class=\"sk-toggleable__label sk-toggleable__label-arrow\">OneHotEncoder</label><div class=\"sk-toggleable__content\"><pre>OneHotEncoder(handle_unknown=&#x27;ignore&#x27;, sparse=False)</pre></div></div></div></div></div></div></div></div></div></div></div></div>"
            ]
          },
          "metadata": {},
          "execution_count": 94
        }
      ]
    },
    {
      "cell_type": "code",
      "source": [
        "# fit on train\n",
        "preprocessor.fit(X_train)"
      ],
      "metadata": {
        "colab": {
          "base_uri": "https://localhost:8080/",
          "height": 152
        },
        "id": "GnHUjyX70uuY",
        "outputId": "22853609-d327-4617-9a34-a7c32240b3d0"
      },
      "execution_count": 95,
      "outputs": [
        {
          "output_type": "execute_result",
          "data": {
            "text/plain": [
              "ColumnTransformer(transformers=[('pipeline-1',\n",
              "                                 Pipeline(steps=[('simpleimputer',\n",
              "                                                  SimpleImputer()),\n",
              "                                                 ('standardscaler',\n",
              "                                                  StandardScaler())]),\n",
              "                                 <sklearn.compose._column_transformer.make_column_selector object at 0x7fb2175b8090>),\n",
              "                                ('pipeline-2',\n",
              "                                 Pipeline(steps=[('simpleimputer',\n",
              "                                                  SimpleImputer(strategy='most_frequent')),\n",
              "                                                 ('onehotencoder',\n",
              "                                                  OneHotEncoder(handle_unknown='ignore',\n",
              "                                                                sparse=False))]),\n",
              "                                 <sklearn.compose._column_transformer.make_column_selector object at 0x7fb2175b82d0>)])"
            ],
            "text/html": [
              "<style>#sk-14be231c-1f9e-4220-9aec-c0958cb099a6 {color: black;background-color: white;}#sk-14be231c-1f9e-4220-9aec-c0958cb099a6 pre{padding: 0;}#sk-14be231c-1f9e-4220-9aec-c0958cb099a6 div.sk-toggleable {background-color: white;}#sk-14be231c-1f9e-4220-9aec-c0958cb099a6 label.sk-toggleable__label {cursor: pointer;display: block;width: 100%;margin-bottom: 0;padding: 0.3em;box-sizing: border-box;text-align: center;}#sk-14be231c-1f9e-4220-9aec-c0958cb099a6 label.sk-toggleable__label-arrow:before {content: \"▸\";float: left;margin-right: 0.25em;color: #696969;}#sk-14be231c-1f9e-4220-9aec-c0958cb099a6 label.sk-toggleable__label-arrow:hover:before {color: black;}#sk-14be231c-1f9e-4220-9aec-c0958cb099a6 div.sk-estimator:hover label.sk-toggleable__label-arrow:before {color: black;}#sk-14be231c-1f9e-4220-9aec-c0958cb099a6 div.sk-toggleable__content {max-height: 0;max-width: 0;overflow: hidden;text-align: left;background-color: #f0f8ff;}#sk-14be231c-1f9e-4220-9aec-c0958cb099a6 div.sk-toggleable__content pre {margin: 0.2em;color: black;border-radius: 0.25em;background-color: #f0f8ff;}#sk-14be231c-1f9e-4220-9aec-c0958cb099a6 input.sk-toggleable__control:checked~div.sk-toggleable__content {max-height: 200px;max-width: 100%;overflow: auto;}#sk-14be231c-1f9e-4220-9aec-c0958cb099a6 input.sk-toggleable__control:checked~label.sk-toggleable__label-arrow:before {content: \"▾\";}#sk-14be231c-1f9e-4220-9aec-c0958cb099a6 div.sk-estimator input.sk-toggleable__control:checked~label.sk-toggleable__label {background-color: #d4ebff;}#sk-14be231c-1f9e-4220-9aec-c0958cb099a6 div.sk-label input.sk-toggleable__control:checked~label.sk-toggleable__label {background-color: #d4ebff;}#sk-14be231c-1f9e-4220-9aec-c0958cb099a6 input.sk-hidden--visually {border: 0;clip: rect(1px 1px 1px 1px);clip: rect(1px, 1px, 1px, 1px);height: 1px;margin: -1px;overflow: hidden;padding: 0;position: absolute;width: 1px;}#sk-14be231c-1f9e-4220-9aec-c0958cb099a6 div.sk-estimator {font-family: monospace;background-color: #f0f8ff;border: 1px dotted black;border-radius: 0.25em;box-sizing: border-box;margin-bottom: 0.5em;}#sk-14be231c-1f9e-4220-9aec-c0958cb099a6 div.sk-estimator:hover {background-color: #d4ebff;}#sk-14be231c-1f9e-4220-9aec-c0958cb099a6 div.sk-parallel-item::after {content: \"\";width: 100%;border-bottom: 1px solid gray;flex-grow: 1;}#sk-14be231c-1f9e-4220-9aec-c0958cb099a6 div.sk-label:hover label.sk-toggleable__label {background-color: #d4ebff;}#sk-14be231c-1f9e-4220-9aec-c0958cb099a6 div.sk-serial::before {content: \"\";position: absolute;border-left: 1px solid gray;box-sizing: border-box;top: 2em;bottom: 0;left: 50%;}#sk-14be231c-1f9e-4220-9aec-c0958cb099a6 div.sk-serial {display: flex;flex-direction: column;align-items: center;background-color: white;padding-right: 0.2em;padding-left: 0.2em;}#sk-14be231c-1f9e-4220-9aec-c0958cb099a6 div.sk-item {z-index: 1;}#sk-14be231c-1f9e-4220-9aec-c0958cb099a6 div.sk-parallel {display: flex;align-items: stretch;justify-content: center;background-color: white;}#sk-14be231c-1f9e-4220-9aec-c0958cb099a6 div.sk-parallel::before {content: \"\";position: absolute;border-left: 1px solid gray;box-sizing: border-box;top: 2em;bottom: 0;left: 50%;}#sk-14be231c-1f9e-4220-9aec-c0958cb099a6 div.sk-parallel-item {display: flex;flex-direction: column;position: relative;background-color: white;}#sk-14be231c-1f9e-4220-9aec-c0958cb099a6 div.sk-parallel-item:first-child::after {align-self: flex-end;width: 50%;}#sk-14be231c-1f9e-4220-9aec-c0958cb099a6 div.sk-parallel-item:last-child::after {align-self: flex-start;width: 50%;}#sk-14be231c-1f9e-4220-9aec-c0958cb099a6 div.sk-parallel-item:only-child::after {width: 0;}#sk-14be231c-1f9e-4220-9aec-c0958cb099a6 div.sk-dashed-wrapped {border: 1px dashed gray;margin: 0 0.4em 0.5em 0.4em;box-sizing: border-box;padding-bottom: 0.4em;background-color: white;position: relative;}#sk-14be231c-1f9e-4220-9aec-c0958cb099a6 div.sk-label label {font-family: monospace;font-weight: bold;background-color: white;display: inline-block;line-height: 1.2em;}#sk-14be231c-1f9e-4220-9aec-c0958cb099a6 div.sk-label-container {position: relative;z-index: 2;text-align: center;}#sk-14be231c-1f9e-4220-9aec-c0958cb099a6 div.sk-container {/* jupyter's `normalize.less` sets `[hidden] { display: none; }` but bootstrap.min.css set `[hidden] { display: none !important; }` so we also need the `!important` here to be able to override the default hidden behavior on the sphinx rendered scikit-learn.org. See: https://github.com/scikit-learn/scikit-learn/issues/21755 */display: inline-block !important;position: relative;}#sk-14be231c-1f9e-4220-9aec-c0958cb099a6 div.sk-text-repr-fallback {display: none;}</style><div id=\"sk-14be231c-1f9e-4220-9aec-c0958cb099a6\" class=\"sk-top-container\"><div class=\"sk-text-repr-fallback\"><pre>ColumnTransformer(transformers=[(&#x27;pipeline-1&#x27;,\n",
              "                                 Pipeline(steps=[(&#x27;simpleimputer&#x27;,\n",
              "                                                  SimpleImputer()),\n",
              "                                                 (&#x27;standardscaler&#x27;,\n",
              "                                                  StandardScaler())]),\n",
              "                                 &lt;sklearn.compose._column_transformer.make_column_selector object at 0x7fb2175b8090&gt;),\n",
              "                                (&#x27;pipeline-2&#x27;,\n",
              "                                 Pipeline(steps=[(&#x27;simpleimputer&#x27;,\n",
              "                                                  SimpleImputer(strategy=&#x27;most_frequent&#x27;)),\n",
              "                                                 (&#x27;onehotencoder&#x27;,\n",
              "                                                  OneHotEncoder(handle_unknown=&#x27;ignore&#x27;,\n",
              "                                                                sparse=False))]),\n",
              "                                 &lt;sklearn.compose._column_transformer.make_column_selector object at 0x7fb2175b82d0&gt;)])</pre><b>Please rerun this cell to show the HTML repr or trust the notebook.</b></div><div class=\"sk-container\" hidden><div class=\"sk-item sk-dashed-wrapped\"><div class=\"sk-label-container\"><div class=\"sk-label sk-toggleable\"><input class=\"sk-toggleable__control sk-hidden--visually\" id=\"69ea9e78-3bc2-4df4-9abf-e843fe62be80\" type=\"checkbox\" ><label for=\"69ea9e78-3bc2-4df4-9abf-e843fe62be80\" class=\"sk-toggleable__label sk-toggleable__label-arrow\">ColumnTransformer</label><div class=\"sk-toggleable__content\"><pre>ColumnTransformer(transformers=[(&#x27;pipeline-1&#x27;,\n",
              "                                 Pipeline(steps=[(&#x27;simpleimputer&#x27;,\n",
              "                                                  SimpleImputer()),\n",
              "                                                 (&#x27;standardscaler&#x27;,\n",
              "                                                  StandardScaler())]),\n",
              "                                 &lt;sklearn.compose._column_transformer.make_column_selector object at 0x7fb2175b8090&gt;),\n",
              "                                (&#x27;pipeline-2&#x27;,\n",
              "                                 Pipeline(steps=[(&#x27;simpleimputer&#x27;,\n",
              "                                                  SimpleImputer(strategy=&#x27;most_frequent&#x27;)),\n",
              "                                                 (&#x27;onehotencoder&#x27;,\n",
              "                                                  OneHotEncoder(handle_unknown=&#x27;ignore&#x27;,\n",
              "                                                                sparse=False))]),\n",
              "                                 &lt;sklearn.compose._column_transformer.make_column_selector object at 0x7fb2175b82d0&gt;)])</pre></div></div></div><div class=\"sk-parallel\"><div class=\"sk-parallel-item\"><div class=\"sk-item\"><div class=\"sk-label-container\"><div class=\"sk-label sk-toggleable\"><input class=\"sk-toggleable__control sk-hidden--visually\" id=\"8aee22b7-ca2d-4dc1-87d7-8f6274e40a38\" type=\"checkbox\" ><label for=\"8aee22b7-ca2d-4dc1-87d7-8f6274e40a38\" class=\"sk-toggleable__label sk-toggleable__label-arrow\">pipeline-1</label><div class=\"sk-toggleable__content\"><pre>&lt;sklearn.compose._column_transformer.make_column_selector object at 0x7fb2175b8090&gt;</pre></div></div></div><div class=\"sk-serial\"><div class=\"sk-item\"><div class=\"sk-serial\"><div class=\"sk-item\"><div class=\"sk-estimator sk-toggleable\"><input class=\"sk-toggleable__control sk-hidden--visually\" id=\"88028c18-c34a-469b-b7bc-53be780cf3a6\" type=\"checkbox\" ><label for=\"88028c18-c34a-469b-b7bc-53be780cf3a6\" class=\"sk-toggleable__label sk-toggleable__label-arrow\">SimpleImputer</label><div class=\"sk-toggleable__content\"><pre>SimpleImputer()</pre></div></div></div><div class=\"sk-item\"><div class=\"sk-estimator sk-toggleable\"><input class=\"sk-toggleable__control sk-hidden--visually\" id=\"0fa26a0b-e1f0-4138-9911-7e2ebd180bec\" type=\"checkbox\" ><label for=\"0fa26a0b-e1f0-4138-9911-7e2ebd180bec\" class=\"sk-toggleable__label sk-toggleable__label-arrow\">StandardScaler</label><div class=\"sk-toggleable__content\"><pre>StandardScaler()</pre></div></div></div></div></div></div></div></div><div class=\"sk-parallel-item\"><div class=\"sk-item\"><div class=\"sk-label-container\"><div class=\"sk-label sk-toggleable\"><input class=\"sk-toggleable__control sk-hidden--visually\" id=\"24c251b9-b60f-4dc1-b64a-f5354346e297\" type=\"checkbox\" ><label for=\"24c251b9-b60f-4dc1-b64a-f5354346e297\" class=\"sk-toggleable__label sk-toggleable__label-arrow\">pipeline-2</label><div class=\"sk-toggleable__content\"><pre>&lt;sklearn.compose._column_transformer.make_column_selector object at 0x7fb2175b82d0&gt;</pre></div></div></div><div class=\"sk-serial\"><div class=\"sk-item\"><div class=\"sk-serial\"><div class=\"sk-item\"><div class=\"sk-estimator sk-toggleable\"><input class=\"sk-toggleable__control sk-hidden--visually\" id=\"ec872694-6056-4235-b788-f48ab2947a34\" type=\"checkbox\" ><label for=\"ec872694-6056-4235-b788-f48ab2947a34\" class=\"sk-toggleable__label sk-toggleable__label-arrow\">SimpleImputer</label><div class=\"sk-toggleable__content\"><pre>SimpleImputer(strategy=&#x27;most_frequent&#x27;)</pre></div></div></div><div class=\"sk-item\"><div class=\"sk-estimator sk-toggleable\"><input class=\"sk-toggleable__control sk-hidden--visually\" id=\"08a7c5c6-4fc3-4af5-a99b-3ccebc9960fb\" type=\"checkbox\" ><label for=\"08a7c5c6-4fc3-4af5-a99b-3ccebc9960fb\" class=\"sk-toggleable__label sk-toggleable__label-arrow\">OneHotEncoder</label><div class=\"sk-toggleable__content\"><pre>OneHotEncoder(handle_unknown=&#x27;ignore&#x27;, sparse=False)</pre></div></div></div></div></div></div></div></div></div></div></div></div>"
            ]
          },
          "metadata": {},
          "execution_count": 95
        }
      ]
    },
    {
      "cell_type": "code",
      "source": [
        "# transform train and test\n",
        "X_train_processed = preprocessor.transform(X_train)\n",
        "X_test_processed = preprocessor.transform(X_test)"
      ],
      "metadata": {
        "id": "rYAsfBGu0vWx"
      },
      "execution_count": 96,
      "outputs": []
    },
    {
      "cell_type": "code",
      "source": [
        "lin_reg = LinearRegression()\n",
        "lin_reg_pipe = make_pipeline(lin_reg)\n",
        "\n",
        "# ?? do this right ??\n",
        "lin_reg_pipe.fit(X_train_processed, y_train)"
      ],
      "metadata": {
        "colab": {
          "base_uri": "https://localhost:8080/",
          "height": 92
        },
        "id": "PNXlzYlr0xiH",
        "outputId": "3f5ef64d-5214-4d32-d0e6-d30d14007154"
      },
      "execution_count": 106,
      "outputs": [
        {
          "output_type": "execute_result",
          "data": {
            "text/plain": [
              "Pipeline(steps=[('linearregression', LinearRegression())])"
            ],
            "text/html": [
              "<style>#sk-c30c29c8-39da-40ac-b746-bfce3105ac25 {color: black;background-color: white;}#sk-c30c29c8-39da-40ac-b746-bfce3105ac25 pre{padding: 0;}#sk-c30c29c8-39da-40ac-b746-bfce3105ac25 div.sk-toggleable {background-color: white;}#sk-c30c29c8-39da-40ac-b746-bfce3105ac25 label.sk-toggleable__label {cursor: pointer;display: block;width: 100%;margin-bottom: 0;padding: 0.3em;box-sizing: border-box;text-align: center;}#sk-c30c29c8-39da-40ac-b746-bfce3105ac25 label.sk-toggleable__label-arrow:before {content: \"▸\";float: left;margin-right: 0.25em;color: #696969;}#sk-c30c29c8-39da-40ac-b746-bfce3105ac25 label.sk-toggleable__label-arrow:hover:before {color: black;}#sk-c30c29c8-39da-40ac-b746-bfce3105ac25 div.sk-estimator:hover label.sk-toggleable__label-arrow:before {color: black;}#sk-c30c29c8-39da-40ac-b746-bfce3105ac25 div.sk-toggleable__content {max-height: 0;max-width: 0;overflow: hidden;text-align: left;background-color: #f0f8ff;}#sk-c30c29c8-39da-40ac-b746-bfce3105ac25 div.sk-toggleable__content pre {margin: 0.2em;color: black;border-radius: 0.25em;background-color: #f0f8ff;}#sk-c30c29c8-39da-40ac-b746-bfce3105ac25 input.sk-toggleable__control:checked~div.sk-toggleable__content {max-height: 200px;max-width: 100%;overflow: auto;}#sk-c30c29c8-39da-40ac-b746-bfce3105ac25 input.sk-toggleable__control:checked~label.sk-toggleable__label-arrow:before {content: \"▾\";}#sk-c30c29c8-39da-40ac-b746-bfce3105ac25 div.sk-estimator input.sk-toggleable__control:checked~label.sk-toggleable__label {background-color: #d4ebff;}#sk-c30c29c8-39da-40ac-b746-bfce3105ac25 div.sk-label input.sk-toggleable__control:checked~label.sk-toggleable__label {background-color: #d4ebff;}#sk-c30c29c8-39da-40ac-b746-bfce3105ac25 input.sk-hidden--visually {border: 0;clip: rect(1px 1px 1px 1px);clip: rect(1px, 1px, 1px, 1px);height: 1px;margin: -1px;overflow: hidden;padding: 0;position: absolute;width: 1px;}#sk-c30c29c8-39da-40ac-b746-bfce3105ac25 div.sk-estimator {font-family: monospace;background-color: #f0f8ff;border: 1px dotted black;border-radius: 0.25em;box-sizing: border-box;margin-bottom: 0.5em;}#sk-c30c29c8-39da-40ac-b746-bfce3105ac25 div.sk-estimator:hover {background-color: #d4ebff;}#sk-c30c29c8-39da-40ac-b746-bfce3105ac25 div.sk-parallel-item::after {content: \"\";width: 100%;border-bottom: 1px solid gray;flex-grow: 1;}#sk-c30c29c8-39da-40ac-b746-bfce3105ac25 div.sk-label:hover label.sk-toggleable__label {background-color: #d4ebff;}#sk-c30c29c8-39da-40ac-b746-bfce3105ac25 div.sk-serial::before {content: \"\";position: absolute;border-left: 1px solid gray;box-sizing: border-box;top: 2em;bottom: 0;left: 50%;}#sk-c30c29c8-39da-40ac-b746-bfce3105ac25 div.sk-serial {display: flex;flex-direction: column;align-items: center;background-color: white;padding-right: 0.2em;padding-left: 0.2em;}#sk-c30c29c8-39da-40ac-b746-bfce3105ac25 div.sk-item {z-index: 1;}#sk-c30c29c8-39da-40ac-b746-bfce3105ac25 div.sk-parallel {display: flex;align-items: stretch;justify-content: center;background-color: white;}#sk-c30c29c8-39da-40ac-b746-bfce3105ac25 div.sk-parallel::before {content: \"\";position: absolute;border-left: 1px solid gray;box-sizing: border-box;top: 2em;bottom: 0;left: 50%;}#sk-c30c29c8-39da-40ac-b746-bfce3105ac25 div.sk-parallel-item {display: flex;flex-direction: column;position: relative;background-color: white;}#sk-c30c29c8-39da-40ac-b746-bfce3105ac25 div.sk-parallel-item:first-child::after {align-self: flex-end;width: 50%;}#sk-c30c29c8-39da-40ac-b746-bfce3105ac25 div.sk-parallel-item:last-child::after {align-self: flex-start;width: 50%;}#sk-c30c29c8-39da-40ac-b746-bfce3105ac25 div.sk-parallel-item:only-child::after {width: 0;}#sk-c30c29c8-39da-40ac-b746-bfce3105ac25 div.sk-dashed-wrapped {border: 1px dashed gray;margin: 0 0.4em 0.5em 0.4em;box-sizing: border-box;padding-bottom: 0.4em;background-color: white;position: relative;}#sk-c30c29c8-39da-40ac-b746-bfce3105ac25 div.sk-label label {font-family: monospace;font-weight: bold;background-color: white;display: inline-block;line-height: 1.2em;}#sk-c30c29c8-39da-40ac-b746-bfce3105ac25 div.sk-label-container {position: relative;z-index: 2;text-align: center;}#sk-c30c29c8-39da-40ac-b746-bfce3105ac25 div.sk-container {/* jupyter's `normalize.less` sets `[hidden] { display: none; }` but bootstrap.min.css set `[hidden] { display: none !important; }` so we also need the `!important` here to be able to override the default hidden behavior on the sphinx rendered scikit-learn.org. See: https://github.com/scikit-learn/scikit-learn/issues/21755 */display: inline-block !important;position: relative;}#sk-c30c29c8-39da-40ac-b746-bfce3105ac25 div.sk-text-repr-fallback {display: none;}</style><div id=\"sk-c30c29c8-39da-40ac-b746-bfce3105ac25\" class=\"sk-top-container\"><div class=\"sk-text-repr-fallback\"><pre>Pipeline(steps=[(&#x27;linearregression&#x27;, LinearRegression())])</pre><b>Please rerun this cell to show the HTML repr or trust the notebook.</b></div><div class=\"sk-container\" hidden><div class=\"sk-item sk-dashed-wrapped\"><div class=\"sk-label-container\"><div class=\"sk-label sk-toggleable\"><input class=\"sk-toggleable__control sk-hidden--visually\" id=\"64af3493-2094-49ad-b24c-5156e181c5d0\" type=\"checkbox\" ><label for=\"64af3493-2094-49ad-b24c-5156e181c5d0\" class=\"sk-toggleable__label sk-toggleable__label-arrow\">Pipeline</label><div class=\"sk-toggleable__content\"><pre>Pipeline(steps=[(&#x27;linearregression&#x27;, LinearRegression())])</pre></div></div></div><div class=\"sk-serial\"><div class=\"sk-item\"><div class=\"sk-estimator sk-toggleable\"><input class=\"sk-toggleable__control sk-hidden--visually\" id=\"0e462572-dc93-4cce-8907-c06c5df85933\" type=\"checkbox\" ><label for=\"0e462572-dc93-4cce-8907-c06c5df85933\" class=\"sk-toggleable__label sk-toggleable__label-arrow\">LinearRegression</label><div class=\"sk-toggleable__content\"><pre>LinearRegression()</pre></div></div></div></div></div></div></div>"
            ]
          },
          "metadata": {},
          "execution_count": 106
        }
      ]
    },
    {
      "cell_type": "code",
      "source": [
        "train_pred = lin_reg_pipe.predict(X_train_processed)\n",
        "test_pred = lin_reg_pipe.predict(X_test_processed)"
      ],
      "metadata": {
        "id": "3Q0Qhls209PF"
      },
      "execution_count": 107,
      "outputs": []
    },
    {
      "cell_type": "code",
      "source": [
        "train_rsme = np.sqrt(np.mean(np.abs(train_pred - y_train) **2))\n",
        "test_rsme = np.sqrt(np.mean(np.abs(test_pred - y_test) **2))\n",
        "\n",
        "\n",
        "print(train_rsme)\n",
        "print(test_rsme)"
      ],
      "metadata": {
        "colab": {
          "base_uri": "https://localhost:8080/"
        },
        "id": "OoZwda8D2waZ",
        "outputId": "091b9431-6666-4d37-949e-1cc378f14cd8"
      },
      "execution_count": 112,
      "outputs": [
        {
          "output_type": "stream",
          "name": "stdout",
          "text": [
            "1679.8767279583003\n",
            "1665.0911750803768\n"
          ]
        }
      ]
    }
  ]
}