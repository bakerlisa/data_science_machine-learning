{
  "nbformat": 4,
  "nbformat_minor": 0,
  "metadata": {
    "colab": {
      "name": "Untitled0.ipynb",
      "provenance": [],
      "authorship_tag": "ABX9TyO3jNF0XWY433Wf44dexCCF",
      "include_colab_link": true
    },
    "kernelspec": {
      "name": "python3",
      "display_name": "Python 3"
    },
    "language_info": {
      "name": "python"
    }
  },
  "cells": [
    {
      "cell_type": "markdown",
      "metadata": {
        "id": "view-in-github",
        "colab_type": "text"
      },
      "source": [
        "<a href=\"https://colab.research.google.com/github/lisabroadhead/machine-learning/blob/main/lesson_notes_week1.ipynb\" target=\"_parent\"><img src=\"https://colab.research.google.com/assets/colab-badge.svg\" alt=\"Open In Colab\"/></a>"
      ]
    },
    {
      "cell_type": "markdown",
      "source": [
        "# List"
      ],
      "metadata": {
        "id": "aZ_zsiokcR9w"
      }
    },
    {
      "cell_type": "code",
      "source": [
        "z = [1,2,3,45]\n",
        "z, z[-1]"
      ],
      "metadata": {
        "colab": {
          "base_uri": "https://localhost:8080/"
        },
        "id": "4ima1NT5cUF6",
        "outputId": "e1dce70c-a37a-4566-8506-7d1fbda9563a"
      },
      "execution_count": 5,
      "outputs": [
        {
          "output_type": "execute_result",
          "data": {
            "text/plain": [
              "([1, 2, 3, 45], 45)"
            ]
          },
          "metadata": {},
          "execution_count": 5
        }
      ]
    },
    {
      "cell_type": "code",
      "source": [
        "x = [\"bunny\", 9, 3.35,\"sunny\"]\n",
        "x, x[1],x[2]"
      ],
      "metadata": {
        "colab": {
          "base_uri": "https://localhost:8080/"
        },
        "id": "jXqRbL0NcY4O",
        "outputId": "7f2d897d-a1a0-476e-b4a3-362434a4766f"
      },
      "execution_count": 4,
      "outputs": [
        {
          "output_type": "execute_result",
          "data": {
            "text/plain": [
              "(['bunny', 9, 3.35, 'sunny'], 9, 3.35)"
            ]
          },
          "metadata": {},
          "execution_count": 4
        }
      ]
    },
    {
      "cell_type": "code",
      "source": [
        "z[1] = \"fish\"\n",
        "z, z[:1]\n"
      ],
      "metadata": {
        "colab": {
          "base_uri": "https://localhost:8080/"
        },
        "id": "dYTqdIZhcjxT",
        "outputId": "395b7075-5158-45c3-e902-e06405e10d8d"
      },
      "execution_count": 25,
      "outputs": [
        {
          "output_type": "execute_result",
          "data": {
            "text/plain": [
              "([1, 'fish', 3, 45], [1])"
            ]
          },
          "metadata": {},
          "execution_count": 25
        }
      ]
    },
    {
      "cell_type": "code",
      "source": [
        "z.count(10)"
      ],
      "metadata": {
        "colab": {
          "base_uri": "https://localhost:8080/"
        },
        "id": "Y_SmIB4FdwDp",
        "outputId": "02cb8b04-db6f-4570-896f-aa9ba3c632c1"
      },
      "execution_count": 24,
      "outputs": [
        {
          "output_type": "execute_result",
          "data": {
            "text/plain": [
              "0"
            ]
          },
          "metadata": {},
          "execution_count": 24
        }
      ]
    },
    {
      "cell_type": "markdown",
      "source": [
        "# NumPy"
      ],
      "metadata": {
        "id": "Ym90VQK0eO02"
      }
    },
    {
      "cell_type": "code",
      "source": [
        "price = [2,1,10]\n",
        "type(price)\n",
        "\n",
        "qty_sold = [17,40,1]\n",
        "type(qty_sold)\n",
        "\n",
        "# price * qty_sold"
      ],
      "metadata": {
        "colab": {
          "base_uri": "https://localhost:8080/"
        },
        "id": "2xaVUbB8eeA2",
        "outputId": "455534ab-bf72-46cc-eeb4-c675d947487a"
      },
      "execution_count": 37,
      "outputs": [
        {
          "output_type": "execute_result",
          "data": {
            "text/plain": [
              "list"
            ]
          },
          "metadata": {},
          "execution_count": 37
        }
      ]
    },
    {
      "cell_type": "code",
      "source": [
        "import numpy as np\n",
        "price_arr = np.array(price)\n",
        "qyt_arr = np.array(qty_sold)\n",
        "\n",
        "type(price_arr), price_arr * qty_sold"
      ],
      "metadata": {
        "colab": {
          "base_uri": "https://localhost:8080/"
        },
        "id": "ljNQ_9iLe46Q",
        "outputId": "6ff71cbe-2ea7-451b-f5c9-4c80c1b75c06"
      },
      "execution_count": 34,
      "outputs": [
        {
          "output_type": "execute_result",
          "data": {
            "text/plain": [
              "(numpy.ndarray, array([34, 40, 10]))"
            ]
          },
          "metadata": {},
          "execution_count": 34
        }
      ]
    },
    {
      "cell_type": "code",
      "source": [
        "cost_arr = np.array([.25,.50,5.00])\n",
        "profit_arr = price_arr - cost_arr\n",
        "print(profit_arr)\n",
        "price_arr > 2.00"
      ],
      "metadata": {
        "colab": {
          "base_uri": "https://localhost:8080/"
        },
        "id": "TO__i6aUfWkK",
        "outputId": "5b7eba93-1609-4e5f-9c1b-4756193bd6f1"
      },
      "execution_count": 39,
      "outputs": [
        {
          "output_type": "stream",
          "name": "stdout",
          "text": [
            "[1.75 0.5  5.  ]\n"
          ]
        },
        {
          "output_type": "execute_result",
          "data": {
            "text/plain": [
              "array([False, False,  True])"
            ]
          },
          "metadata": {},
          "execution_count": 39
        }
      ]
    },
    {
      "cell_type": "code",
      "source": [
        "# adding \n",
        "\n",
        "price_arr = np.append(price_arr, 7)\n",
        "# price_arr = np.append(price_arr,[4.5,3,4,9])\n",
        "# print(price_arr.dtype)"
      ],
      "metadata": {
        "id": "fnI8HSI8gD1N"
      },
      "execution_count": 48,
      "outputs": []
    },
    {
      "cell_type": "code",
      "source": [
        "#deleting\n",
        "\n",
        "price_arr = np.delete(price_arr,-1)\n",
        "price_arr"
      ],
      "metadata": {
        "colab": {
          "base_uri": "https://localhost:8080/"
        },
        "id": "1CDDMP3XgpcW",
        "outputId": "7e6fe587-7c3d-4c7e-e57d-cbfd23aa5c28"
      },
      "execution_count": 56,
      "outputs": [
        {
          "output_type": "execute_result",
          "data": {
            "text/plain": [
              "array([ 2. ,  1. , 10. ,  7. ,  7. ,  4.5,  3. ,  4. ,  9. ,  7. ,  4.5,\n",
              "        3. ,  4. ,  9. ,  7. ,  4.5,  3. ,  4. ,  9. ,  7. ,  7. ])"
            ]
          },
          "metadata": {},
          "execution_count": 56
        }
      ]
    },
    {
      "cell_type": "code",
      "source": [
        "# replacing\n",
        "\n",
        "price_arr[-1] = 14\n",
        "price_arr"
      ],
      "metadata": {
        "colab": {
          "base_uri": "https://localhost:8080/"
        },
        "id": "qlO3_wIkgyK6",
        "outputId": "5d878818-ef20-4689-8ec5-a8f1b795fc0d"
      },
      "execution_count": 57,
      "outputs": [
        {
          "output_type": "execute_result",
          "data": {
            "text/plain": [
              "array([ 2. ,  1. , 10. ,  7. ,  7. ,  4.5,  3. ,  4. ,  9. ,  7. ,  4.5,\n",
              "        3. ,  4. ,  9. ,  7. ,  4.5,  3. ,  4. ,  9. ,  7. , 14. ])"
            ]
          },
          "metadata": {},
          "execution_count": 57
        }
      ]
    }
  ]
}