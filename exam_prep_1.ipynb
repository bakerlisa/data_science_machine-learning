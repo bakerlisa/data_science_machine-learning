{
  "nbformat": 4,
  "nbformat_minor": 0,
  "metadata": {
    "colab": {
      "name": "month_1_exam_prep.ipynb",
      "provenance": [],
      "collapsed_sections": [
        "u0gbVo9QrTK6",
        "DebX4L2Mq40I",
        "B4QLLXZKsZBB",
        "7FY-O0s46zJl",
        "t0M_aiNitn8a",
        "nFFA8su_y7QQ",
        "V_3L1casOHX8",
        "_QDeCUSeTluZ",
        "mof79W49TX19",
        "FyMZ4h7-UlOW",
        "VCvy1zz98Erv"
      ],
      "mount_file_id": "1NtXcElsDWSAGaKMLk4I6Q-AQVfRjAIOc",
      "authorship_tag": "ABX9TyP9vLOVYqvfw4Z0w5rh967a",
      "include_colab_link": true
    },
    "kernelspec": {
      "name": "python3",
      "display_name": "Python 3"
    },
    "language_info": {
      "name": "python"
    }
  },
  "cells": [
    {
      "cell_type": "markdown",
      "metadata": {
        "id": "view-in-github",
        "colab_type": "text"
      },
      "source": [
        "<a href=\"https://colab.research.google.com/github/lisabroadhead/data_science_machine-learning/blob/main/exam_prep_1.ipynb\" target=\"_parent\"><img src=\"https://colab.research.google.com/assets/colab-badge.svg\" alt=\"Open In Colab\"/></a>"
      ]
    },
    {
      "cell_type": "markdown",
      "source": [
        "# Exam Prep\n",
        "\n",
        "- Lisa Broadhead\n",
        "- June 8, 2022"
      ],
      "metadata": {
        "id": "sIGJCrLCpRbe"
      }
    },
    {
      "cell_type": "markdown",
      "source": [
        "## Objectives\n",
        "1. Clean\n",
        "2. Explore\n",
        "\n",
        "#### In order to:\n",
        "1. Understand where they should focus their next project\n",
        "2. Strategies to use to have the biggest impact in increasing youth literacy rates "
      ],
      "metadata": {
        "id": "u0gbVo9QrTK6"
      }
    },
    {
      "cell_type": "code",
      "source": [
        "import pandas as pd\n",
        "import numpy as np\n",
        "import matplotlib.pyplot as plt\n",
        "import seaborn as sns"
      ],
      "metadata": {
        "id": "i0yn1fEdqc1p"
      },
      "execution_count": 2,
      "outputs": []
    },
    {
      "cell_type": "code",
      "source": [
        "file = \"/content/drive/MyDrive/Colab Notebooks/coding_dojo/files/literacy_rates.csv\"\n",
        "df = pd.read_csv(file)\n",
        "df.head()"
      ],
      "metadata": {
        "colab": {
          "base_uri": "https://localhost:8080/",
          "height": 206
        },
        "id": "aUK5HLv0qeX2",
        "outputId": "8ad0ce92-7a9f-4998-8daf-98d0a200a970"
      },
      "execution_count": 3,
      "outputs": [
        {
          "output_type": "execute_result",
          "data": {
            "text/plain": [
              "                      Region      Country  Year    Age  Gender Literacy rate\n",
              "0  Central and Southern Asia  Afghanistan  2011    15+  female     0.1761206\n",
              "1  Central and Southern Asia  Afghanistan  2011    15+    male      0.454171\n",
              "2  Central and Southern Asia  Afghanistan  2011    15+   total     0.3174112\n",
              "3                        NaN  Afghanistan  2011  15-24  female     0.3211322\n",
              "4                        NaN  Afghanistan  2011  15-24    male     0.6187907"
            ],
            "text/html": [
              "\n",
              "  <div id=\"df-64e71961-1830-4d4d-b14b-22287404ce81\">\n",
              "    <div class=\"colab-df-container\">\n",
              "      <div>\n",
              "<style scoped>\n",
              "    .dataframe tbody tr th:only-of-type {\n",
              "        vertical-align: middle;\n",
              "    }\n",
              "\n",
              "    .dataframe tbody tr th {\n",
              "        vertical-align: top;\n",
              "    }\n",
              "\n",
              "    .dataframe thead th {\n",
              "        text-align: right;\n",
              "    }\n",
              "</style>\n",
              "<table border=\"1\" class=\"dataframe\">\n",
              "  <thead>\n",
              "    <tr style=\"text-align: right;\">\n",
              "      <th></th>\n",
              "      <th>Region</th>\n",
              "      <th>Country</th>\n",
              "      <th>Year</th>\n",
              "      <th>Age</th>\n",
              "      <th>Gender</th>\n",
              "      <th>Literacy rate</th>\n",
              "    </tr>\n",
              "  </thead>\n",
              "  <tbody>\n",
              "    <tr>\n",
              "      <th>0</th>\n",
              "      <td>Central and Southern Asia</td>\n",
              "      <td>Afghanistan</td>\n",
              "      <td>2011</td>\n",
              "      <td>15+</td>\n",
              "      <td>female</td>\n",
              "      <td>0.1761206</td>\n",
              "    </tr>\n",
              "    <tr>\n",
              "      <th>1</th>\n",
              "      <td>Central and Southern Asia</td>\n",
              "      <td>Afghanistan</td>\n",
              "      <td>2011</td>\n",
              "      <td>15+</td>\n",
              "      <td>male</td>\n",
              "      <td>0.454171</td>\n",
              "    </tr>\n",
              "    <tr>\n",
              "      <th>2</th>\n",
              "      <td>Central and Southern Asia</td>\n",
              "      <td>Afghanistan</td>\n",
              "      <td>2011</td>\n",
              "      <td>15+</td>\n",
              "      <td>total</td>\n",
              "      <td>0.3174112</td>\n",
              "    </tr>\n",
              "    <tr>\n",
              "      <th>3</th>\n",
              "      <td>NaN</td>\n",
              "      <td>Afghanistan</td>\n",
              "      <td>2011</td>\n",
              "      <td>15-24</td>\n",
              "      <td>female</td>\n",
              "      <td>0.3211322</td>\n",
              "    </tr>\n",
              "    <tr>\n",
              "      <th>4</th>\n",
              "      <td>NaN</td>\n",
              "      <td>Afghanistan</td>\n",
              "      <td>2011</td>\n",
              "      <td>15-24</td>\n",
              "      <td>male</td>\n",
              "      <td>0.6187907</td>\n",
              "    </tr>\n",
              "  </tbody>\n",
              "</table>\n",
              "</div>\n",
              "      <button class=\"colab-df-convert\" onclick=\"convertToInteractive('df-64e71961-1830-4d4d-b14b-22287404ce81')\"\n",
              "              title=\"Convert this dataframe to an interactive table.\"\n",
              "              style=\"display:none;\">\n",
              "        \n",
              "  <svg xmlns=\"http://www.w3.org/2000/svg\" height=\"24px\"viewBox=\"0 0 24 24\"\n",
              "       width=\"24px\">\n",
              "    <path d=\"M0 0h24v24H0V0z\" fill=\"none\"/>\n",
              "    <path d=\"M18.56 5.44l.94 2.06.94-2.06 2.06-.94-2.06-.94-.94-2.06-.94 2.06-2.06.94zm-11 1L8.5 8.5l.94-2.06 2.06-.94-2.06-.94L8.5 2.5l-.94 2.06-2.06.94zm10 10l.94 2.06.94-2.06 2.06-.94-2.06-.94-.94-2.06-.94 2.06-2.06.94z\"/><path d=\"M17.41 7.96l-1.37-1.37c-.4-.4-.92-.59-1.43-.59-.52 0-1.04.2-1.43.59L10.3 9.45l-7.72 7.72c-.78.78-.78 2.05 0 2.83L4 21.41c.39.39.9.59 1.41.59.51 0 1.02-.2 1.41-.59l7.78-7.78 2.81-2.81c.8-.78.8-2.07 0-2.86zM5.41 20L4 18.59l7.72-7.72 1.47 1.35L5.41 20z\"/>\n",
              "  </svg>\n",
              "      </button>\n",
              "      \n",
              "  <style>\n",
              "    .colab-df-container {\n",
              "      display:flex;\n",
              "      flex-wrap:wrap;\n",
              "      gap: 12px;\n",
              "    }\n",
              "\n",
              "    .colab-df-convert {\n",
              "      background-color: #E8F0FE;\n",
              "      border: none;\n",
              "      border-radius: 50%;\n",
              "      cursor: pointer;\n",
              "      display: none;\n",
              "      fill: #1967D2;\n",
              "      height: 32px;\n",
              "      padding: 0 0 0 0;\n",
              "      width: 32px;\n",
              "    }\n",
              "\n",
              "    .colab-df-convert:hover {\n",
              "      background-color: #E2EBFA;\n",
              "      box-shadow: 0px 1px 2px rgba(60, 64, 67, 0.3), 0px 1px 3px 1px rgba(60, 64, 67, 0.15);\n",
              "      fill: #174EA6;\n",
              "    }\n",
              "\n",
              "    [theme=dark] .colab-df-convert {\n",
              "      background-color: #3B4455;\n",
              "      fill: #D2E3FC;\n",
              "    }\n",
              "\n",
              "    [theme=dark] .colab-df-convert:hover {\n",
              "      background-color: #434B5C;\n",
              "      box-shadow: 0px 1px 3px 1px rgba(0, 0, 0, 0.15);\n",
              "      filter: drop-shadow(0px 1px 2px rgba(0, 0, 0, 0.3));\n",
              "      fill: #FFFFFF;\n",
              "    }\n",
              "  </style>\n",
              "\n",
              "      <script>\n",
              "        const buttonEl =\n",
              "          document.querySelector('#df-64e71961-1830-4d4d-b14b-22287404ce81 button.colab-df-convert');\n",
              "        buttonEl.style.display =\n",
              "          google.colab.kernel.accessAllowed ? 'block' : 'none';\n",
              "\n",
              "        async function convertToInteractive(key) {\n",
              "          const element = document.querySelector('#df-64e71961-1830-4d4d-b14b-22287404ce81');\n",
              "          const dataTable =\n",
              "            await google.colab.kernel.invokeFunction('convertToInteractive',\n",
              "                                                     [key], {});\n",
              "          if (!dataTable) return;\n",
              "\n",
              "          const docLinkHtml = 'Like what you see? Visit the ' +\n",
              "            '<a target=\"_blank\" href=https://colab.research.google.com/notebooks/data_table.ipynb>data table notebook</a>'\n",
              "            + ' to learn more about interactive tables.';\n",
              "          element.innerHTML = '';\n",
              "          dataTable['output_type'] = 'display_data';\n",
              "          await google.colab.output.renderOutput(dataTable, element);\n",
              "          const docLink = document.createElement('div');\n",
              "          docLink.innerHTML = docLinkHtml;\n",
              "          element.appendChild(docLink);\n",
              "        }\n",
              "      </script>\n",
              "    </div>\n",
              "  </div>\n",
              "  "
            ]
          },
          "metadata": {},
          "execution_count": 3
        }
      ]
    },
    {
      "cell_type": "markdown",
      "source": [
        "## 1. The first step in this process is to use Python to clean the data to get it ready for analysis. You must:\n",
        "\n",
        "**a.** Identify and address any duplicate values<br/>\n",
        "**b.** Identify and address any missing values in this dataset. Deal with these appropriately. Include a brief description of the method you used to deal with missing values along with a justification for that method.<br/>\n",
        "**c.** Ensure all columns match the data types listed in the data dictionary.<br/>\n",
        "**d.** Identify and address any inconsistencies in categorical values (example: cat, Cat, cats)<br/>\n",
        "**e.** Identify and address any inappropriate or unusual data points (example: age cannot be 325)<br/>"
      ],
      "metadata": {
        "id": "azSVQXEJqG4w"
      }
    },
    {
      "cell_type": "code",
      "source": [
        "df.head()"
      ],
      "metadata": {
        "colab": {
          "base_uri": "https://localhost:8080/",
          "height": 206
        },
        "id": "wO1QEIuSr4zc",
        "outputId": "02c3319c-f3aa-4f26-fdf8-d5a3de47fdcc"
      },
      "execution_count": 4,
      "outputs": [
        {
          "output_type": "execute_result",
          "data": {
            "text/plain": [
              "                      Region      Country  Year    Age  Gender Literacy rate\n",
              "0  Central and Southern Asia  Afghanistan  2011    15+  female     0.1761206\n",
              "1  Central and Southern Asia  Afghanistan  2011    15+    male      0.454171\n",
              "2  Central and Southern Asia  Afghanistan  2011    15+   total     0.3174112\n",
              "3                        NaN  Afghanistan  2011  15-24  female     0.3211322\n",
              "4                        NaN  Afghanistan  2011  15-24    male     0.6187907"
            ],
            "text/html": [
              "\n",
              "  <div id=\"df-602cd104-5edb-4768-b889-abfa5cec5529\">\n",
              "    <div class=\"colab-df-container\">\n",
              "      <div>\n",
              "<style scoped>\n",
              "    .dataframe tbody tr th:only-of-type {\n",
              "        vertical-align: middle;\n",
              "    }\n",
              "\n",
              "    .dataframe tbody tr th {\n",
              "        vertical-align: top;\n",
              "    }\n",
              "\n",
              "    .dataframe thead th {\n",
              "        text-align: right;\n",
              "    }\n",
              "</style>\n",
              "<table border=\"1\" class=\"dataframe\">\n",
              "  <thead>\n",
              "    <tr style=\"text-align: right;\">\n",
              "      <th></th>\n",
              "      <th>Region</th>\n",
              "      <th>Country</th>\n",
              "      <th>Year</th>\n",
              "      <th>Age</th>\n",
              "      <th>Gender</th>\n",
              "      <th>Literacy rate</th>\n",
              "    </tr>\n",
              "  </thead>\n",
              "  <tbody>\n",
              "    <tr>\n",
              "      <th>0</th>\n",
              "      <td>Central and Southern Asia</td>\n",
              "      <td>Afghanistan</td>\n",
              "      <td>2011</td>\n",
              "      <td>15+</td>\n",
              "      <td>female</td>\n",
              "      <td>0.1761206</td>\n",
              "    </tr>\n",
              "    <tr>\n",
              "      <th>1</th>\n",
              "      <td>Central and Southern Asia</td>\n",
              "      <td>Afghanistan</td>\n",
              "      <td>2011</td>\n",
              "      <td>15+</td>\n",
              "      <td>male</td>\n",
              "      <td>0.454171</td>\n",
              "    </tr>\n",
              "    <tr>\n",
              "      <th>2</th>\n",
              "      <td>Central and Southern Asia</td>\n",
              "      <td>Afghanistan</td>\n",
              "      <td>2011</td>\n",
              "      <td>15+</td>\n",
              "      <td>total</td>\n",
              "      <td>0.3174112</td>\n",
              "    </tr>\n",
              "    <tr>\n",
              "      <th>3</th>\n",
              "      <td>NaN</td>\n",
              "      <td>Afghanistan</td>\n",
              "      <td>2011</td>\n",
              "      <td>15-24</td>\n",
              "      <td>female</td>\n",
              "      <td>0.3211322</td>\n",
              "    </tr>\n",
              "    <tr>\n",
              "      <th>4</th>\n",
              "      <td>NaN</td>\n",
              "      <td>Afghanistan</td>\n",
              "      <td>2011</td>\n",
              "      <td>15-24</td>\n",
              "      <td>male</td>\n",
              "      <td>0.6187907</td>\n",
              "    </tr>\n",
              "  </tbody>\n",
              "</table>\n",
              "</div>\n",
              "      <button class=\"colab-df-convert\" onclick=\"convertToInteractive('df-602cd104-5edb-4768-b889-abfa5cec5529')\"\n",
              "              title=\"Convert this dataframe to an interactive table.\"\n",
              "              style=\"display:none;\">\n",
              "        \n",
              "  <svg xmlns=\"http://www.w3.org/2000/svg\" height=\"24px\"viewBox=\"0 0 24 24\"\n",
              "       width=\"24px\">\n",
              "    <path d=\"M0 0h24v24H0V0z\" fill=\"none\"/>\n",
              "    <path d=\"M18.56 5.44l.94 2.06.94-2.06 2.06-.94-2.06-.94-.94-2.06-.94 2.06-2.06.94zm-11 1L8.5 8.5l.94-2.06 2.06-.94-2.06-.94L8.5 2.5l-.94 2.06-2.06.94zm10 10l.94 2.06.94-2.06 2.06-.94-2.06-.94-.94-2.06-.94 2.06-2.06.94z\"/><path d=\"M17.41 7.96l-1.37-1.37c-.4-.4-.92-.59-1.43-.59-.52 0-1.04.2-1.43.59L10.3 9.45l-7.72 7.72c-.78.78-.78 2.05 0 2.83L4 21.41c.39.39.9.59 1.41.59.51 0 1.02-.2 1.41-.59l7.78-7.78 2.81-2.81c.8-.78.8-2.07 0-2.86zM5.41 20L4 18.59l7.72-7.72 1.47 1.35L5.41 20z\"/>\n",
              "  </svg>\n",
              "      </button>\n",
              "      \n",
              "  <style>\n",
              "    .colab-df-container {\n",
              "      display:flex;\n",
              "      flex-wrap:wrap;\n",
              "      gap: 12px;\n",
              "    }\n",
              "\n",
              "    .colab-df-convert {\n",
              "      background-color: #E8F0FE;\n",
              "      border: none;\n",
              "      border-radius: 50%;\n",
              "      cursor: pointer;\n",
              "      display: none;\n",
              "      fill: #1967D2;\n",
              "      height: 32px;\n",
              "      padding: 0 0 0 0;\n",
              "      width: 32px;\n",
              "    }\n",
              "\n",
              "    .colab-df-convert:hover {\n",
              "      background-color: #E2EBFA;\n",
              "      box-shadow: 0px 1px 2px rgba(60, 64, 67, 0.3), 0px 1px 3px 1px rgba(60, 64, 67, 0.15);\n",
              "      fill: #174EA6;\n",
              "    }\n",
              "\n",
              "    [theme=dark] .colab-df-convert {\n",
              "      background-color: #3B4455;\n",
              "      fill: #D2E3FC;\n",
              "    }\n",
              "\n",
              "    [theme=dark] .colab-df-convert:hover {\n",
              "      background-color: #434B5C;\n",
              "      box-shadow: 0px 1px 3px 1px rgba(0, 0, 0, 0.15);\n",
              "      filter: drop-shadow(0px 1px 2px rgba(0, 0, 0, 0.3));\n",
              "      fill: #FFFFFF;\n",
              "    }\n",
              "  </style>\n",
              "\n",
              "      <script>\n",
              "        const buttonEl =\n",
              "          document.querySelector('#df-602cd104-5edb-4768-b889-abfa5cec5529 button.colab-df-convert');\n",
              "        buttonEl.style.display =\n",
              "          google.colab.kernel.accessAllowed ? 'block' : 'none';\n",
              "\n",
              "        async function convertToInteractive(key) {\n",
              "          const element = document.querySelector('#df-602cd104-5edb-4768-b889-abfa5cec5529');\n",
              "          const dataTable =\n",
              "            await google.colab.kernel.invokeFunction('convertToInteractive',\n",
              "                                                     [key], {});\n",
              "          if (!dataTable) return;\n",
              "\n",
              "          const docLinkHtml = 'Like what you see? Visit the ' +\n",
              "            '<a target=\"_blank\" href=https://colab.research.google.com/notebooks/data_table.ipynb>data table notebook</a>'\n",
              "            + ' to learn more about interactive tables.';\n",
              "          element.innerHTML = '';\n",
              "          dataTable['output_type'] = 'display_data';\n",
              "          await google.colab.output.renderOutput(dataTable, element);\n",
              "          const docLink = document.createElement('div');\n",
              "          docLink.innerHTML = docLinkHtml;\n",
              "          element.appendChild(docLink);\n",
              "        }\n",
              "      </script>\n",
              "    </div>\n",
              "  </div>\n",
              "  "
            ]
          },
          "metadata": {},
          "execution_count": 4
        }
      ]
    },
    {
      "cell_type": "markdown",
      "source": [
        "#### Scoping out data"
      ],
      "metadata": {
        "id": "b60DcDJO07cO"
      }
    },
    {
      "cell_type": "code",
      "source": [
        "df.info()"
      ],
      "metadata": {
        "colab": {
          "base_uri": "https://localhost:8080/"
        },
        "id": "TSRWFVDWsGVW",
        "outputId": "01fb2d72-c2f0-4c84-cb48-7759678ccda9"
      },
      "execution_count": 5,
      "outputs": [
        {
          "output_type": "stream",
          "name": "stdout",
          "text": [
            "<class 'pandas.core.frame.DataFrame'>\n",
            "RangeIndex: 4955 entries, 0 to 4954\n",
            "Data columns (total 6 columns):\n",
            " #   Column         Non-Null Count  Dtype \n",
            "---  ------         --------------  ----- \n",
            " 0   Region         4950 non-null   object\n",
            " 1   Country        4955 non-null   object\n",
            " 2   Year           4955 non-null   int64 \n",
            " 3   Age            4955 non-null   object\n",
            " 4   Gender         4955 non-null   object\n",
            " 5   Literacy rate  4955 non-null   object\n",
            "dtypes: int64(1), object(5)\n",
            "memory usage: 232.4+ KB\n"
          ]
        }
      ]
    },
    {
      "cell_type": "code",
      "source": [
        "df.dtypes"
      ],
      "metadata": {
        "colab": {
          "base_uri": "https://localhost:8080/"
        },
        "id": "Z665kq-JylkJ",
        "outputId": "fb31417b-1ff1-4edc-f36f-ba582d5959d8"
      },
      "execution_count": 6,
      "outputs": [
        {
          "output_type": "execute_result",
          "data": {
            "text/plain": [
              "Region           object\n",
              "Country          object\n",
              "Year              int64\n",
              "Age              object\n",
              "Gender           object\n",
              "Literacy rate    object\n",
              "dtype: object"
            ]
          },
          "metadata": {},
          "execution_count": 6
        }
      ]
    },
    {
      "cell_type": "code",
      "source": [
        "df.nunique()"
      ],
      "metadata": {
        "colab": {
          "base_uri": "https://localhost:8080/"
        },
        "id": "8uGQavWTyuf-",
        "outputId": "301ca1a8-8c83-471b-f72e-f199d74c8bc3"
      },
      "execution_count": 7,
      "outputs": [
        {
          "output_type": "execute_result",
          "data": {
            "text/plain": [
              "Region              7\n",
              "Country           155\n",
              "Year                9\n",
              "Age                 4\n",
              "Gender              3\n",
              "Literacy rate    4835\n",
              "dtype: int64"
            ]
          },
          "metadata": {},
          "execution_count": 7
        }
      ]
    },
    {
      "cell_type": "code",
      "source": [
        "for col in df:\n",
        "    print(col)\n",
        "    print(df[col].unique())\n",
        "    print('\\n')"
      ],
      "metadata": {
        "colab": {
          "base_uri": "https://localhost:8080/"
        },
        "id": "ZGIE1b3lzE-A",
        "outputId": "1c2b8020-6758-4676-8203-bb50af0e1a9c"
      },
      "execution_count": 8,
      "outputs": [
        {
          "output_type": "stream",
          "name": "stdout",
          "text": [
            "Region\n",
            "['Central and Southern Asia' nan 'Eastern and South-Eastern Asia'\n",
            " 'Europe and Northern America' 'Latin America and the Caribbean'\n",
            " 'Northern Africa and Western Asia' 'Oceania' 'Sub-Saharan Africa']\n",
            "\n",
            "\n",
            "Country\n",
            "['Afghanistan' 'Bangladesh' 'Bhutan' 'India' 'Iran (Islamic Republic of)'\n",
            " 'Kazakhstan' 'Kyrgyzstan' 'Maldives' 'Nepal' 'Pakistan' 'Sri Lanka'\n",
            " 'Tajikistan' 'Turkmenistan' 'Uzbekistan' 'Brunei Darussalam' 'Cambodia'\n",
            " 'China' 'China, Macao Special Administrative Region' 'Indonesia'\n",
            " \"Lao People's Democratic Republic\" 'Malaysia' 'Mongolia' 'Myanmar'\n",
            " 'Philippines' 'Singapore' 'Thailand' 'Timor-Leste' 'Viet Nam' 'Albania'\n",
            " 'Belarus' 'Bosnia and Herzegovina' 'Bulgaria' 'Croatia' 'Estonia'\n",
            " 'Greece' 'Hungary' 'Italy' 'Latvia' 'Lithuania' 'Malta' 'Montenegro'\n",
            " 'Portugal' 'Republic of Moldova' 'Romania' 'Russian Federation'\n",
            " 'San Marino' 'Serbia' 'Slovenia' 'Spain'\n",
            " 'The former Yugoslav Republic of Macedonia' 'Ukraine'\n",
            " 'Antigua and Barbuda' 'Argentina' 'Aruba' 'Barbados'\n",
            " 'Bolivia (Plurinational State of)' 'Brazil' 'Chile' 'Colombia'\n",
            " 'Costa Rica' 'Cuba' 'Dominican Republic' 'Ecuador' 'El Salvador'\n",
            " 'Grenada' 'Guadeloupe' 'Guatemala' 'Guyana' 'Haiti' 'Honduras' 'Jamaica'\n",
            " 'Martinique' 'Mexico' 'Nicaragua' 'Panama' 'Paraguay' 'Peru'\n",
            " 'Puerto Rico' 'Suriname' 'Trinidad and Tobago' 'Uruguay'\n",
            " 'Venezuela (Bolivarian Republic of)' 'Algeria' 'Armenia' 'Azerbaijan'\n",
            " 'Bahrain' 'Cyprus' 'Egypt' 'Georgia' 'Iraq' 'Jordan' 'Kuwait' 'Lebanon'\n",
            " 'Morocco' 'Oman' 'Palestine' 'Qatar' 'Saudi Arabia' 'Sudan' 'Tunisia'\n",
            " 'Turkey' 'Fiji' 'Marshall Islands' 'New Caledonia\\xa0' 'Palau'\n",
            " 'Papua New Guinea' 'Samoa' 'Tonga' 'Vanuatu' 'Angola' 'Benin' 'Botswana'\n",
            " 'Burkina Faso' 'Burundi' 'Cabo Verde' 'Cameroon'\n",
            " 'Central African Republic' 'Chad' 'Comoros' 'Congo' \"Côte d'Ivoire\"\n",
            " 'Democratic Republic of the Congo' 'Equatorial Guinea' 'Eritrea'\n",
            " 'Ethiopia' 'Gabon' 'Gambia' 'Ghana' 'Guinea' 'Guinea-Bissau' 'Kenya'\n",
            " 'Lesotho' 'Liberia' 'Madagascar' 'Malawi' 'Mali' 'Mauritania' 'Mauritius'\n",
            " 'Mozambique' 'Namibia' 'Niger' 'Nigeria' 'Rwanda' 'Sao Tome and Principe'\n",
            " 'Senegal' 'Seychelles' 'Sierra Leone' 'South Africa' 'South Sudan'\n",
            " 'Swaziland' 'Togo' 'Uganda' 'United Republic of Tanzania' 'Zambia'\n",
            " 'Zimbabwe']\n",
            "\n",
            "\n",
            "Year\n",
            "[2011 2018 2012 2013 2014 2015 2016 2017 2010]\n",
            "\n",
            "\n",
            "Age\n",
            "['15+' '15-24' '25-64' '65+']\n",
            "\n",
            "\n",
            "Gender\n",
            "['female' 'male' 'total']\n",
            "\n",
            "\n",
            "Literacy rate\n",
            "['0.1761206' '0.454171' '0.3174112' ... '0.7342576' '0.9272311000000001'\n",
            " '0.811269']\n",
            "\n",
            "\n"
          ]
        }
      ]
    },
    {
      "cell_type": "markdown",
      "source": [
        "### **A.** Identify and address any duplicate values"
      ],
      "metadata": {
        "id": "DebX4L2Mq40I"
      }
    },
    {
      "cell_type": "code",
      "source": [
        "df.duplicated().sum()\n",
        "# currently no values that are duplicates in every column"
      ],
      "metadata": {
        "colab": {
          "base_uri": "https://localhost:8080/"
        },
        "id": "Q4Hloz3zrE50",
        "outputId": "773fe937-1b67-43d3-fb1f-3aaf5eb46930"
      },
      "execution_count": 9,
      "outputs": [
        {
          "output_type": "execute_result",
          "data": {
            "text/plain": [
              "0"
            ]
          },
          "metadata": {},
          "execution_count": 9
        }
      ]
    },
    {
      "cell_type": "markdown",
      "source": [
        "#### Observations:\n",
        "Ran an inital check to see the types of data and how many values each one has:<br/>\n",
        "\n",
        "**Oddities**: \n",
        "1. Age is an object, it should be an int\n",
        "2. literacy rate is also an object, but looking at the data its also an int\n",
        "3. Region has nan values\n",
        "  - all other columns are full\n",
        "4. gender has 3 values \n",
        "5. No ID column - rename the blank ID column"
      ],
      "metadata": {
        "id": "B4QLLXZKsZBB"
      }
    },
    {
      "cell_type": "markdown",
      "source": [
        "##### ID / Index"
      ],
      "metadata": {
        "id": "7FY-O0s46zJl"
      }
    },
    {
      "cell_type": "code",
      "source": [
        "# no ID column - create an ID column\n",
        "list(df.columns)"
      ],
      "metadata": {
        "colab": {
          "base_uri": "https://localhost:8080/"
        },
        "id": "zAgMr37Z_EmN",
        "outputId": "0d85bcde-75ae-45a4-a152-3bd1404ad1e0"
      },
      "execution_count": 10,
      "outputs": [
        {
          "output_type": "execute_result",
          "data": {
            "text/plain": [
              "['Region', 'Country', 'Year', 'Age', 'Gender', 'Literacy rate']"
            ]
          },
          "metadata": {},
          "execution_count": 10
        }
      ]
    },
    {
      "cell_type": "code",
      "source": [
        "df = df.reset_index()\n",
        "df.set_index(\"index\", inplace=True)"
      ],
      "metadata": {
        "id": "fMDvU48Z9Erh"
      },
      "execution_count": 11,
      "outputs": []
    },
    {
      "cell_type": "code",
      "source": [
        "df.head()"
      ],
      "metadata": {
        "colab": {
          "base_uri": "https://localhost:8080/",
          "height": 0
        },
        "id": "06As6wlE9az2",
        "outputId": "31561ad3-5cd3-44b6-dad9-1e97603e5ee9"
      },
      "execution_count": 12,
      "outputs": [
        {
          "output_type": "execute_result",
          "data": {
            "text/plain": [
              "                          Region      Country  Year    Age  Gender  \\\n",
              "index                                                                \n",
              "0      Central and Southern Asia  Afghanistan  2011    15+  female   \n",
              "1      Central and Southern Asia  Afghanistan  2011    15+    male   \n",
              "2      Central and Southern Asia  Afghanistan  2011    15+   total   \n",
              "3                            NaN  Afghanistan  2011  15-24  female   \n",
              "4                            NaN  Afghanistan  2011  15-24    male   \n",
              "\n",
              "      Literacy rate  \n",
              "index                \n",
              "0         0.1761206  \n",
              "1          0.454171  \n",
              "2         0.3174112  \n",
              "3         0.3211322  \n",
              "4         0.6187907  "
            ],
            "text/html": [
              "\n",
              "  <div id=\"df-4d02db20-1ffd-4abf-b269-0c97fd938834\">\n",
              "    <div class=\"colab-df-container\">\n",
              "      <div>\n",
              "<style scoped>\n",
              "    .dataframe tbody tr th:only-of-type {\n",
              "        vertical-align: middle;\n",
              "    }\n",
              "\n",
              "    .dataframe tbody tr th {\n",
              "        vertical-align: top;\n",
              "    }\n",
              "\n",
              "    .dataframe thead th {\n",
              "        text-align: right;\n",
              "    }\n",
              "</style>\n",
              "<table border=\"1\" class=\"dataframe\">\n",
              "  <thead>\n",
              "    <tr style=\"text-align: right;\">\n",
              "      <th></th>\n",
              "      <th>Region</th>\n",
              "      <th>Country</th>\n",
              "      <th>Year</th>\n",
              "      <th>Age</th>\n",
              "      <th>Gender</th>\n",
              "      <th>Literacy rate</th>\n",
              "    </tr>\n",
              "    <tr>\n",
              "      <th>index</th>\n",
              "      <th></th>\n",
              "      <th></th>\n",
              "      <th></th>\n",
              "      <th></th>\n",
              "      <th></th>\n",
              "      <th></th>\n",
              "    </tr>\n",
              "  </thead>\n",
              "  <tbody>\n",
              "    <tr>\n",
              "      <th>0</th>\n",
              "      <td>Central and Southern Asia</td>\n",
              "      <td>Afghanistan</td>\n",
              "      <td>2011</td>\n",
              "      <td>15+</td>\n",
              "      <td>female</td>\n",
              "      <td>0.1761206</td>\n",
              "    </tr>\n",
              "    <tr>\n",
              "      <th>1</th>\n",
              "      <td>Central and Southern Asia</td>\n",
              "      <td>Afghanistan</td>\n",
              "      <td>2011</td>\n",
              "      <td>15+</td>\n",
              "      <td>male</td>\n",
              "      <td>0.454171</td>\n",
              "    </tr>\n",
              "    <tr>\n",
              "      <th>2</th>\n",
              "      <td>Central and Southern Asia</td>\n",
              "      <td>Afghanistan</td>\n",
              "      <td>2011</td>\n",
              "      <td>15+</td>\n",
              "      <td>total</td>\n",
              "      <td>0.3174112</td>\n",
              "    </tr>\n",
              "    <tr>\n",
              "      <th>3</th>\n",
              "      <td>NaN</td>\n",
              "      <td>Afghanistan</td>\n",
              "      <td>2011</td>\n",
              "      <td>15-24</td>\n",
              "      <td>female</td>\n",
              "      <td>0.3211322</td>\n",
              "    </tr>\n",
              "    <tr>\n",
              "      <th>4</th>\n",
              "      <td>NaN</td>\n",
              "      <td>Afghanistan</td>\n",
              "      <td>2011</td>\n",
              "      <td>15-24</td>\n",
              "      <td>male</td>\n",
              "      <td>0.6187907</td>\n",
              "    </tr>\n",
              "  </tbody>\n",
              "</table>\n",
              "</div>\n",
              "      <button class=\"colab-df-convert\" onclick=\"convertToInteractive('df-4d02db20-1ffd-4abf-b269-0c97fd938834')\"\n",
              "              title=\"Convert this dataframe to an interactive table.\"\n",
              "              style=\"display:none;\">\n",
              "        \n",
              "  <svg xmlns=\"http://www.w3.org/2000/svg\" height=\"24px\"viewBox=\"0 0 24 24\"\n",
              "       width=\"24px\">\n",
              "    <path d=\"M0 0h24v24H0V0z\" fill=\"none\"/>\n",
              "    <path d=\"M18.56 5.44l.94 2.06.94-2.06 2.06-.94-2.06-.94-.94-2.06-.94 2.06-2.06.94zm-11 1L8.5 8.5l.94-2.06 2.06-.94-2.06-.94L8.5 2.5l-.94 2.06-2.06.94zm10 10l.94 2.06.94-2.06 2.06-.94-2.06-.94-.94-2.06-.94 2.06-2.06.94z\"/><path d=\"M17.41 7.96l-1.37-1.37c-.4-.4-.92-.59-1.43-.59-.52 0-1.04.2-1.43.59L10.3 9.45l-7.72 7.72c-.78.78-.78 2.05 0 2.83L4 21.41c.39.39.9.59 1.41.59.51 0 1.02-.2 1.41-.59l7.78-7.78 2.81-2.81c.8-.78.8-2.07 0-2.86zM5.41 20L4 18.59l7.72-7.72 1.47 1.35L5.41 20z\"/>\n",
              "  </svg>\n",
              "      </button>\n",
              "      \n",
              "  <style>\n",
              "    .colab-df-container {\n",
              "      display:flex;\n",
              "      flex-wrap:wrap;\n",
              "      gap: 12px;\n",
              "    }\n",
              "\n",
              "    .colab-df-convert {\n",
              "      background-color: #E8F0FE;\n",
              "      border: none;\n",
              "      border-radius: 50%;\n",
              "      cursor: pointer;\n",
              "      display: none;\n",
              "      fill: #1967D2;\n",
              "      height: 32px;\n",
              "      padding: 0 0 0 0;\n",
              "      width: 32px;\n",
              "    }\n",
              "\n",
              "    .colab-df-convert:hover {\n",
              "      background-color: #E2EBFA;\n",
              "      box-shadow: 0px 1px 2px rgba(60, 64, 67, 0.3), 0px 1px 3px 1px rgba(60, 64, 67, 0.15);\n",
              "      fill: #174EA6;\n",
              "    }\n",
              "\n",
              "    [theme=dark] .colab-df-convert {\n",
              "      background-color: #3B4455;\n",
              "      fill: #D2E3FC;\n",
              "    }\n",
              "\n",
              "    [theme=dark] .colab-df-convert:hover {\n",
              "      background-color: #434B5C;\n",
              "      box-shadow: 0px 1px 3px 1px rgba(0, 0, 0, 0.15);\n",
              "      filter: drop-shadow(0px 1px 2px rgba(0, 0, 0, 0.3));\n",
              "      fill: #FFFFFF;\n",
              "    }\n",
              "  </style>\n",
              "\n",
              "      <script>\n",
              "        const buttonEl =\n",
              "          document.querySelector('#df-4d02db20-1ffd-4abf-b269-0c97fd938834 button.colab-df-convert');\n",
              "        buttonEl.style.display =\n",
              "          google.colab.kernel.accessAllowed ? 'block' : 'none';\n",
              "\n",
              "        async function convertToInteractive(key) {\n",
              "          const element = document.querySelector('#df-4d02db20-1ffd-4abf-b269-0c97fd938834');\n",
              "          const dataTable =\n",
              "            await google.colab.kernel.invokeFunction('convertToInteractive',\n",
              "                                                     [key], {});\n",
              "          if (!dataTable) return;\n",
              "\n",
              "          const docLinkHtml = 'Like what you see? Visit the ' +\n",
              "            '<a target=\"_blank\" href=https://colab.research.google.com/notebooks/data_table.ipynb>data table notebook</a>'\n",
              "            + ' to learn more about interactive tables.';\n",
              "          element.innerHTML = '';\n",
              "          dataTable['output_type'] = 'display_data';\n",
              "          await google.colab.output.renderOutput(dataTable, element);\n",
              "          const docLink = document.createElement('div');\n",
              "          docLink.innerHTML = docLinkHtml;\n",
              "          element.appendChild(docLink);\n",
              "        }\n",
              "      </script>\n",
              "    </div>\n",
              "  </div>\n",
              "  "
            ]
          },
          "metadata": {},
          "execution_count": 12
        }
      ]
    },
    {
      "cell_type": "code",
      "source": [
        "#### ID\n",
        "# no ID column - create an ID column\n",
        "list(df.columns)"
      ],
      "metadata": {
        "colab": {
          "base_uri": "https://localhost:8080/"
        },
        "id": "hW6qaDIP9vxf",
        "outputId": "94b1c4b0-d5ef-496f-e99c-f1256224d3e8"
      },
      "execution_count": 13,
      "outputs": [
        {
          "output_type": "execute_result",
          "data": {
            "text/plain": [
              "['Region', 'Country', 'Year', 'Age', 'Gender', 'Literacy rate']"
            ]
          },
          "metadata": {},
          "execution_count": 13
        }
      ]
    },
    {
      "cell_type": "code",
      "source": [
        "## "
      ],
      "metadata": {
        "id": "__0SVDfQLNNr"
      },
      "execution_count": 14,
      "outputs": []
    },
    {
      "cell_type": "markdown",
      "source": [
        "### **B.** Identify and address any missing values in this dataset. Deal with these appropriately. Include a brief description of the method you used to deal with missing values along with a justification for that method.<br/>"
      ],
      "metadata": {
        "id": "lBECgygvr-2f"
      }
    },
    {
      "cell_type": "code",
      "source": [
        "#### Missing\n",
        "miss = df['Region'] == \"missing\"\n",
        "df[miss].head(50)"
      ],
      "metadata": {
        "colab": {
          "base_uri": "https://localhost:8080/",
          "height": 175
        },
        "id": "kbDgJZviXIW2",
        "outputId": "803968f3-4971-4445-9372-b621c49f90d6"
      },
      "execution_count": 527,
      "outputs": [
        {
          "output_type": "execute_result",
          "data": {
            "text/plain": [
              "        Region     Country  Year  Age  Gender  Literacy rate\n",
              "index                                                       \n",
              "464    missing  Uzbekistan  2016   65       2       0.996697\n",
              "465    missing  Uzbekistan  2016   65       1       0.999018\n",
              "466    missing  Uzbekistan  2016   65       0       0.997719"
            ],
            "text/html": [
              "\n",
              "  <div id=\"df-b7598dea-ed9b-451a-94af-46658f6feee2\">\n",
              "    <div class=\"colab-df-container\">\n",
              "      <div>\n",
              "<style scoped>\n",
              "    .dataframe tbody tr th:only-of-type {\n",
              "        vertical-align: middle;\n",
              "    }\n",
              "\n",
              "    .dataframe tbody tr th {\n",
              "        vertical-align: top;\n",
              "    }\n",
              "\n",
              "    .dataframe thead th {\n",
              "        text-align: right;\n",
              "    }\n",
              "</style>\n",
              "<table border=\"1\" class=\"dataframe\">\n",
              "  <thead>\n",
              "    <tr style=\"text-align: right;\">\n",
              "      <th></th>\n",
              "      <th>Region</th>\n",
              "      <th>Country</th>\n",
              "      <th>Year</th>\n",
              "      <th>Age</th>\n",
              "      <th>Gender</th>\n",
              "      <th>Literacy rate</th>\n",
              "    </tr>\n",
              "    <tr>\n",
              "      <th>index</th>\n",
              "      <th></th>\n",
              "      <th></th>\n",
              "      <th></th>\n",
              "      <th></th>\n",
              "      <th></th>\n",
              "      <th></th>\n",
              "    </tr>\n",
              "  </thead>\n",
              "  <tbody>\n",
              "    <tr>\n",
              "      <th>464</th>\n",
              "      <td>missing</td>\n",
              "      <td>Uzbekistan</td>\n",
              "      <td>2016</td>\n",
              "      <td>65</td>\n",
              "      <td>2</td>\n",
              "      <td>0.996697</td>\n",
              "    </tr>\n",
              "    <tr>\n",
              "      <th>465</th>\n",
              "      <td>missing</td>\n",
              "      <td>Uzbekistan</td>\n",
              "      <td>2016</td>\n",
              "      <td>65</td>\n",
              "      <td>1</td>\n",
              "      <td>0.999018</td>\n",
              "    </tr>\n",
              "    <tr>\n",
              "      <th>466</th>\n",
              "      <td>missing</td>\n",
              "      <td>Uzbekistan</td>\n",
              "      <td>2016</td>\n",
              "      <td>65</td>\n",
              "      <td>0</td>\n",
              "      <td>0.997719</td>\n",
              "    </tr>\n",
              "  </tbody>\n",
              "</table>\n",
              "</div>\n",
              "      <button class=\"colab-df-convert\" onclick=\"convertToInteractive('df-b7598dea-ed9b-451a-94af-46658f6feee2')\"\n",
              "              title=\"Convert this dataframe to an interactive table.\"\n",
              "              style=\"display:none;\">\n",
              "        \n",
              "  <svg xmlns=\"http://www.w3.org/2000/svg\" height=\"24px\"viewBox=\"0 0 24 24\"\n",
              "       width=\"24px\">\n",
              "    <path d=\"M0 0h24v24H0V0z\" fill=\"none\"/>\n",
              "    <path d=\"M18.56 5.44l.94 2.06.94-2.06 2.06-.94-2.06-.94-.94-2.06-.94 2.06-2.06.94zm-11 1L8.5 8.5l.94-2.06 2.06-.94-2.06-.94L8.5 2.5l-.94 2.06-2.06.94zm10 10l.94 2.06.94-2.06 2.06-.94-2.06-.94-.94-2.06-.94 2.06-2.06.94z\"/><path d=\"M17.41 7.96l-1.37-1.37c-.4-.4-.92-.59-1.43-.59-.52 0-1.04.2-1.43.59L10.3 9.45l-7.72 7.72c-.78.78-.78 2.05 0 2.83L4 21.41c.39.39.9.59 1.41.59.51 0 1.02-.2 1.41-.59l7.78-7.78 2.81-2.81c.8-.78.8-2.07 0-2.86zM5.41 20L4 18.59l7.72-7.72 1.47 1.35L5.41 20z\"/>\n",
              "  </svg>\n",
              "      </button>\n",
              "      \n",
              "  <style>\n",
              "    .colab-df-container {\n",
              "      display:flex;\n",
              "      flex-wrap:wrap;\n",
              "      gap: 12px;\n",
              "    }\n",
              "\n",
              "    .colab-df-convert {\n",
              "      background-color: #E8F0FE;\n",
              "      border: none;\n",
              "      border-radius: 50%;\n",
              "      cursor: pointer;\n",
              "      display: none;\n",
              "      fill: #1967D2;\n",
              "      height: 32px;\n",
              "      padding: 0 0 0 0;\n",
              "      width: 32px;\n",
              "    }\n",
              "\n",
              "    .colab-df-convert:hover {\n",
              "      background-color: #E2EBFA;\n",
              "      box-shadow: 0px 1px 2px rgba(60, 64, 67, 0.3), 0px 1px 3px 1px rgba(60, 64, 67, 0.15);\n",
              "      fill: #174EA6;\n",
              "    }\n",
              "\n",
              "    [theme=dark] .colab-df-convert {\n",
              "      background-color: #3B4455;\n",
              "      fill: #D2E3FC;\n",
              "    }\n",
              "\n",
              "    [theme=dark] .colab-df-convert:hover {\n",
              "      background-color: #434B5C;\n",
              "      box-shadow: 0px 1px 3px 1px rgba(0, 0, 0, 0.15);\n",
              "      filter: drop-shadow(0px 1px 2px rgba(0, 0, 0, 0.3));\n",
              "      fill: #FFFFFF;\n",
              "    }\n",
              "  </style>\n",
              "\n",
              "      <script>\n",
              "        const buttonEl =\n",
              "          document.querySelector('#df-b7598dea-ed9b-451a-94af-46658f6feee2 button.colab-df-convert');\n",
              "        buttonEl.style.display =\n",
              "          google.colab.kernel.accessAllowed ? 'block' : 'none';\n",
              "\n",
              "        async function convertToInteractive(key) {\n",
              "          const element = document.querySelector('#df-b7598dea-ed9b-451a-94af-46658f6feee2');\n",
              "          const dataTable =\n",
              "            await google.colab.kernel.invokeFunction('convertToInteractive',\n",
              "                                                     [key], {});\n",
              "          if (!dataTable) return;\n",
              "\n",
              "          const docLinkHtml = 'Like what you see? Visit the ' +\n",
              "            '<a target=\"_blank\" href=https://colab.research.google.com/notebooks/data_table.ipynb>data table notebook</a>'\n",
              "            + ' to learn more about interactive tables.';\n",
              "          element.innerHTML = '';\n",
              "          dataTable['output_type'] = 'display_data';\n",
              "          await google.colab.output.renderOutput(dataTable, element);\n",
              "          const docLink = document.createElement('div');\n",
              "          docLink.innerHTML = docLinkHtml;\n",
              "          element.appendChild(docLink);\n",
              "        }\n",
              "      </script>\n",
              "    </div>\n",
              "  </div>\n",
              "  "
            ]
          },
          "metadata": {},
          "execution_count": 527
        }
      ]
    },
    {
      "cell_type": "code",
      "source": [
        "# Looks like we can put in the country for some oe the missing data\n",
        "afgh = df['Country'] == \"Afghanistan\"\n",
        "df[afgh] = df[afgh].replace(\"missing\", \"Central and Southern Asia\")\n",
        "df[afgh].head()"
      ],
      "metadata": {
        "colab": {
          "base_uri": "https://localhost:8080/",
          "height": 238
        },
        "id": "D8PFvvi0W5te",
        "outputId": "edabb352-318b-4934-f02f-bddf9bafad8b"
      },
      "execution_count": 526,
      "outputs": [
        {
          "output_type": "execute_result",
          "data": {
            "text/plain": [
              "                          Region      Country  Year  Age  Gender  \\\n",
              "index                                                              \n",
              "0      Central and Southern Asia  Afghanistan  2011   15       2   \n",
              "1      Central and Southern Asia  Afghanistan  2011   15       1   \n",
              "2      Central and Southern Asia  Afghanistan  2011   15       0   \n",
              "3      Central and Southern Asia  Afghanistan  2011   19       2   \n",
              "4      Central and Southern Asia  Afghanistan  2011   19       1   \n",
              "\n",
              "       Literacy rate  \n",
              "index                 \n",
              "0           0.176121  \n",
              "1           0.454171  \n",
              "2           0.317411  \n",
              "3           0.321132  \n",
              "4           0.618791  "
            ],
            "text/html": [
              "\n",
              "  <div id=\"df-1ae0c5fc-443b-4a06-9117-58c8d1495352\">\n",
              "    <div class=\"colab-df-container\">\n",
              "      <div>\n",
              "<style scoped>\n",
              "    .dataframe tbody tr th:only-of-type {\n",
              "        vertical-align: middle;\n",
              "    }\n",
              "\n",
              "    .dataframe tbody tr th {\n",
              "        vertical-align: top;\n",
              "    }\n",
              "\n",
              "    .dataframe thead th {\n",
              "        text-align: right;\n",
              "    }\n",
              "</style>\n",
              "<table border=\"1\" class=\"dataframe\">\n",
              "  <thead>\n",
              "    <tr style=\"text-align: right;\">\n",
              "      <th></th>\n",
              "      <th>Region</th>\n",
              "      <th>Country</th>\n",
              "      <th>Year</th>\n",
              "      <th>Age</th>\n",
              "      <th>Gender</th>\n",
              "      <th>Literacy rate</th>\n",
              "    </tr>\n",
              "    <tr>\n",
              "      <th>index</th>\n",
              "      <th></th>\n",
              "      <th></th>\n",
              "      <th></th>\n",
              "      <th></th>\n",
              "      <th></th>\n",
              "      <th></th>\n",
              "    </tr>\n",
              "  </thead>\n",
              "  <tbody>\n",
              "    <tr>\n",
              "      <th>0</th>\n",
              "      <td>Central and Southern Asia</td>\n",
              "      <td>Afghanistan</td>\n",
              "      <td>2011</td>\n",
              "      <td>15</td>\n",
              "      <td>2</td>\n",
              "      <td>0.176121</td>\n",
              "    </tr>\n",
              "    <tr>\n",
              "      <th>1</th>\n",
              "      <td>Central and Southern Asia</td>\n",
              "      <td>Afghanistan</td>\n",
              "      <td>2011</td>\n",
              "      <td>15</td>\n",
              "      <td>1</td>\n",
              "      <td>0.454171</td>\n",
              "    </tr>\n",
              "    <tr>\n",
              "      <th>2</th>\n",
              "      <td>Central and Southern Asia</td>\n",
              "      <td>Afghanistan</td>\n",
              "      <td>2011</td>\n",
              "      <td>15</td>\n",
              "      <td>0</td>\n",
              "      <td>0.317411</td>\n",
              "    </tr>\n",
              "    <tr>\n",
              "      <th>3</th>\n",
              "      <td>Central and Southern Asia</td>\n",
              "      <td>Afghanistan</td>\n",
              "      <td>2011</td>\n",
              "      <td>19</td>\n",
              "      <td>2</td>\n",
              "      <td>0.321132</td>\n",
              "    </tr>\n",
              "    <tr>\n",
              "      <th>4</th>\n",
              "      <td>Central and Southern Asia</td>\n",
              "      <td>Afghanistan</td>\n",
              "      <td>2011</td>\n",
              "      <td>19</td>\n",
              "      <td>1</td>\n",
              "      <td>0.618791</td>\n",
              "    </tr>\n",
              "  </tbody>\n",
              "</table>\n",
              "</div>\n",
              "      <button class=\"colab-df-convert\" onclick=\"convertToInteractive('df-1ae0c5fc-443b-4a06-9117-58c8d1495352')\"\n",
              "              title=\"Convert this dataframe to an interactive table.\"\n",
              "              style=\"display:none;\">\n",
              "        \n",
              "  <svg xmlns=\"http://www.w3.org/2000/svg\" height=\"24px\"viewBox=\"0 0 24 24\"\n",
              "       width=\"24px\">\n",
              "    <path d=\"M0 0h24v24H0V0z\" fill=\"none\"/>\n",
              "    <path d=\"M18.56 5.44l.94 2.06.94-2.06 2.06-.94-2.06-.94-.94-2.06-.94 2.06-2.06.94zm-11 1L8.5 8.5l.94-2.06 2.06-.94-2.06-.94L8.5 2.5l-.94 2.06-2.06.94zm10 10l.94 2.06.94-2.06 2.06-.94-2.06-.94-.94-2.06-.94 2.06-2.06.94z\"/><path d=\"M17.41 7.96l-1.37-1.37c-.4-.4-.92-.59-1.43-.59-.52 0-1.04.2-1.43.59L10.3 9.45l-7.72 7.72c-.78.78-.78 2.05 0 2.83L4 21.41c.39.39.9.59 1.41.59.51 0 1.02-.2 1.41-.59l7.78-7.78 2.81-2.81c.8-.78.8-2.07 0-2.86zM5.41 20L4 18.59l7.72-7.72 1.47 1.35L5.41 20z\"/>\n",
              "  </svg>\n",
              "      </button>\n",
              "      \n",
              "  <style>\n",
              "    .colab-df-container {\n",
              "      display:flex;\n",
              "      flex-wrap:wrap;\n",
              "      gap: 12px;\n",
              "    }\n",
              "\n",
              "    .colab-df-convert {\n",
              "      background-color: #E8F0FE;\n",
              "      border: none;\n",
              "      border-radius: 50%;\n",
              "      cursor: pointer;\n",
              "      display: none;\n",
              "      fill: #1967D2;\n",
              "      height: 32px;\n",
              "      padding: 0 0 0 0;\n",
              "      width: 32px;\n",
              "    }\n",
              "\n",
              "    .colab-df-convert:hover {\n",
              "      background-color: #E2EBFA;\n",
              "      box-shadow: 0px 1px 2px rgba(60, 64, 67, 0.3), 0px 1px 3px 1px rgba(60, 64, 67, 0.15);\n",
              "      fill: #174EA6;\n",
              "    }\n",
              "\n",
              "    [theme=dark] .colab-df-convert {\n",
              "      background-color: #3B4455;\n",
              "      fill: #D2E3FC;\n",
              "    }\n",
              "\n",
              "    [theme=dark] .colab-df-convert:hover {\n",
              "      background-color: #434B5C;\n",
              "      box-shadow: 0px 1px 3px 1px rgba(0, 0, 0, 0.15);\n",
              "      filter: drop-shadow(0px 1px 2px rgba(0, 0, 0, 0.3));\n",
              "      fill: #FFFFFF;\n",
              "    }\n",
              "  </style>\n",
              "\n",
              "      <script>\n",
              "        const buttonEl =\n",
              "          document.querySelector('#df-1ae0c5fc-443b-4a06-9117-58c8d1495352 button.colab-df-convert');\n",
              "        buttonEl.style.display =\n",
              "          google.colab.kernel.accessAllowed ? 'block' : 'none';\n",
              "\n",
              "        async function convertToInteractive(key) {\n",
              "          const element = document.querySelector('#df-1ae0c5fc-443b-4a06-9117-58c8d1495352');\n",
              "          const dataTable =\n",
              "            await google.colab.kernel.invokeFunction('convertToInteractive',\n",
              "                                                     [key], {});\n",
              "          if (!dataTable) return;\n",
              "\n",
              "          const docLinkHtml = 'Like what you see? Visit the ' +\n",
              "            '<a target=\"_blank\" href=https://colab.research.google.com/notebooks/data_table.ipynb>data table notebook</a>'\n",
              "            + ' to learn more about interactive tables.';\n",
              "          element.innerHTML = '';\n",
              "          dataTable['output_type'] = 'display_data';\n",
              "          await google.colab.output.renderOutput(dataTable, element);\n",
              "          const docLink = document.createElement('div');\n",
              "          docLink.innerHTML = docLinkHtml;\n",
              "          element.appendChild(docLink);\n",
              "        }\n",
              "      </script>\n",
              "    </div>\n",
              "  </div>\n",
              "  "
            ]
          },
          "metadata": {},
          "execution_count": 526
        }
      ]
    },
    {
      "cell_type": "code",
      "source": [
        "ms = df['Region'] == 'missing'\n",
        "uzbk = df['Country'] == \"Uzbekistan\"\n",
        "df[uzbk] = df[uzbk].replace(\"missing\", \"Central and Southern Asia\")\n",
        "df[uzbk].head()"
      ],
      "metadata": {
        "colab": {
          "base_uri": "https://localhost:8080/",
          "height": 238
        },
        "id": "r5SkeU5nXE9D",
        "outputId": "181bcf0a-f585-408f-f088-64d0c1eb69b7"
      },
      "execution_count": 631,
      "outputs": [
        {
          "output_type": "execute_result",
          "data": {
            "text/plain": [
              "                          Region     Country  Year  Age  Gender  Literacy rate\n",
              "index                                                                         \n",
              "419    Central and Southern Asia  Uzbekistan  2013   15       2       0.999959\n",
              "420    Central and Southern Asia  Uzbekistan  2013   15       1       0.999938\n",
              "421    Central and Southern Asia  Uzbekistan  2013   15       0       0.999949\n",
              "422    Central and Southern Asia  Uzbekistan  2013   19       2       1.000000\n",
              "423    Central and Southern Asia  Uzbekistan  2013   19       1       1.000000"
            ],
            "text/html": [
              "\n",
              "  <div id=\"df-97cadb2d-bf9e-40e1-8182-555a24759166\">\n",
              "    <div class=\"colab-df-container\">\n",
              "      <div>\n",
              "<style scoped>\n",
              "    .dataframe tbody tr th:only-of-type {\n",
              "        vertical-align: middle;\n",
              "    }\n",
              "\n",
              "    .dataframe tbody tr th {\n",
              "        vertical-align: top;\n",
              "    }\n",
              "\n",
              "    .dataframe thead th {\n",
              "        text-align: right;\n",
              "    }\n",
              "</style>\n",
              "<table border=\"1\" class=\"dataframe\">\n",
              "  <thead>\n",
              "    <tr style=\"text-align: right;\">\n",
              "      <th></th>\n",
              "      <th>Region</th>\n",
              "      <th>Country</th>\n",
              "      <th>Year</th>\n",
              "      <th>Age</th>\n",
              "      <th>Gender</th>\n",
              "      <th>Literacy rate</th>\n",
              "    </tr>\n",
              "    <tr>\n",
              "      <th>index</th>\n",
              "      <th></th>\n",
              "      <th></th>\n",
              "      <th></th>\n",
              "      <th></th>\n",
              "      <th></th>\n",
              "      <th></th>\n",
              "    </tr>\n",
              "  </thead>\n",
              "  <tbody>\n",
              "    <tr>\n",
              "      <th>419</th>\n",
              "      <td>Central and Southern Asia</td>\n",
              "      <td>Uzbekistan</td>\n",
              "      <td>2013</td>\n",
              "      <td>15</td>\n",
              "      <td>2</td>\n",
              "      <td>0.999959</td>\n",
              "    </tr>\n",
              "    <tr>\n",
              "      <th>420</th>\n",
              "      <td>Central and Southern Asia</td>\n",
              "      <td>Uzbekistan</td>\n",
              "      <td>2013</td>\n",
              "      <td>15</td>\n",
              "      <td>1</td>\n",
              "      <td>0.999938</td>\n",
              "    </tr>\n",
              "    <tr>\n",
              "      <th>421</th>\n",
              "      <td>Central and Southern Asia</td>\n",
              "      <td>Uzbekistan</td>\n",
              "      <td>2013</td>\n",
              "      <td>15</td>\n",
              "      <td>0</td>\n",
              "      <td>0.999949</td>\n",
              "    </tr>\n",
              "    <tr>\n",
              "      <th>422</th>\n",
              "      <td>Central and Southern Asia</td>\n",
              "      <td>Uzbekistan</td>\n",
              "      <td>2013</td>\n",
              "      <td>19</td>\n",
              "      <td>2</td>\n",
              "      <td>1.000000</td>\n",
              "    </tr>\n",
              "    <tr>\n",
              "      <th>423</th>\n",
              "      <td>Central and Southern Asia</td>\n",
              "      <td>Uzbekistan</td>\n",
              "      <td>2013</td>\n",
              "      <td>19</td>\n",
              "      <td>1</td>\n",
              "      <td>1.000000</td>\n",
              "    </tr>\n",
              "  </tbody>\n",
              "</table>\n",
              "</div>\n",
              "      <button class=\"colab-df-convert\" onclick=\"convertToInteractive('df-97cadb2d-bf9e-40e1-8182-555a24759166')\"\n",
              "              title=\"Convert this dataframe to an interactive table.\"\n",
              "              style=\"display:none;\">\n",
              "        \n",
              "  <svg xmlns=\"http://www.w3.org/2000/svg\" height=\"24px\"viewBox=\"0 0 24 24\"\n",
              "       width=\"24px\">\n",
              "    <path d=\"M0 0h24v24H0V0z\" fill=\"none\"/>\n",
              "    <path d=\"M18.56 5.44l.94 2.06.94-2.06 2.06-.94-2.06-.94-.94-2.06-.94 2.06-2.06.94zm-11 1L8.5 8.5l.94-2.06 2.06-.94-2.06-.94L8.5 2.5l-.94 2.06-2.06.94zm10 10l.94 2.06.94-2.06 2.06-.94-2.06-.94-.94-2.06-.94 2.06-2.06.94z\"/><path d=\"M17.41 7.96l-1.37-1.37c-.4-.4-.92-.59-1.43-.59-.52 0-1.04.2-1.43.59L10.3 9.45l-7.72 7.72c-.78.78-.78 2.05 0 2.83L4 21.41c.39.39.9.59 1.41.59.51 0 1.02-.2 1.41-.59l7.78-7.78 2.81-2.81c.8-.78.8-2.07 0-2.86zM5.41 20L4 18.59l7.72-7.72 1.47 1.35L5.41 20z\"/>\n",
              "  </svg>\n",
              "      </button>\n",
              "      \n",
              "  <style>\n",
              "    .colab-df-container {\n",
              "      display:flex;\n",
              "      flex-wrap:wrap;\n",
              "      gap: 12px;\n",
              "    }\n",
              "\n",
              "    .colab-df-convert {\n",
              "      background-color: #E8F0FE;\n",
              "      border: none;\n",
              "      border-radius: 50%;\n",
              "      cursor: pointer;\n",
              "      display: none;\n",
              "      fill: #1967D2;\n",
              "      height: 32px;\n",
              "      padding: 0 0 0 0;\n",
              "      width: 32px;\n",
              "    }\n",
              "\n",
              "    .colab-df-convert:hover {\n",
              "      background-color: #E2EBFA;\n",
              "      box-shadow: 0px 1px 2px rgba(60, 64, 67, 0.3), 0px 1px 3px 1px rgba(60, 64, 67, 0.15);\n",
              "      fill: #174EA6;\n",
              "    }\n",
              "\n",
              "    [theme=dark] .colab-df-convert {\n",
              "      background-color: #3B4455;\n",
              "      fill: #D2E3FC;\n",
              "    }\n",
              "\n",
              "    [theme=dark] .colab-df-convert:hover {\n",
              "      background-color: #434B5C;\n",
              "      box-shadow: 0px 1px 3px 1px rgba(0, 0, 0, 0.15);\n",
              "      filter: drop-shadow(0px 1px 2px rgba(0, 0, 0, 0.3));\n",
              "      fill: #FFFFFF;\n",
              "    }\n",
              "  </style>\n",
              "\n",
              "      <script>\n",
              "        const buttonEl =\n",
              "          document.querySelector('#df-97cadb2d-bf9e-40e1-8182-555a24759166 button.colab-df-convert');\n",
              "        buttonEl.style.display =\n",
              "          google.colab.kernel.accessAllowed ? 'block' : 'none';\n",
              "\n",
              "        async function convertToInteractive(key) {\n",
              "          const element = document.querySelector('#df-97cadb2d-bf9e-40e1-8182-555a24759166');\n",
              "          const dataTable =\n",
              "            await google.colab.kernel.invokeFunction('convertToInteractive',\n",
              "                                                     [key], {});\n",
              "          if (!dataTable) return;\n",
              "\n",
              "          const docLinkHtml = 'Like what you see? Visit the ' +\n",
              "            '<a target=\"_blank\" href=https://colab.research.google.com/notebooks/data_table.ipynb>data table notebook</a>'\n",
              "            + ' to learn more about interactive tables.';\n",
              "          element.innerHTML = '';\n",
              "          dataTable['output_type'] = 'display_data';\n",
              "          await google.colab.output.renderOutput(dataTable, element);\n",
              "          const docLink = document.createElement('div');\n",
              "          docLink.innerHTML = docLinkHtml;\n",
              "          element.appendChild(docLink);\n",
              "        }\n",
              "      </script>\n",
              "    </div>\n",
              "  </div>\n",
              "  "
            ]
          },
          "metadata": {},
          "execution_count": 631
        }
      ]
    },
    {
      "cell_type": "markdown",
      "source": [
        "#### Region"
      ],
      "metadata": {
        "id": "t0M_aiNitn8a"
      }
    },
    {
      "cell_type": "code",
      "source": [
        "# 5 missing values\n",
        "df['Region'].isna().sum()"
      ],
      "metadata": {
        "colab": {
          "base_uri": "https://localhost:8080/"
        },
        "id": "3xKiwWJvNHzH",
        "outputId": "8feb804c-55f7-4816-8b69-47cb5e4effd3"
      },
      "execution_count": 15,
      "outputs": [
        {
          "output_type": "execute_result",
          "data": {
            "text/plain": [
              "5"
            ]
          },
          "metadata": {},
          "execution_count": 15
        }
      ]
    },
    {
      "cell_type": "code",
      "source": [
        "# Since we don't know what region the missing people were in replaced the nan value with missing. It was only 5 and that other columns have good data in them so I dind't want to drop the row. We can easilty filter out missing if needs be\n",
        "df = df.fillna({'Region': 'missing'})"
      ],
      "metadata": {
        "id": "nn8HmZAXNFml"
      },
      "execution_count": 16,
      "outputs": []
    },
    {
      "cell_type": "code",
      "source": [
        "df['Region'].isna().sum()"
      ],
      "metadata": {
        "colab": {
          "base_uri": "https://localhost:8080/"
        },
        "id": "D_INYNNbNEFU",
        "outputId": "e498b2e7-913e-4638-f59d-8b22d5f40e1c"
      },
      "execution_count": 17,
      "outputs": [
        {
          "output_type": "execute_result",
          "data": {
            "text/plain": [
              "0"
            ]
          },
          "metadata": {},
          "execution_count": 17
        }
      ]
    },
    {
      "cell_type": "markdown",
      "source": [
        "### **C.**  Ensure all columns match the data types listed in the data dictionary."
      ],
      "metadata": {
        "id": "UaJ7kqAKNS_d"
      }
    },
    {
      "cell_type": "markdown",
      "source": [
        "#### Gender\n"
      ],
      "metadata": {
        "id": "nFFA8su_y7QQ"
      }
    },
    {
      "cell_type": "code",
      "source": [
        "gender = df['Gender'] == 'total'\n",
        "df[gender]"
      ],
      "metadata": {
        "colab": {
          "base_uri": "https://localhost:8080/",
          "height": 81
        },
        "id": "EvoXe39rzA9_",
        "outputId": "dce8c875-a92b-4704-d808-340b3b935beb"
      },
      "execution_count": 530,
      "outputs": [
        {
          "output_type": "execute_result",
          "data": {
            "text/plain": [
              "Empty DataFrame\n",
              "Columns: [Region, Country, Year, Age, Gender, Literacy rate]\n",
              "Index: []"
            ],
            "text/html": [
              "\n",
              "  <div id=\"df-78ce394a-8eae-489f-b76c-f7a12099ab31\">\n",
              "    <div class=\"colab-df-container\">\n",
              "      <div>\n",
              "<style scoped>\n",
              "    .dataframe tbody tr th:only-of-type {\n",
              "        vertical-align: middle;\n",
              "    }\n",
              "\n",
              "    .dataframe tbody tr th {\n",
              "        vertical-align: top;\n",
              "    }\n",
              "\n",
              "    .dataframe thead th {\n",
              "        text-align: right;\n",
              "    }\n",
              "</style>\n",
              "<table border=\"1\" class=\"dataframe\">\n",
              "  <thead>\n",
              "    <tr style=\"text-align: right;\">\n",
              "      <th></th>\n",
              "      <th>Region</th>\n",
              "      <th>Country</th>\n",
              "      <th>Year</th>\n",
              "      <th>Age</th>\n",
              "      <th>Gender</th>\n",
              "      <th>Literacy rate</th>\n",
              "    </tr>\n",
              "    <tr>\n",
              "      <th>index</th>\n",
              "      <th></th>\n",
              "      <th></th>\n",
              "      <th></th>\n",
              "      <th></th>\n",
              "      <th></th>\n",
              "      <th></th>\n",
              "    </tr>\n",
              "  </thead>\n",
              "  <tbody>\n",
              "  </tbody>\n",
              "</table>\n",
              "</div>\n",
              "      <button class=\"colab-df-convert\" onclick=\"convertToInteractive('df-78ce394a-8eae-489f-b76c-f7a12099ab31')\"\n",
              "              title=\"Convert this dataframe to an interactive table.\"\n",
              "              style=\"display:none;\">\n",
              "        \n",
              "  <svg xmlns=\"http://www.w3.org/2000/svg\" height=\"24px\"viewBox=\"0 0 24 24\"\n",
              "       width=\"24px\">\n",
              "    <path d=\"M0 0h24v24H0V0z\" fill=\"none\"/>\n",
              "    <path d=\"M18.56 5.44l.94 2.06.94-2.06 2.06-.94-2.06-.94-.94-2.06-.94 2.06-2.06.94zm-11 1L8.5 8.5l.94-2.06 2.06-.94-2.06-.94L8.5 2.5l-.94 2.06-2.06.94zm10 10l.94 2.06.94-2.06 2.06-.94-2.06-.94-.94-2.06-.94 2.06-2.06.94z\"/><path d=\"M17.41 7.96l-1.37-1.37c-.4-.4-.92-.59-1.43-.59-.52 0-1.04.2-1.43.59L10.3 9.45l-7.72 7.72c-.78.78-.78 2.05 0 2.83L4 21.41c.39.39.9.59 1.41.59.51 0 1.02-.2 1.41-.59l7.78-7.78 2.81-2.81c.8-.78.8-2.07 0-2.86zM5.41 20L4 18.59l7.72-7.72 1.47 1.35L5.41 20z\"/>\n",
              "  </svg>\n",
              "      </button>\n",
              "      \n",
              "  <style>\n",
              "    .colab-df-container {\n",
              "      display:flex;\n",
              "      flex-wrap:wrap;\n",
              "      gap: 12px;\n",
              "    }\n",
              "\n",
              "    .colab-df-convert {\n",
              "      background-color: #E8F0FE;\n",
              "      border: none;\n",
              "      border-radius: 50%;\n",
              "      cursor: pointer;\n",
              "      display: none;\n",
              "      fill: #1967D2;\n",
              "      height: 32px;\n",
              "      padding: 0 0 0 0;\n",
              "      width: 32px;\n",
              "    }\n",
              "\n",
              "    .colab-df-convert:hover {\n",
              "      background-color: #E2EBFA;\n",
              "      box-shadow: 0px 1px 2px rgba(60, 64, 67, 0.3), 0px 1px 3px 1px rgba(60, 64, 67, 0.15);\n",
              "      fill: #174EA6;\n",
              "    }\n",
              "\n",
              "    [theme=dark] .colab-df-convert {\n",
              "      background-color: #3B4455;\n",
              "      fill: #D2E3FC;\n",
              "    }\n",
              "\n",
              "    [theme=dark] .colab-df-convert:hover {\n",
              "      background-color: #434B5C;\n",
              "      box-shadow: 0px 1px 3px 1px rgba(0, 0, 0, 0.15);\n",
              "      filter: drop-shadow(0px 1px 2px rgba(0, 0, 0, 0.3));\n",
              "      fill: #FFFFFF;\n",
              "    }\n",
              "  </style>\n",
              "\n",
              "      <script>\n",
              "        const buttonEl =\n",
              "          document.querySelector('#df-78ce394a-8eae-489f-b76c-f7a12099ab31 button.colab-df-convert');\n",
              "        buttonEl.style.display =\n",
              "          google.colab.kernel.accessAllowed ? 'block' : 'none';\n",
              "\n",
              "        async function convertToInteractive(key) {\n",
              "          const element = document.querySelector('#df-78ce394a-8eae-489f-b76c-f7a12099ab31');\n",
              "          const dataTable =\n",
              "            await google.colab.kernel.invokeFunction('convertToInteractive',\n",
              "                                                     [key], {});\n",
              "          if (!dataTable) return;\n",
              "\n",
              "          const docLinkHtml = 'Like what you see? Visit the ' +\n",
              "            '<a target=\"_blank\" href=https://colab.research.google.com/notebooks/data_table.ipynb>data table notebook</a>'\n",
              "            + ' to learn more about interactive tables.';\n",
              "          element.innerHTML = '';\n",
              "          dataTable['output_type'] = 'display_data';\n",
              "          await google.colab.output.renderOutput(dataTable, element);\n",
              "          const docLink = document.createElement('div');\n",
              "          docLink.innerHTML = docLinkHtml;\n",
              "          element.appendChild(docLink);\n",
              "        }\n",
              "      </script>\n",
              "    </div>\n",
              "  </div>\n",
              "  "
            ]
          },
          "metadata": {},
          "execution_count": 530
        }
      ]
    },
    {
      "cell_type": "code",
      "source": [
        "# Yikes there are A LOT of 'total' valued gender enteries. \n",
        "# Just so I kepp it all straight, sinc total doesn;t mena anything and could be confusing later down the road\n",
        "# I changed  total to missing \n",
        "gender.sum()"
      ],
      "metadata": {
        "colab": {
          "base_uri": "https://localhost:8080/"
        },
        "id": "poPLItA5zQun",
        "outputId": "caac493a-ae82-43a6-e903-34dc0d307272"
      },
      "execution_count": 19,
      "outputs": [
        {
          "output_type": "execute_result",
          "data": {
            "text/plain": [
              "1652"
            ]
          },
          "metadata": {},
          "execution_count": 19
        }
      ]
    },
    {
      "cell_type": "code",
      "source": [
        "df['Gender'] = df['Gender'].replace({\"total\": \"missing\"})"
      ],
      "metadata": {
        "id": "ZcORg2bCzjEJ"
      },
      "execution_count": 20,
      "outputs": []
    },
    {
      "cell_type": "code",
      "source": [
        "df['Gender'].unique()"
      ],
      "metadata": {
        "colab": {
          "base_uri": "https://localhost:8080/"
        },
        "id": "YWjYrA1N0E5r",
        "outputId": "2a8dda6c-79e6-4ee3-ff78-cc543d428be1"
      },
      "execution_count": 21,
      "outputs": [
        {
          "output_type": "execute_result",
          "data": {
            "text/plain": [
              "array(['female', 'male', 'missing'], dtype=object)"
            ]
          },
          "metadata": {},
          "execution_count": 21
        }
      ]
    },
    {
      "cell_type": "markdown",
      "source": [
        "#### Literacy Rate"
      ],
      "metadata": {
        "id": "TaaD6BQAxaA0"
      }
    },
    {
      "cell_type": "code",
      "source": [
        "# Soit looks like it should be float values\n",
        "df['Literacy rate'].unique()"
      ],
      "metadata": {
        "colab": {
          "base_uri": "https://localhost:8080/"
        },
        "id": "8WQFDjDpxeBZ",
        "outputId": "8242ed33-c4ee-4e4e-b2be-b86ef938d6ad"
      },
      "execution_count": 537,
      "outputs": [
        {
          "output_type": "execute_result",
          "data": {
            "text/plain": [
              "array([0.1761206, 0.454171 , 0.3174112, ..., 0.7342576, 0.9272311,\n",
              "       0.811269 ])"
            ]
          },
          "metadata": {},
          "execution_count": 537
        }
      ]
    },
    {
      "cell_type": "code",
      "source": [
        "# ok this tells us there are A LOT of different values for literacy rate. Almost unique for every entry\n",
        "df['Literacy rate'].describe()"
      ],
      "metadata": {
        "colab": {
          "base_uri": "https://localhost:8080/"
        },
        "id": "wolDP0-SxvSb",
        "outputId": "69a46263-c7f0-40cc-a326-54500b0ecb51"
      },
      "execution_count": 538,
      "outputs": [
        {
          "output_type": "execute_result",
          "data": {
            "text/plain": [
              "count    4955.000000\n",
              "mean        0.816947\n",
              "std         0.232560\n",
              "min         0.004025\n",
              "25%         0.722507\n",
              "50%         0.930676\n",
              "75%         0.985078\n",
              "max         1.000000\n",
              "Name: Literacy rate, dtype: float64"
            ]
          },
          "metadata": {},
          "execution_count": 538
        }
      ]
    },
    {
      "cell_type": "code",
      "source": [
        "df['Literacy rate'].astype('object').sum()"
      ],
      "metadata": {
        "colab": {
          "base_uri": "https://localhost:8080/"
        },
        "id": "4yZ37i9z1Ywv",
        "outputId": "fd07c81e-ac4a-4e9c-a379-dca9914b275c"
      },
      "execution_count": 539,
      "outputs": [
        {
          "output_type": "execute_result",
          "data": {
            "text/plain": [
              "4047.9703344999875"
            ]
          },
          "metadata": {},
          "execution_count": 539
        }
      ]
    },
    {
      "cell_type": "code",
      "source": [
        "# looks like all the entried are objects, so I'll change them into floats\n",
        "df['Literacy rate'].dtypes"
      ],
      "metadata": {
        "colab": {
          "base_uri": "https://localhost:8080/"
        },
        "id": "fXtKqA1s2RA7",
        "outputId": "d5ef7a2a-737e-488b-ba3f-cb40d454d674"
      },
      "execution_count": 540,
      "outputs": [
        {
          "output_type": "execute_result",
          "data": {
            "text/plain": [
              "dtype('float64')"
            ]
          },
          "metadata": {},
          "execution_count": 540
        }
      ]
    },
    {
      "cell_type": "code",
      "source": [
        "# ok so we found that some of the numbers are in percents\n",
        "# now we'll convery the % to decimal \n",
        "# then convert to a float if we have to \n",
        "\n",
        "# df['Literacy rate'] = df['Literacy rate'].astype(float, errors = 'raise')"
      ],
      "metadata": {
        "id": "xw05VbM23Ao-"
      },
      "execution_count": 541,
      "outputs": []
    },
    {
      "cell_type": "code",
      "source": [
        "# only one string as a percent\n",
        "# df['Literacy rate'].str.contains('%').sum()"
      ],
      "metadata": {
        "id": "LM4rFcmO3WjV"
      },
      "execution_count": 543,
      "outputs": []
    },
    {
      "cell_type": "code",
      "source": [
        "# wanted to see the data\n",
        "df[df['Literacy rate'].str.contains('%')]"
      ],
      "metadata": {
        "colab": {
          "base_uri": "https://localhost:8080/",
          "height": 329
        },
        "id": "qLbmM_Z34fUf",
        "outputId": "de975fef-819f-470d-a839-aa4ba0cf5a79"
      },
      "execution_count": 545,
      "outputs": [
        {
          "output_type": "error",
          "ename": "AttributeError",
          "evalue": "ignored",
          "traceback": [
            "\u001b[0;31m---------------------------------------------------------------------------\u001b[0m",
            "\u001b[0;31mAttributeError\u001b[0m                            Traceback (most recent call last)",
            "\u001b[0;32m<ipython-input-545-2addbf338a94>\u001b[0m in \u001b[0;36m<module>\u001b[0;34m()\u001b[0m\n\u001b[1;32m      1\u001b[0m \u001b[0;31m# wanted to see the data\u001b[0m\u001b[0;34m\u001b[0m\u001b[0;34m\u001b[0m\u001b[0;34m\u001b[0m\u001b[0m\n\u001b[0;32m----> 2\u001b[0;31m \u001b[0mdf\u001b[0m\u001b[0;34m[\u001b[0m\u001b[0mdf\u001b[0m\u001b[0;34m[\u001b[0m\u001b[0;34m'Literacy rate'\u001b[0m\u001b[0;34m]\u001b[0m\u001b[0;34m.\u001b[0m\u001b[0mstr\u001b[0m\u001b[0;34m.\u001b[0m\u001b[0mcontains\u001b[0m\u001b[0;34m(\u001b[0m\u001b[0;34m'%'\u001b[0m\u001b[0;34m)\u001b[0m\u001b[0;34m]\u001b[0m\u001b[0;34m\u001b[0m\u001b[0;34m\u001b[0m\u001b[0m\n\u001b[0m",
            "\u001b[0;32m/usr/local/lib/python3.7/dist-packages/pandas/core/generic.py\u001b[0m in \u001b[0;36m__getattr__\u001b[0;34m(self, name)\u001b[0m\n\u001b[1;32m   5485\u001b[0m         ):\n\u001b[1;32m   5486\u001b[0m             \u001b[0;32mreturn\u001b[0m \u001b[0mself\u001b[0m\u001b[0;34m[\u001b[0m\u001b[0mname\u001b[0m\u001b[0;34m]\u001b[0m\u001b[0;34m\u001b[0m\u001b[0;34m\u001b[0m\u001b[0m\n\u001b[0;32m-> 5487\u001b[0;31m         \u001b[0;32mreturn\u001b[0m \u001b[0mobject\u001b[0m\u001b[0;34m.\u001b[0m\u001b[0m__getattribute__\u001b[0m\u001b[0;34m(\u001b[0m\u001b[0mself\u001b[0m\u001b[0;34m,\u001b[0m \u001b[0mname\u001b[0m\u001b[0;34m)\u001b[0m\u001b[0;34m\u001b[0m\u001b[0;34m\u001b[0m\u001b[0m\n\u001b[0m\u001b[1;32m   5488\u001b[0m \u001b[0;34m\u001b[0m\u001b[0m\n\u001b[1;32m   5489\u001b[0m     \u001b[0;32mdef\u001b[0m \u001b[0m__setattr__\u001b[0m\u001b[0;34m(\u001b[0m\u001b[0mself\u001b[0m\u001b[0;34m,\u001b[0m \u001b[0mname\u001b[0m\u001b[0;34m:\u001b[0m \u001b[0mstr\u001b[0m\u001b[0;34m,\u001b[0m \u001b[0mvalue\u001b[0m\u001b[0;34m)\u001b[0m \u001b[0;34m->\u001b[0m \u001b[0;32mNone\u001b[0m\u001b[0;34m:\u001b[0m\u001b[0;34m\u001b[0m\u001b[0;34m\u001b[0m\u001b[0m\n",
            "\u001b[0;32m/usr/local/lib/python3.7/dist-packages/pandas/core/accessor.py\u001b[0m in \u001b[0;36m__get__\u001b[0;34m(self, obj, cls)\u001b[0m\n\u001b[1;32m    179\u001b[0m             \u001b[0;31m# we're accessing the attribute of the class, i.e., Dataset.geo\u001b[0m\u001b[0;34m\u001b[0m\u001b[0;34m\u001b[0m\u001b[0;34m\u001b[0m\u001b[0m\n\u001b[1;32m    180\u001b[0m             \u001b[0;32mreturn\u001b[0m \u001b[0mself\u001b[0m\u001b[0;34m.\u001b[0m\u001b[0m_accessor\u001b[0m\u001b[0;34m\u001b[0m\u001b[0;34m\u001b[0m\u001b[0m\n\u001b[0;32m--> 181\u001b[0;31m         \u001b[0maccessor_obj\u001b[0m \u001b[0;34m=\u001b[0m \u001b[0mself\u001b[0m\u001b[0;34m.\u001b[0m\u001b[0m_accessor\u001b[0m\u001b[0;34m(\u001b[0m\u001b[0mobj\u001b[0m\u001b[0;34m)\u001b[0m\u001b[0;34m\u001b[0m\u001b[0;34m\u001b[0m\u001b[0m\n\u001b[0m\u001b[1;32m    182\u001b[0m         \u001b[0;31m# Replace the property with the accessor object. Inspired by:\u001b[0m\u001b[0;34m\u001b[0m\u001b[0;34m\u001b[0m\u001b[0;34m\u001b[0m\u001b[0m\n\u001b[1;32m    183\u001b[0m         \u001b[0;31m# https://www.pydanny.com/cached-property.html\u001b[0m\u001b[0;34m\u001b[0m\u001b[0;34m\u001b[0m\u001b[0;34m\u001b[0m\u001b[0m\n",
            "\u001b[0;32m/usr/local/lib/python3.7/dist-packages/pandas/core/strings/accessor.py\u001b[0m in \u001b[0;36m__init__\u001b[0;34m(self, data)\u001b[0m\n\u001b[1;32m    166\u001b[0m         \u001b[0;32mfrom\u001b[0m \u001b[0mpandas\u001b[0m\u001b[0;34m.\u001b[0m\u001b[0mcore\u001b[0m\u001b[0;34m.\u001b[0m\u001b[0marrays\u001b[0m\u001b[0;34m.\u001b[0m\u001b[0mstring_\u001b[0m \u001b[0;32mimport\u001b[0m \u001b[0mStringDtype\u001b[0m\u001b[0;34m\u001b[0m\u001b[0;34m\u001b[0m\u001b[0m\n\u001b[1;32m    167\u001b[0m \u001b[0;34m\u001b[0m\u001b[0m\n\u001b[0;32m--> 168\u001b[0;31m         \u001b[0mself\u001b[0m\u001b[0;34m.\u001b[0m\u001b[0m_inferred_dtype\u001b[0m \u001b[0;34m=\u001b[0m \u001b[0mself\u001b[0m\u001b[0;34m.\u001b[0m\u001b[0m_validate\u001b[0m\u001b[0;34m(\u001b[0m\u001b[0mdata\u001b[0m\u001b[0;34m)\u001b[0m\u001b[0;34m\u001b[0m\u001b[0;34m\u001b[0m\u001b[0m\n\u001b[0m\u001b[1;32m    169\u001b[0m         \u001b[0mself\u001b[0m\u001b[0;34m.\u001b[0m\u001b[0m_is_categorical\u001b[0m \u001b[0;34m=\u001b[0m \u001b[0mis_categorical_dtype\u001b[0m\u001b[0;34m(\u001b[0m\u001b[0mdata\u001b[0m\u001b[0;34m.\u001b[0m\u001b[0mdtype\u001b[0m\u001b[0;34m)\u001b[0m\u001b[0;34m\u001b[0m\u001b[0;34m\u001b[0m\u001b[0m\n\u001b[1;32m    170\u001b[0m         \u001b[0mself\u001b[0m\u001b[0;34m.\u001b[0m\u001b[0m_is_string\u001b[0m \u001b[0;34m=\u001b[0m \u001b[0misinstance\u001b[0m\u001b[0;34m(\u001b[0m\u001b[0mdata\u001b[0m\u001b[0;34m.\u001b[0m\u001b[0mdtype\u001b[0m\u001b[0;34m,\u001b[0m \u001b[0mStringDtype\u001b[0m\u001b[0;34m)\u001b[0m\u001b[0;34m\u001b[0m\u001b[0;34m\u001b[0m\u001b[0m\n",
            "\u001b[0;32m/usr/local/lib/python3.7/dist-packages/pandas/core/strings/accessor.py\u001b[0m in \u001b[0;36m_validate\u001b[0;34m(data)\u001b[0m\n\u001b[1;32m    223\u001b[0m \u001b[0;34m\u001b[0m\u001b[0m\n\u001b[1;32m    224\u001b[0m         \u001b[0;32mif\u001b[0m \u001b[0minferred_dtype\u001b[0m \u001b[0;32mnot\u001b[0m \u001b[0;32min\u001b[0m \u001b[0mallowed_types\u001b[0m\u001b[0;34m:\u001b[0m\u001b[0;34m\u001b[0m\u001b[0;34m\u001b[0m\u001b[0m\n\u001b[0;32m--> 225\u001b[0;31m             \u001b[0;32mraise\u001b[0m \u001b[0mAttributeError\u001b[0m\u001b[0;34m(\u001b[0m\u001b[0;34m\"Can only use .str accessor with string values!\"\u001b[0m\u001b[0;34m)\u001b[0m\u001b[0;34m\u001b[0m\u001b[0;34m\u001b[0m\u001b[0m\n\u001b[0m\u001b[1;32m    226\u001b[0m         \u001b[0;32mreturn\u001b[0m \u001b[0minferred_dtype\u001b[0m\u001b[0;34m\u001b[0m\u001b[0;34m\u001b[0m\u001b[0m\n\u001b[1;32m    227\u001b[0m \u001b[0;34m\u001b[0m\u001b[0m\n",
            "\u001b[0;31mAttributeError\u001b[0m: Can only use .str accessor with string values!"
          ]
        }
      ]
    },
    {
      "cell_type": "code",
      "source": [
        "# we don't need a loop here, but it was practice for me to write loops and functions!\n",
        "percent = len(df[df['Literacy rate'].str.contains('%')].values)\n",
        "percent_df = df['Literacy rate'].str.contains('%')\n",
        "\n",
        "for i in range(0, percent):\n",
        "  val = df[percent_df].values[i][-1]\n",
        "  clean = float(val.replace('%', '')) / 100\n",
        "  df[percent_df] = df[percent_df].replace(val, clean)"
      ],
      "metadata": {
        "id": "tWKkq9DD4sJw",
        "colab": {
          "base_uri": "https://localhost:8080/",
          "height": 381
        },
        "outputId": "4a041b90-ea8d-4f36-c927-dff957191df2"
      },
      "execution_count": 546,
      "outputs": [
        {
          "output_type": "error",
          "ename": "AttributeError",
          "evalue": "ignored",
          "traceback": [
            "\u001b[0;31m---------------------------------------------------------------------------\u001b[0m",
            "\u001b[0;31mAttributeError\u001b[0m                            Traceback (most recent call last)",
            "\u001b[0;32m<ipython-input-546-44fe707d71fe>\u001b[0m in \u001b[0;36m<module>\u001b[0;34m()\u001b[0m\n\u001b[1;32m      1\u001b[0m \u001b[0;31m# we don't need a loop here, but it was practice for me to write loops and functions!\u001b[0m\u001b[0;34m\u001b[0m\u001b[0;34m\u001b[0m\u001b[0;34m\u001b[0m\u001b[0m\n\u001b[0;32m----> 2\u001b[0;31m \u001b[0mpercent\u001b[0m \u001b[0;34m=\u001b[0m \u001b[0mlen\u001b[0m\u001b[0;34m(\u001b[0m\u001b[0mdf\u001b[0m\u001b[0;34m[\u001b[0m\u001b[0mdf\u001b[0m\u001b[0;34m[\u001b[0m\u001b[0;34m'Literacy rate'\u001b[0m\u001b[0;34m]\u001b[0m\u001b[0;34m.\u001b[0m\u001b[0mstr\u001b[0m\u001b[0;34m.\u001b[0m\u001b[0mcontains\u001b[0m\u001b[0;34m(\u001b[0m\u001b[0;34m'%'\u001b[0m\u001b[0;34m)\u001b[0m\u001b[0;34m]\u001b[0m\u001b[0;34m.\u001b[0m\u001b[0mvalues\u001b[0m\u001b[0;34m)\u001b[0m\u001b[0;34m\u001b[0m\u001b[0;34m\u001b[0m\u001b[0m\n\u001b[0m\u001b[1;32m      3\u001b[0m \u001b[0mpercent_df\u001b[0m \u001b[0;34m=\u001b[0m \u001b[0mdf\u001b[0m\u001b[0;34m[\u001b[0m\u001b[0;34m'Literacy rate'\u001b[0m\u001b[0;34m]\u001b[0m\u001b[0;34m.\u001b[0m\u001b[0mstr\u001b[0m\u001b[0;34m.\u001b[0m\u001b[0mcontains\u001b[0m\u001b[0;34m(\u001b[0m\u001b[0;34m'%'\u001b[0m\u001b[0;34m)\u001b[0m\u001b[0;34m\u001b[0m\u001b[0;34m\u001b[0m\u001b[0m\n\u001b[1;32m      4\u001b[0m \u001b[0;34m\u001b[0m\u001b[0m\n\u001b[1;32m      5\u001b[0m \u001b[0;32mfor\u001b[0m \u001b[0mi\u001b[0m \u001b[0;32min\u001b[0m \u001b[0mrange\u001b[0m\u001b[0;34m(\u001b[0m\u001b[0;36m0\u001b[0m\u001b[0;34m,\u001b[0m \u001b[0mpercent\u001b[0m\u001b[0;34m)\u001b[0m\u001b[0;34m:\u001b[0m\u001b[0;34m\u001b[0m\u001b[0;34m\u001b[0m\u001b[0m\n",
            "\u001b[0;32m/usr/local/lib/python3.7/dist-packages/pandas/core/generic.py\u001b[0m in \u001b[0;36m__getattr__\u001b[0;34m(self, name)\u001b[0m\n\u001b[1;32m   5485\u001b[0m         ):\n\u001b[1;32m   5486\u001b[0m             \u001b[0;32mreturn\u001b[0m \u001b[0mself\u001b[0m\u001b[0;34m[\u001b[0m\u001b[0mname\u001b[0m\u001b[0;34m]\u001b[0m\u001b[0;34m\u001b[0m\u001b[0;34m\u001b[0m\u001b[0m\n\u001b[0;32m-> 5487\u001b[0;31m         \u001b[0;32mreturn\u001b[0m \u001b[0mobject\u001b[0m\u001b[0;34m.\u001b[0m\u001b[0m__getattribute__\u001b[0m\u001b[0;34m(\u001b[0m\u001b[0mself\u001b[0m\u001b[0;34m,\u001b[0m \u001b[0mname\u001b[0m\u001b[0;34m)\u001b[0m\u001b[0;34m\u001b[0m\u001b[0;34m\u001b[0m\u001b[0m\n\u001b[0m\u001b[1;32m   5488\u001b[0m \u001b[0;34m\u001b[0m\u001b[0m\n\u001b[1;32m   5489\u001b[0m     \u001b[0;32mdef\u001b[0m \u001b[0m__setattr__\u001b[0m\u001b[0;34m(\u001b[0m\u001b[0mself\u001b[0m\u001b[0;34m,\u001b[0m \u001b[0mname\u001b[0m\u001b[0;34m:\u001b[0m \u001b[0mstr\u001b[0m\u001b[0;34m,\u001b[0m \u001b[0mvalue\u001b[0m\u001b[0;34m)\u001b[0m \u001b[0;34m->\u001b[0m \u001b[0;32mNone\u001b[0m\u001b[0;34m:\u001b[0m\u001b[0;34m\u001b[0m\u001b[0;34m\u001b[0m\u001b[0m\n",
            "\u001b[0;32m/usr/local/lib/python3.7/dist-packages/pandas/core/accessor.py\u001b[0m in \u001b[0;36m__get__\u001b[0;34m(self, obj, cls)\u001b[0m\n\u001b[1;32m    179\u001b[0m             \u001b[0;31m# we're accessing the attribute of the class, i.e., Dataset.geo\u001b[0m\u001b[0;34m\u001b[0m\u001b[0;34m\u001b[0m\u001b[0;34m\u001b[0m\u001b[0m\n\u001b[1;32m    180\u001b[0m             \u001b[0;32mreturn\u001b[0m \u001b[0mself\u001b[0m\u001b[0;34m.\u001b[0m\u001b[0m_accessor\u001b[0m\u001b[0;34m\u001b[0m\u001b[0;34m\u001b[0m\u001b[0m\n\u001b[0;32m--> 181\u001b[0;31m         \u001b[0maccessor_obj\u001b[0m \u001b[0;34m=\u001b[0m \u001b[0mself\u001b[0m\u001b[0;34m.\u001b[0m\u001b[0m_accessor\u001b[0m\u001b[0;34m(\u001b[0m\u001b[0mobj\u001b[0m\u001b[0;34m)\u001b[0m\u001b[0;34m\u001b[0m\u001b[0;34m\u001b[0m\u001b[0m\n\u001b[0m\u001b[1;32m    182\u001b[0m         \u001b[0;31m# Replace the property with the accessor object. Inspired by:\u001b[0m\u001b[0;34m\u001b[0m\u001b[0;34m\u001b[0m\u001b[0;34m\u001b[0m\u001b[0m\n\u001b[1;32m    183\u001b[0m         \u001b[0;31m# https://www.pydanny.com/cached-property.html\u001b[0m\u001b[0;34m\u001b[0m\u001b[0;34m\u001b[0m\u001b[0;34m\u001b[0m\u001b[0m\n",
            "\u001b[0;32m/usr/local/lib/python3.7/dist-packages/pandas/core/strings/accessor.py\u001b[0m in \u001b[0;36m__init__\u001b[0;34m(self, data)\u001b[0m\n\u001b[1;32m    166\u001b[0m         \u001b[0;32mfrom\u001b[0m \u001b[0mpandas\u001b[0m\u001b[0;34m.\u001b[0m\u001b[0mcore\u001b[0m\u001b[0;34m.\u001b[0m\u001b[0marrays\u001b[0m\u001b[0;34m.\u001b[0m\u001b[0mstring_\u001b[0m \u001b[0;32mimport\u001b[0m \u001b[0mStringDtype\u001b[0m\u001b[0;34m\u001b[0m\u001b[0;34m\u001b[0m\u001b[0m\n\u001b[1;32m    167\u001b[0m \u001b[0;34m\u001b[0m\u001b[0m\n\u001b[0;32m--> 168\u001b[0;31m         \u001b[0mself\u001b[0m\u001b[0;34m.\u001b[0m\u001b[0m_inferred_dtype\u001b[0m \u001b[0;34m=\u001b[0m \u001b[0mself\u001b[0m\u001b[0;34m.\u001b[0m\u001b[0m_validate\u001b[0m\u001b[0;34m(\u001b[0m\u001b[0mdata\u001b[0m\u001b[0;34m)\u001b[0m\u001b[0;34m\u001b[0m\u001b[0;34m\u001b[0m\u001b[0m\n\u001b[0m\u001b[1;32m    169\u001b[0m         \u001b[0mself\u001b[0m\u001b[0;34m.\u001b[0m\u001b[0m_is_categorical\u001b[0m \u001b[0;34m=\u001b[0m \u001b[0mis_categorical_dtype\u001b[0m\u001b[0;34m(\u001b[0m\u001b[0mdata\u001b[0m\u001b[0;34m.\u001b[0m\u001b[0mdtype\u001b[0m\u001b[0;34m)\u001b[0m\u001b[0;34m\u001b[0m\u001b[0;34m\u001b[0m\u001b[0m\n\u001b[1;32m    170\u001b[0m         \u001b[0mself\u001b[0m\u001b[0;34m.\u001b[0m\u001b[0m_is_string\u001b[0m \u001b[0;34m=\u001b[0m \u001b[0misinstance\u001b[0m\u001b[0;34m(\u001b[0m\u001b[0mdata\u001b[0m\u001b[0;34m.\u001b[0m\u001b[0mdtype\u001b[0m\u001b[0;34m,\u001b[0m \u001b[0mStringDtype\u001b[0m\u001b[0;34m)\u001b[0m\u001b[0;34m\u001b[0m\u001b[0;34m\u001b[0m\u001b[0m\n",
            "\u001b[0;32m/usr/local/lib/python3.7/dist-packages/pandas/core/strings/accessor.py\u001b[0m in \u001b[0;36m_validate\u001b[0;34m(data)\u001b[0m\n\u001b[1;32m    223\u001b[0m \u001b[0;34m\u001b[0m\u001b[0m\n\u001b[1;32m    224\u001b[0m         \u001b[0;32mif\u001b[0m \u001b[0minferred_dtype\u001b[0m \u001b[0;32mnot\u001b[0m \u001b[0;32min\u001b[0m \u001b[0mallowed_types\u001b[0m\u001b[0;34m:\u001b[0m\u001b[0;34m\u001b[0m\u001b[0;34m\u001b[0m\u001b[0m\n\u001b[0;32m--> 225\u001b[0;31m             \u001b[0;32mraise\u001b[0m \u001b[0mAttributeError\u001b[0m\u001b[0;34m(\u001b[0m\u001b[0;34m\"Can only use .str accessor with string values!\"\u001b[0m\u001b[0;34m)\u001b[0m\u001b[0;34m\u001b[0m\u001b[0;34m\u001b[0m\u001b[0m\n\u001b[0m\u001b[1;32m    226\u001b[0m         \u001b[0;32mreturn\u001b[0m \u001b[0minferred_dtype\u001b[0m\u001b[0;34m\u001b[0m\u001b[0;34m\u001b[0m\u001b[0m\n\u001b[1;32m    227\u001b[0m \u001b[0;34m\u001b[0m\u001b[0m\n",
            "\u001b[0;31mAttributeError\u001b[0m: Can only use .str accessor with string values!"
          ]
        }
      ]
    },
    {
      "cell_type": "code",
      "source": [
        "df['Literacy rate'].str.contains('%').sum()\n",
        "# df.head()"
      ],
      "metadata": {
        "colab": {
          "base_uri": "https://localhost:8080/",
          "height": 329
        },
        "id": "r5WEhwyD6LgP",
        "outputId": "45b28618-c1ce-4c39-eafd-4fbdb8f0e7a4"
      },
      "execution_count": 547,
      "outputs": [
        {
          "output_type": "error",
          "ename": "AttributeError",
          "evalue": "ignored",
          "traceback": [
            "\u001b[0;31m---------------------------------------------------------------------------\u001b[0m",
            "\u001b[0;31mAttributeError\u001b[0m                            Traceback (most recent call last)",
            "\u001b[0;32m<ipython-input-547-8bab9c9f625f>\u001b[0m in \u001b[0;36m<module>\u001b[0;34m()\u001b[0m\n\u001b[0;32m----> 1\u001b[0;31m \u001b[0mdf\u001b[0m\u001b[0;34m[\u001b[0m\u001b[0;34m'Literacy rate'\u001b[0m\u001b[0;34m]\u001b[0m\u001b[0;34m.\u001b[0m\u001b[0mstr\u001b[0m\u001b[0;34m.\u001b[0m\u001b[0mcontains\u001b[0m\u001b[0;34m(\u001b[0m\u001b[0;34m'%'\u001b[0m\u001b[0;34m)\u001b[0m\u001b[0;34m.\u001b[0m\u001b[0msum\u001b[0m\u001b[0;34m(\u001b[0m\u001b[0;34m)\u001b[0m\u001b[0;34m\u001b[0m\u001b[0;34m\u001b[0m\u001b[0m\n\u001b[0m\u001b[1;32m      2\u001b[0m \u001b[0;31m# df.head()\u001b[0m\u001b[0;34m\u001b[0m\u001b[0;34m\u001b[0m\u001b[0;34m\u001b[0m\u001b[0m\n",
            "\u001b[0;32m/usr/local/lib/python3.7/dist-packages/pandas/core/generic.py\u001b[0m in \u001b[0;36m__getattr__\u001b[0;34m(self, name)\u001b[0m\n\u001b[1;32m   5485\u001b[0m         ):\n\u001b[1;32m   5486\u001b[0m             \u001b[0;32mreturn\u001b[0m \u001b[0mself\u001b[0m\u001b[0;34m[\u001b[0m\u001b[0mname\u001b[0m\u001b[0;34m]\u001b[0m\u001b[0;34m\u001b[0m\u001b[0;34m\u001b[0m\u001b[0m\n\u001b[0;32m-> 5487\u001b[0;31m         \u001b[0;32mreturn\u001b[0m \u001b[0mobject\u001b[0m\u001b[0;34m.\u001b[0m\u001b[0m__getattribute__\u001b[0m\u001b[0;34m(\u001b[0m\u001b[0mself\u001b[0m\u001b[0;34m,\u001b[0m \u001b[0mname\u001b[0m\u001b[0;34m)\u001b[0m\u001b[0;34m\u001b[0m\u001b[0;34m\u001b[0m\u001b[0m\n\u001b[0m\u001b[1;32m   5488\u001b[0m \u001b[0;34m\u001b[0m\u001b[0m\n\u001b[1;32m   5489\u001b[0m     \u001b[0;32mdef\u001b[0m \u001b[0m__setattr__\u001b[0m\u001b[0;34m(\u001b[0m\u001b[0mself\u001b[0m\u001b[0;34m,\u001b[0m \u001b[0mname\u001b[0m\u001b[0;34m:\u001b[0m \u001b[0mstr\u001b[0m\u001b[0;34m,\u001b[0m \u001b[0mvalue\u001b[0m\u001b[0;34m)\u001b[0m \u001b[0;34m->\u001b[0m \u001b[0;32mNone\u001b[0m\u001b[0;34m:\u001b[0m\u001b[0;34m\u001b[0m\u001b[0;34m\u001b[0m\u001b[0m\n",
            "\u001b[0;32m/usr/local/lib/python3.7/dist-packages/pandas/core/accessor.py\u001b[0m in \u001b[0;36m__get__\u001b[0;34m(self, obj, cls)\u001b[0m\n\u001b[1;32m    179\u001b[0m             \u001b[0;31m# we're accessing the attribute of the class, i.e., Dataset.geo\u001b[0m\u001b[0;34m\u001b[0m\u001b[0;34m\u001b[0m\u001b[0;34m\u001b[0m\u001b[0m\n\u001b[1;32m    180\u001b[0m             \u001b[0;32mreturn\u001b[0m \u001b[0mself\u001b[0m\u001b[0;34m.\u001b[0m\u001b[0m_accessor\u001b[0m\u001b[0;34m\u001b[0m\u001b[0;34m\u001b[0m\u001b[0m\n\u001b[0;32m--> 181\u001b[0;31m         \u001b[0maccessor_obj\u001b[0m \u001b[0;34m=\u001b[0m \u001b[0mself\u001b[0m\u001b[0;34m.\u001b[0m\u001b[0m_accessor\u001b[0m\u001b[0;34m(\u001b[0m\u001b[0mobj\u001b[0m\u001b[0;34m)\u001b[0m\u001b[0;34m\u001b[0m\u001b[0;34m\u001b[0m\u001b[0m\n\u001b[0m\u001b[1;32m    182\u001b[0m         \u001b[0;31m# Replace the property with the accessor object. Inspired by:\u001b[0m\u001b[0;34m\u001b[0m\u001b[0;34m\u001b[0m\u001b[0;34m\u001b[0m\u001b[0m\n\u001b[1;32m    183\u001b[0m         \u001b[0;31m# https://www.pydanny.com/cached-property.html\u001b[0m\u001b[0;34m\u001b[0m\u001b[0;34m\u001b[0m\u001b[0;34m\u001b[0m\u001b[0m\n",
            "\u001b[0;32m/usr/local/lib/python3.7/dist-packages/pandas/core/strings/accessor.py\u001b[0m in \u001b[0;36m__init__\u001b[0;34m(self, data)\u001b[0m\n\u001b[1;32m    166\u001b[0m         \u001b[0;32mfrom\u001b[0m \u001b[0mpandas\u001b[0m\u001b[0;34m.\u001b[0m\u001b[0mcore\u001b[0m\u001b[0;34m.\u001b[0m\u001b[0marrays\u001b[0m\u001b[0;34m.\u001b[0m\u001b[0mstring_\u001b[0m \u001b[0;32mimport\u001b[0m \u001b[0mStringDtype\u001b[0m\u001b[0;34m\u001b[0m\u001b[0;34m\u001b[0m\u001b[0m\n\u001b[1;32m    167\u001b[0m \u001b[0;34m\u001b[0m\u001b[0m\n\u001b[0;32m--> 168\u001b[0;31m         \u001b[0mself\u001b[0m\u001b[0;34m.\u001b[0m\u001b[0m_inferred_dtype\u001b[0m \u001b[0;34m=\u001b[0m \u001b[0mself\u001b[0m\u001b[0;34m.\u001b[0m\u001b[0m_validate\u001b[0m\u001b[0;34m(\u001b[0m\u001b[0mdata\u001b[0m\u001b[0;34m)\u001b[0m\u001b[0;34m\u001b[0m\u001b[0;34m\u001b[0m\u001b[0m\n\u001b[0m\u001b[1;32m    169\u001b[0m         \u001b[0mself\u001b[0m\u001b[0;34m.\u001b[0m\u001b[0m_is_categorical\u001b[0m \u001b[0;34m=\u001b[0m \u001b[0mis_categorical_dtype\u001b[0m\u001b[0;34m(\u001b[0m\u001b[0mdata\u001b[0m\u001b[0;34m.\u001b[0m\u001b[0mdtype\u001b[0m\u001b[0;34m)\u001b[0m\u001b[0;34m\u001b[0m\u001b[0;34m\u001b[0m\u001b[0m\n\u001b[1;32m    170\u001b[0m         \u001b[0mself\u001b[0m\u001b[0;34m.\u001b[0m\u001b[0m_is_string\u001b[0m \u001b[0;34m=\u001b[0m \u001b[0misinstance\u001b[0m\u001b[0;34m(\u001b[0m\u001b[0mdata\u001b[0m\u001b[0;34m.\u001b[0m\u001b[0mdtype\u001b[0m\u001b[0;34m,\u001b[0m \u001b[0mStringDtype\u001b[0m\u001b[0;34m)\u001b[0m\u001b[0;34m\u001b[0m\u001b[0;34m\u001b[0m\u001b[0m\n",
            "\u001b[0;32m/usr/local/lib/python3.7/dist-packages/pandas/core/strings/accessor.py\u001b[0m in \u001b[0;36m_validate\u001b[0;34m(data)\u001b[0m\n\u001b[1;32m    223\u001b[0m \u001b[0;34m\u001b[0m\u001b[0m\n\u001b[1;32m    224\u001b[0m         \u001b[0;32mif\u001b[0m \u001b[0minferred_dtype\u001b[0m \u001b[0;32mnot\u001b[0m \u001b[0;32min\u001b[0m \u001b[0mallowed_types\u001b[0m\u001b[0;34m:\u001b[0m\u001b[0;34m\u001b[0m\u001b[0;34m\u001b[0m\u001b[0m\n\u001b[0;32m--> 225\u001b[0;31m             \u001b[0;32mraise\u001b[0m \u001b[0mAttributeError\u001b[0m\u001b[0;34m(\u001b[0m\u001b[0;34m\"Can only use .str accessor with string values!\"\u001b[0m\u001b[0;34m)\u001b[0m\u001b[0;34m\u001b[0m\u001b[0;34m\u001b[0m\u001b[0m\n\u001b[0m\u001b[1;32m    226\u001b[0m         \u001b[0;32mreturn\u001b[0m \u001b[0minferred_dtype\u001b[0m\u001b[0;34m\u001b[0m\u001b[0;34m\u001b[0m\u001b[0m\n\u001b[1;32m    227\u001b[0m \u001b[0;34m\u001b[0m\u001b[0m\n",
            "\u001b[0;31mAttributeError\u001b[0m: Can only use .str accessor with string values!"
          ]
        }
      ]
    },
    {
      "cell_type": "code",
      "source": [
        "# changed literacy rate to a float\n",
        "df['Literacy rate'] = df['Literacy rate'].astype(float, errors = 'raise')"
      ],
      "metadata": {
        "id": "_Nesh5heN_-S"
      },
      "execution_count": 548,
      "outputs": []
    },
    {
      "cell_type": "code",
      "source": [
        "df.dtypes"
      ],
      "metadata": {
        "colab": {
          "base_uri": "https://localhost:8080/"
        },
        "id": "RK-l92ZUPHT4",
        "outputId": "96c1b2a4-0bd9-4b99-de46-d114c80c90db"
      },
      "execution_count": 549,
      "outputs": [
        {
          "output_type": "execute_result",
          "data": {
            "text/plain": [
              "Region            object\n",
              "Country           object\n",
              "Year               int64\n",
              "Age                int64\n",
              "Gender             int64\n",
              "Literacy rate    float64\n",
              "dtype: object"
            ]
          },
          "metadata": {},
          "execution_count": 549
        }
      ]
    },
    {
      "cell_type": "markdown",
      "source": [
        "### **D.** Identify and address any inconsistencies in categorical values (example: cat, Cat, cats)"
      ],
      "metadata": {
        "id": "V_3L1casOHX8"
      }
    },
    {
      "cell_type": "code",
      "source": [
        "# ?? otherways to fund duplicates\n",
        "for col in df:\n",
        "    print(col)\n",
        "    print(df[col].unique())\n",
        "    print('\\n')"
      ],
      "metadata": {
        "colab": {
          "base_uri": "https://localhost:8080/"
        },
        "id": "xCdFNMZROKkA",
        "outputId": "7b4807da-eb8b-4d60-86bc-772e6a024692"
      },
      "execution_count": 550,
      "outputs": [
        {
          "output_type": "stream",
          "name": "stdout",
          "text": [
            "Region\n",
            "['Central and Southern Asia' 'Eastern and South-Eastern Asia'\n",
            " 'Europe and Northern America' 'Latin America and the Caribbean'\n",
            " 'Northern Africa and Western Asia' 'Oceania' 'Sub-Saharan Africa']\n",
            "\n",
            "\n",
            "Country\n",
            "['Afghanistan' 'Bangladesh' 'Bhutan' 'India' 'Iran (Islamic Republic of)'\n",
            " 'Kazakhstan' 'Kyrgyzstan' 'Maldives' 'Nepal' 'Pakistan' 'Sri Lanka'\n",
            " 'Tajikistan' 'Turkmenistan' 'Uzbekistan' 'Brunei Darussalam' 'Cambodia'\n",
            " 'China' 'China, Macao Special Administrative Region' 'Indonesia'\n",
            " \"Lao People's Democratic Republic\" 'Malaysia' 'Mongolia' 'Myanmar'\n",
            " 'Philippines' 'Singapore' 'Thailand' 'Timor-Leste' 'Vietnam' 'Albania'\n",
            " 'Belarus' 'Bosnia and Herzegovina' 'Bulgaria' 'Croatia' 'Estonia'\n",
            " 'Greece' 'Hungary' 'Italy' 'Latvia' 'Lithuania' 'Malta' 'Montenegro'\n",
            " 'Portugal' 'Republic of Moldova' 'Romania' 'Russian Federation'\n",
            " 'San Marino' 'Serbia' 'Slovenia' 'Spain'\n",
            " 'The former Yugoslav Republic of Macedonia' 'Ukraine'\n",
            " 'Antigua and Barbuda' 'Argentina' 'Aruba' 'Barbados'\n",
            " 'Bolivia (Plurinational State of)' 'Brazil' 'Chile' 'Colombia'\n",
            " 'Costa Rica' 'Cuba' 'Dominican Republic' 'Ecuador' 'El Salvador'\n",
            " 'Grenada' 'Guadeloupe' 'Guatemala' 'Guyana' 'Haiti' 'Honduras' 'Jamaica'\n",
            " 'Martinique' 'Mexico' 'Nicaragua' 'Panama' 'Paraguay' 'Peru'\n",
            " 'Puerto Rico' 'Suriname' 'Trinidad and Tobago' 'Uruguay'\n",
            " 'Venezuela (Bolivarian Republic of)' 'Algeria' 'Armenia' 'Azerbaijan'\n",
            " 'Bahrain' 'Cyprus' 'Egypt' 'Georgia' 'Iraq' 'Jordan' 'Kuwait' 'Lebanon'\n",
            " 'Morocco' 'Oman' 'Palestine' 'Qatar' 'Saudi Arabia' 'Sudan' 'Tunisia'\n",
            " 'Turkey' 'Fiji' 'Marshall Islands' 'New Caledonia\\xa0' 'Palau'\n",
            " 'Papua New Guinea' 'Samoa' 'Tonga' 'Vanuatu' 'Angola' 'Benin' 'Botswana'\n",
            " 'Burkina Faso' 'Burundi' 'Cabo Verde' 'Cameroon'\n",
            " 'Central African Republic' 'Chad' 'Comoros' 'Congo' \"Côte d'Ivoire\"\n",
            " 'Equatorial Guinea' 'Eritrea' 'Ethiopia' 'Gabon' 'Gambia' 'Ghana'\n",
            " 'Guinea' 'Guinea-Bissau' 'Kenya' 'Lesotho' 'Liberia' 'Madagascar'\n",
            " 'Malawi' 'Mali' 'Mauritania' 'Mauritius' 'Mozambique' 'Namibia' 'Niger'\n",
            " 'Nigeria' 'Rwanda' 'Sao Tome and Principe' 'Senegal' 'Seychelles'\n",
            " 'Sierra Leone' 'South Africa' 'South Sudan' 'Swaziland' 'Togo' 'Uganda'\n",
            " 'United Republic of Tanzania' 'Zambia' 'Zimbabwe']\n",
            "\n",
            "\n",
            "Year\n",
            "[2011 2018 2012 2013 2014 2015 2016 2017 2010]\n",
            "\n",
            "\n",
            "Age\n",
            "[15 19 44 65]\n",
            "\n",
            "\n",
            "Gender\n",
            "[2 1 0]\n",
            "\n",
            "\n",
            "Literacy rate\n",
            "[0.1761206 0.454171  0.3174112 ... 0.7342576 0.9272311 0.811269 ]\n",
            "\n",
            "\n"
          ]
        }
      ]
    },
    {
      "cell_type": "code",
      "source": [
        "# we've not looked at Country, so lets look at that\n",
        "# lets sort the data first, It'll be eaiser to find flaws that way\n",
        "country = df['Country'].unique()\n",
        "# df.sort_values(by=['Country'])\n",
        "country.sort()\n",
        "print(country)\n"
      ],
      "metadata": {
        "colab": {
          "base_uri": "https://localhost:8080/"
        },
        "id": "_CSZywvfOpju",
        "outputId": "ea0a21c4-80c2-4d05-f8c7-7e20994ffb13"
      },
      "execution_count": 551,
      "outputs": [
        {
          "output_type": "stream",
          "name": "stdout",
          "text": [
            "['Afghanistan' 'Albania' 'Algeria' 'Angola' 'Antigua and Barbuda'\n",
            " 'Argentina' 'Armenia' 'Aruba' 'Azerbaijan' 'Bahrain' 'Bangladesh'\n",
            " 'Barbados' 'Belarus' 'Benin' 'Bhutan' 'Bolivia (Plurinational State of)'\n",
            " 'Bosnia and Herzegovina' 'Botswana' 'Brazil' 'Brunei Darussalam'\n",
            " 'Bulgaria' 'Burkina Faso' 'Burundi' 'Cabo Verde' 'Cambodia' 'Cameroon'\n",
            " 'Central African Republic' 'Chad' 'Chile' 'China'\n",
            " 'China, Macao Special Administrative Region' 'Colombia' 'Comoros' 'Congo'\n",
            " 'Costa Rica' 'Croatia' 'Cuba' 'Cyprus' \"Côte d'Ivoire\"\n",
            " 'Dominican Republic' 'Ecuador' 'Egypt' 'El Salvador' 'Equatorial Guinea'\n",
            " 'Eritrea' 'Estonia' 'Ethiopia' 'Fiji' 'Gabon' 'Gambia' 'Georgia' 'Ghana'\n",
            " 'Greece' 'Grenada' 'Guadeloupe' 'Guatemala' 'Guinea' 'Guinea-Bissau'\n",
            " 'Guyana' 'Haiti' 'Honduras' 'Hungary' 'India' 'Indonesia'\n",
            " 'Iran (Islamic Republic of)' 'Iraq' 'Italy' 'Jamaica' 'Jordan'\n",
            " 'Kazakhstan' 'Kenya' 'Kuwait' 'Kyrgyzstan'\n",
            " \"Lao People's Democratic Republic\" 'Latvia' 'Lebanon' 'Lesotho' 'Liberia'\n",
            " 'Lithuania' 'Madagascar' 'Malawi' 'Malaysia' 'Maldives' 'Mali' 'Malta'\n",
            " 'Marshall Islands' 'Martinique' 'Mauritania' 'Mauritius' 'Mexico'\n",
            " 'Mongolia' 'Montenegro' 'Morocco' 'Mozambique' 'Myanmar' 'Namibia'\n",
            " 'Nepal' 'New Caledonia\\xa0' 'Nicaragua' 'Niger' 'Nigeria' 'Oman'\n",
            " 'Pakistan' 'Palau' 'Palestine' 'Panama' 'Papua New Guinea' 'Paraguay'\n",
            " 'Peru' 'Philippines' 'Portugal' 'Puerto Rico' 'Qatar'\n",
            " 'Republic of Moldova' 'Romania' 'Russian Federation' 'Rwanda' 'Samoa'\n",
            " 'San Marino' 'Sao Tome and Principe' 'Saudi Arabia' 'Senegal' 'Serbia'\n",
            " 'Seychelles' 'Sierra Leone' 'Singapore' 'Slovenia' 'South Africa'\n",
            " 'South Sudan' 'Spain' 'Sri Lanka' 'Sudan' 'Suriname' 'Swaziland'\n",
            " 'Tajikistan' 'Thailand' 'The former Yugoslav Republic of Macedonia'\n",
            " 'Timor-Leste' 'Togo' 'Tonga' 'Trinidad and Tobago' 'Tunisia' 'Turkey'\n",
            " 'Turkmenistan' 'Uganda' 'Ukraine' 'United Republic of Tanzania' 'Uruguay'\n",
            " 'Uzbekistan' 'Vanuatu' 'Venezuela (Bolivarian Republic of)' 'Vietnam'\n",
            " 'Zambia' 'Zimbabwe']\n"
          ]
        }
      ]
    },
    {
      "cell_type": "markdown",
      "source": [
        "I'll need to look these up, see if there's a readon to keep them different\n",
        "\n",
        "1. China' same as 'China, Macao Special Administrative Region'\n",
        "  - different countries\n",
        "2. Congo and Democratic Republic of the Congo\n",
        "  - same, seems like there's a division in the city itslef, but they're still all 'Democratic Republic of the Congo'\n",
        "3. Guinea' 'Guinea-Bissau' or 'Papua New Guinea'\n",
        "  - all different\n",
        "4. Lao People's Democratic Republic\n",
        "  - good here\n",
        "5. Viet Nam - ?spelled wrong\n",
        "  -fixed the spelling"
      ],
      "metadata": {
        "id": "dasHg-UzQ571"
      }
    },
    {
      "cell_type": "markdown",
      "source": [
        "#### Congo"
      ],
      "metadata": {
        "id": "_QDeCUSeTluZ"
      }
    },
    {
      "cell_type": "code",
      "source": [
        "df['Country'] = df['Country'].replace({\"Democratic Republic of the Congo\": \"Congo\"})"
      ],
      "metadata": {
        "id": "aPqMMLS0S_kH"
      },
      "execution_count": 552,
      "outputs": []
    },
    {
      "cell_type": "markdown",
      "source": [
        "#### Viet Nam"
      ],
      "metadata": {
        "id": "mof79W49TX19"
      }
    },
    {
      "cell_type": "code",
      "source": [
        "df['Country'] = df['Country'].replace({\"Viet Nam\": \"Vietnam\"})"
      ],
      "metadata": {
        "id": "YP0sgO6TULkg"
      },
      "execution_count": 553,
      "outputs": []
    },
    {
      "cell_type": "code",
      "source": [
        "# we've not looked at Country, so lets look at that\n",
        "# lets sort the data first, It'll be eaiser to find flaws that way\n",
        "country = df['Country'].unique()\n",
        "# df.sort_values(by=['Country'])\n",
        "country.sort()\n",
        "print(country)"
      ],
      "metadata": {
        "colab": {
          "base_uri": "https://localhost:8080/"
        },
        "id": "xvOnX1q3UIWd",
        "outputId": "1c21bd48-05ef-4dd3-88e2-370958c4f3b1"
      },
      "execution_count": 554,
      "outputs": [
        {
          "output_type": "stream",
          "name": "stdout",
          "text": [
            "['Afghanistan' 'Albania' 'Algeria' 'Angola' 'Antigua and Barbuda'\n",
            " 'Argentina' 'Armenia' 'Aruba' 'Azerbaijan' 'Bahrain' 'Bangladesh'\n",
            " 'Barbados' 'Belarus' 'Benin' 'Bhutan' 'Bolivia (Plurinational State of)'\n",
            " 'Bosnia and Herzegovina' 'Botswana' 'Brazil' 'Brunei Darussalam'\n",
            " 'Bulgaria' 'Burkina Faso' 'Burundi' 'Cabo Verde' 'Cambodia' 'Cameroon'\n",
            " 'Central African Republic' 'Chad' 'Chile' 'China'\n",
            " 'China, Macao Special Administrative Region' 'Colombia' 'Comoros' 'Congo'\n",
            " 'Costa Rica' 'Croatia' 'Cuba' 'Cyprus' \"Côte d'Ivoire\"\n",
            " 'Dominican Republic' 'Ecuador' 'Egypt' 'El Salvador' 'Equatorial Guinea'\n",
            " 'Eritrea' 'Estonia' 'Ethiopia' 'Fiji' 'Gabon' 'Gambia' 'Georgia' 'Ghana'\n",
            " 'Greece' 'Grenada' 'Guadeloupe' 'Guatemala' 'Guinea' 'Guinea-Bissau'\n",
            " 'Guyana' 'Haiti' 'Honduras' 'Hungary' 'India' 'Indonesia'\n",
            " 'Iran (Islamic Republic of)' 'Iraq' 'Italy' 'Jamaica' 'Jordan'\n",
            " 'Kazakhstan' 'Kenya' 'Kuwait' 'Kyrgyzstan'\n",
            " \"Lao People's Democratic Republic\" 'Latvia' 'Lebanon' 'Lesotho' 'Liberia'\n",
            " 'Lithuania' 'Madagascar' 'Malawi' 'Malaysia' 'Maldives' 'Mali' 'Malta'\n",
            " 'Marshall Islands' 'Martinique' 'Mauritania' 'Mauritius' 'Mexico'\n",
            " 'Mongolia' 'Montenegro' 'Morocco' 'Mozambique' 'Myanmar' 'Namibia'\n",
            " 'Nepal' 'New Caledonia\\xa0' 'Nicaragua' 'Niger' 'Nigeria' 'Oman'\n",
            " 'Pakistan' 'Palau' 'Palestine' 'Panama' 'Papua New Guinea' 'Paraguay'\n",
            " 'Peru' 'Philippines' 'Portugal' 'Puerto Rico' 'Qatar'\n",
            " 'Republic of Moldova' 'Romania' 'Russian Federation' 'Rwanda' 'Samoa'\n",
            " 'San Marino' 'Sao Tome and Principe' 'Saudi Arabia' 'Senegal' 'Serbia'\n",
            " 'Seychelles' 'Sierra Leone' 'Singapore' 'Slovenia' 'South Africa'\n",
            " 'South Sudan' 'Spain' 'Sri Lanka' 'Sudan' 'Suriname' 'Swaziland'\n",
            " 'Tajikistan' 'Thailand' 'The former Yugoslav Republic of Macedonia'\n",
            " 'Timor-Leste' 'Togo' 'Tonga' 'Trinidad and Tobago' 'Tunisia' 'Turkey'\n",
            " 'Turkmenistan' 'Uganda' 'Ukraine' 'United Republic of Tanzania' 'Uruguay'\n",
            " 'Uzbekistan' 'Vanuatu' 'Venezuela (Bolivarian Republic of)' 'Vietnam'\n",
            " 'Zambia' 'Zimbabwe']\n"
          ]
        }
      ]
    },
    {
      "cell_type": "markdown",
      "source": [
        "### **E.**  Identify and address any inappropriate or unusual data points (example: age cannot be 325)"
      ],
      "metadata": {
        "id": "FyMZ4h7-UlOW"
      }
    },
    {
      "cell_type": "markdown",
      "source": [
        "#### Age"
      ],
      "metadata": {
        "id": "VD9SwNWZtq44"
      }
    },
    {
      "cell_type": "code",
      "source": [
        "# Getting a sense of the data dn the values present\n",
        "df['Age'].values"
      ],
      "metadata": {
        "colab": {
          "base_uri": "https://localhost:8080/"
        },
        "id": "0UM5jP_ftsSv",
        "outputId": "e9afff44-4c4d-4fbe-bd79-a083481a68ed"
      },
      "execution_count": 559,
      "outputs": [
        {
          "output_type": "execute_result",
          "data": {
            "text/plain": [
              "array([15, 15, 15, ..., 65, 65, 65])"
            ]
          },
          "metadata": {},
          "execution_count": 559
        }
      ]
    },
    {
      "cell_type": "code",
      "source": [
        "df['Age'].describe()"
      ],
      "metadata": {
        "colab": {
          "base_uri": "https://localhost:8080/"
        },
        "id": "rg-NJFb4t-RG",
        "outputId": "0950f70d-d238-4a0e-ef11-1aa9c75e36bd"
      },
      "execution_count": 560,
      "outputs": [
        {
          "output_type": "execute_result",
          "data": {
            "text/plain": [
              "count    4955.000000\n",
              "mean       35.532190\n",
              "std        20.170046\n",
              "min        15.000000\n",
              "25%        15.000000\n",
              "50%        19.000000\n",
              "75%        44.000000\n",
              "max        65.000000\n",
              "Name: Age, dtype: float64"
            ]
          },
          "metadata": {},
          "execution_count": 560
        }
      ]
    },
    {
      "cell_type": "code",
      "source": [
        "# Ok we're not going to do anything with this. Some sets of data have + others - to signifiy range. since there are describing the data we're going to leave as is\n",
        "df['Age'].unique()"
      ],
      "metadata": {
        "colab": {
          "base_uri": "https://localhost:8080/"
        },
        "id": "ijkVKzz_uSrx",
        "outputId": "353408c9-d5e3-4089-d348-69660578fed8"
      },
      "execution_count": 561,
      "outputs": [
        {
          "output_type": "execute_result",
          "data": {
            "text/plain": [
              "array([15, 19, 44, 65])"
            ]
          },
          "metadata": {},
          "execution_count": 561
        }
      ]
    },
    {
      "cell_type": "code",
      "source": [
        "# Other than that all looks good"
      ],
      "metadata": {
        "id": "1krV-rGOU1gD"
      },
      "execution_count": 562,
      "outputs": []
    },
    {
      "cell_type": "markdown",
      "source": [
        "## 2. The next step is to complete an exploration of the data using Python. This should include:\n",
        "\n",
        "**a.** Two different types of univariate exploratory visualizations. Each visualization must include a brief interpretation within the code file.<br/>\n",
        "**b.** Two different types of multivariate exploratory visualizations.  Each visualization must include a brief interpretation within the code file."
      ],
      "metadata": {
        "id": "a8ATLWfUU3zp"
      }
    },
    {
      "cell_type": "code",
      "source": [
        "# wanted ages to be in a number after all \n",
        "# found the mean of the ranges\n",
        "# remove the + from the others\n",
        "df['Age'] = df['Age'].replace({\"15+\": 15, \"65+\": 65, \"15-24\": 19, \"25-64\": 44})"
      ],
      "metadata": {
        "id": "og9qjen2YkkM"
      },
      "execution_count": 316,
      "outputs": []
    },
    {
      "cell_type": "code",
      "source": [
        "# I want to know if there's a literacy rate based on gender : 0 - missing, 1 - male, 2 - female\n",
        "df['Gender'] = df['Gender'].replace({\"missing\": 0, \"male\": 1, \"female\": 2})"
      ],
      "metadata": {
        "id": "_MdWL0j2Styu"
      },
      "execution_count": 119,
      "outputs": []
    },
    {
      "cell_type": "markdown",
      "source": [
        "#### 1. Two different types of multi exploratory visualizations"
      ],
      "metadata": {
        "id": "rLwlvxzDbPz1"
      }
    },
    {
      "cell_type": "code",
      "source": [
        "df['Literacy rate'].hist(edgecolor='black')\n",
        "plt.title('Literacy Rate')\n",
        "plt.xlabel(\"Literacy Rate\")\n",
        "plt.ylabel(\"Literacy Rate Count\")\n"
      ],
      "metadata": {
        "colab": {
          "base_uri": "https://localhost:8080/",
          "height": 393
        },
        "id": "MVwkR7VvbSWH",
        "outputId": "3fc37374-5fc9-4f50-8585-623c03423324"
      },
      "execution_count": 583,
      "outputs": [
        {
          "output_type": "execute_result",
          "data": {
            "text/plain": [
              "Text(0, 0.5, 'Literacy Rate Count')"
            ]
          },
          "metadata": {},
          "execution_count": 583
        },
        {
          "output_type": "display_data",
          "data": {
            "text/plain": [
              "<Figure size 576x396 with 1 Axes>"
            ],
            "image/png": "[encoded data removed]"
          },
          "metadata": {}
        }
      ]
    },
    {
      "cell_type": "code",
      "source": [
        "plt.figure(figsize=(7,15))\n",
        "df.boxplot(column = 'Literacy rate');\n",
        "plt.title('Literacy Rate');\n",
        "# show's that the literacy rate is really high, with a LOT of outliers on the low end. but our median is arount .9 so that's a very high rate"
      ],
      "metadata": {
        "colab": {
          "base_uri": "https://localhost:8080/",
          "height": 878
        },
        "id": "nWXKE__icTzG",
        "outputId": "62ac467a-2e8f-4c66-a2f4-82b1f0d31fc7"
      },
      "execution_count": 601,
      "outputs": [
        {
          "output_type": "display_data",
          "data": {
            "text/plain": [
              "<Figure size 504x1080 with 1 Axes>"
            ],
            "image/png": "[encoded data removed]"
          },
          "metadata": {}
        }
      ]
    },
    {
      "cell_type": "code",
      "source": [
        "# Gender - since I already converted the numbers\n",
        "df['Gender'].hist(edgecolor='black', bins=10)\n",
        "plt.title('Gender')\n",
        "plt.xlabel(\"Gender: 0-missing, 1-male, 2-female\")\n",
        "plt.ylabel(\"Gender Count\")\n",
        "\n",
        "len(df[df['Gender'] == 2]), len(df[df['Gender'] == 1]), len(df[df['Gender'] == 0])\n",
        "# whelp = looks like we have a pertty even number of boys, girls, and missing\n"
      ],
      "metadata": {
        "colab": {
          "base_uri": "https://localhost:8080/",
          "height": 393
        },
        "id": "KxK2F6psd5Yv",
        "outputId": "82f9398d-78e1-400f-9e3f-dabff5533c47"
      },
      "execution_count": 609,
      "outputs": [
        {
          "output_type": "execute_result",
          "data": {
            "text/plain": [
              "(1652, 1651, 1652)"
            ]
          },
          "metadata": {},
          "execution_count": 609
        },
        {
          "output_type": "display_data",
          "data": {
            "text/plain": [
              "<Figure size 576x396 with 1 Axes>"
            ],
            "image/png": "[encoded data removed]"
          },
          "metadata": {}
        }
      ]
    },
    {
      "cell_type": "markdown",
      "source": [
        "##### Step 1\n",
        "- found age group to target (before we talked, I think I overthought the assigment) - but I kept it here cause it was a lot of work 😂"
      ],
      "metadata": {
        "id": "9N56DamQTVSG"
      }
    },
    {
      "cell_type": "code",
      "source": [
        "fig = plt.figure(figsize=(15,8))\n",
        "plt.subplot(1, 3, 1);\n",
        "df['Literacy rate'].hist()\n",
        "plt.title('Literacy Rate')\n",
        "plt.xlabel(\"Literacy Rate\")\n",
        "plt.ylabel(\"Literacy Rate Count\")\n",
        "\n",
        "plt.subplot(1, 3, 2);\n",
        "df['Region'].hist()\n",
        "plt.xticks(rotation = 90)\n",
        "plt.title('Regions')\n",
        "plt.xlabel(\"Regions\")\n",
        "plt.ylabel(\"Regions Count\")\n",
        "\n",
        "plt.subplot(1, 3, 3);\n",
        "df['Age'].hist(bins=15, edgecolor=\"black\")\n",
        "plt.xticks(rotation = 90)\n",
        "plt.title('Ages')\n",
        "plt.xlabel(\"Ages\")\n",
        "plt.ylabel(\"Ages Count\")\n",
        "\n",
        "# shows where most of the data come from\n",
        "# Left one show that a lot of people are literate\n",
        "# middle graph show's which region our data is falling in\n",
        "# right shows how many people from each age group.\n",
        "  # also intersting that the younger the generation the more literate they are\n",
        "# So if we want to get the biggest bang for out buck find hgih population and low lr"
      ],
      "metadata": {
        "colab": {
          "base_uri": "https://localhost:8080/",
          "height": 666
        },
        "id": "b76aSUTYWONu",
        "outputId": "3f2840f4-e0c2-44c1-ac33-bbfb9ee23f50"
      },
      "execution_count": 585,
      "outputs": [
        {
          "output_type": "execute_result",
          "data": {
            "text/plain": [
              "Text(0, 0.5, 'Ages Count')"
            ]
          },
          "metadata": {},
          "execution_count": 585
        },
        {
          "output_type": "display_data",
          "data": {
            "text/plain": [
              "<Figure size 1080x576 with 3 Axes>"
            ],
            "image/png": "[encoded data removed]"
          },
          "metadata": {}
        }
      ]
    },
    {
      "cell_type": "code",
      "source": [
        "counReg = df.groupby(['Age'])['Literacy rate'].mean().sort_values()\n",
        "counReg.head(20)\n",
        "# just seeing the actual numbers"
      ],
      "metadata": {
        "colab": {
          "base_uri": "https://localhost:8080/"
        },
        "id": "om8ufC9OFIGZ",
        "outputId": "f609ef48-587f-4d61-e69f-1728c03ea787"
      },
      "execution_count": 566,
      "outputs": [
        {
          "output_type": "execute_result",
          "data": {
            "text/plain": [
              "Age\n",
              "65    0.647954\n",
              "44    0.843873\n",
              "15    0.853163\n",
              "19    0.919181\n",
              "Name: Literacy rate, dtype: float64"
            ]
          },
          "metadata": {},
          "execution_count": 566
        }
      ]
    },
    {
      "cell_type": "code",
      "source": [
        "df.groupby(['Region'])['Age'].mean()\n",
        "# shows us the average age of each region.\n",
        "# We know that 44 group is the one the has the lowest literacy rate \n",
        "# and most countries seem to have an average age of 35\n",
        "# based on this it'll be good to go for tha ge group of 25 - 65 (aka 44). It falls in out mean range, and we know the older they are the more illiterate people we have"
      ],
      "metadata": {
        "colab": {
          "base_uri": "https://localhost:8080/"
        },
        "id": "7d6E_46o0sjO",
        "outputId": "d7e5410c-f8a8-423b-a7e4-dc737bdd20ba"
      },
      "execution_count": 567,
      "outputs": [
        {
          "output_type": "execute_result",
          "data": {
            "text/plain": [
              "Region\n",
              "Central and Southern Asia           35.687366\n",
              "Eastern and South-Eastern Asia      34.297872\n",
              "Europe and Northern America         35.750000\n",
              "Latin America and the Caribbean     35.661702\n",
              "Northern Africa and Western Asia    35.750000\n",
              "Oceania                             35.750000\n",
              "Sub-Saharan Africa                  35.480519\n",
              "Name: Age, dtype: float64"
            ]
          },
          "metadata": {},
          "execution_count": 567
        }
      ]
    },
    {
      "cell_type": "code",
      "source": [
        "counReg = df.groupby(['Region'])['Literacy rate'].mean().sort_values()\n",
        "counReg.head(20)\n",
        "\n",
        "# average literacy rate in regions"
      ],
      "metadata": {
        "colab": {
          "base_uri": "https://localhost:8080/"
        },
        "id": "IeR1JyzuvYkF",
        "outputId": "9b962e34-3dcd-4f90-d3e2-fcb3c70a1e01"
      },
      "execution_count": 568,
      "outputs": [
        {
          "output_type": "execute_result",
          "data": {
            "text/plain": [
              "Region\n",
              "Sub-Saharan Africa                  0.616073\n",
              "Central and Southern Asia           0.717532\n",
              "Northern Africa and Western Asia    0.851144\n",
              "Eastern and South-Eastern Asia      0.882141\n",
              "Latin America and the Caribbean     0.906581\n",
              "Oceania                             0.911783\n",
              "Europe and Northern America         0.979013\n",
              "Name: Literacy rate, dtype: float64"
            ]
          },
          "metadata": {},
          "execution_count": 568
        }
      ]
    },
    {
      "cell_type": "code",
      "source": [
        "counReg = df.groupby(['Age','Region'])['Literacy rate'].mean()\n",
        "counReg.head(100)\n",
        "\n",
        "# average literacy rate in regions and by age"
      ],
      "metadata": {
        "colab": {
          "base_uri": "https://localhost:8080/"
        },
        "id": "0aHN48C5FtVG",
        "outputId": "4c9f8d81-a2f7-4cdc-c74f-fde57b4d5c7f"
      },
      "execution_count": 569,
      "outputs": [
        {
          "output_type": "execute_result",
          "data": {
            "text/plain": [
              "Age  Region                          \n",
              "15   Central and Southern Asia           0.753805\n",
              "     Eastern and South-Eastern Asia      0.914152\n",
              "     Europe and Northern America         0.982625\n",
              "     Latin America and the Caribbean     0.931686\n",
              "     Northern Africa and Western Asia    0.905557\n",
              "     Oceania                             0.934925\n",
              "     Sub-Saharan Africa                  0.674521\n",
              "19   Central and Southern Asia           0.886825\n",
              "     Eastern and South-Eastern Asia      0.965129\n",
              "     Europe and Northern America         0.994472\n",
              "     Latin America and the Caribbean     0.980961\n",
              "     Northern Africa and Western Asia    0.962445\n",
              "     Oceania                             0.960639\n",
              "     Sub-Saharan Africa                  0.767625\n",
              "44   Central and Southern Asia           0.719877\n",
              "     Eastern and South-Eastern Asia      0.917781\n",
              "     Europe and Northern America         0.990584\n",
              "     Latin America and the Caribbean     0.934212\n",
              "     Northern Africa and Western Asia    0.904772\n",
              "     Oceania                             0.935624\n",
              "     Sub-Saharan Africa                  0.632766\n",
              "65   Central and Southern Asia           0.507830\n",
              "     Eastern and South-Eastern Asia      0.696354\n",
              "     Europe and Northern America         0.948370\n",
              "     Latin America and the Caribbean     0.779036\n",
              "     Northern Africa and Western Asia    0.631803\n",
              "     Oceania                             0.815943\n",
              "     Sub-Saharan Africa                  0.386301\n",
              "Name: Literacy rate, dtype: float64"
            ]
          },
          "metadata": {},
          "execution_count": 569
        }
      ]
    },
    {
      "cell_type": "markdown",
      "source": [
        "#### 2. Two different types of multi exploratory visualizations"
      ],
      "metadata": {
        "id": "AumXKgV2VHIG"
      }
    },
    {
      "cell_type": "code",
      "source": [
        "# plt.barh(df['Region'],df['Literacy rate'].values)\n",
        "# why do you look so different?\n",
        "\n",
        "sns.barplot(data=df, y=\"Region\", x=\"Literacy rate\") \n",
        "\n",
        "# Sub-Saharan Africa has the lowest literacy rate and Europe and north America have the highest"
      ],
      "metadata": {
        "colab": {
          "base_uri": "https://localhost:8080/",
          "height": 378
        },
        "id": "L4FySWd_e8SA",
        "outputId": "44ac5db6-a74a-4a7e-c12d-046bd90a1f9a"
      },
      "execution_count": 620,
      "outputs": [
        {
          "output_type": "execute_result",
          "data": {
            "text/plain": [
              "<matplotlib.axes._subplots.AxesSubplot at 0x7ff53b9ba410>"
            ]
          },
          "metadata": {},
          "execution_count": 620
        },
        {
          "output_type": "display_data",
          "data": {
            "text/plain": [
              "<Figure size 576x396 with 1 Axes>"
            ],
            "image/png": "[encoded data removed]"
          },
          "metadata": {}
        }
      ]
    },
    {
      "cell_type": "code",
      "source": [
        "sns.barplot(data=df, y=\"Region\", x=\"Age\") \n",
        "# Average age is 35 for most countries "
      ],
      "metadata": {
        "colab": {
          "base_uri": "https://localhost:8080/",
          "height": 378
        },
        "id": "7xAN5TfJgU1m",
        "outputId": "fe6940c2-67ea-4b25-aace-092e671dfdf3"
      },
      "execution_count": 630,
      "outputs": [
        {
          "output_type": "execute_result",
          "data": {
            "text/plain": [
              "<matplotlib.axes._subplots.AxesSubplot at 0x7ff533941190>"
            ]
          },
          "metadata": {},
          "execution_count": 630
        },
        {
          "output_type": "display_data",
          "data": {
            "text/plain": [
              "<Figure size 576x396 with 1 Axes>"
            ],
            "image/png": "[encoded data removed]"
          },
          "metadata": {}
        }
      ]
    },
    {
      "cell_type": "code",
      "source": [
        "df.head()"
      ],
      "metadata": {
        "colab": {
          "base_uri": "https://localhost:8080/",
          "height": 238
        },
        "id": "EHjBtNykhg-j",
        "outputId": "52711916-d7f3-4f7a-c6dc-2390c861e874"
      },
      "execution_count": 628,
      "outputs": [
        {
          "output_type": "execute_result",
          "data": {
            "text/plain": [
              "                          Region      Country  Year  Age  Gender  \\\n",
              "index                                                              \n",
              "0      Central and Southern Asia  Afghanistan  2011   15       2   \n",
              "1      Central and Southern Asia  Afghanistan  2011   15       1   \n",
              "2      Central and Southern Asia  Afghanistan  2011   15       0   \n",
              "3      Central and Southern Asia  Afghanistan  2011   19       2   \n",
              "4      Central and Southern Asia  Afghanistan  2011   19       1   \n",
              "\n",
              "       Literacy rate  \n",
              "index                 \n",
              "0           0.176121  \n",
              "1           0.454171  \n",
              "2           0.317411  \n",
              "3           0.321132  \n",
              "4           0.618791  "
            ],
            "text/html": [
              "\n",
              "  <div id=\"df-2ebba867-4908-4298-afb7-744f18f47bbe\">\n",
              "    <div class=\"colab-df-container\">\n",
              "      <div>\n",
              "<style scoped>\n",
              "    .dataframe tbody tr th:only-of-type {\n",
              "        vertical-align: middle;\n",
              "    }\n",
              "\n",
              "    .dataframe tbody tr th {\n",
              "        vertical-align: top;\n",
              "    }\n",
              "\n",
              "    .dataframe thead th {\n",
              "        text-align: right;\n",
              "    }\n",
              "</style>\n",
              "<table border=\"1\" class=\"dataframe\">\n",
              "  <thead>\n",
              "    <tr style=\"text-align: right;\">\n",
              "      <th></th>\n",
              "      <th>Region</th>\n",
              "      <th>Country</th>\n",
              "      <th>Year</th>\n",
              "      <th>Age</th>\n",
              "      <th>Gender</th>\n",
              "      <th>Literacy rate</th>\n",
              "    </tr>\n",
              "    <tr>\n",
              "      <th>index</th>\n",
              "      <th></th>\n",
              "      <th></th>\n",
              "      <th></th>\n",
              "      <th></th>\n",
              "      <th></th>\n",
              "      <th></th>\n",
              "    </tr>\n",
              "  </thead>\n",
              "  <tbody>\n",
              "    <tr>\n",
              "      <th>0</th>\n",
              "      <td>Central and Southern Asia</td>\n",
              "      <td>Afghanistan</td>\n",
              "      <td>2011</td>\n",
              "      <td>15</td>\n",
              "      <td>2</td>\n",
              "      <td>0.176121</td>\n",
              "    </tr>\n",
              "    <tr>\n",
              "      <th>1</th>\n",
              "      <td>Central and Southern Asia</td>\n",
              "      <td>Afghanistan</td>\n",
              "      <td>2011</td>\n",
              "      <td>15</td>\n",
              "      <td>1</td>\n",
              "      <td>0.454171</td>\n",
              "    </tr>\n",
              "    <tr>\n",
              "      <th>2</th>\n",
              "      <td>Central and Southern Asia</td>\n",
              "      <td>Afghanistan</td>\n",
              "      <td>2011</td>\n",
              "      <td>15</td>\n",
              "      <td>0</td>\n",
              "      <td>0.317411</td>\n",
              "    </tr>\n",
              "    <tr>\n",
              "      <th>3</th>\n",
              "      <td>Central and Southern Asia</td>\n",
              "      <td>Afghanistan</td>\n",
              "      <td>2011</td>\n",
              "      <td>19</td>\n",
              "      <td>2</td>\n",
              "      <td>0.321132</td>\n",
              "    </tr>\n",
              "    <tr>\n",
              "      <th>4</th>\n",
              "      <td>Central and Southern Asia</td>\n",
              "      <td>Afghanistan</td>\n",
              "      <td>2011</td>\n",
              "      <td>19</td>\n",
              "      <td>1</td>\n",
              "      <td>0.618791</td>\n",
              "    </tr>\n",
              "  </tbody>\n",
              "</table>\n",
              "</div>\n",
              "      <button class=\"colab-df-convert\" onclick=\"convertToInteractive('df-2ebba867-4908-4298-afb7-744f18f47bbe')\"\n",
              "              title=\"Convert this dataframe to an interactive table.\"\n",
              "              style=\"display:none;\">\n",
              "        \n",
              "  <svg xmlns=\"http://www.w3.org/2000/svg\" height=\"24px\"viewBox=\"0 0 24 24\"\n",
              "       width=\"24px\">\n",
              "    <path d=\"M0 0h24v24H0V0z\" fill=\"none\"/>\n",
              "    <path d=\"M18.56 5.44l.94 2.06.94-2.06 2.06-.94-2.06-.94-.94-2.06-.94 2.06-2.06.94zm-11 1L8.5 8.5l.94-2.06 2.06-.94-2.06-.94L8.5 2.5l-.94 2.06-2.06.94zm10 10l.94 2.06.94-2.06 2.06-.94-2.06-.94-.94-2.06-.94 2.06-2.06.94z\"/><path d=\"M17.41 7.96l-1.37-1.37c-.4-.4-.92-.59-1.43-.59-.52 0-1.04.2-1.43.59L10.3 9.45l-7.72 7.72c-.78.78-.78 2.05 0 2.83L4 21.41c.39.39.9.59 1.41.59.51 0 1.02-.2 1.41-.59l7.78-7.78 2.81-2.81c.8-.78.8-2.07 0-2.86zM5.41 20L4 18.59l7.72-7.72 1.47 1.35L5.41 20z\"/>\n",
              "  </svg>\n",
              "      </button>\n",
              "      \n",
              "  <style>\n",
              "    .colab-df-container {\n",
              "      display:flex;\n",
              "      flex-wrap:wrap;\n",
              "      gap: 12px;\n",
              "    }\n",
              "\n",
              "    .colab-df-convert {\n",
              "      background-color: #E8F0FE;\n",
              "      border: none;\n",
              "      border-radius: 50%;\n",
              "      cursor: pointer;\n",
              "      display: none;\n",
              "      fill: #1967D2;\n",
              "      height: 32px;\n",
              "      padding: 0 0 0 0;\n",
              "      width: 32px;\n",
              "    }\n",
              "\n",
              "    .colab-df-convert:hover {\n",
              "      background-color: #E2EBFA;\n",
              "      box-shadow: 0px 1px 2px rgba(60, 64, 67, 0.3), 0px 1px 3px 1px rgba(60, 64, 67, 0.15);\n",
              "      fill: #174EA6;\n",
              "    }\n",
              "\n",
              "    [theme=dark] .colab-df-convert {\n",
              "      background-color: #3B4455;\n",
              "      fill: #D2E3FC;\n",
              "    }\n",
              "\n",
              "    [theme=dark] .colab-df-convert:hover {\n",
              "      background-color: #434B5C;\n",
              "      box-shadow: 0px 1px 3px 1px rgba(0, 0, 0, 0.15);\n",
              "      filter: drop-shadow(0px 1px 2px rgba(0, 0, 0, 0.3));\n",
              "      fill: #FFFFFF;\n",
              "    }\n",
              "  </style>\n",
              "\n",
              "      <script>\n",
              "        const buttonEl =\n",
              "          document.querySelector('#df-2ebba867-4908-4298-afb7-744f18f47bbe button.colab-df-convert');\n",
              "        buttonEl.style.display =\n",
              "          google.colab.kernel.accessAllowed ? 'block' : 'none';\n",
              "\n",
              "        async function convertToInteractive(key) {\n",
              "          const element = document.querySelector('#df-2ebba867-4908-4298-afb7-744f18f47bbe');\n",
              "          const dataTable =\n",
              "            await google.colab.kernel.invokeFunction('convertToInteractive',\n",
              "                                                     [key], {});\n",
              "          if (!dataTable) return;\n",
              "\n",
              "          const docLinkHtml = 'Like what you see? Visit the ' +\n",
              "            '<a target=\"_blank\" href=https://colab.research.google.com/notebooks/data_table.ipynb>data table notebook</a>'\n",
              "            + ' to learn more about interactive tables.';\n",
              "          element.innerHTML = '';\n",
              "          dataTable['output_type'] = 'display_data';\n",
              "          await google.colab.output.renderOutput(dataTable, element);\n",
              "          const docLink = document.createElement('div');\n",
              "          docLink.innerHTML = docLinkHtml;\n",
              "          element.appendChild(docLink);\n",
              "        }\n",
              "      </script>\n",
              "    </div>\n",
              "  </div>\n",
              "  "
            ]
          },
          "metadata": {},
          "execution_count": 628
        }
      ]
    },
    {
      "cell_type": "markdown",
      "source": [
        "### Pre Thrusday meeting with instructor (I over thought the questions, but I learned a lot so I kept the data)"
      ],
      "metadata": {
        "id": "KmAXZs_7ggNx"
      }
    },
    {
      "cell_type": "markdown",
      "source": [
        "##### Step 2\n",
        "- region(s) to target\n",
        "- did all this before I met with you Thursday"
      ],
      "metadata": {
        "id": "VCvy1zz98Erv"
      }
    },
    {
      "cell_type": "code",
      "source": [
        "corr = df.corr()\n",
        "sns.heatmap(corr, cmap = 'Greens',annot= True)\n",
        "# So no coorelation between year and literacy rates or genders or age\n",
        "# our only coorelatoin we can really see is a slight coorelation between age and lr"
      ],
      "metadata": {
        "colab": {
          "base_uri": "https://localhost:8080/",
          "height": 368
        },
        "id": "vDhjiRfZNgoI",
        "outputId": "2421c6ed-c2d1-4e1d-cbbc-91b217fda948"
      },
      "execution_count": 563,
      "outputs": [
        {
          "output_type": "execute_result",
          "data": {
            "text/plain": [
              "<matplotlib.axes._subplots.AxesSubplot at 0x7ff5524c85d0>"
            ]
          },
          "metadata": {},
          "execution_count": 563
        },
        {
          "output_type": "display_data",
          "data": {
            "text/plain": [
              "<Figure size 576x396 with 2 Axes>"
            ],
            "image/png": "[encoded data removed]"
          },
          "metadata": {}
        }
      ]
    },
    {
      "cell_type": "code",
      "source": [
        "# df['Literacy rate'].value_counts()\n",
        "lr = df['Literacy rate'] <= .5\n",
        "age = df['Age'] <= 44\n",
        "df2 = df[lr & age]\n",
        "\n",
        "plt.figure(figsize=(20,7))\n",
        "plt.subplot(1, 3, 1);\n",
        "plt.title(\"Region based on Age Liteact Rate <= 44\")\n",
        "plt.bar(df[lr]['Region'].values, df[lr]['Literacy rate'].values)\n",
        "plt.xticks(rotation = 90)\n",
        "\n",
        "plt.subplot(1, 3, 2);\n",
        "plt.title(\"Region Literacy Rate >= .5\")\n",
        "plt.bar(df[age]['Region'].values, df[age]['Literacy rate'].values)\n",
        "plt.xticks(rotation = 90)\n",
        "\n",
        "plt.subplot(1, 3, 3);\n",
        "plt.title(\"Age, Rgion, Literacy Rate <= 44\")\n",
        "plt.bar(df2['Region'].values, df2['Literacy rate'].values)\n",
        "plt.xticks(rotation = 90)\n",
        "\n",
        "# shows the regions with reading rates lower than .5 in our target age group 44\n",
        "# Oceanie meets those target values the most, but looking at where our data came we reieceve the samllest amout of data\n",
        "   # may not be a country we focus on\n",
        "# 'Oceanica', 'Centeral and southern Asia' and 'Eastern and South-Eastern Asia' is a smaller group, we can target them, but not the best option\n",
        "# 'Latin America and the Carribbean', 'Northern Africa and Western Asia', Central and Southern Asia and 'Sub-Saharan Afarica'\n",
        "  # 'Latin America and the Carribbean' is not on the 3rd firgure telling us that most of illiterate people are probably going to be older (remeber the younger the more literate)\n",
        "    # 'Sub-Saharan Afarica' and 'Central and Southern Asia' - low numbers all around\n",
        "    #  "
      ],
      "metadata": {
        "colab": {
          "base_uri": "https://localhost:8080/",
          "height": 598
        },
        "id": "UxqVmKyXtjtn",
        "outputId": "4ef2004d-a484-46c8-f535-61a8f620f734"
      },
      "execution_count": 570,
      "outputs": [
        {
          "output_type": "execute_result",
          "data": {
            "text/plain": [
              "([0, 1, 2, 3], <a list of 4 Text major ticklabel objects>)"
            ]
          },
          "metadata": {},
          "execution_count": 570
        },
        {
          "output_type": "display_data",
          "data": {
            "text/plain": [
              "<Figure size 1440x504 with 3 Axes>"
            ],
            "image/png": "[encoded data removed]"
          },
          "metadata": {}
        }
      ]
    },
    {
      "cell_type": "code",
      "source": [
        "len(df), len(df2), len(age), len(lr)\n",
        "# when we use both filtes together we end up filtering too many much\n",
        "# Tells us a lot of people aren't both - which is interesting\n",
        "  # so either old and illeriate\n",
        "  # or the areas illerate"
      ],
      "metadata": {
        "colab": {
          "base_uri": "https://localhost:8080/"
        },
        "id": "Zut2cv_l_L-D",
        "outputId": "f55c2d3c-2277-46b0-fa79-df1589a72550"
      },
      "execution_count": 571,
      "outputs": [
        {
          "output_type": "execute_result",
          "data": {
            "text/plain": [
              "(4955, 251, 4955, 4955)"
            ]
          },
          "metadata": {},
          "execution_count": 571
        }
      ]
    },
    {
      "cell_type": "code",
      "source": [
        "# Sub-Saharan Afarica' all populations\n",
        "ssa = df['Region'] == 'Sub-Saharan Africa'\n",
        "\n",
        "old = df['Age'] >= 65\n",
        "old_av = round((len(df[ssa & old])/4955) * 100, 2)\n",
        "\n",
        "av = df['Age'] == 44\n",
        "av_av = round((len(df[ssa & av])/4955) * 100, 2)\n",
        "\n",
        "md = df['Age'] == 19\n",
        "md_av = round((len(df[ssa & md])/4955) * 100, 2)\n",
        "\n",
        "yg = df['Age'] == 15\n",
        "yg_av = round((len(df[ssa & yg])/4955) * 100, 2)\n",
        "\n",
        "\n",
        "print(len(df),len(df[ssa]), len(df[ssa & old]), len(df[ssa & av]), len(df[ssa & md]), len(df[ssa & yg]))\n",
        "print()\n",
        "print(f\"+65: {old_av}%\") # change in our data\n",
        "print(f\"44: {av_av}%\") \n",
        "print(f\"25-44: {md_av}%\")\n",
        "print(f\"15: {yg_av}%\") \n",
        "print()\n",
        "print(f\"{ old_av + av_av + md_av + yg_av}% difference in overall literacy rate\") \n",
        "\n",
        "\n",
        "# about the age groups are pretty even\n",
        "# every group but +65 have a +.90 literacy, 1/4 05 25% of the populataion is illerate"
      ],
      "metadata": {
        "colab": {
          "base_uri": "https://localhost:8080/"
        },
        "id": "6incV6QxIK-A",
        "outputId": "96cd5e76-8440-4bbe-bcf3-cd912b712f8b"
      },
      "execution_count": 572,
      "outputs": [
        {
          "output_type": "stream",
          "name": "stdout",
          "text": [
            "4955 1155 285 285 285 300\n",
            "\n",
            "+65: 5.75%\n",
            "44: 5.75%\n",
            "25-44: 5.75%\n",
            "15: 6.05%\n",
            "\n",
            "23.3% difference in overall literacy rate\n"
          ]
        }
      ]
    },
    {
      "cell_type": "code",
      "source": [
        "# 'Central and Southern Asia' all populations\n",
        "csa = df['Region'] == 'Central and Southern Asia'\n",
        "\n",
        "csa_old = df['Age'] >= 65\n",
        "csa_old_av = round((len(df[csa & old])/4955) * 100, 2)\n",
        "\n",
        "csa_av = df['Age'] == 44\n",
        "csa_av_av = round((len(df[csa & av])/4955) * 100, 2)\n",
        "\n",
        "csa_md = df['Age'] == 19\n",
        "csa_md_av = round((len(df[csa & md])/4955) * 100, 2)\n",
        "\n",
        "csa_yg = df['Age'] == 15\n",
        "csa_yg_av = round((len(df[csa & yg])/4955) * 100, 2)\n",
        "\n",
        "print(len(df),len(df[csa]), len(df[csa & csa_old]), len(df[csa & csa_av]), len(df[csa & csa_md]), len(df[csa & csa_yg]))\n",
        "print()\n",
        "print(f\"+65: {csa_old_av}%\") # change in our data\n",
        "print(f\"44: {csa_av_av}%\") \n",
        "print(f\"25-44: {csa_md_av}%\")\n",
        "print(f\"15: {csa_yg_av}%\") \n",
        "print()\n",
        "print(f\"{ csa_old_av + csa_av_av + csa_md_av + csa_yg_av}% difference in overall literacy rate\") \n",
        "\n",
        "# about the age groups are pretty even\n",
        "# So even though every group but latins have a +.90 literacy, 1/4 05 25% of the populataion is illerate\n",
        "  # and since they're we have so much data from them it turns into a very large number\n",
        "# Even though these guys have a large data pool, their numberes are elatviely high overall, so even with the increate there wouldn't be a huge impact"
      ],
      "metadata": {
        "colab": {
          "base_uri": "https://localhost:8080/"
        },
        "id": "tWd6GKOCP522",
        "outputId": "48e30449-1919-4849-c038-4877e313a467"
      },
      "execution_count": 573,
      "outputs": [
        {
          "output_type": "stream",
          "name": "stdout",
          "text": [
            "4955 467 116 117 117 117\n",
            "\n",
            "+65: 2.34%\n",
            "44: 2.36%\n",
            "25-44: 2.36%\n",
            "15: 2.36%\n",
            "\n",
            "9.419999999999998% difference in overall literacy rate\n"
          ]
        }
      ]
    },
    {
      "cell_type": "code",
      "source": [
        "# 'Latin american' older populations\n",
        "latin = df['Region'] == 'Latin America and the Caribbean'\n",
        "old = df['Age'] >= 65\n",
        "av = df['Age'] == 44\n",
        "md = df['Age'] == 19\n",
        "yg = df['Age'] == 15\n",
        "\n",
        "print(len(df),len(df[latin]), len(df[latin & old]), len(df[latin & av]), len(df[latin & md]), len(df[latin & yg]))\n",
        "print(f\"{round((len(df[latin & old])/4955) * 100, 2)}% difference\") \n",
        "\n",
        "# about the age groups are pretty even\n",
        "# every group but +65 have a +.90 literacy, 1/4 05 25% of the populataion is illerate\n",
        "# though the latin amercain culture is high the only age group suffering in literacy is the +65, and even if the literacy rate would be to focus on this, it wouldn't have a huge imapct. Even if it is the largest data pool"
      ],
      "metadata": {
        "colab": {
          "base_uri": "https://localhost:8080/"
        },
        "id": "VJEPxCvaOJmP",
        "outputId": "29cbea79-8cfb-4d51-9d45-182689a0f91e"
      },
      "execution_count": 574,
      "outputs": [
        {
          "output_type": "stream",
          "name": "stdout",
          "text": [
            "4955 1410 351 351 351 357\n",
            "7.08% difference\n"
          ]
        }
      ]
    },
    {
      "cell_type": "code",
      "source": [
        "# 'Northern Africa and Western Asia' older populations\n",
        "nawa = df['Region'] == 'Northern Africa and Western Asia'\n",
        "old = df['Age'] >= 65\n",
        "av = df['Age'] == 44\n",
        "md = df['Age'] == 19\n",
        "yg = df['Age'] == 15\n",
        "\n",
        "print(len(df),len(df[nawa]), len(df[nawa & old]), len(df[nawa & av]), len(df[nawa & md]), len(df[nawa & yg]))\n",
        "print(f\"{round((len(df[nawa & old])/4955) * 100, 2)}% difference\") \n",
        "\n",
        "# about the age groups are pretty even\n",
        "# So even though every group but latins have a +.90 literacy, 1/4 05 25% of the populataion is illerate\n",
        "  # and since they're we have so much data from them it turns into a very large number"
      ],
      "metadata": {
        "colab": {
          "base_uri": "https://localhost:8080/"
        },
        "id": "ajeDWtTMNWi0",
        "outputId": "7940a2b0-6054-46fe-af41-1a7c7952ce68"
      },
      "execution_count": 575,
      "outputs": [
        {
          "output_type": "stream",
          "name": "stdout",
          "text": [
            "4955 852 213 213 213 213\n",
            "4.3% difference\n"
          ]
        }
      ]
    },
    {
      "cell_type": "code",
      "source": [
        "# Oceania older popultion\n",
        "ocean = df['Region'] == 'Oceania'\n",
        "old = df['Age'] >= 65\n",
        "av = df['Age'] == 44\n",
        "md = df['Age'] == 19\n",
        "yg = df['Age'] == 15\n",
        "\n",
        "print(len(df),len(df[ocean]), len(df[ocean & old]), len(df[ocean & av]), len(df[ocean & md]), len(df[ocean & yg]))\n",
        "print(f\"{round((len(df[ocean & old])/4955) * 100, 2)}% difference\") \n",
        "\n",
        "# Even though Oceania show up as the most illerate country, since the data pool is so small and only the oder populateion are illerate it will have almost zero affect overall"
      ],
      "metadata": {
        "colab": {
          "base_uri": "https://localhost:8080/"
        },
        "id": "wGj8_F9iRHh8",
        "outputId": "14dc704b-1aa2-4c05-b598-f7d0be85c4b6"
      },
      "execution_count": 576,
      "outputs": [
        {
          "output_type": "stream",
          "name": "stdout",
          "text": [
            "4955 144 36 36 36 36\n",
            "0.73% difference\n"
          ]
        }
      ]
    },
    {
      "cell_type": "markdown",
      "source": [
        "##### Step 3\n",
        "  - Countries\n",
        "\n",
        "  - Go to this country inside the reigino and teach the entire population - need to go this far?\n"
      ],
      "metadata": {
        "id": "h8iu9lJrDAJ3"
      }
    },
    {
      "cell_type": "code",
      "source": [
        "plt.figure(figsize=(30,30))\n",
        "plt.bar(df[students]['Country'].values,df[students]['Literacy rate'].values)\n",
        "plt.xticks(rotation = 90)\n",
        "# this shows us the specific countries that have a  literacy rate less thab .5"
      ],
      "metadata": {
        "colab": {
          "base_uri": "https://localhost:8080/",
          "height": 1000
        },
        "id": "zU_9Yy03udvD",
        "outputId": "2cfdea83-7dd4-409f-f3d3-45efa04d3a84"
      },
      "execution_count": 577,
      "outputs": [
        {
          "output_type": "execute_result",
          "data": {
            "text/plain": [
              "([0,\n",
              "  1,\n",
              "  2,\n",
              "  3,\n",
              "  4,\n",
              "  5,\n",
              "  6,\n",
              "  7,\n",
              "  8,\n",
              "  9,\n",
              "  10,\n",
              "  11,\n",
              "  12,\n",
              "  13,\n",
              "  14,\n",
              "  15,\n",
              "  16,\n",
              "  17,\n",
              "  18,\n",
              "  19,\n",
              "  20,\n",
              "  21,\n",
              "  22,\n",
              "  23,\n",
              "  24,\n",
              "  25,\n",
              "  26,\n",
              "  27,\n",
              "  28,\n",
              "  29,\n",
              "  30,\n",
              "  31,\n",
              "  32,\n",
              "  33,\n",
              "  34,\n",
              "  35,\n",
              "  36,\n",
              "  37,\n",
              "  38,\n",
              "  39,\n",
              "  40,\n",
              "  41,\n",
              "  42,\n",
              "  43,\n",
              "  44,\n",
              "  45,\n",
              "  46,\n",
              "  47,\n",
              "  48,\n",
              "  49,\n",
              "  50,\n",
              "  51,\n",
              "  52,\n",
              "  53,\n",
              "  54,\n",
              "  55,\n",
              "  56,\n",
              "  57,\n",
              "  58,\n",
              "  59,\n",
              "  60,\n",
              "  61,\n",
              "  62,\n",
              "  63,\n",
              "  64,\n",
              "  65,\n",
              "  66,\n",
              "  67,\n",
              "  68,\n",
              "  69,\n",
              "  70,\n",
              "  71,\n",
              "  72],\n",
              " <a list of 73 Text major ticklabel objects>)"
            ]
          },
          "metadata": {},
          "execution_count": 577
        },
        {
          "output_type": "display_data",
          "data": {
            "text/plain": [
              "<Figure size 2160x2160 with 1 Axes>"
            ],
            "image/png": "[encoded data removed]"
          },
          "metadata": {}
        }
      ]
    },
    {
      "cell_type": "markdown",
      "source": [
        "##  Answer to the questions\n",
        "1. Understand where they should focus their next project\n",
        "2. Strategies to use to have the biggest impact in increasing youth literacy rates \n",
        "\n",
        "-- \n",
        "#### Who to Target\n",
        "1a. only correlation is between age and literacy rate\n",
        "1. Best data pool Sub Saraharn Africa, Central and Southern Asia, Latin America and the Caribbean, Northern Africa and Western Asia - best to target\n",
        "  - older the more illerate\n",
        "  - average country age is 35\n",
        "\n",
        "  ** Best Region to focus on is 'Sub Saraharn Africa' Because every age group is suffereing and they're a realitvely large data pool.\n",
        "  ** Second best thing would be to focus engery in all groups in 'Central and Southern Asia'\n",
        "  ** Thrid: 'Latin America and the Caribbean' +65 age group \n",
        "  ** Fourth: Northern Africa and Western Asia' +65 age group\n"
      ],
      "metadata": {
        "id": "8bXZbElyVXWX"
      }
    },
    {
      "cell_type": "markdown",
      "source": [
        "## References \n",
        "\n",
        "1. Project - https://colab.research.google.com/drive/16OrCBoBAbPQf-kOIRx0damRVO57X3hCW#scrollTo=pIbHN95jNFaH\n",
        "  - referenced: replace\n",
        "  - referenced: col function\n",
        "2. Stack Overflow: astype - https://stackoverflow.com/questions/66295318/finding-sum-when-values-are-in-dtype-object\n",
        "  - Meaning of dtype('O') -  https://stackoverflow.com/questions/37561991/what-is-dtypeo-in-pandas\n",
        "  - Changing the dtype of a column - https://www.delftstack.com/howto/python-pandas/pandas-convert-object-to-float/\n",
        "3. References builtin functions from lesson - https://colab.research.google.com/drive/1ge769cDr54uMHm6EQvYrCJ4h1YyylO9D\n",
        "4. Print all Column names - https://www.geeksforgeeks.org/how-to-get-column-names-in-pandas-dataframe/\n",
        "  - set a column to inde column - https://www.delftstack.com/howto/python-pandas/pandas-convert-object-to-float/\n",
        "  - creataing and setting an index column -https://stackoverflow.com/questions/12168648/pandas-python-how-to-add-column-to-dataframe-for-index\n",
        "  - set a certain column index to the index column - https://colab.research.google.com/drive/1ge769cDr54uMHm6EQvYrCJ4h1YyylO9D#scrollTo=k53j2nsyopVr\n",
        "5. Removinga character form a string - https://note.nkmk.me/en/python-str-num-conversion/#:~:text=the%20following%20article.-,Convert%20a%20string%20to%20an%20integer%3A%20int(),numbers%20to%20an%20integer%20int%20.&text=A%20string%20containing%20.%20or%20%2C%20causes%20an%20error.&text=A%20comma%2Dseparated%20string%20can,with%20the%20empty%20string%20''%20).\n",
        "6. plotting two values on a bar graph - https://www.tutorialspoint.com/matplotlib/matplotlib_bar_plot.htm\n",
        "7. "
      ],
      "metadata": {
        "id": "PGThh5o_0W7f"
      }
    }
  ]
}