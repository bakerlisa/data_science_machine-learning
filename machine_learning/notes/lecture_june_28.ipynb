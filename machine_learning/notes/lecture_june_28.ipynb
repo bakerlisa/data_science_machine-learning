{
  "nbformat": 4,
  "nbformat_minor": 0,
  "metadata": {
    "colab": {
      "name": "lecture_june_28.ipynb",
      "provenance": [],
      "collapsed_sections": [],
      "authorship_tag": "ABX9TyPRQpgCjXaZ6YMpj2S4Nt7I",
      "include_colab_link": true
    },
    "kernelspec": {
      "name": "python3",
      "display_name": "Python 3"
    },
    "language_info": {
      "name": "python"
    }
  },
  "cells": [
    {
      "cell_type": "markdown",
      "metadata": {
        "id": "view-in-github",
        "colab_type": "text"
      },
      "source": [
        "<a href=\"https://colab.research.google.com/github/lisabroadhead/data_science_machine-learning/blob/main/lecture_june_28.ipynb\" target=\"_parent\"><img src=\"https://colab.research.google.com/assets/colab-badge.svg\" alt=\"Open In Colab\"/></a>"
      ]
    },
    {
      "cell_type": "markdown",
      "source": [
        "# Regression and Clarification\n",
        "- June 28"
      ],
      "metadata": {
        "id": "BIvv22oSyxi0"
      }
    },
    {
      "cell_type": "markdown",
      "source": [
        "- **Error** - is the margein betwee when the dot landed and where it should be\n",
        "  - Predictred and actual value\n"
      ],
      "metadata": {
        "id": "WusDgbtXy4H3"
      }
    },
    {
      "cell_type": "markdown",
      "source": [
        "### MEAN: \n",
        "You can add up all the values and get a 0 error margin (which is not right)\n"
      ],
      "metadata": {
        "id": "yNVqpPlVznZz"
      }
    },
    {
      "cell_type": "markdown",
      "source": [
        "### MAE\n",
        "- Take the absolute of all the values and add them all together and then divide by the total number\n",
        "- Doesn't harm large values as much\n",
        "\n",
        "When To use: Doesn't punish the large errors\n",
        "- uses same units as the targets\n",
        "- use if you don't really care about the large errors"
      ],
      "metadata": {
        "id": "MqWByS9-zv8R"
      }
    },
    {
      "cell_type": "markdown",
      "source": [
        "### MSE\n",
        "- Minus true value by the perdicted value, get the absolute, then square the answer and divide byt the total\n",
        "- Helps to penalize the larger values\n",
        "- not in the same units as the orignal\n",
        "\n",
        "When to use: \n",
        "- good if your data has a lot of noice\n",
        "- punishes the large errors\n",
        "- not uses the same unit as the taarget"
      ],
      "metadata": {
        "id": "85zcwATxz7lU"
      }
    },
    {
      "cell_type": "markdown",
      "source": [
        "### Root MSE\n",
        "- true value - predicited, absolute value result, square the result, divide by total, and get the square root of \n",
        "\n",
        "When to use: \n",
        "- use the same units as target\n",
        "- higher wieght to large errors\n",
        "- Good to use if those large errors are darastically affecting the models performance"
      ],
      "metadata": {
        "id": "KwHaxQO50YfV"
      }
    },
    {
      "cell_type": "markdown",
      "source": [
        "### R^2 \n",
        "- For Regression Model's "
      ],
      "metadata": {
        "id": "WosT9r_f0qDx"
      }
    }
  ]
}
