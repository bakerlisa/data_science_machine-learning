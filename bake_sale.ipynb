{
  "nbformat": 4,
  "nbformat_minor": 0,
  "metadata": {
    "colab": {
      "name": "Untitled0.ipynb",
      "provenance": [],
      "authorship_tag": "ABX9TyPfmfFLs/MkkmudPpeVMuv1",
      "include_colab_link": true
    },
    "kernelspec": {
      "name": "python3",
      "display_name": "Python 3"
    },
    "language_info": {
      "name": "python"
    }
  },
  "cells": [
    {
      "cell_type": "markdown",
      "metadata": {
        "id": "view-in-github",
        "colab_type": "text"
      },
      "source": [
        "<a href=\"https://colab.research.google.com/github/lisabroadhead/machine-learning/blob/main/bake_sale.ipynb\" target=\"_parent\"><img src=\"https://colab.research.google.com/assets/colab-badge.svg\" alt=\"Open In Colab\"/></a>"
      ]
    },
    {
      "cell_type": "code",
      "execution_count": 7,
      "metadata": {
        "id": "lKc8ADwkhGo7"
      },
      "outputs": [],
      "source": [
        ""
      ]
    },
    {
      "cell_type": "markdown",
      "source": [
        "# Bakery Numpy Exercise (Core) \n",
        "\n",
        "Note: One challenge of this exercise is staying organized, so we recommend you keep track of what is going on with paper and pencil as you work through the exercise."
      ],
      "metadata": {
        "id": "c-7UVcOE2FTD"
      }
    },
    {
      "cell_type": "code",
      "metadata": {
        "colab": {
          "base_uri": "https://localhost:8080/"
        },
        "id": "ev4sAErNUgAi",
        "outputId": "449c2163-2c59-44f8-8b04-bc31cb96cde2"
      },
      "source": [
        "price = [2, 1, 10]\n",
        "type(price)"
      ],
      "execution_count": 8,
      "outputs": [
        {
          "output_type": "execute_result",
          "data": {
            "text/plain": [
              "list"
            ]
          },
          "metadata": {},
          "execution_count": 8
        }
      ]
    },
    {
      "cell_type": "code",
      "metadata": {
        "colab": {
          "base_uri": "https://localhost:8080/"
        },
        "id": "TkA8x3t5UzQX",
        "outputId": "9e521aea-c15d-4fc9-aae7-0f7660e01dbd"
      },
      "source": [
        "quantity = [17, 40, 1]\n",
        "type(quantity)"
      ],
      "execution_count": 9,
      "outputs": [
        {
          "output_type": "execute_result",
          "data": {
            "text/plain": [
              "list"
            ]
          },
          "metadata": {},
          "execution_count": 9
        }
      ]
    },
    {
      "cell_type": "code",
      "metadata": {
        "id": "tGWEfasRU4J4"
      },
      "source": [
        "# price * quantity"
      ],
      "execution_count": 10,
      "outputs": []
    },
    {
      "cell_type": "code",
      "metadata": {
        "id": "7Pdo44osU7Qr"
      },
      "source": [
        "import numpy as np"
      ],
      "execution_count": 11,
      "outputs": []
    },
    {
      "cell_type": "code",
      "metadata": {
        "colab": {
          "base_uri": "https://localhost:8080/"
        },
        "id": "Y_FoXPDuU9X7",
        "outputId": "ed5dc363-8b8d-4002-c3b7-6742e5746741"
      },
      "source": [
        "price_array = np.array(price)\n",
        "quantity_array = np.array(quantity)\n",
        "type(price_array)"
      ],
      "execution_count": 12,
      "outputs": [
        {
          "output_type": "execute_result",
          "data": {
            "text/plain": [
              "numpy.ndarray"
            ]
          },
          "metadata": {},
          "execution_count": 12
        }
      ]
    },
    {
      "cell_type": "code",
      "metadata": {
        "colab": {
          "base_uri": "https://localhost:8080/"
        },
        "id": "RHeZ10KPVElu",
        "outputId": "6fc33728-cfd2-441b-d8dc-d2c620827d1e"
      },
      "source": [
        "price_array * quantity_array"
      ],
      "execution_count": 13,
      "outputs": [
        {
          "output_type": "execute_result",
          "data": {
            "text/plain": [
              "array([34, 40, 10])"
            ]
          },
          "metadata": {},
          "execution_count": 13
        }
      ]
    },
    {
      "cell_type": "code",
      "metadata": {
        "id": "2VCgaG5kVIsi"
      },
      "source": [
        "cost_array = np.array([0.25, 0.50, 5.00])"
      ],
      "execution_count": 14,
      "outputs": []
    },
    {
      "cell_type": "code",
      "metadata": {
        "colab": {
          "base_uri": "https://localhost:8080/"
        },
        "id": "Kqz1QjPmVNjc",
        "outputId": "a10fc92a-9c4d-4d14-a009-9e8f28d53be4"
      },
      "source": [
        "profit_array = price_array - cost_array\n",
        "print(profit_array)\n"
      ],
      "execution_count": 15,
      "outputs": [
        {
          "output_type": "stream",
          "name": "stdout",
          "text": [
            "[1.75 0.5  5.  ]\n"
          ]
        }
      ]
    },
    {
      "cell_type": "code",
      "metadata": {
        "colab": {
          "base_uri": "https://localhost:8080/"
        },
        "id": "ypULDNmRVRAY",
        "outputId": "e109cca6-0dc9-4851-c50a-7affe304ba16"
      },
      "source": [
        "profit_array > 2.00\n"
      ],
      "execution_count": 16,
      "outputs": [
        {
          "output_type": "execute_result",
          "data": {
            "text/plain": [
              "array([False, False,  True])"
            ]
          },
          "metadata": {},
          "execution_count": 16
        }
      ]
    },
    {
      "cell_type": "code",
      "metadata": {
        "colab": {
          "base_uri": "https://localhost:8080/"
        },
        "id": "_vm50VzDVTed",
        "outputId": "85d7157d-f2f9-4ad3-a035-3c0903a6e785"
      },
      "source": [
        "price_array = price_array + [7]\n",
        "print(price_array)\n"
      ],
      "execution_count": 17,
      "outputs": [
        {
          "output_type": "stream",
          "name": "stdout",
          "text": [
            "[ 9  8 17]\n"
          ]
        }
      ]
    },
    {
      "cell_type": "code",
      "metadata": {
        "colab": {
          "base_uri": "https://localhost:8080/"
        },
        "id": "q-YAOQgWVXGw",
        "outputId": "c67be475-15f1-48fb-ccc3-d29c00208ca6"
      },
      "source": [
        "# Just fixing the mistake\n",
        "price_array = price_array - [7]\n",
        "# The proper way to append an element to an array\n",
        "price_array = np.append(price_array, 7)\n",
        "print(price_array)\n"
      ],
      "execution_count": 18,
      "outputs": [
        {
          "output_type": "stream",
          "name": "stdout",
          "text": [
            "[ 2  1 10  7]\n"
          ]
        }
      ]
    },
    {
      "cell_type": "code",
      "metadata": {
        "colab": {
          "base_uri": "https://localhost:8080/"
        },
        "id": "SO786-UWVZMi",
        "outputId": "d7b17a6a-016d-4dd0-b507-768727cb5241"
      },
      "source": [
        "price_array = np.append(price_array, [4.50, 3, 4, 9])\n",
        "print(price_array)\n",
        "\n"
      ],
      "execution_count": 19,
      "outputs": [
        {
          "output_type": "stream",
          "name": "stdout",
          "text": [
            "[ 2.   1.  10.   7.   4.5  3.   4.   9. ]\n"
          ]
        }
      ]
    },
    {
      "cell_type": "code",
      "metadata": {
        "colab": {
          "base_uri": "https://localhost:8080/"
        },
        "id": "-4vXAPEcVdcU",
        "outputId": "ea70cc37-3783-421c-aec8-3c7ae46fe8fd"
      },
      "source": [
        "print(price_array.dtype)\n"
      ],
      "execution_count": 20,
      "outputs": [
        {
          "output_type": "stream",
          "name": "stdout",
          "text": [
            "float64\n"
          ]
        }
      ]
    },
    {
      "cell_type": "code",
      "metadata": {
        "colab": {
          "base_uri": "https://localhost:8080/"
        },
        "id": "y8-tYZcHVgon",
        "outputId": "b610eaf9-4e14-4ebd-e97b-5f0907626de0"
      },
      "source": [
        "price_array = np.delete(price_array, -1)\n",
        "print(price_array)\n"
      ],
      "execution_count": 21,
      "outputs": [
        {
          "output_type": "stream",
          "name": "stdout",
          "text": [
            "[ 2.   1.  10.   7.   4.5  3.   4. ]\n"
          ]
        }
      ]
    },
    {
      "cell_type": "code",
      "metadata": {
        "colab": {
          "base_uri": "https://localhost:8080/"
        },
        "id": "LR2xG2_FVjLr",
        "outputId": "0636b7b7-b0a8-4994-f16f-3b21182c6123"
      },
      "source": [
        "price_array[2] = 12\n",
        "print(price_array)\n"
      ],
      "execution_count": 22,
      "outputs": [
        {
          "output_type": "stream",
          "name": "stdout",
          "text": [
            "[ 2.   1.  12.   7.   4.5  3.   4. ]\n"
          ]
        }
      ]
    },
    {
      "cell_type": "markdown",
      "source": [
        "1) OPEN THE NOTEBOOK YOU CREATED DURING THE PREVIOUS LESSON: INTRO TO NUMPY ARRAYS!\n",
        "\n",
        "If you did not start this notebook, please go back to the INTRO TO NUMPY ARRAYS lesson and follow along with the code before starting this task!\n",
        "\n",
        "You will start this task where the demonstration code left off.  "
      ],
      "metadata": {
        "id": "l8IAB9J92gND"
      }
    },
    {
      "cell_type": "markdown",
      "source": [
        "# The Assignment Starts Here"
      ],
      "metadata": {
        "id": "uIUAfF9c2jJ1"
      }
    },
    {
      "cell_type": "markdown",
      "metadata": {
        "id": "1xunhHPaWCi-"
      },
      "source": [
        "2) Update the  quantity_sold_array to include the sale of 2 pies,  3 trays of fudge, 16 cupcakes, and 5 loaves of banana bread.  You also realize that one of the cookies you thought was sold had actually fallen on the ground, so edit the quantity_sold_array from 40 to 39."
      ]
    },
    {
      "cell_type": "code",
      "metadata": {
        "id": "k8a4SXVKVpDa",
        "colab": {
          "base_uri": "https://localhost:8080/"
        },
        "outputId": "e3988b11-5758-49d3-916e-5acff0447542"
      },
      "source": [
        "# quantity_array[3] = [2,3,16,5]\n",
        "quantity_array = np.append(quantity_array,2);\n",
        "quantity_array = np.append(quantity_array,3);\n",
        "quantity_array = np.append(quantity_array,16);\n",
        "quantity_array = np.append(quantity_array,5);\n",
        "# quantity_array = np.delete(quantity_array,-1)\n",
        "quantity_array"
      ],
      "execution_count": 45,
      "outputs": [
        {
          "output_type": "execute_result",
          "data": {
            "text/plain": [
              "array([17, 40,  1,  2,  3, 16,  5])"
            ]
          },
          "metadata": {},
          "execution_count": 45
        }
      ]
    },
    {
      "cell_type": "code",
      "metadata": {
        "id": "O_enU-46V0YT"
      },
      "source": [
        "quantity_array[1] = 39"
      ],
      "execution_count": 46,
      "outputs": []
    },
    {
      "cell_type": "code",
      "source": [
        "quantity_array"
      ],
      "metadata": {
        "colab": {
          "base_uri": "https://localhost:8080/"
        },
        "id": "s8NKFxgjkBzV",
        "outputId": "de6e999b-5199-460d-f608-715102635ca9"
      },
      "execution_count": 47,
      "outputs": [
        {
          "output_type": "execute_result",
          "data": {
            "text/plain": [
              "array([17, 39,  1,  2,  3, 16,  5])"
            ]
          },
          "metadata": {},
          "execution_count": 47
        }
      ]
    },
    {
      "cell_type": "markdown",
      "metadata": {
        "id": "vfIgDaikWFdw"
      },
      "source": [
        "3) Determine the amount of money collected from the sale of each item at the bake sale.  "
      ]
    },
    {
      "cell_type": "code",
      "metadata": {
        "id": "ikN8urc4WH86",
        "colab": {
          "base_uri": "https://localhost:8080/"
        },
        "outputId": "93c235eb-4757-49cd-e4b9-bf4f387451e1"
      },
      "source": [
        "price_array * quantity_array"
      ],
      "execution_count": 49,
      "outputs": [
        {
          "output_type": "execute_result",
          "data": {
            "text/plain": [
              "array([34. , 39. , 12. , 14. , 13.5, 48. , 20. ])"
            ]
          },
          "metadata": {},
          "execution_count": 49
        }
      ]
    },
    {
      "cell_type": "code",
      "source": [
        "bake_total = price_array * quantity_array"
      ],
      "metadata": {
        "id": "YcrR4Q-ZltRy"
      },
      "execution_count": 64,
      "outputs": []
    },
    {
      "cell_type": "markdown",
      "metadata": {
        "id": "v8xG8a77WyTV"
      },
      "source": [
        "4) Create a NumPy array \"quantity_leftover\" that includes the quantity of each item remaining at the end of the sale: 2 cakes, 1 pie, 6 trays of fudge, 2 loaves of banana bread.  Hint: Make sure to include \"0\" for any item that was sold out. Why is this important when creating the array?"
      ]
    },
    {
      "cell_type": "code",
      "metadata": {
        "id": "_OSmjj-mWNE2"
      },
      "source": [
        "qty_lftov = np.array([0,0,2,1,6,0,2])\n",
        "\n",
        "\n",
        "# it's important to have a zero becuase it it acts a a placement holder and it also needs t be there or else you dat awill become skewed. Everything is /has been based on where that items informatino shows up in the array"
      ],
      "execution_count": 57,
      "outputs": []
    },
    {
      "cell_type": "markdown",
      "metadata": {
        "id": "Pny1zRYZW1AF"
      },
      "source": [
        "5) The club decides to sell the leftover items at half price and everything quickly sells out!  Determine how much money was collected from the clearance sale. "
      ]
    },
    {
      "cell_type": "code",
      "metadata": {
        "id": "VPymUS0wW39q"
      },
      "source": [
        "sale_arr = price_array / 2"
      ],
      "execution_count": 58,
      "outputs": []
    },
    {
      "cell_type": "code",
      "source": [
        "sale_arr"
      ],
      "metadata": {
        "colab": {
          "base_uri": "https://localhost:8080/"
        },
        "id": "P7u9T2SolB5Y",
        "outputId": "4d74f7c8-69bd-4c24-e267-1c4ad78c0bbb"
      },
      "execution_count": 59,
      "outputs": [
        {
          "output_type": "execute_result",
          "data": {
            "text/plain": [
              "array([1.  , 0.5 , 6.  , 3.5 , 2.25, 1.5 , 2.  ])"
            ]
          },
          "metadata": {},
          "execution_count": 59
        }
      ]
    },
    {
      "cell_type": "code",
      "source": [
        "sale_total =  sale_arr * qty_lftov\n",
        "sale_total"
      ],
      "metadata": {
        "colab": {
          "base_uri": "https://localhost:8080/"
        },
        "id": "tqEaHOGwlEN-",
        "outputId": "bc265799-1057-47c9-b949-b11c6ee107bf"
      },
      "execution_count": 60,
      "outputs": [
        {
          "output_type": "execute_result",
          "data": {
            "text/plain": [
              "array([ 0. ,  0. , 12. ,  3.5, 13.5,  0. ,  4. ])"
            ]
          },
          "metadata": {},
          "execution_count": 60
        }
      ]
    },
    {
      "cell_type": "markdown",
      "source": [
        ""
      ],
      "metadata": {
        "id": "QBpKU77Dkyp7"
      }
    },
    {
      "cell_type": "markdown",
      "metadata": {
        "id": "dDqAKj9jXLz4"
      },
      "source": [
        "6) How much total money was collected from the bake sale (including the sale of full price and clearance items)?\n",
        "\n",
        "Hint: Your final answer should be $213.50, but you must make sure you get this answer with your NumPy coding skills!!"
      ]
    },
    {
      "cell_type": "code",
      "metadata": {
        "id": "CmqGXhMHXOFD"
      },
      "source": [
        "ovrall_ttl = 0;\n",
        "for x in range(0,len(sale_total)):\n",
        "  ovrall_ttl += sale_total[x]"
      ],
      "execution_count": 62,
      "outputs": []
    },
    {
      "cell_type": "code",
      "source": [
        "for y in range(0,len(bake_total)):\n",
        "  ovrall_ttl += bake_total[y]"
      ],
      "metadata": {
        "id": "ylwHxQd3lnF6"
      },
      "execution_count": 65,
      "outputs": []
    },
    {
      "cell_type": "code",
      "source": [
        "ovrall_ttl"
      ],
      "metadata": {
        "colab": {
          "base_uri": "https://localhost:8080/"
        },
        "id": "g--bI8tKl1is",
        "outputId": "9773613e-bc1f-4c1b-d5bf-38d9373e80ea"
      },
      "execution_count": 66,
      "outputs": [
        {
          "output_type": "execute_result",
          "data": {
            "text/plain": [
              "213.5"
            ]
          },
          "metadata": {},
          "execution_count": 66
        }
      ]
    }
  ]
}