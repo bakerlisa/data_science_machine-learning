{
  "nbformat": 4,
  "nbformat_minor": 0,
  "metadata": {
    "colab": {
      "name": "may_22_2022.ipynb",
      "provenance": [],
      "collapsed_sections": [],
      "mount_file_id": "1Kult1Ju8jDjjPspHR9Gx1KTeDeAbb9I_",
      "authorship_tag": "ABX9TyPiZZdqdoRvSwj58GgfAI1T",
      "include_colab_link": true
    },
    "kernelspec": {
      "name": "python3",
      "display_name": "Python 3"
    },
    "language_info": {
      "name": "python"
    }
  },
  "cells": [
    {
      "cell_type": "markdown",
      "metadata": {
        "id": "view-in-github",
        "colab_type": "text"
      },
      "source": [
        "<a href=\"https://colab.research.google.com/github/lisabroadhead/machine-learning/blob/main/may_22_2022.ipynb\" target=\"_parent\"><img src=\"https://colab.research.google.com/assets/colab-badge.svg\" alt=\"Open In Colab\"/></a>"
      ]
    },
    {
      "cell_type": "code",
      "execution_count": null,
      "metadata": {
        "id": "fqA4t82yyCW5"
      },
      "outputs": [],
      "source": [
        "import tensorflow as tf \n",
        "import pandas as pd\n",
        "import numpy as np"
      ]
    },
    {
      "cell_type": "code",
      "source": [
        "# filename = '/content/drive/MyDrive/Colab Notebooks/coding_dojo/week1/files/bostonHousing1978.csv'\n",
        "filename = '/content/drive/MyDrive/Colab Notebooks/coding_dojo/week1/files/mortgages.csv'\n",
        "df = pd.read_csv(filename)"
      ],
      "metadata": {
        "id": "iHtp8lHYyeiN"
      },
      "execution_count": null,
      "outputs": []
    },
    {
      "cell_type": "code",
      "source": [
        "df.head(2)"
      ],
      "metadata": {
        "colab": {
          "base_uri": "https://localhost:8080/",
          "height": 112
        },
        "id": "wgmMLte4y21K",
        "outputId": "fef6176d-4492-45a4-8c12-19b4b7615ea5"
      },
      "execution_count": null,
      "outputs": [
        {
          "output_type": "execute_result",
          "data": {
            "text/plain": [
              "   Month  Starting Balance  Repayment  Interest Paid  Principal Paid  \\\n",
              "0      1         400000.00    1686.42        1000.00          686.42   \n",
              "1      2         399313.58    1686.42         998.28          688.14   \n",
              "\n",
              "   New Balance Mortgage Name  Interest Rate  \n",
              "0    399313.58       30 Year           0.03  \n",
              "1    398625.44       30 Year           0.03  "
            ],
            "text/html": [
              "\n",
              "  <div id=\"df-d4a04f31-c49a-4856-97da-bd8623e5c10d\">\n",
              "    <div class=\"colab-df-container\">\n",
              "      <div>\n",
              "<style scoped>\n",
              "    .dataframe tbody tr th:only-of-type {\n",
              "        vertical-align: middle;\n",
              "    }\n",
              "\n",
              "    .dataframe tbody tr th {\n",
              "        vertical-align: top;\n",
              "    }\n",
              "\n",
              "    .dataframe thead th {\n",
              "        text-align: right;\n",
              "    }\n",
              "</style>\n",
              "<table border=\"1\" class=\"dataframe\">\n",
              "  <thead>\n",
              "    <tr style=\"text-align: right;\">\n",
              "      <th></th>\n",
              "      <th>Month</th>\n",
              "      <th>Starting Balance</th>\n",
              "      <th>Repayment</th>\n",
              "      <th>Interest Paid</th>\n",
              "      <th>Principal Paid</th>\n",
              "      <th>New Balance</th>\n",
              "      <th>Mortgage Name</th>\n",
              "      <th>Interest Rate</th>\n",
              "    </tr>\n",
              "  </thead>\n",
              "  <tbody>\n",
              "    <tr>\n",
              "      <th>0</th>\n",
              "      <td>1</td>\n",
              "      <td>400000.00</td>\n",
              "      <td>1686.42</td>\n",
              "      <td>1000.00</td>\n",
              "      <td>686.42</td>\n",
              "      <td>399313.58</td>\n",
              "      <td>30 Year</td>\n",
              "      <td>0.03</td>\n",
              "    </tr>\n",
              "    <tr>\n",
              "      <th>1</th>\n",
              "      <td>2</td>\n",
              "      <td>399313.58</td>\n",
              "      <td>1686.42</td>\n",
              "      <td>998.28</td>\n",
              "      <td>688.14</td>\n",
              "      <td>398625.44</td>\n",
              "      <td>30 Year</td>\n",
              "      <td>0.03</td>\n",
              "    </tr>\n",
              "  </tbody>\n",
              "</table>\n",
              "</div>\n",
              "      <button class=\"colab-df-convert\" onclick=\"convertToInteractive('df-d4a04f31-c49a-4856-97da-bd8623e5c10d')\"\n",
              "              title=\"Convert this dataframe to an interactive table.\"\n",
              "              style=\"display:none;\">\n",
              "        \n",
              "  <svg xmlns=\"http://www.w3.org/2000/svg\" height=\"24px\"viewBox=\"0 0 24 24\"\n",
              "       width=\"24px\">\n",
              "    <path d=\"M0 0h24v24H0V0z\" fill=\"none\"/>\n",
              "    <path d=\"M18.56 5.44l.94 2.06.94-2.06 2.06-.94-2.06-.94-.94-2.06-.94 2.06-2.06.94zm-11 1L8.5 8.5l.94-2.06 2.06-.94-2.06-.94L8.5 2.5l-.94 2.06-2.06.94zm10 10l.94 2.06.94-2.06 2.06-.94-2.06-.94-.94-2.06-.94 2.06-2.06.94z\"/><path d=\"M17.41 7.96l-1.37-1.37c-.4-.4-.92-.59-1.43-.59-.52 0-1.04.2-1.43.59L10.3 9.45l-7.72 7.72c-.78.78-.78 2.05 0 2.83L4 21.41c.39.39.9.59 1.41.59.51 0 1.02-.2 1.41-.59l7.78-7.78 2.81-2.81c.8-.78.8-2.07 0-2.86zM5.41 20L4 18.59l7.72-7.72 1.47 1.35L5.41 20z\"/>\n",
              "  </svg>\n",
              "      </button>\n",
              "      \n",
              "  <style>\n",
              "    .colab-df-container {\n",
              "      display:flex;\n",
              "      flex-wrap:wrap;\n",
              "      gap: 12px;\n",
              "    }\n",
              "\n",
              "    .colab-df-convert {\n",
              "      background-color: #E8F0FE;\n",
              "      border: none;\n",
              "      border-radius: 50%;\n",
              "      cursor: pointer;\n",
              "      display: none;\n",
              "      fill: #1967D2;\n",
              "      height: 32px;\n",
              "      padding: 0 0 0 0;\n",
              "      width: 32px;\n",
              "    }\n",
              "\n",
              "    .colab-df-convert:hover {\n",
              "      background-color: #E2EBFA;\n",
              "      box-shadow: 0px 1px 2px rgba(60, 64, 67, 0.3), 0px 1px 3px 1px rgba(60, 64, 67, 0.15);\n",
              "      fill: #174EA6;\n",
              "    }\n",
              "\n",
              "    [theme=dark] .colab-df-convert {\n",
              "      background-color: #3B4455;\n",
              "      fill: #D2E3FC;\n",
              "    }\n",
              "\n",
              "    [theme=dark] .colab-df-convert:hover {\n",
              "      background-color: #434B5C;\n",
              "      box-shadow: 0px 1px 3px 1px rgba(0, 0, 0, 0.15);\n",
              "      filter: drop-shadow(0px 1px 2px rgba(0, 0, 0, 0.3));\n",
              "      fill: #FFFFFF;\n",
              "    }\n",
              "  </style>\n",
              "\n",
              "      <script>\n",
              "        const buttonEl =\n",
              "          document.querySelector('#df-d4a04f31-c49a-4856-97da-bd8623e5c10d button.colab-df-convert');\n",
              "        buttonEl.style.display =\n",
              "          google.colab.kernel.accessAllowed ? 'block' : 'none';\n",
              "\n",
              "        async function convertToInteractive(key) {\n",
              "          const element = document.querySelector('#df-d4a04f31-c49a-4856-97da-bd8623e5c10d');\n",
              "          const dataTable =\n",
              "            await google.colab.kernel.invokeFunction('convertToInteractive',\n",
              "                                                     [key], {});\n",
              "          if (!dataTable) return;\n",
              "\n",
              "          const docLinkHtml = 'Like what you see? Visit the ' +\n",
              "            '<a target=\"_blank\" href=https://colab.research.google.com/notebooks/data_table.ipynb>data table notebook</a>'\n",
              "            + ' to learn more about interactive tables.';\n",
              "          element.innerHTML = '';\n",
              "          dataTable['output_type'] = 'display_data';\n",
              "          await google.colab.output.renderOutput(dataTable, element);\n",
              "          const docLink = document.createElement('div');\n",
              "          docLink.innerHTML = docLinkHtml;\n",
              "          element.appendChild(docLink);\n",
              "        }\n",
              "      </script>\n",
              "    </div>\n",
              "  </div>\n",
              "  "
            ]
          },
          "metadata": {},
          "execution_count": 33
        }
      ]
    },
    {
      "cell_type": "code",
      "source": [
        "df.info()"
      ],
      "metadata": {
        "colab": {
          "base_uri": "https://localhost:8080/"
        },
        "id": "DttNWxwZy5Ri",
        "outputId": "e8b82594-7581-41ee-94c6-0fc2d3bd6c78"
      },
      "execution_count": null,
      "outputs": [
        {
          "output_type": "stream",
          "name": "stdout",
          "text": [
            "<class 'pandas.core.frame.DataFrame'>\n",
            "RangeIndex: 1080 entries, 0 to 1079\n",
            "Data columns (total 8 columns):\n",
            " #   Column            Non-Null Count  Dtype  \n",
            "---  ------            --------------  -----  \n",
            " 0   Month             1080 non-null   int64  \n",
            " 1   Starting Balance  1080 non-null   float64\n",
            " 2   Repayment         1080 non-null   float64\n",
            " 3   Interest Paid     1080 non-null   float64\n",
            " 4   Principal Paid    1080 non-null   float64\n",
            " 5   New Balance       1080 non-null   float64\n",
            " 6   Mortgage Name     1080 non-null   object \n",
            " 7   Interest Rate     1080 non-null   float64\n",
            "dtypes: float64(6), int64(1), object(1)\n",
            "memory usage: 67.6+ KB\n"
          ]
        }
      ]
    },
    {
      "cell_type": "code",
      "source": [
        "# df[['RM']].head()\n",
        "# df['RM'].head()\n",
        "# df[['RM']]\n",
        "# df[['RM']]\n",
        "# df['RM']\n",
        "df.loc[5:10,['RM']].head"
      ],
      "metadata": {
        "id": "yEGKETvvzDEJ"
      },
      "execution_count": null,
      "outputs": []
    },
    {
      "cell_type": "code",
      "source": [
        "df['Mortgage Name'].value_counts()"
      ],
      "metadata": {
        "colab": {
          "base_uri": "https://localhost:8080/"
        },
        "id": "mzGGxueW28TQ",
        "outputId": "f21bf78b-d6c2-4bff-db1f-feff0f91bb69"
      },
      "execution_count": null,
      "outputs": [
        {
          "output_type": "execute_result",
          "data": {
            "text/plain": [
              "30 Year    720\n",
              "15 Year    360\n",
              "Name: Mortgage Name, dtype: int64"
            ]
          },
          "metadata": {},
          "execution_count": 43
        }
      ]
    },
    {
      "cell_type": "code",
      "source": [
        "mortgage_filter = df['Mortgage Name'] == '30 Year'"
      ],
      "metadata": {
        "id": "1E47zGfRClxr"
      },
      "execution_count": null,
      "outputs": []
    },
    {
      "cell_type": "code",
      "source": [
        "mortgage_filter.head()"
      ],
      "metadata": {
        "colab": {
          "base_uri": "https://localhost:8080/"
        },
        "id": "zXHgylxIDE3u",
        "outputId": "17baaf37-0c8d-49c0-9c05-9f844de0b574"
      },
      "execution_count": null,
      "outputs": [
        {
          "output_type": "execute_result",
          "data": {
            "text/plain": [
              "0    True\n",
              "1    True\n",
              "2    True\n",
              "3    True\n",
              "4    True\n",
              "Name: Mortgage Name, dtype: bool"
            ]
          },
          "metadata": {},
          "execution_count": 45
        }
      ]
    },
    {
      "cell_type": "code",
      "source": [
        "# df[df['Mortgage Name'] == '30 Year']\n",
        "# df[mortgage_filter].head()\n",
        "df[mortgage_filter].value_counts()"
      ],
      "metadata": {
        "colab": {
          "base_uri": "https://localhost:8080/"
        },
        "id": "XPz4a8kSDI-r",
        "outputId": "0acaf3b5-6824-4ae1-de1b-36ae927d5ba5"
      },
      "execution_count": null,
      "outputs": [
        {
          "output_type": "execute_result",
          "data": {
            "text/plain": [
              "Month  Starting Balance  Repayment  Interest Paid  Principal Paid  New Balance  Mortgage Name  Interest Rate\n",
              "1      400000.00         1686.42    1000.00        686.42           399313.58   30 Year        0.03             1\n",
              "237    207606.73         2147.29    865.02         1282.27          206324.46   30 Year        0.05             1\n",
              "238    206324.46         2147.29    859.68         1287.61          205036.85   30 Year        0.05             1\n",
              "239    177135.58         1686.42    442.83         1243.59          175891.99   30 Year        0.03             1\n",
              "       205036.85         2147.29    854.32         1292.97          203743.88   30 Year        0.05             1\n",
              "                                                                                                               ..\n",
              "121    325366.93         2147.29    1355.69        791.60           324575.33   30 Year        0.05             1\n",
              "122    303151.77         1686.42    757.87         928.55           302223.22   30 Year        0.03             1\n",
              "       324575.33         2147.29    1352.39        794.90           323780.43   30 Year        0.05             1\n",
              "123    302223.22         1686.42    755.55         930.87           301292.35   30 Year        0.03             1\n",
              "360    2131.24           2147.29    8.88           2138.41         -7.17        30 Year        0.05             1\n",
              "Length: 720, dtype: int64"
            ]
          },
          "metadata": {},
          "execution_count": 51
        }
      ]
    },
    {
      "cell_type": "code",
      "source": [
        "df = df.loc[mortgage_filter, :]\n",
        "# df\n",
        "df.value_counts()"
      ],
      "metadata": {
        "colab": {
          "base_uri": "https://localhost:8080/"
        },
        "id": "duYwiPaUDM0Y",
        "outputId": "f11a7a9a-5b4e-4def-9397-20cc380668f8"
      },
      "execution_count": null,
      "outputs": [
        {
          "output_type": "execute_result",
          "data": {
            "text/plain": [
              "Month  Starting Balance  Repayment  Interest Paid  Principal Paid  New Balance  Mortgage Name  Interest Rate\n",
              "1      400000.00         1686.42    1000.00        686.42           399313.58   30 Year        0.03             1\n",
              "237    207606.73         2147.29    865.02         1282.27          206324.46   30 Year        0.05             1\n",
              "238    206324.46         2147.29    859.68         1287.61          205036.85   30 Year        0.05             1\n",
              "239    177135.58         1686.42    442.83         1243.59          175891.99   30 Year        0.03             1\n",
              "       205036.85         2147.29    854.32         1292.97          203743.88   30 Year        0.05             1\n",
              "                                                                                                               ..\n",
              "121    325366.93         2147.29    1355.69        791.60           324575.33   30 Year        0.05             1\n",
              "122    303151.77         1686.42    757.87         928.55           302223.22   30 Year        0.03             1\n",
              "       324575.33         2147.29    1352.39        794.90           323780.43   30 Year        0.05             1\n",
              "123    302223.22         1686.42    755.55         930.87           301292.35   30 Year        0.03             1\n",
              "360    2131.24           2147.29    8.88           2138.41         -7.17        30 Year        0.05             1\n",
              "Length: 720, dtype: int64"
            ]
          },
          "metadata": {},
          "execution_count": 55
        }
      ]
    },
    {
      "cell_type": "code",
      "source": [
        "interest_filter = df['Interest Rate'] != .03 \n",
        "# df[interest_filter]\n",
        "df[interest_filter].value_counts()"
      ],
      "metadata": {
        "colab": {
          "base_uri": "https://localhost:8080/"
        },
        "id": "pu3j0i-BE6bx",
        "outputId": "ff9ad1cc-9c44-4726-f750-7210f5705162"
      },
      "execution_count": null,
      "outputs": [
        {
          "output_type": "execute_result",
          "data": {
            "text/plain": [
              "Month  Starting Balance  Repayment  Interest Paid  Principal Paid  New Balance  Mortgage Name  Interest Rate\n",
              "1      400000.00         2147.29    1666.66        480.63           399519.37   30 Year        0.05             1\n",
              "248    193204.24         2147.29    805.01         1342.28          191861.96   30 Year        0.05             1\n",
              "246    195872.11         2147.29    816.13         1331.16          194540.95   30 Year        0.05             1\n",
              "245    197197.75         2147.29    821.65         1325.64          195872.11   30 Year        0.05             1\n",
              "244    198517.89         2147.29    827.15         1320.14          197197.75   30 Year        0.05             1\n",
              "                                                                                                               ..\n",
              "119    326940.28         2147.29    1362.25        785.04           326155.24   30 Year        0.05             1\n",
              "118    327722.07         2147.29    1365.50        781.79           326940.28   30 Year        0.05             1\n",
              "117    328500.61         2147.29    1368.75        778.54           327722.07   30 Year        0.05             1\n",
              "116    329275.92         2147.29    1371.98        775.31           328500.61   30 Year        0.05             1\n",
              "360    2131.24           2147.29    8.88           2138.41         -7.17        30 Year        0.05             1\n",
              "Length: 360, dtype: int64"
            ]
          },
          "metadata": {},
          "execution_count": 73
        }
      ]
    }
  ]
}